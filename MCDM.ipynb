{
 "cells": [
  {
   "cell_type": "markdown",
   "id": "637e21cb-5145-4aa5-b493-cc361045dfb4",
   "metadata": {},
   "source": [
    "# Decision Support System "
   ]
  },
  {
   "cell_type": "markdown",
   "id": "e6299d55-2256-4bd7-a934-95d5a44031d9",
   "metadata": {},
   "source": [
    "## Data preperation:"
   ]
  },
  {
   "cell_type": "code",
   "execution_count": 45,
   "id": "420488e6-f93d-4f21-8b04-ba535832755b",
   "metadata": {},
   "outputs": [],
   "source": [
    "import pandas as pd\n",
    "import numpy as np\n",
    "import matplotlib.pyplot as plt\n",
    "import seaborn as sns\n",
    "from matplotlib.pyplot import figure\n",
    "sns.set_style(\"darkgrid\"); # To show the graphs with white background and gridded\n",
    "import plotly.express as px;\n",
    "plt.style.use(\"seaborn-notebook\");"
   ]
  },
  {
   "cell_type": "code",
   "execution_count": 46,
   "id": "935a80bf-3b93-4ca0-bee2-20bf5ca1e0f7",
   "metadata": {},
   "outputs": [],
   "source": [
    "data = pd.read_csv(\"world-happiness-report-2021.csv\")"
   ]
  },
  {
   "cell_type": "code",
   "execution_count": 47,
   "id": "5a64ce3a-b4cf-47f4-92c1-1e96b08a8529",
   "metadata": {},
   "outputs": [
    {
     "data": {
      "text/html": [
       "<div>\n",
       "<style scoped>\n",
       "    .dataframe tbody tr th:only-of-type {\n",
       "        vertical-align: middle;\n",
       "    }\n",
       "\n",
       "    .dataframe tbody tr th {\n",
       "        vertical-align: top;\n",
       "    }\n",
       "\n",
       "    .dataframe thead th {\n",
       "        text-align: right;\n",
       "    }\n",
       "</style>\n",
       "<table border=\"1\" class=\"dataframe\">\n",
       "  <thead>\n",
       "    <tr style=\"text-align: right;\">\n",
       "      <th></th>\n",
       "      <th>Country name</th>\n",
       "      <th>Regional indicator</th>\n",
       "      <th>Ladder score</th>\n",
       "      <th>Standard error of ladder score</th>\n",
       "      <th>upperwhisker</th>\n",
       "      <th>lowerwhisker</th>\n",
       "      <th>Logged GDP per capita</th>\n",
       "      <th>Social support</th>\n",
       "      <th>Healthy life expectancy</th>\n",
       "      <th>Freedom to make life choices</th>\n",
       "      <th>Generosity</th>\n",
       "      <th>Perceptions of corruption</th>\n",
       "      <th>Ladder score in Dystopia</th>\n",
       "      <th>Explained by: Log GDP per capita</th>\n",
       "      <th>Explained by: Social support</th>\n",
       "      <th>Explained by: Healthy life expectancy</th>\n",
       "      <th>Explained by: Freedom to make life choices</th>\n",
       "      <th>Explained by: Generosity</th>\n",
       "      <th>Explained by: Perceptions of corruption</th>\n",
       "      <th>Dystopia + residual</th>\n",
       "    </tr>\n",
       "  </thead>\n",
       "  <tbody>\n",
       "    <tr>\n",
       "      <th>0</th>\n",
       "      <td>Finland</td>\n",
       "      <td>Western Europe</td>\n",
       "      <td>7.842</td>\n",
       "      <td>0.032</td>\n",
       "      <td>7.904</td>\n",
       "      <td>7.780</td>\n",
       "      <td>10.775</td>\n",
       "      <td>0.954</td>\n",
       "      <td>72.000</td>\n",
       "      <td>0.949</td>\n",
       "      <td>-0.098</td>\n",
       "      <td>0.186</td>\n",
       "      <td>2.43</td>\n",
       "      <td>1.446</td>\n",
       "      <td>1.106</td>\n",
       "      <td>0.741</td>\n",
       "      <td>0.691</td>\n",
       "      <td>0.124</td>\n",
       "      <td>0.481</td>\n",
       "      <td>3.253</td>\n",
       "    </tr>\n",
       "    <tr>\n",
       "      <th>1</th>\n",
       "      <td>Denmark</td>\n",
       "      <td>Western Europe</td>\n",
       "      <td>7.620</td>\n",
       "      <td>0.035</td>\n",
       "      <td>7.687</td>\n",
       "      <td>7.552</td>\n",
       "      <td>10.933</td>\n",
       "      <td>0.954</td>\n",
       "      <td>72.700</td>\n",
       "      <td>0.946</td>\n",
       "      <td>0.030</td>\n",
       "      <td>0.179</td>\n",
       "      <td>2.43</td>\n",
       "      <td>1.502</td>\n",
       "      <td>1.108</td>\n",
       "      <td>0.763</td>\n",
       "      <td>0.686</td>\n",
       "      <td>0.208</td>\n",
       "      <td>0.485</td>\n",
       "      <td>2.868</td>\n",
       "    </tr>\n",
       "    <tr>\n",
       "      <th>2</th>\n",
       "      <td>Switzerland</td>\n",
       "      <td>Western Europe</td>\n",
       "      <td>7.571</td>\n",
       "      <td>0.036</td>\n",
       "      <td>7.643</td>\n",
       "      <td>7.500</td>\n",
       "      <td>11.117</td>\n",
       "      <td>0.942</td>\n",
       "      <td>74.400</td>\n",
       "      <td>0.919</td>\n",
       "      <td>0.025</td>\n",
       "      <td>0.292</td>\n",
       "      <td>2.43</td>\n",
       "      <td>1.566</td>\n",
       "      <td>1.079</td>\n",
       "      <td>0.816</td>\n",
       "      <td>0.653</td>\n",
       "      <td>0.204</td>\n",
       "      <td>0.413</td>\n",
       "      <td>2.839</td>\n",
       "    </tr>\n",
       "    <tr>\n",
       "      <th>3</th>\n",
       "      <td>Iceland</td>\n",
       "      <td>Western Europe</td>\n",
       "      <td>7.554</td>\n",
       "      <td>0.059</td>\n",
       "      <td>7.670</td>\n",
       "      <td>7.438</td>\n",
       "      <td>10.878</td>\n",
       "      <td>0.983</td>\n",
       "      <td>73.000</td>\n",
       "      <td>0.955</td>\n",
       "      <td>0.160</td>\n",
       "      <td>0.673</td>\n",
       "      <td>2.43</td>\n",
       "      <td>1.482</td>\n",
       "      <td>1.172</td>\n",
       "      <td>0.772</td>\n",
       "      <td>0.698</td>\n",
       "      <td>0.293</td>\n",
       "      <td>0.170</td>\n",
       "      <td>2.967</td>\n",
       "    </tr>\n",
       "    <tr>\n",
       "      <th>4</th>\n",
       "      <td>Netherlands</td>\n",
       "      <td>Western Europe</td>\n",
       "      <td>7.464</td>\n",
       "      <td>0.027</td>\n",
       "      <td>7.518</td>\n",
       "      <td>7.410</td>\n",
       "      <td>10.932</td>\n",
       "      <td>0.942</td>\n",
       "      <td>72.400</td>\n",
       "      <td>0.913</td>\n",
       "      <td>0.175</td>\n",
       "      <td>0.338</td>\n",
       "      <td>2.43</td>\n",
       "      <td>1.501</td>\n",
       "      <td>1.079</td>\n",
       "      <td>0.753</td>\n",
       "      <td>0.647</td>\n",
       "      <td>0.302</td>\n",
       "      <td>0.384</td>\n",
       "      <td>2.798</td>\n",
       "    </tr>\n",
       "    <tr>\n",
       "      <th>...</th>\n",
       "      <td>...</td>\n",
       "      <td>...</td>\n",
       "      <td>...</td>\n",
       "      <td>...</td>\n",
       "      <td>...</td>\n",
       "      <td>...</td>\n",
       "      <td>...</td>\n",
       "      <td>...</td>\n",
       "      <td>...</td>\n",
       "      <td>...</td>\n",
       "      <td>...</td>\n",
       "      <td>...</td>\n",
       "      <td>...</td>\n",
       "      <td>...</td>\n",
       "      <td>...</td>\n",
       "      <td>...</td>\n",
       "      <td>...</td>\n",
       "      <td>...</td>\n",
       "      <td>...</td>\n",
       "      <td>...</td>\n",
       "    </tr>\n",
       "    <tr>\n",
       "      <th>144</th>\n",
       "      <td>Lesotho</td>\n",
       "      <td>Sub-Saharan Africa</td>\n",
       "      <td>3.512</td>\n",
       "      <td>0.120</td>\n",
       "      <td>3.748</td>\n",
       "      <td>3.276</td>\n",
       "      <td>7.926</td>\n",
       "      <td>0.787</td>\n",
       "      <td>48.700</td>\n",
       "      <td>0.715</td>\n",
       "      <td>-0.131</td>\n",
       "      <td>0.915</td>\n",
       "      <td>2.43</td>\n",
       "      <td>0.451</td>\n",
       "      <td>0.731</td>\n",
       "      <td>0.007</td>\n",
       "      <td>0.405</td>\n",
       "      <td>0.103</td>\n",
       "      <td>0.015</td>\n",
       "      <td>1.800</td>\n",
       "    </tr>\n",
       "    <tr>\n",
       "      <th>145</th>\n",
       "      <td>Botswana</td>\n",
       "      <td>Sub-Saharan Africa</td>\n",
       "      <td>3.467</td>\n",
       "      <td>0.074</td>\n",
       "      <td>3.611</td>\n",
       "      <td>3.322</td>\n",
       "      <td>9.782</td>\n",
       "      <td>0.784</td>\n",
       "      <td>59.269</td>\n",
       "      <td>0.824</td>\n",
       "      <td>-0.246</td>\n",
       "      <td>0.801</td>\n",
       "      <td>2.43</td>\n",
       "      <td>1.099</td>\n",
       "      <td>0.724</td>\n",
       "      <td>0.340</td>\n",
       "      <td>0.539</td>\n",
       "      <td>0.027</td>\n",
       "      <td>0.088</td>\n",
       "      <td>0.648</td>\n",
       "    </tr>\n",
       "    <tr>\n",
       "      <th>146</th>\n",
       "      <td>Rwanda</td>\n",
       "      <td>Sub-Saharan Africa</td>\n",
       "      <td>3.415</td>\n",
       "      <td>0.068</td>\n",
       "      <td>3.548</td>\n",
       "      <td>3.282</td>\n",
       "      <td>7.676</td>\n",
       "      <td>0.552</td>\n",
       "      <td>61.400</td>\n",
       "      <td>0.897</td>\n",
       "      <td>0.061</td>\n",
       "      <td>0.167</td>\n",
       "      <td>2.43</td>\n",
       "      <td>0.364</td>\n",
       "      <td>0.202</td>\n",
       "      <td>0.407</td>\n",
       "      <td>0.627</td>\n",
       "      <td>0.227</td>\n",
       "      <td>0.493</td>\n",
       "      <td>1.095</td>\n",
       "    </tr>\n",
       "    <tr>\n",
       "      <th>147</th>\n",
       "      <td>Zimbabwe</td>\n",
       "      <td>Sub-Saharan Africa</td>\n",
       "      <td>3.145</td>\n",
       "      <td>0.058</td>\n",
       "      <td>3.259</td>\n",
       "      <td>3.030</td>\n",
       "      <td>7.943</td>\n",
       "      <td>0.750</td>\n",
       "      <td>56.201</td>\n",
       "      <td>0.677</td>\n",
       "      <td>-0.047</td>\n",
       "      <td>0.821</td>\n",
       "      <td>2.43</td>\n",
       "      <td>0.457</td>\n",
       "      <td>0.649</td>\n",
       "      <td>0.243</td>\n",
       "      <td>0.359</td>\n",
       "      <td>0.157</td>\n",
       "      <td>0.075</td>\n",
       "      <td>1.205</td>\n",
       "    </tr>\n",
       "    <tr>\n",
       "      <th>148</th>\n",
       "      <td>Afghanistan</td>\n",
       "      <td>South Asia</td>\n",
       "      <td>2.523</td>\n",
       "      <td>0.038</td>\n",
       "      <td>2.596</td>\n",
       "      <td>2.449</td>\n",
       "      <td>7.695</td>\n",
       "      <td>0.463</td>\n",
       "      <td>52.493</td>\n",
       "      <td>0.382</td>\n",
       "      <td>-0.102</td>\n",
       "      <td>0.924</td>\n",
       "      <td>2.43</td>\n",
       "      <td>0.370</td>\n",
       "      <td>0.000</td>\n",
       "      <td>0.126</td>\n",
       "      <td>0.000</td>\n",
       "      <td>0.122</td>\n",
       "      <td>0.010</td>\n",
       "      <td>1.895</td>\n",
       "    </tr>\n",
       "  </tbody>\n",
       "</table>\n",
       "<p>149 rows × 20 columns</p>\n",
       "</div>"
      ],
      "text/plain": [
       "    Country name  Regional indicator  Ladder score  \\\n",
       "0        Finland      Western Europe         7.842   \n",
       "1        Denmark      Western Europe         7.620   \n",
       "2    Switzerland      Western Europe         7.571   \n",
       "3        Iceland      Western Europe         7.554   \n",
       "4    Netherlands      Western Europe         7.464   \n",
       "..           ...                 ...           ...   \n",
       "144      Lesotho  Sub-Saharan Africa         3.512   \n",
       "145     Botswana  Sub-Saharan Africa         3.467   \n",
       "146       Rwanda  Sub-Saharan Africa         3.415   \n",
       "147     Zimbabwe  Sub-Saharan Africa         3.145   \n",
       "148  Afghanistan          South Asia         2.523   \n",
       "\n",
       "     Standard error of ladder score  upperwhisker  lowerwhisker  \\\n",
       "0                             0.032         7.904         7.780   \n",
       "1                             0.035         7.687         7.552   \n",
       "2                             0.036         7.643         7.500   \n",
       "3                             0.059         7.670         7.438   \n",
       "4                             0.027         7.518         7.410   \n",
       "..                              ...           ...           ...   \n",
       "144                           0.120         3.748         3.276   \n",
       "145                           0.074         3.611         3.322   \n",
       "146                           0.068         3.548         3.282   \n",
       "147                           0.058         3.259         3.030   \n",
       "148                           0.038         2.596         2.449   \n",
       "\n",
       "     Logged GDP per capita  Social support  Healthy life expectancy  \\\n",
       "0                   10.775           0.954                   72.000   \n",
       "1                   10.933           0.954                   72.700   \n",
       "2                   11.117           0.942                   74.400   \n",
       "3                   10.878           0.983                   73.000   \n",
       "4                   10.932           0.942                   72.400   \n",
       "..                     ...             ...                      ...   \n",
       "144                  7.926           0.787                   48.700   \n",
       "145                  9.782           0.784                   59.269   \n",
       "146                  7.676           0.552                   61.400   \n",
       "147                  7.943           0.750                   56.201   \n",
       "148                  7.695           0.463                   52.493   \n",
       "\n",
       "     Freedom to make life choices  Generosity  Perceptions of corruption  \\\n",
       "0                           0.949      -0.098                      0.186   \n",
       "1                           0.946       0.030                      0.179   \n",
       "2                           0.919       0.025                      0.292   \n",
       "3                           0.955       0.160                      0.673   \n",
       "4                           0.913       0.175                      0.338   \n",
       "..                            ...         ...                        ...   \n",
       "144                         0.715      -0.131                      0.915   \n",
       "145                         0.824      -0.246                      0.801   \n",
       "146                         0.897       0.061                      0.167   \n",
       "147                         0.677      -0.047                      0.821   \n",
       "148                         0.382      -0.102                      0.924   \n",
       "\n",
       "     Ladder score in Dystopia  Explained by: Log GDP per capita  \\\n",
       "0                        2.43                             1.446   \n",
       "1                        2.43                             1.502   \n",
       "2                        2.43                             1.566   \n",
       "3                        2.43                             1.482   \n",
       "4                        2.43                             1.501   \n",
       "..                        ...                               ...   \n",
       "144                      2.43                             0.451   \n",
       "145                      2.43                             1.099   \n",
       "146                      2.43                             0.364   \n",
       "147                      2.43                             0.457   \n",
       "148                      2.43                             0.370   \n",
       "\n",
       "     Explained by: Social support  Explained by: Healthy life expectancy  \\\n",
       "0                           1.106                                  0.741   \n",
       "1                           1.108                                  0.763   \n",
       "2                           1.079                                  0.816   \n",
       "3                           1.172                                  0.772   \n",
       "4                           1.079                                  0.753   \n",
       "..                            ...                                    ...   \n",
       "144                         0.731                                  0.007   \n",
       "145                         0.724                                  0.340   \n",
       "146                         0.202                                  0.407   \n",
       "147                         0.649                                  0.243   \n",
       "148                         0.000                                  0.126   \n",
       "\n",
       "     Explained by: Freedom to make life choices  Explained by: Generosity  \\\n",
       "0                                         0.691                     0.124   \n",
       "1                                         0.686                     0.208   \n",
       "2                                         0.653                     0.204   \n",
       "3                                         0.698                     0.293   \n",
       "4                                         0.647                     0.302   \n",
       "..                                          ...                       ...   \n",
       "144                                       0.405                     0.103   \n",
       "145                                       0.539                     0.027   \n",
       "146                                       0.627                     0.227   \n",
       "147                                       0.359                     0.157   \n",
       "148                                       0.000                     0.122   \n",
       "\n",
       "     Explained by: Perceptions of corruption  Dystopia + residual  \n",
       "0                                      0.481                3.253  \n",
       "1                                      0.485                2.868  \n",
       "2                                      0.413                2.839  \n",
       "3                                      0.170                2.967  \n",
       "4                                      0.384                2.798  \n",
       "..                                       ...                  ...  \n",
       "144                                    0.015                1.800  \n",
       "145                                    0.088                0.648  \n",
       "146                                    0.493                1.095  \n",
       "147                                    0.075                1.205  \n",
       "148                                    0.010                1.895  \n",
       "\n",
       "[149 rows x 20 columns]"
      ]
     },
     "execution_count": 47,
     "metadata": {},
     "output_type": "execute_result"
    }
   ],
   "source": [
    "data"
   ]
  },
  {
   "cell_type": "code",
   "execution_count": 48,
   "id": "ed2c7d39-1e76-4509-bfc2-5f05eb19c2e8",
   "metadata": {},
   "outputs": [
    {
     "name": "stdout",
     "output_type": "stream",
     "text": [
      "<class 'pandas.core.frame.DataFrame'>\n",
      "RangeIndex: 149 entries, 0 to 148\n",
      "Data columns (total 20 columns):\n",
      " #   Column                                      Non-Null Count  Dtype  \n",
      "---  ------                                      --------------  -----  \n",
      " 0   Country name                                149 non-null    object \n",
      " 1   Regional indicator                          149 non-null    object \n",
      " 2   Ladder score                                149 non-null    float64\n",
      " 3   Standard error of ladder score              149 non-null    float64\n",
      " 4   upperwhisker                                149 non-null    float64\n",
      " 5   lowerwhisker                                149 non-null    float64\n",
      " 6   Logged GDP per capita                       149 non-null    float64\n",
      " 7   Social support                              149 non-null    float64\n",
      " 8   Healthy life expectancy                     149 non-null    float64\n",
      " 9   Freedom to make life choices                149 non-null    float64\n",
      " 10  Generosity                                  149 non-null    float64\n",
      " 11  Perceptions of corruption                   149 non-null    float64\n",
      " 12  Ladder score in Dystopia                    149 non-null    float64\n",
      " 13  Explained by: Log GDP per capita            149 non-null    float64\n",
      " 14  Explained by: Social support                149 non-null    float64\n",
      " 15  Explained by: Healthy life expectancy       149 non-null    float64\n",
      " 16  Explained by: Freedom to make life choices  149 non-null    float64\n",
      " 17  Explained by: Generosity                    149 non-null    float64\n",
      " 18  Explained by: Perceptions of corruption     149 non-null    float64\n",
      " 19  Dystopia + residual                         149 non-null    float64\n",
      "dtypes: float64(18), object(2)\n",
      "memory usage: 23.4+ KB\n"
     ]
    }
   ],
   "source": [
    "# Info about data\n",
    "data.info()"
   ]
  },
  {
   "cell_type": "markdown",
   "id": "c2880f0d-4c3e-43dd-bc72-513b412e2a9f",
   "metadata": {},
   "source": [
    "## Data Content\n",
    "#### The happiness scores and rankings use data from Gallup World Poll.\n",
    "    Gallup World Poll: In 2005, Gallup began its World Poll, which continually surveys citizens in 160 countries, representing more than 98% of the world's adult population. The Gallup World Poll consists of more than 100 global questions as well as region-specific items.\n",
    "#### The columns following:\n",
    "    the happiness score estimate the extent to which each of six factors – economic production, social support, life expectancy, freedom, absence of corruption, and generosity – contribute to making life evaluations higher in each country than they are in Dystopia, a hypothetical country that has values equal to the world’s lowest national averages for each of the six factors. They have no impact on the total score reported for each country, but they do explain why some countries rank higher than others.\n",
    "\n",
    "#### Ladder score:\n",
    "    Happiness score or subjective well-being. This is the national average response to the question of life evaluations.\n",
    "\n",
    "#### Logged GDP per capita:\n",
    "    The GDP-per-capita time series from 2019 to 2020 using countryspecific forecasts of real GDP growth in 2020.\n",
    "#### Social support: \n",
    "    Social support refers to assistance or support provided by members of social networks to an individual.\n",
    "#### Healthy life expectancy:\n",
    "    Healthy life expectancy is the average life in good health - that is to say without irreversible limitation of activity in daily life or incapacities - of a fictitious generation subject to the conditions of mortality and morbidity prevailing that year.\n",
    "#### Freedom to make life choices: \n",
    "    Freedom to make life choices is the national average of binary responses to the GWP question “Are you satisfied or dissatisfied with your freedom to choose what you do with your life?” ... It is defined as the average of laughter and enjoyment for other waves where the happiness question was not asked\n",
    "#### Generosity:\n",
    "    Generosity is the residual of regressing national average of response to the GWP question “Have you donated money to a charity in the past month?” on GDP per capita. This column has negative values that won't be accepted in the algorithms of this DSS.\n",
    "#### Perceptions of corruption:\n",
    "    The measure is the national average of the survey responses to two questions in the GWP: “Is corruption widespread throughout the government or not” and “Is corruption widespread within businesses or not?”\n",
    "#### Ladder score in Dystopia:\n",
    "    It has values equal to the world’s lowest national averages. Dystopia as a benchmark against which to compare contributions from each of the six factors. Dystopia is an imaginary country that has the world's least-happy people. ... Since life would be very unpleasant in a country with the world's lowest incomes, lowest life expectancy, lowest generosity, most corruption, least freedom, and least social support, it is referred to as “Dystopia,” in contrast to Utopia\n",
    "World Happiness Report Official Website: https://worldhappiness.report/"
   ]
  },
  {
   "cell_type": "markdown",
   "id": "4b5273c6-185e-407a-8b5a-463881558bf0",
   "metadata": {},
   "source": [
    "### The columns that will are kept: \n",
    "    Logged GDP per capita\tSocial support\tHealthy life expectancy\tFreedom to make life choices\tPerceptions of corruption"
   ]
  },
  {
   "cell_type": "code",
   "execution_count": 49,
   "id": "3ea1b6e2-4df9-4498-a680-3122d306df61",
   "metadata": {},
   "outputs": [
    {
     "data": {
      "text/html": [
       "<div>\n",
       "<style scoped>\n",
       "    .dataframe tbody tr th:only-of-type {\n",
       "        vertical-align: middle;\n",
       "    }\n",
       "\n",
       "    .dataframe tbody tr th {\n",
       "        vertical-align: top;\n",
       "    }\n",
       "\n",
       "    .dataframe thead th {\n",
       "        text-align: right;\n",
       "    }\n",
       "</style>\n",
       "<table border=\"1\" class=\"dataframe\">\n",
       "  <thead>\n",
       "    <tr style=\"text-align: right;\">\n",
       "      <th></th>\n",
       "      <th>Logged GDP per capita</th>\n",
       "      <th>Social support</th>\n",
       "      <th>Healthy life expectancy</th>\n",
       "      <th>Freedom to make life choices</th>\n",
       "      <th>Perceptions of corruption</th>\n",
       "    </tr>\n",
       "    <tr>\n",
       "      <th>Country name</th>\n",
       "      <th></th>\n",
       "      <th></th>\n",
       "      <th></th>\n",
       "      <th></th>\n",
       "      <th></th>\n",
       "    </tr>\n",
       "  </thead>\n",
       "  <tbody>\n",
       "    <tr>\n",
       "      <th>Finland</th>\n",
       "      <td>10.775</td>\n",
       "      <td>0.954</td>\n",
       "      <td>72.000</td>\n",
       "      <td>0.949</td>\n",
       "      <td>0.186</td>\n",
       "    </tr>\n",
       "    <tr>\n",
       "      <th>Denmark</th>\n",
       "      <td>10.933</td>\n",
       "      <td>0.954</td>\n",
       "      <td>72.700</td>\n",
       "      <td>0.946</td>\n",
       "      <td>0.179</td>\n",
       "    </tr>\n",
       "    <tr>\n",
       "      <th>Switzerland</th>\n",
       "      <td>11.117</td>\n",
       "      <td>0.942</td>\n",
       "      <td>74.400</td>\n",
       "      <td>0.919</td>\n",
       "      <td>0.292</td>\n",
       "    </tr>\n",
       "    <tr>\n",
       "      <th>Iceland</th>\n",
       "      <td>10.878</td>\n",
       "      <td>0.983</td>\n",
       "      <td>73.000</td>\n",
       "      <td>0.955</td>\n",
       "      <td>0.673</td>\n",
       "    </tr>\n",
       "    <tr>\n",
       "      <th>Netherlands</th>\n",
       "      <td>10.932</td>\n",
       "      <td>0.942</td>\n",
       "      <td>72.400</td>\n",
       "      <td>0.913</td>\n",
       "      <td>0.338</td>\n",
       "    </tr>\n",
       "    <tr>\n",
       "      <th>...</th>\n",
       "      <td>...</td>\n",
       "      <td>...</td>\n",
       "      <td>...</td>\n",
       "      <td>...</td>\n",
       "      <td>...</td>\n",
       "    </tr>\n",
       "    <tr>\n",
       "      <th>Lesotho</th>\n",
       "      <td>7.926</td>\n",
       "      <td>0.787</td>\n",
       "      <td>48.700</td>\n",
       "      <td>0.715</td>\n",
       "      <td>0.915</td>\n",
       "    </tr>\n",
       "    <tr>\n",
       "      <th>Botswana</th>\n",
       "      <td>9.782</td>\n",
       "      <td>0.784</td>\n",
       "      <td>59.269</td>\n",
       "      <td>0.824</td>\n",
       "      <td>0.801</td>\n",
       "    </tr>\n",
       "    <tr>\n",
       "      <th>Rwanda</th>\n",
       "      <td>7.676</td>\n",
       "      <td>0.552</td>\n",
       "      <td>61.400</td>\n",
       "      <td>0.897</td>\n",
       "      <td>0.167</td>\n",
       "    </tr>\n",
       "    <tr>\n",
       "      <th>Zimbabwe</th>\n",
       "      <td>7.943</td>\n",
       "      <td>0.750</td>\n",
       "      <td>56.201</td>\n",
       "      <td>0.677</td>\n",
       "      <td>0.821</td>\n",
       "    </tr>\n",
       "    <tr>\n",
       "      <th>Afghanistan</th>\n",
       "      <td>7.695</td>\n",
       "      <td>0.463</td>\n",
       "      <td>52.493</td>\n",
       "      <td>0.382</td>\n",
       "      <td>0.924</td>\n",
       "    </tr>\n",
       "  </tbody>\n",
       "</table>\n",
       "<p>149 rows × 5 columns</p>\n",
       "</div>"
      ],
      "text/plain": [
       "              Logged GDP per capita  Social support  Healthy life expectancy  \\\n",
       "Country name                                                                   \n",
       "Finland                      10.775           0.954                   72.000   \n",
       "Denmark                      10.933           0.954                   72.700   \n",
       "Switzerland                  11.117           0.942                   74.400   \n",
       "Iceland                      10.878           0.983                   73.000   \n",
       "Netherlands                  10.932           0.942                   72.400   \n",
       "...                             ...             ...                      ...   \n",
       "Lesotho                       7.926           0.787                   48.700   \n",
       "Botswana                      9.782           0.784                   59.269   \n",
       "Rwanda                        7.676           0.552                   61.400   \n",
       "Zimbabwe                      7.943           0.750                   56.201   \n",
       "Afghanistan                   7.695           0.463                   52.493   \n",
       "\n",
       "              Freedom to make life choices  Perceptions of corruption  \n",
       "Country name                                                           \n",
       "Finland                              0.949                      0.186  \n",
       "Denmark                              0.946                      0.179  \n",
       "Switzerland                          0.919                      0.292  \n",
       "Iceland                              0.955                      0.673  \n",
       "Netherlands                          0.913                      0.338  \n",
       "...                                    ...                        ...  \n",
       "Lesotho                              0.715                      0.915  \n",
       "Botswana                             0.824                      0.801  \n",
       "Rwanda                               0.897                      0.167  \n",
       "Zimbabwe                             0.677                      0.821  \n",
       "Afghanistan                          0.382                      0.924  \n",
       "\n",
       "[149 rows x 5 columns]"
      ]
     },
     "execution_count": 49,
     "metadata": {},
     "output_type": "execute_result"
    }
   ],
   "source": [
    "#make the countries as indexes, drop the regional indicator column since it's not numerical and drop ladder score since its the score of happiness that we are searching \n",
    "df = data.copy()\n",
    "df.set_index('Country name', inplace=True)\n",
    "df=df.drop([\"Regional indicator\",\"Ladder score\",\"Standard error of ladder score\",\"upperwhisker\",\"lowerwhisker\",\"Ladder score in Dystopia\",\"Explained by: Log GDP per capita\",\"Explained by: Social support\",\"Explained by: Healthy life expectancy\",\"Explained by: Freedom to make life choices\",\"Explained by: Generosity\",\"Explained by: Perceptions of corruption\",\"Dystopia + residual\",\"Generosity\"], axis =1)\n",
    "df"
   ]
  },
  {
   "cell_type": "markdown",
   "id": "026260d6-fb40-4b79-8fbb-cb934e040bf4",
   "metadata": {},
   "source": [
    "## Data Distribution "
   ]
  },
  {
   "cell_type": "code",
   "execution_count": 50,
   "id": "9d532dff-6406-40bc-aa9c-a3d7524b2d13",
   "metadata": {},
   "outputs": [
    {
     "data": {
      "text/plain": [
       "(array([0, 1, 2]),\n",
       " [Text(0, 0, 'Social support'),\n",
       "  Text(1, 0, 'Freedom to make life choices'),\n",
       "  Text(2, 0, 'Perceptions of corruption')])"
      ]
     },
     "execution_count": 50,
     "metadata": {},
     "output_type": "execute_result"
    },
    {
     "data": {
      "image/png": "[encoded data removed]",
      "text/plain": [
       "<Figure size 640x480 with 1 Axes>"
      ]
     },
     "metadata": {},
     "output_type": "display_data"
    }
   ],
   "source": [
    "# Distribution of feature set 1: Social support, Freedom to make life choices, Perceptions of corruption\n",
    "figure(figsize=(8, 6), dpi=80)\n",
    "listFeatures = [\"Social support\", \"Freedom to make life choices\", \"Perceptions of corruption\"]\n",
    "sns.boxplot(data = data.loc[:, listFeatures], orient = \"v\", palette = \"Set1\")\n",
    "plt.xticks(rotation = 60)"
   ]
  },
  {
   "cell_type": "code",
   "execution_count": 51,
   "id": "c76623ae-7e42-42f6-89e9-03a0f096bf9d",
   "metadata": {},
   "outputs": [
    {
     "data": {
      "text/plain": [
       "(array([0]), [Text(0, 0, 'Logged GDP per capita')])"
      ]
     },
     "execution_count": 51,
     "metadata": {},
     "output_type": "execute_result"
    },
    {
     "data": {
      "image/png": "[encoded data removed]",
      "text/plain": [
       "<Figure size 640x480 with 1 Axes>"
      ]
     },
     "metadata": {},
     "output_type": "display_data"
    }
   ],
   "source": [
    "# Distribution of feature set 2: Logged GDP per capita\n",
    "figure(figsize=(8, 6), dpi=80)\n",
    "listFeatures = [\"Logged GDP per capita\"]\n",
    "sns.boxplot(data = data.loc[:, listFeatures], orient = \"v\", palette = \"Set2\")\n",
    "plt.xticks(rotation = 60)"
   ]
  },
  {
   "cell_type": "code",
   "execution_count": 52,
   "id": "e951e28e-86d7-4edf-ba17-506121904a9b",
   "metadata": {},
   "outputs": [
    {
     "data": {
      "text/plain": [
       "(array([0]), [Text(0, 0, 'Healthy life expectancy')])"
      ]
     },
     "execution_count": 52,
     "metadata": {},
     "output_type": "execute_result"
    },
    {
     "data": {
      "image/png": "[encoded data removed]",
      "text/plain": [
       "<Figure size 640x480 with 1 Axes>"
      ]
     },
     "metadata": {},
     "output_type": "display_data"
    }
   ],
   "source": [
    "# Distribution of feature set 3: Healthy life expectancy\n",
    "figure(figsize=(8, 6), dpi=80)\n",
    "listFeatures = [\"Healthy life expectancy\"]\n",
    "sns.boxplot(data = data.loc[:, listFeatures], orient = \"v\", palette = \"Set3\")\n",
    "plt.xticks(rotation = 60)"
   ]
  },
  {
   "cell_type": "markdown",
   "id": "a77b9d35-12d3-4615-afeb-e2870c337a7d",
   "metadata": {},
   "source": [
    "## Entropy"
   ]
  },
  {
   "cell_type": "markdown",
   "id": "a95b69b5-3999-4224-ab46-70947e47022d",
   "metadata": {},
   "source": [
    "### Step 0"
   ]
  },
  {
   "cell_type": "code",
   "execution_count": 53,
   "id": "6b8f3d09-e442-4427-b2bc-8c67f02ba703",
   "metadata": {},
   "outputs": [
    {
     "data": {
      "text/html": [
       "<div>\n",
       "<style scoped>\n",
       "    .dataframe tbody tr th:only-of-type {\n",
       "        vertical-align: middle;\n",
       "    }\n",
       "\n",
       "    .dataframe tbody tr th {\n",
       "        vertical-align: top;\n",
       "    }\n",
       "\n",
       "    .dataframe thead th {\n",
       "        text-align: right;\n",
       "    }\n",
       "</style>\n",
       "<table border=\"1\" class=\"dataframe\">\n",
       "  <thead>\n",
       "    <tr style=\"text-align: right;\">\n",
       "      <th></th>\n",
       "      <th>Logged GDP per capita</th>\n",
       "      <th>Social support</th>\n",
       "      <th>Healthy life expectancy</th>\n",
       "      <th>Freedom to make life choices</th>\n",
       "      <th>Perceptions of corruption</th>\n",
       "    </tr>\n",
       "    <tr>\n",
       "      <th>Country name</th>\n",
       "      <th></th>\n",
       "      <th></th>\n",
       "      <th></th>\n",
       "      <th></th>\n",
       "      <th></th>\n",
       "    </tr>\n",
       "  </thead>\n",
       "  <tbody>\n",
       "    <tr>\n",
       "      <th>Finland</th>\n",
       "      <td>10.775</td>\n",
       "      <td>0.954</td>\n",
       "      <td>72.000</td>\n",
       "      <td>0.949</td>\n",
       "      <td>0.186</td>\n",
       "    </tr>\n",
       "    <tr>\n",
       "      <th>Denmark</th>\n",
       "      <td>10.933</td>\n",
       "      <td>0.954</td>\n",
       "      <td>72.700</td>\n",
       "      <td>0.946</td>\n",
       "      <td>0.179</td>\n",
       "    </tr>\n",
       "    <tr>\n",
       "      <th>Switzerland</th>\n",
       "      <td>11.117</td>\n",
       "      <td>0.942</td>\n",
       "      <td>74.400</td>\n",
       "      <td>0.919</td>\n",
       "      <td>0.292</td>\n",
       "    </tr>\n",
       "    <tr>\n",
       "      <th>Iceland</th>\n",
       "      <td>10.878</td>\n",
       "      <td>0.983</td>\n",
       "      <td>73.000</td>\n",
       "      <td>0.955</td>\n",
       "      <td>0.673</td>\n",
       "    </tr>\n",
       "    <tr>\n",
       "      <th>Netherlands</th>\n",
       "      <td>10.932</td>\n",
       "      <td>0.942</td>\n",
       "      <td>72.400</td>\n",
       "      <td>0.913</td>\n",
       "      <td>0.338</td>\n",
       "    </tr>\n",
       "    <tr>\n",
       "      <th>...</th>\n",
       "      <td>...</td>\n",
       "      <td>...</td>\n",
       "      <td>...</td>\n",
       "      <td>...</td>\n",
       "      <td>...</td>\n",
       "    </tr>\n",
       "    <tr>\n",
       "      <th>Botswana</th>\n",
       "      <td>9.782</td>\n",
       "      <td>0.784</td>\n",
       "      <td>59.269</td>\n",
       "      <td>0.824</td>\n",
       "      <td>0.801</td>\n",
       "    </tr>\n",
       "    <tr>\n",
       "      <th>Rwanda</th>\n",
       "      <td>7.676</td>\n",
       "      <td>0.552</td>\n",
       "      <td>61.400</td>\n",
       "      <td>0.897</td>\n",
       "      <td>0.167</td>\n",
       "    </tr>\n",
       "    <tr>\n",
       "      <th>Zimbabwe</th>\n",
       "      <td>7.943</td>\n",
       "      <td>0.750</td>\n",
       "      <td>56.201</td>\n",
       "      <td>0.677</td>\n",
       "      <td>0.821</td>\n",
       "    </tr>\n",
       "    <tr>\n",
       "      <th>Afghanistan</th>\n",
       "      <td>7.695</td>\n",
       "      <td>0.463</td>\n",
       "      <td>52.493</td>\n",
       "      <td>0.382</td>\n",
       "      <td>0.924</td>\n",
       "    </tr>\n",
       "    <tr>\n",
       "      <th>Sum</th>\n",
       "      <td>1405.399</td>\n",
       "      <td>121.397</td>\n",
       "      <td>9683.927</td>\n",
       "      <td>117.948</td>\n",
       "      <td>108.390</td>\n",
       "    </tr>\n",
       "  </tbody>\n",
       "</table>\n",
       "<p>150 rows × 5 columns</p>\n",
       "</div>"
      ],
      "text/plain": [
       "              Logged GDP per capita  Social support  Healthy life expectancy  \\\n",
       "Country name                                                                   \n",
       "Finland                      10.775           0.954                   72.000   \n",
       "Denmark                      10.933           0.954                   72.700   \n",
       "Switzerland                  11.117           0.942                   74.400   \n",
       "Iceland                      10.878           0.983                   73.000   \n",
       "Netherlands                  10.932           0.942                   72.400   \n",
       "...                             ...             ...                      ...   \n",
       "Botswana                      9.782           0.784                   59.269   \n",
       "Rwanda                        7.676           0.552                   61.400   \n",
       "Zimbabwe                      7.943           0.750                   56.201   \n",
       "Afghanistan                   7.695           0.463                   52.493   \n",
       "Sum                        1405.399         121.397                 9683.927   \n",
       "\n",
       "              Freedom to make life choices  Perceptions of corruption  \n",
       "Country name                                                           \n",
       "Finland                              0.949                      0.186  \n",
       "Denmark                              0.946                      0.179  \n",
       "Switzerland                          0.919                      0.292  \n",
       "Iceland                              0.955                      0.673  \n",
       "Netherlands                          0.913                      0.338  \n",
       "...                                    ...                        ...  \n",
       "Botswana                             0.824                      0.801  \n",
       "Rwanda                               0.897                      0.167  \n",
       "Zimbabwe                             0.677                      0.821  \n",
       "Afghanistan                          0.382                      0.924  \n",
       "Sum                                117.948                    108.390  \n",
       "\n",
       "[150 rows x 5 columns]"
      ]
     },
     "execution_count": 53,
     "metadata": {},
     "output_type": "execute_result"
    }
   ],
   "source": [
    "Sum = df.sum(axis = 0)\n",
    "Sum = Sum.rename(\"Sum\") \n",
    "df0 = df.append(Sum,ignore_index=False)\n",
    "df0"
   ]
  },
  {
   "cell_type": "code",
   "execution_count": 54,
   "id": "5bb8766c-2cba-4f06-8466-f9a1cb8e6f3a",
   "metadata": {},
   "outputs": [
    {
     "data": {
      "text/plain": [
       "5"
      ]
     },
     "execution_count": 54,
     "metadata": {},
     "output_type": "execute_result"
    }
   ],
   "source": [
    "#n the number of criteria\n",
    "n = df.shape[1]\n",
    "n"
   ]
  },
  {
   "cell_type": "code",
   "execution_count": 55,
   "id": "2bc2ad30-d6a9-4abf-bb0c-e32821843f9c",
   "metadata": {},
   "outputs": [
    {
     "data": {
      "text/plain": [
       "149"
      ]
     },
     "execution_count": 55,
     "metadata": {},
     "output_type": "execute_result"
    }
   ],
   "source": [
    "# m the number of alternatives \n",
    "m = df.shape[0]\n",
    "m"
   ]
  },
  {
   "cell_type": "code",
   "execution_count": 56,
   "id": "cda67717-0b4a-4ce6-9a52-4f8d19c19644",
   "metadata": {},
   "outputs": [
    {
     "data": {
      "text/plain": [
       "0.1998422722505727"
      ]
     },
     "execution_count": 56,
     "metadata": {},
     "output_type": "execute_result"
    }
   ],
   "source": [
    "# k which is 1/ln(m)\n",
    "k = 1/ np.log(m)\n",
    "k"
   ]
  },
  {
   "cell_type": "markdown",
   "id": "d92ee86e-a1bd-41a2-875f-bbeba681a3f3",
   "metadata": {},
   "source": [
    "### Step 1: Normalize the decision matrix "
   ]
  },
  {
   "cell_type": "code",
   "execution_count": 57,
   "id": "7f8d913f-39de-47f5-a8b1-8fd96b0de5b4",
   "metadata": {},
   "outputs": [
    {
     "data": {
      "text/html": [
       "<div>\n",
       "<style scoped>\n",
       "    .dataframe tbody tr th:only-of-type {\n",
       "        vertical-align: middle;\n",
       "    }\n",
       "\n",
       "    .dataframe tbody tr th {\n",
       "        vertical-align: top;\n",
       "    }\n",
       "\n",
       "    .dataframe thead th {\n",
       "        text-align: right;\n",
       "    }\n",
       "</style>\n",
       "<table border=\"1\" class=\"dataframe\">\n",
       "  <thead>\n",
       "    <tr style=\"text-align: right;\">\n",
       "      <th></th>\n",
       "      <th>Logged GDP per capita</th>\n",
       "      <th>Social support</th>\n",
       "      <th>Healthy life expectancy</th>\n",
       "      <th>Freedom to make life choices</th>\n",
       "      <th>Perceptions of corruption</th>\n",
       "    </tr>\n",
       "    <tr>\n",
       "      <th>Country name</th>\n",
       "      <th></th>\n",
       "      <th></th>\n",
       "      <th></th>\n",
       "      <th></th>\n",
       "      <th></th>\n",
       "    </tr>\n",
       "  </thead>\n",
       "  <tbody>\n",
       "    <tr>\n",
       "      <th>Finland</th>\n",
       "      <td>0.007667</td>\n",
       "      <td>0.007859</td>\n",
       "      <td>0.007435</td>\n",
       "      <td>0.008046</td>\n",
       "      <td>0.001716</td>\n",
       "    </tr>\n",
       "    <tr>\n",
       "      <th>Denmark</th>\n",
       "      <td>0.007779</td>\n",
       "      <td>0.007859</td>\n",
       "      <td>0.007507</td>\n",
       "      <td>0.008020</td>\n",
       "      <td>0.001651</td>\n",
       "    </tr>\n",
       "    <tr>\n",
       "      <th>Switzerland</th>\n",
       "      <td>0.007910</td>\n",
       "      <td>0.007760</td>\n",
       "      <td>0.007683</td>\n",
       "      <td>0.007792</td>\n",
       "      <td>0.002694</td>\n",
       "    </tr>\n",
       "    <tr>\n",
       "      <th>Iceland</th>\n",
       "      <td>0.007740</td>\n",
       "      <td>0.008097</td>\n",
       "      <td>0.007538</td>\n",
       "      <td>0.008097</td>\n",
       "      <td>0.006209</td>\n",
       "    </tr>\n",
       "    <tr>\n",
       "      <th>Netherlands</th>\n",
       "      <td>0.007779</td>\n",
       "      <td>0.007760</td>\n",
       "      <td>0.007476</td>\n",
       "      <td>0.007741</td>\n",
       "      <td>0.003118</td>\n",
       "    </tr>\n",
       "    <tr>\n",
       "      <th>...</th>\n",
       "      <td>...</td>\n",
       "      <td>...</td>\n",
       "      <td>...</td>\n",
       "      <td>...</td>\n",
       "      <td>...</td>\n",
       "    </tr>\n",
       "    <tr>\n",
       "      <th>Lesotho</th>\n",
       "      <td>0.005640</td>\n",
       "      <td>0.006483</td>\n",
       "      <td>0.005029</td>\n",
       "      <td>0.006062</td>\n",
       "      <td>0.008442</td>\n",
       "    </tr>\n",
       "    <tr>\n",
       "      <th>Botswana</th>\n",
       "      <td>0.006960</td>\n",
       "      <td>0.006458</td>\n",
       "      <td>0.006120</td>\n",
       "      <td>0.006986</td>\n",
       "      <td>0.007390</td>\n",
       "    </tr>\n",
       "    <tr>\n",
       "      <th>Rwanda</th>\n",
       "      <td>0.005462</td>\n",
       "      <td>0.004547</td>\n",
       "      <td>0.006340</td>\n",
       "      <td>0.007605</td>\n",
       "      <td>0.001541</td>\n",
       "    </tr>\n",
       "    <tr>\n",
       "      <th>Zimbabwe</th>\n",
       "      <td>0.005652</td>\n",
       "      <td>0.006178</td>\n",
       "      <td>0.005804</td>\n",
       "      <td>0.005740</td>\n",
       "      <td>0.007574</td>\n",
       "    </tr>\n",
       "    <tr>\n",
       "      <th>Afghanistan</th>\n",
       "      <td>0.005475</td>\n",
       "      <td>0.003814</td>\n",
       "      <td>0.005421</td>\n",
       "      <td>0.003239</td>\n",
       "      <td>0.008525</td>\n",
       "    </tr>\n",
       "  </tbody>\n",
       "</table>\n",
       "<p>149 rows × 5 columns</p>\n",
       "</div>"
      ],
      "text/plain": [
       "              Logged GDP per capita  Social support  Healthy life expectancy  \\\n",
       "Country name                                                                   \n",
       "Finland                    0.007667        0.007859                 0.007435   \n",
       "Denmark                    0.007779        0.007859                 0.007507   \n",
       "Switzerland                0.007910        0.007760                 0.007683   \n",
       "Iceland                    0.007740        0.008097                 0.007538   \n",
       "Netherlands                0.007779        0.007760                 0.007476   \n",
       "...                             ...             ...                      ...   \n",
       "Lesotho                    0.005640        0.006483                 0.005029   \n",
       "Botswana                   0.006960        0.006458                 0.006120   \n",
       "Rwanda                     0.005462        0.004547                 0.006340   \n",
       "Zimbabwe                   0.005652        0.006178                 0.005804   \n",
       "Afghanistan                0.005475        0.003814                 0.005421   \n",
       "\n",
       "              Freedom to make life choices  Perceptions of corruption  \n",
       "Country name                                                           \n",
       "Finland                           0.008046                   0.001716  \n",
       "Denmark                           0.008020                   0.001651  \n",
       "Switzerland                       0.007792                   0.002694  \n",
       "Iceland                           0.008097                   0.006209  \n",
       "Netherlands                       0.007741                   0.003118  \n",
       "...                                    ...                        ...  \n",
       "Lesotho                           0.006062                   0.008442  \n",
       "Botswana                          0.006986                   0.007390  \n",
       "Rwanda                            0.007605                   0.001541  \n",
       "Zimbabwe                          0.005740                   0.007574  \n",
       "Afghanistan                       0.003239                   0.008525  \n",
       "\n",
       "[149 rows x 5 columns]"
      ]
     },
     "execution_count": 57,
     "metadata": {},
     "output_type": "execute_result"
    }
   ],
   "source": [
    "# p_ij = x_ij/sum{j}(x_ij)\n",
    "df1 = df.copy()\n",
    "df1 = df1 / Sum\n",
    "df1"
   ]
  },
  {
   "cell_type": "code",
   "execution_count": 58,
   "id": "21bdad5a-2de7-4cba-8bf8-7ee052d4b444",
   "metadata": {},
   "outputs": [
    {
     "data": {
      "text/html": [
       "<div>\n",
       "<style scoped>\n",
       "    .dataframe tbody tr th:only-of-type {\n",
       "        vertical-align: middle;\n",
       "    }\n",
       "\n",
       "    .dataframe tbody tr th {\n",
       "        vertical-align: top;\n",
       "    }\n",
       "\n",
       "    .dataframe thead th {\n",
       "        text-align: right;\n",
       "    }\n",
       "</style>\n",
       "<table border=\"1\" class=\"dataframe\">\n",
       "  <thead>\n",
       "    <tr style=\"text-align: right;\">\n",
       "      <th></th>\n",
       "      <th>Logged GDP per capita</th>\n",
       "      <th>Social support</th>\n",
       "      <th>Healthy life expectancy</th>\n",
       "      <th>Freedom to make life choices</th>\n",
       "      <th>Perceptions of corruption</th>\n",
       "    </tr>\n",
       "    <tr>\n",
       "      <th>Country name</th>\n",
       "      <th></th>\n",
       "      <th></th>\n",
       "      <th></th>\n",
       "      <th></th>\n",
       "      <th></th>\n",
       "    </tr>\n",
       "  </thead>\n",
       "  <tbody>\n",
       "    <tr>\n",
       "      <th>Finland</th>\n",
       "      <td>-0.037344</td>\n",
       "      <td>-0.038084</td>\n",
       "      <td>-0.036443</td>\n",
       "      <td>-0.038802</td>\n",
       "      <td>-0.010927</td>\n",
       "    </tr>\n",
       "    <tr>\n",
       "      <th>Denmark</th>\n",
       "      <td>-0.037778</td>\n",
       "      <td>-0.038084</td>\n",
       "      <td>-0.036725</td>\n",
       "      <td>-0.038705</td>\n",
       "      <td>-0.010579</td>\n",
       "    </tr>\n",
       "    <tr>\n",
       "      <th>Switzerland</th>\n",
       "      <td>-0.038282</td>\n",
       "      <td>-0.037703</td>\n",
       "      <td>-0.037406</td>\n",
       "      <td>-0.037826</td>\n",
       "      <td>-0.015940</td>\n",
       "    </tr>\n",
       "    <tr>\n",
       "      <th>Iceland</th>\n",
       "      <td>-0.037627</td>\n",
       "      <td>-0.038999</td>\n",
       "      <td>-0.036845</td>\n",
       "      <td>-0.038996</td>\n",
       "      <td>-0.031553</td>\n",
       "    </tr>\n",
       "    <tr>\n",
       "      <th>Netherlands</th>\n",
       "      <td>-0.037776</td>\n",
       "      <td>-0.037703</td>\n",
       "      <td>-0.036604</td>\n",
       "      <td>-0.037630</td>\n",
       "      <td>-0.017994</td>\n",
       "    </tr>\n",
       "    <tr>\n",
       "      <th>...</th>\n",
       "      <td>...</td>\n",
       "      <td>...</td>\n",
       "      <td>...</td>\n",
       "      <td>...</td>\n",
       "      <td>...</td>\n",
       "    </tr>\n",
       "    <tr>\n",
       "      <th>Lesotho</th>\n",
       "      <td>-0.029202</td>\n",
       "      <td>-0.032665</td>\n",
       "      <td>-0.026616</td>\n",
       "      <td>-0.030951</td>\n",
       "      <td>-0.040306</td>\n",
       "    </tr>\n",
       "    <tr>\n",
       "      <th>Botswana</th>\n",
       "      <td>-0.034576</td>\n",
       "      <td>-0.032565</td>\n",
       "      <td>-0.031190</td>\n",
       "      <td>-0.034678</td>\n",
       "      <td>-0.036267</td>\n",
       "    </tr>\n",
       "    <tr>\n",
       "      <th>Rwanda</th>\n",
       "      <td>-0.028456</td>\n",
       "      <td>-0.024524</td>\n",
       "      <td>-0.032088</td>\n",
       "      <td>-0.037105</td>\n",
       "      <td>-0.009977</td>\n",
       "    </tr>\n",
       "    <tr>\n",
       "      <th>Zimbabwe</th>\n",
       "      <td>-0.029252</td>\n",
       "      <td>-0.031426</td>\n",
       "      <td>-0.029884</td>\n",
       "      <td>-0.029619</td>\n",
       "      <td>-0.036986</td>\n",
       "    </tr>\n",
       "    <tr>\n",
       "      <th>Afghanistan</th>\n",
       "      <td>-0.028513</td>\n",
       "      <td>-0.021240</td>\n",
       "      <td>-0.028282</td>\n",
       "      <td>-0.018566</td>\n",
       "      <td>-0.040619</td>\n",
       "    </tr>\n",
       "  </tbody>\n",
       "</table>\n",
       "<p>149 rows × 5 columns</p>\n",
       "</div>"
      ],
      "text/plain": [
       "              Logged GDP per capita  Social support  Healthy life expectancy  \\\n",
       "Country name                                                                   \n",
       "Finland                   -0.037344       -0.038084                -0.036443   \n",
       "Denmark                   -0.037778       -0.038084                -0.036725   \n",
       "Switzerland               -0.038282       -0.037703                -0.037406   \n",
       "Iceland                   -0.037627       -0.038999                -0.036845   \n",
       "Netherlands               -0.037776       -0.037703                -0.036604   \n",
       "...                             ...             ...                      ...   \n",
       "Lesotho                   -0.029202       -0.032665                -0.026616   \n",
       "Botswana                  -0.034576       -0.032565                -0.031190   \n",
       "Rwanda                    -0.028456       -0.024524                -0.032088   \n",
       "Zimbabwe                  -0.029252       -0.031426                -0.029884   \n",
       "Afghanistan               -0.028513       -0.021240                -0.028282   \n",
       "\n",
       "              Freedom to make life choices  Perceptions of corruption  \n",
       "Country name                                                           \n",
       "Finland                          -0.038802                  -0.010927  \n",
       "Denmark                          -0.038705                  -0.010579  \n",
       "Switzerland                      -0.037826                  -0.015940  \n",
       "Iceland                          -0.038996                  -0.031553  \n",
       "Netherlands                      -0.037630                  -0.017994  \n",
       "...                                    ...                        ...  \n",
       "Lesotho                          -0.030951                  -0.040306  \n",
       "Botswana                         -0.034678                  -0.036267  \n",
       "Rwanda                           -0.037105                  -0.009977  \n",
       "Zimbabwe                         -0.029619                  -0.036986  \n",
       "Afghanistan                      -0.018566                  -0.040619  \n",
       "\n",
       "[149 rows x 5 columns]"
      ]
     },
     "execution_count": 58,
     "metadata": {},
     "output_type": "execute_result"
    }
   ],
   "source": [
    "# p_ij*ln(p_ij)\n",
    "df2 = df1.copy()\n",
    "df2 = df2 * np.log(df2)\n",
    "# I am dropping the generosity column since it has a lot of nan values after doing the log \n",
    "\n",
    "# for the other columns tat have nan values, I am replacing with 0 since the number is small so it won't have a big affect on the result (the opposite of geneority column)\n",
    "df2 = df2.fillna(0) \n",
    "df2"
   ]
  },
  {
   "cell_type": "code",
   "execution_count": 59,
   "id": "ff32e65d-f97a-4258-8093-d39ca48d8094",
   "metadata": {},
   "outputs": [
    {
     "data": {
      "text/plain": [
       "Logged GDP per capita          -4.996302\n",
       "Social support                 -4.993507\n",
       "Healthy life expectancy        -4.998449\n",
       "Freedom to make life choices   -4.993258\n",
       "Perceptions of corruption      -4.966964\n",
       "Name: Sum2, dtype: float64"
      ]
     },
     "execution_count": 59,
     "metadata": {},
     "output_type": "execute_result"
    }
   ],
   "source": [
    "Sum2 = df2.sum(axis = 0)\n",
    "Sum2 = Sum2.rename(\"Sum2\") \n",
    "Sum2"
   ]
  },
  {
   "cell_type": "markdown",
   "id": "52381e1d-0674-4dca-87c3-dcc549862968",
   "metadata": {},
   "source": [
    "## Step 2: Compute entropy where m is the number of alternatives"
   ]
  },
  {
   "cell_type": "code",
   "execution_count": 60,
   "id": "f4301f49-b0ea-40fb-8f61-6ab628593594",
   "metadata": {},
   "outputs": [
    {
     "data": {
      "text/plain": [
       "Logged GDP per capita           0.998472\n",
       "Social support                  0.997914\n",
       "Healthy life expectancy         0.998901\n",
       "Freedom to make life choices    0.997864\n",
       "Perceptions of corruption       0.992609\n",
       "Name: Entropy, dtype: float64"
      ]
     },
     "execution_count": 60,
     "metadata": {},
     "output_type": "execute_result"
    }
   ],
   "source": [
    "# e_j = -k*p_ij*ln(p_ij)\n",
    "df3 = -k * Sum2\n",
    "df3 =df3.rename(\"Entropy\") \n",
    "df3"
   ]
  },
  {
   "cell_type": "code",
   "execution_count": 61,
   "id": "252f18aa-e6b1-4db0-823d-5fee282c7221",
   "metadata": {},
   "outputs": [
    {
     "data": {
      "text/html": [
       "<div>\n",
       "<style scoped>\n",
       "    .dataframe tbody tr th:only-of-type {\n",
       "        vertical-align: middle;\n",
       "    }\n",
       "\n",
       "    .dataframe tbody tr th {\n",
       "        vertical-align: top;\n",
       "    }\n",
       "\n",
       "    .dataframe thead th {\n",
       "        text-align: right;\n",
       "    }\n",
       "</style>\n",
       "<table border=\"1\" class=\"dataframe\">\n",
       "  <thead>\n",
       "    <tr style=\"text-align: right;\">\n",
       "      <th></th>\n",
       "      <th>Entropy</th>\n",
       "    </tr>\n",
       "  </thead>\n",
       "  <tbody>\n",
       "    <tr>\n",
       "      <th>Logged GDP per capita</th>\n",
       "      <td>0.001528</td>\n",
       "    </tr>\n",
       "    <tr>\n",
       "      <th>Social support</th>\n",
       "      <td>0.002086</td>\n",
       "    </tr>\n",
       "    <tr>\n",
       "      <th>Healthy life expectancy</th>\n",
       "      <td>0.001099</td>\n",
       "    </tr>\n",
       "    <tr>\n",
       "      <th>Freedom to make life choices</th>\n",
       "      <td>0.002136</td>\n",
       "    </tr>\n",
       "    <tr>\n",
       "      <th>Perceptions of corruption</th>\n",
       "      <td>0.007391</td>\n",
       "    </tr>\n",
       "  </tbody>\n",
       "</table>\n",
       "</div>"
      ],
      "text/plain": [
       "                               Entropy\n",
       "Logged GDP per capita         0.001528\n",
       "Social support                0.002086\n",
       "Healthy life expectancy       0.001099\n",
       "Freedom to make life choices  0.002136\n",
       "Perceptions of corruption     0.007391"
      ]
     },
     "execution_count": 61,
     "metadata": {},
     "output_type": "execute_result"
    }
   ],
   "source": [
    "# 1-e_j\n",
    "df3 = 1 - df3\n",
    "df3 = pd.DataFrame(df3)\n",
    "df3"
   ]
  },
  {
   "cell_type": "code",
   "execution_count": 62,
   "id": "38657993-66c5-430e-9d09-f847ff0e0883",
   "metadata": {},
   "outputs": [
    {
     "data": {
      "text/plain": [
       "Entropy    0.014239\n",
       "dtype: float64"
      ]
     },
     "execution_count": 62,
     "metadata": {},
     "output_type": "execute_result"
    }
   ],
   "source": [
    "Sum3 = df3.sum(axis=0)\n",
    "Sum3"
   ]
  },
  {
   "cell_type": "markdown",
   "id": "e7754d51-97d7-4887-a77e-ee7d3de81398",
   "metadata": {},
   "source": [
    "### Step 3: Compute the weight vector. These are the objectives of each weight"
   ]
  },
  {
   "cell_type": "markdown",
   "id": "4f64b9ec-8d47-445a-9a5a-aa116fd504ee",
   "metadata": {
    "tags": []
   },
   "source": [
    "#### We want to maximize: logged GDP per capita, social support, healthy life expectancy, freedom to make life choices and generosity\n",
    "    Therefore their weights will be postive\n",
    "#### We want to minimize: perception of corruption\n",
    "    Therefore its weight will be negative"
   ]
  },
  {
   "cell_type": "code",
   "execution_count": 63,
   "id": "cd85b8d5-d20e-4b02-b3f6-dc9bc13dbd5d",
   "metadata": {},
   "outputs": [
    {
     "data": {
      "text/html": [
       "<div>\n",
       "<style scoped>\n",
       "    .dataframe tbody tr th:only-of-type {\n",
       "        vertical-align: middle;\n",
       "    }\n",
       "\n",
       "    .dataframe tbody tr th {\n",
       "        vertical-align: top;\n",
       "    }\n",
       "\n",
       "    .dataframe thead th {\n",
       "        text-align: right;\n",
       "    }\n",
       "</style>\n",
       "<table border=\"1\" class=\"dataframe\">\n",
       "  <thead>\n",
       "    <tr style=\"text-align: right;\">\n",
       "      <th></th>\n",
       "      <th>Weights</th>\n",
       "    </tr>\n",
       "  </thead>\n",
       "  <tbody>\n",
       "    <tr>\n",
       "      <th>Logged GDP per capita</th>\n",
       "      <td>0.107281</td>\n",
       "    </tr>\n",
       "    <tr>\n",
       "      <th>Social support</th>\n",
       "      <td>0.146513</td>\n",
       "    </tr>\n",
       "    <tr>\n",
       "      <th>Healthy life expectancy</th>\n",
       "      <td>0.077155</td>\n",
       "    </tr>\n",
       "    <tr>\n",
       "      <th>Freedom to make life choices</th>\n",
       "      <td>0.150008</td>\n",
       "    </tr>\n",
       "    <tr>\n",
       "      <th>Perceptions of corruption</th>\n",
       "      <td>-0.519043</td>\n",
       "    </tr>\n",
       "  </tbody>\n",
       "</table>\n",
       "</div>"
      ],
      "text/plain": [
       "                               Weights\n",
       "Logged GDP per capita         0.107281\n",
       "Social support                0.146513\n",
       "Healthy life expectancy       0.077155\n",
       "Freedom to make life choices  0.150008\n",
       "Perceptions of corruption    -0.519043"
      ]
     },
     "execution_count": 63,
     "metadata": {},
     "output_type": "execute_result"
    }
   ],
   "source": [
    "# 3- w_j = 1-e_j/sum(1-e_j)\n",
    "df4 = df3['Entropy'] / Sum3[0]\n",
    "df4 =df4.rename(\"Weights\")\n",
    "df4 = pd.DataFrame(df4)\n",
    "df4.loc[\"Perceptions of corruption\"]= -df4.loc[\"Perceptions of corruption\"]\n",
    "df4"
   ]
  },
  {
   "cell_type": "markdown",
   "id": "cab7168a-7afd-4849-bcc9-fad533d1b62a",
   "metadata": {},
   "source": [
    "### Ranking :"
   ]
  },
  {
   "cell_type": "code",
   "execution_count": 64,
   "id": "0a8d98fe-3f55-4dd2-8c63-215d1e587dca",
   "metadata": {},
   "outputs": [
    {
     "data": {
      "text/html": [
       "<div>\n",
       "<style scoped>\n",
       "    .dataframe tbody tr th:only-of-type {\n",
       "        vertical-align: middle;\n",
       "    }\n",
       "\n",
       "    .dataframe tbody tr th {\n",
       "        vertical-align: top;\n",
       "    }\n",
       "\n",
       "    .dataframe thead th {\n",
       "        text-align: right;\n",
       "    }\n",
       "</style>\n",
       "<table border=\"1\" class=\"dataframe\">\n",
       "  <thead>\n",
       "    <tr style=\"text-align: right;\">\n",
       "      <th></th>\n",
       "      <th>Score</th>\n",
       "      <th>Rank</th>\n",
       "    </tr>\n",
       "    <tr>\n",
       "      <th>Country name</th>\n",
       "      <th></th>\n",
       "      <th></th>\n",
       "    </tr>\n",
       "  </thead>\n",
       "  <tbody>\n",
       "    <tr>\n",
       "      <th>Singapore</th>\n",
       "      <td>0.003381</td>\n",
       "      <td>1.0</td>\n",
       "    </tr>\n",
       "    <tr>\n",
       "      <th>Denmark</th>\n",
       "      <td>0.002911</td>\n",
       "      <td>2.0</td>\n",
       "    </tr>\n",
       "    <tr>\n",
       "      <th>Finland</th>\n",
       "      <td>0.002864</td>\n",
       "      <td>3.0</td>\n",
       "    </tr>\n",
       "    <tr>\n",
       "      <th>Sweden</th>\n",
       "      <td>0.002603</td>\n",
       "      <td>4.0</td>\n",
       "    </tr>\n",
       "    <tr>\n",
       "      <th>New Zealand</th>\n",
       "      <td>0.002564</td>\n",
       "      <td>5.0</td>\n",
       "    </tr>\n",
       "    <tr>\n",
       "      <th>...</th>\n",
       "      <td>...</td>\n",
       "      <td>...</td>\n",
       "    </tr>\n",
       "    <tr>\n",
       "      <th>Lebanon</th>\n",
       "      <td>-0.001338</td>\n",
       "      <td>145.0</td>\n",
       "    </tr>\n",
       "    <tr>\n",
       "      <th>Chad</th>\n",
       "      <td>-0.001433</td>\n",
       "      <td>146.0</td>\n",
       "    </tr>\n",
       "    <tr>\n",
       "      <th>Sierra Leone</th>\n",
       "      <td>-0.001496</td>\n",
       "      <td>147.0</td>\n",
       "    </tr>\n",
       "    <tr>\n",
       "      <th>Lesotho</th>\n",
       "      <td>-0.001529</td>\n",
       "      <td>148.0</td>\n",
       "    </tr>\n",
       "    <tr>\n",
       "      <th>Afghanistan</th>\n",
       "      <td>-0.002374</td>\n",
       "      <td>149.0</td>\n",
       "    </tr>\n",
       "  </tbody>\n",
       "</table>\n",
       "<p>149 rows × 2 columns</p>\n",
       "</div>"
      ],
      "text/plain": [
       "                 Score   Rank\n",
       "Country name                 \n",
       "Singapore     0.003381    1.0\n",
       "Denmark       0.002911    2.0\n",
       "Finland       0.002864    3.0\n",
       "Sweden        0.002603    4.0\n",
       "New Zealand   0.002564    5.0\n",
       "...                ...    ...\n",
       "Lebanon      -0.001338  145.0\n",
       "Chad         -0.001433  146.0\n",
       "Sierra Leone -0.001496  147.0\n",
       "Lesotho      -0.001529  148.0\n",
       "Afghanistan  -0.002374  149.0\n",
       "\n",
       "[149 rows x 2 columns]"
      ]
     },
     "execution_count": 64,
     "metadata": {},
     "output_type": "execute_result"
    }
   ],
   "source": [
    "df5 = df1.copy()\n",
    "df5 = df4[\"Weights\"] * df5\n",
    "df5 = df5.sum(axis = 1)\n",
    "df5 =df5.rename(\"Score\")\n",
    "df5 = pd.DataFrame(df5)\n",
    "df5['Rank'] = df5.rank(axis= 0,ascending= False)\n",
    "df5 = df5.sort_values(by=['Rank'])\n",
    "df5"
   ]
  },
  {
   "cell_type": "markdown",
   "id": "68079095-ba63-4ba0-8f3a-d5dbdbf4e6de",
   "metadata": {
    "tags": []
   },
   "source": [
    "### The Hapiest and Most Unhappy Countries according to entropy"
   ]
  },
  {
   "cell_type": "code",
   "execution_count": 65,
   "id": "2c23db2d-1581-4836-a10f-a8d79538feb5",
   "metadata": {
    "tags": []
   },
   "outputs": [
    {
     "name": "stdout",
     "output_type": "stream",
     "text": [
      "The Happiest Country:  Singapore\n",
      "The Most Unhappy Country:  Afghanistan\n"
     ]
    }
   ],
   "source": [
    "print(\"The Happiest Country: \", df5.index.values[0]);\n",
    "print(\"The Most Unhappy Country: \", df5.index.values[-1]);"
   ]
  },
  {
   "cell_type": "code",
   "execution_count": 66,
   "id": "e65e8667-c1f1-4b60-9e35-4659c7329868",
   "metadata": {},
   "outputs": [
    {
     "data": {
      "text/plain": [
       "Text(0.5, 1.0, 'The most unhappy countries')"
      ]
     },
     "execution_count": 66,
     "metadata": {},
     "output_type": "execute_result"
    },
    {
     "data": {
      "image/png": "[encoded data removed]",
      "text/plain": [
       "<Figure size 576x396 with 1 Axes>"
      ]
     },
     "metadata": {},
     "output_type": "display_data"
    }
   ],
   "source": [
    "happinessFilter = (df5.loc[:,\"Rank\"] > 141) ;\n",
    "y = df5.index.values[-8:]\n",
    "ax = sns.barplot(x = \"Score\", y = y, data = df5[happinessFilter], palette = \"coolwarm\");\n",
    "ax.set_title('The most unhappy countries')"
   ]
  },
  {
   "cell_type": "code",
   "execution_count": 67,
   "id": "60306c91-a43c-4f9f-a137-58a75701a7e2",
   "metadata": {},
   "outputs": [
    {
     "data": {
      "text/plain": [
       "Text(0.5, 1.0, 'The most happy countries')"
      ]
     },
     "execution_count": 67,
     "metadata": {},
     "output_type": "execute_result"
    },
    {
     "data": {
      "image/png": "[encoded data removed]",
      "text/plain": [
       "<Figure size 576x396 with 1 Axes>"
      ]
     },
     "metadata": {},
     "output_type": "display_data"
    }
   ],
   "source": [
    "happinessFilter = (df5.loc[:,\"Rank\"] < 8) ;\n",
    "y = df5.index.values[0:7]\n",
    "ax = sns.barplot(x = \"Score\", y = y, data = df5[happinessFilter], palette = \"coolwarm\");\n",
    "ax.set_title('The most happy countries')"
   ]
  },
  {
   "cell_type": "code",
   "execution_count": 105,
   "id": "189b6d24-057f-45dc-8169-ec588741eb9e",
   "metadata": {},
   "outputs": [
    {
     "data": {
      "application/vnd.plotly.v1+json": {
       "config": {
        "plotlyServerURL": "https://plot.ly"
       },
       "data": [
        {
         "coloraxis": "coloraxis",
         "geo": "geo",
         "hovertemplate": "Ladder score=%{z}<br>Country name=%{location}<extra></extra>",
         "locationmode": "country names",
         "locations": [
          "Finland"
         ],
         "name": "",
         "type": "choropleth",
         "z": [
          7.842
         ]
        }
       ],
       "frames": [
        {
         "data": [
          {
           "coloraxis": "coloraxis",
           "geo": "geo",
           "hovertemplate": "Ladder score=%{z}<br>Country name=%{location}<extra></extra>",
           "locationmode": "country names",
           "locations": [
            "Finland"
           ],
           "name": "",
           "type": "choropleth",
           "z": [
            7.842
           ]
          }
         ],
         "name": "7.842"
        },
        {
         "data": [
          {
           "coloraxis": "coloraxis",
           "geo": "geo",
           "hovertemplate": "Ladder score=%{z}<br>Country name=%{location}<extra></extra>",
           "locationmode": "country names",
           "locations": [
            "Denmark"
           ],
           "name": "",
           "type": "choropleth",
           "z": [
            7.62
           ]
          }
         ],
         "name": "7.62"
        },
        {
         "data": [
          {
           "coloraxis": "coloraxis",
           "geo": "geo",
           "hovertemplate": "Ladder score=%{z}<br>Country name=%{location}<extra></extra>",
           "locationmode": "country names",
           "locations": [
            "Switzerland"
           ],
           "name": "",
           "type": "choropleth",
           "z": [
            7.571
           ]
          }
         ],
         "name": "7.571"
        },
        {
         "data": [
          {
           "coloraxis": "coloraxis",
           "geo": "geo",
           "hovertemplate": "Ladder score=%{z}<br>Country name=%{location}<extra></extra>",
           "locationmode": "country names",
           "locations": [
            "Iceland"
           ],
           "name": "",
           "type": "choropleth",
           "z": [
            7.554
           ]
          }
         ],
         "name": "7.554"
        },
        {
         "data": [
          {
           "coloraxis": "coloraxis",
           "geo": "geo",
           "hovertemplate": "Ladder score=%{z}<br>Country name=%{location}<extra></extra>",
           "locationmode": "country names",
           "locations": [
            "Netherlands"
           ],
           "name": "",
           "type": "choropleth",
           "z": [
            7.464
           ]
          }
         ],
         "name": "7.464"
        },
        {
         "data": [
          {
           "coloraxis": "coloraxis",
           "geo": "geo",
           "hovertemplate": "Ladder score=%{z}<br>Country name=%{location}<extra></extra>",
           "locationmode": "country names",
           "locations": [
            "Norway"
           ],
           "name": "",
           "type": "choropleth",
           "z": [
            7.392
           ]
          }
         ],
         "name": "7.392"
        },
        {
         "data": [
          {
           "coloraxis": "coloraxis",
           "geo": "geo",
           "hovertemplate": "Ladder score=%{z}<br>Country name=%{location}<extra></extra>",
           "locationmode": "country names",
           "locations": [
            "Sweden"
           ],
           "name": "",
           "type": "choropleth",
           "z": [
            7.363
           ]
          }
         ],
         "name": "7.363"
        },
        {
         "data": [
          {
           "coloraxis": "coloraxis",
           "geo": "geo",
           "hovertemplate": "Ladder score=%{z}<br>Country name=%{location}<extra></extra>",
           "locationmode": "country names",
           "locations": [
            "Luxembourg"
           ],
           "name": "",
           "type": "choropleth",
           "z": [
            7.324
           ]
          }
         ],
         "name": "7.324"
        },
        {
         "data": [
          {
           "coloraxis": "coloraxis",
           "geo": "geo",
           "hovertemplate": "Ladder score=%{z}<br>Country name=%{location}<extra></extra>",
           "locationmode": "country names",
           "locations": [
            "New Zealand"
           ],
           "name": "",
           "type": "choropleth",
           "z": [
            7.277
           ]
          }
         ],
         "name": "7.277"
        },
        {
         "data": [
          {
           "coloraxis": "coloraxis",
           "geo": "geo",
           "hovertemplate": "Ladder score=%{z}<br>Country name=%{location}<extra></extra>",
           "locationmode": "country names",
           "locations": [
            "Austria"
           ],
           "name": "",
           "type": "choropleth",
           "z": [
            7.268
           ]
          }
         ],
         "name": "7.268"
        },
        {
         "data": [
          {
           "coloraxis": "coloraxis",
           "geo": "geo",
           "hovertemplate": "Ladder score=%{z}<br>Country name=%{location}<extra></extra>",
           "locationmode": "country names",
           "locations": [
            "Australia"
           ],
           "name": "",
           "type": "choropleth",
           "z": [
            7.183
           ]
          }
         ],
         "name": "7.183"
        },
        {
         "data": [
          {
           "coloraxis": "coloraxis",
           "geo": "geo",
           "hovertemplate": "Ladder score=%{z}<br>Country name=%{location}<extra></extra>",
           "locationmode": "country names",
           "locations": [
            "Israel"
           ],
           "name": "",
           "type": "choropleth",
           "z": [
            7.157
           ]
          }
         ],
         "name": "7.157"
        },
        {
         "data": [
          {
           "coloraxis": "coloraxis",
           "geo": "geo",
           "hovertemplate": "Ladder score=%{z}<br>Country name=%{location}<extra></extra>",
           "locationmode": "country names",
           "locations": [
            "Germany"
           ],
           "name": "",
           "type": "choropleth",
           "z": [
            7.155
           ]
          }
         ],
         "name": "7.155"
        },
        {
         "data": [
          {
           "coloraxis": "coloraxis",
           "geo": "geo",
           "hovertemplate": "Ladder score=%{z}<br>Country name=%{location}<extra></extra>",
           "locationmode": "country names",
           "locations": [
            "Canada"
           ],
           "name": "",
           "type": "choropleth",
           "z": [
            7.103
           ]
          }
         ],
         "name": "7.103"
        },
        {
         "data": [
          {
           "coloraxis": "coloraxis",
           "geo": "geo",
           "hovertemplate": "Ladder score=%{z}<br>Country name=%{location}<extra></extra>",
           "locationmode": "country names",
           "locations": [
            "Ireland"
           ],
           "name": "",
           "type": "choropleth",
           "z": [
            7.085
           ]
          }
         ],
         "name": "7.085"
        },
        {
         "data": [
          {
           "coloraxis": "coloraxis",
           "geo": "geo",
           "hovertemplate": "Ladder score=%{z}<br>Country name=%{location}<extra></extra>",
           "locationmode": "country names",
           "locations": [
            "Costa Rica"
           ],
           "name": "",
           "type": "choropleth",
           "z": [
            7.069
           ]
          }
         ],
         "name": "7.069"
        },
        {
         "data": [
          {
           "coloraxis": "coloraxis",
           "geo": "geo",
           "hovertemplate": "Ladder score=%{z}<br>Country name=%{location}<extra></extra>",
           "locationmode": "country names",
           "locations": [
            "United Kingdom"
           ],
           "name": "",
           "type": "choropleth",
           "z": [
            7.064
           ]
          }
         ],
         "name": "7.064"
        },
        {
         "data": [
          {
           "coloraxis": "coloraxis",
           "geo": "geo",
           "hovertemplate": "Ladder score=%{z}<br>Country name=%{location}<extra></extra>",
           "locationmode": "country names",
           "locations": [
            "Czech Republic"
           ],
           "name": "",
           "type": "choropleth",
           "z": [
            6.965
           ]
          }
         ],
         "name": "6.965"
        },
        {
         "data": [
          {
           "coloraxis": "coloraxis",
           "geo": "geo",
           "hovertemplate": "Ladder score=%{z}<br>Country name=%{location}<extra></extra>",
           "locationmode": "country names",
           "locations": [
            "United States"
           ],
           "name": "",
           "type": "choropleth",
           "z": [
            6.951
           ]
          }
         ],
         "name": "6.951"
        },
        {
         "data": [
          {
           "coloraxis": "coloraxis",
           "geo": "geo",
           "hovertemplate": "Ladder score=%{z}<br>Country name=%{location}<extra></extra>",
           "locationmode": "country names",
           "locations": [
            "Belgium"
           ],
           "name": "",
           "type": "choropleth",
           "z": [
            6.834
           ]
          }
         ],
         "name": "6.834"
        },
        {
         "data": [
          {
           "coloraxis": "coloraxis",
           "geo": "geo",
           "hovertemplate": "Ladder score=%{z}<br>Country name=%{location}<extra></extra>",
           "locationmode": "country names",
           "locations": [
            "France"
           ],
           "name": "",
           "type": "choropleth",
           "z": [
            6.69
           ]
          }
         ],
         "name": "6.69"
        },
        {
         "data": [
          {
           "coloraxis": "coloraxis",
           "geo": "geo",
           "hovertemplate": "Ladder score=%{z}<br>Country name=%{location}<extra></extra>",
           "locationmode": "country names",
           "locations": [
            "Bahrain"
           ],
           "name": "",
           "type": "choropleth",
           "z": [
            6.647
           ]
          }
         ],
         "name": "6.647"
        },
        {
         "data": [
          {
           "coloraxis": "coloraxis",
           "geo": "geo",
           "hovertemplate": "Ladder score=%{z}<br>Country name=%{location}<extra></extra>",
           "locationmode": "country names",
           "locations": [
            "Malta"
           ],
           "name": "",
           "type": "choropleth",
           "z": [
            6.602
           ]
          }
         ],
         "name": "6.602"
        },
        {
         "data": [
          {
           "coloraxis": "coloraxis",
           "geo": "geo",
           "hovertemplate": "Ladder score=%{z}<br>Country name=%{location}<extra></extra>",
           "locationmode": "country names",
           "locations": [
            "Taiwan Province of China"
           ],
           "name": "",
           "type": "choropleth",
           "z": [
            6.584
           ]
          }
         ],
         "name": "6.584"
        },
        {
         "data": [
          {
           "coloraxis": "coloraxis",
           "geo": "geo",
           "hovertemplate": "Ladder score=%{z}<br>Country name=%{location}<extra></extra>",
           "locationmode": "country names",
           "locations": [
            "United Arab Emirates"
           ],
           "name": "",
           "type": "choropleth",
           "z": [
            6.561
           ]
          }
         ],
         "name": "6.561"
        },
        {
         "data": [
          {
           "coloraxis": "coloraxis",
           "geo": "geo",
           "hovertemplate": "Ladder score=%{z}<br>Country name=%{location}<extra></extra>",
           "locationmode": "country names",
           "locations": [
            "Saudi Arabia"
           ],
           "name": "",
           "type": "choropleth",
           "z": [
            6.494
           ]
          }
         ],
         "name": "6.494"
        },
        {
         "data": [
          {
           "coloraxis": "coloraxis",
           "geo": "geo",
           "hovertemplate": "Ladder score=%{z}<br>Country name=%{location}<extra></extra>",
           "locationmode": "country names",
           "locations": [
            "Spain"
           ],
           "name": "",
           "type": "choropleth",
           "z": [
            6.491
           ]
          }
         ],
         "name": "6.491"
        },
        {
         "data": [
          {
           "coloraxis": "coloraxis",
           "geo": "geo",
           "hovertemplate": "Ladder score=%{z}<br>Country name=%{location}<extra></extra>",
           "locationmode": "country names",
           "locations": [
            "Italy"
           ],
           "name": "",
           "type": "choropleth",
           "z": [
            6.483
           ]
          }
         ],
         "name": "6.483"
        },
        {
         "data": [
          {
           "coloraxis": "coloraxis",
           "geo": "geo",
           "hovertemplate": "Ladder score=%{z}<br>Country name=%{location}<extra></extra>",
           "locationmode": "country names",
           "locations": [
            "Slovenia"
           ],
           "name": "",
           "type": "choropleth",
           "z": [
            6.461
           ]
          }
         ],
         "name": "6.461"
        },
        {
         "data": [
          {
           "coloraxis": "coloraxis",
           "geo": "geo",
           "hovertemplate": "Ladder score=%{z}<br>Country name=%{location}<extra></extra>",
           "locationmode": "country names",
           "locations": [
            "Guatemala"
           ],
           "name": "",
           "type": "choropleth",
           "z": [
            6.435
           ]
          }
         ],
         "name": "6.435"
        },
        {
         "data": [
          {
           "coloraxis": "coloraxis",
           "geo": "geo",
           "hovertemplate": "Ladder score=%{z}<br>Country name=%{location}<extra></extra>",
           "locationmode": "country names",
           "locations": [
            "Uruguay"
           ],
           "name": "",
           "type": "choropleth",
           "z": [
            6.431
           ]
          }
         ],
         "name": "6.431"
        },
        {
         "data": [
          {
           "coloraxis": "coloraxis",
           "geo": "geo",
           "hovertemplate": "Ladder score=%{z}<br>Country name=%{location}<extra></extra>",
           "locationmode": "country names",
           "locations": [
            "Singapore"
           ],
           "name": "",
           "type": "choropleth",
           "z": [
            6.377
           ]
          }
         ],
         "name": "6.377"
        },
        {
         "data": [
          {
           "coloraxis": "coloraxis",
           "geo": "geo",
           "hovertemplate": "Ladder score=%{z}<br>Country name=%{location}<extra></extra>",
           "locationmode": "country names",
           "locations": [
            "Kosovo"
           ],
           "name": "",
           "type": "choropleth",
           "z": [
            6.372
           ]
          }
         ],
         "name": "6.372"
        },
        {
         "data": [
          {
           "coloraxis": "coloraxis",
           "geo": "geo",
           "hovertemplate": "Ladder score=%{z}<br>Country name=%{location}<extra></extra>",
           "locationmode": "country names",
           "locations": [
            "Slovakia"
           ],
           "name": "",
           "type": "choropleth",
           "z": [
            6.331
           ]
          }
         ],
         "name": "6.331"
        },
        {
         "data": [
          {
           "coloraxis": "coloraxis",
           "geo": "geo",
           "hovertemplate": "Ladder score=%{z}<br>Country name=%{location}<extra></extra>",
           "locationmode": "country names",
           "locations": [
            "Brazil"
           ],
           "name": "",
           "type": "choropleth",
           "z": [
            6.33
           ]
          }
         ],
         "name": "6.33"
        },
        {
         "data": [
          {
           "coloraxis": "coloraxis",
           "geo": "geo",
           "hovertemplate": "Ladder score=%{z}<br>Country name=%{location}<extra></extra>",
           "locationmode": "country names",
           "locations": [
            "Mexico"
           ],
           "name": "",
           "type": "choropleth",
           "z": [
            6.317
           ]
          }
         ],
         "name": "6.317"
        },
        {
         "data": [
          {
           "coloraxis": "coloraxis",
           "geo": "geo",
           "hovertemplate": "Ladder score=%{z}<br>Country name=%{location}<extra></extra>",
           "locationmode": "country names",
           "locations": [
            "Jamaica"
           ],
           "name": "",
           "type": "choropleth",
           "z": [
            6.309
           ]
          }
         ],
         "name": "6.309"
        },
        {
         "data": [
          {
           "coloraxis": "coloraxis",
           "geo": "geo",
           "hovertemplate": "Ladder score=%{z}<br>Country name=%{location}<extra></extra>",
           "locationmode": "country names",
           "locations": [
            "Lithuania"
           ],
           "name": "",
           "type": "choropleth",
           "z": [
            6.255
           ]
          }
         ],
         "name": "6.255"
        },
        {
         "data": [
          {
           "coloraxis": "coloraxis",
           "geo": "geo",
           "hovertemplate": "Ladder score=%{z}<br>Country name=%{location}<extra></extra>",
           "locationmode": "country names",
           "locations": [
            "Cyprus"
           ],
           "name": "",
           "type": "choropleth",
           "z": [
            6.223
           ]
          }
         ],
         "name": "6.223"
        },
        {
         "data": [
          {
           "coloraxis": "coloraxis",
           "geo": "geo",
           "hovertemplate": "Ladder score=%{z}<br>Country name=%{location}<extra></extra>",
           "locationmode": "country names",
           "locations": [
            "Estonia"
           ],
           "name": "",
           "type": "choropleth",
           "z": [
            6.189
           ]
          }
         ],
         "name": "6.189"
        },
        {
         "data": [
          {
           "coloraxis": "coloraxis",
           "geo": "geo",
           "hovertemplate": "Ladder score=%{z}<br>Country name=%{location}<extra></extra>",
           "locationmode": "country names",
           "locations": [
            "Panama"
           ],
           "name": "",
           "type": "choropleth",
           "z": [
            6.18
           ]
          }
         ],
         "name": "6.18"
        },
        {
         "data": [
          {
           "coloraxis": "coloraxis",
           "geo": "geo",
           "hovertemplate": "Ladder score=%{z}<br>Country name=%{location}<extra></extra>",
           "locationmode": "country names",
           "locations": [
            "Uzbekistan"
           ],
           "name": "",
           "type": "choropleth",
           "z": [
            6.179
           ]
          }
         ],
         "name": "6.179"
        },
        {
         "data": [
          {
           "coloraxis": "coloraxis",
           "geo": "geo",
           "hovertemplate": "Ladder score=%{z}<br>Country name=%{location}<extra></extra>",
           "locationmode": "country names",
           "locations": [
            "Chile"
           ],
           "name": "",
           "type": "choropleth",
           "z": [
            6.172
           ]
          }
         ],
         "name": "6.172"
        },
        {
         "data": [
          {
           "coloraxis": "coloraxis",
           "geo": "geo",
           "hovertemplate": "Ladder score=%{z}<br>Country name=%{location}<extra></extra>",
           "locationmode": "country names",
           "locations": [
            "Poland"
           ],
           "name": "",
           "type": "choropleth",
           "z": [
            6.166
           ]
          }
         ],
         "name": "6.166"
        },
        {
         "data": [
          {
           "coloraxis": "coloraxis",
           "geo": "geo",
           "hovertemplate": "Ladder score=%{z}<br>Country name=%{location}<extra></extra>",
           "locationmode": "country names",
           "locations": [
            "Kazakhstan"
           ],
           "name": "",
           "type": "choropleth",
           "z": [
            6.152
           ]
          }
         ],
         "name": "6.152"
        },
        {
         "data": [
          {
           "coloraxis": "coloraxis",
           "geo": "geo",
           "hovertemplate": "Ladder score=%{z}<br>Country name=%{location}<extra></extra>",
           "locationmode": "country names",
           "locations": [
            "Romania"
           ],
           "name": "",
           "type": "choropleth",
           "z": [
            6.14
           ]
          }
         ],
         "name": "6.14"
        },
        {
         "data": [
          {
           "coloraxis": "coloraxis",
           "geo": "geo",
           "hovertemplate": "Ladder score=%{z}<br>Country name=%{location}<extra></extra>",
           "locationmode": "country names",
           "locations": [
            "Kuwait"
           ],
           "name": "",
           "type": "choropleth",
           "z": [
            6.106
           ]
          }
         ],
         "name": "6.106"
        },
        {
         "data": [
          {
           "coloraxis": "coloraxis",
           "geo": "geo",
           "hovertemplate": "Ladder score=%{z}<br>Country name=%{location}<extra></extra>",
           "locationmode": "country names",
           "locations": [
            "Serbia"
           ],
           "name": "",
           "type": "choropleth",
           "z": [
            6.078
           ]
          }
         ],
         "name": "6.078"
        },
        {
         "data": [
          {
           "coloraxis": "coloraxis",
           "geo": "geo",
           "hovertemplate": "Ladder score=%{z}<br>Country name=%{location}<extra></extra>",
           "locationmode": "country names",
           "locations": [
            "El Salvador"
           ],
           "name": "",
           "type": "choropleth",
           "z": [
            6.061
           ]
          }
         ],
         "name": "6.061"
        },
        {
         "data": [
          {
           "coloraxis": "coloraxis",
           "geo": "geo",
           "hovertemplate": "Ladder score=%{z}<br>Country name=%{location}<extra></extra>",
           "locationmode": "country names",
           "locations": [
            "Mauritius"
           ],
           "name": "",
           "type": "choropleth",
           "z": [
            6.049
           ]
          }
         ],
         "name": "6.049"
        },
        {
         "data": [
          {
           "coloraxis": "coloraxis",
           "geo": "geo",
           "hovertemplate": "Ladder score=%{z}<br>Country name=%{location}<extra></extra>",
           "locationmode": "country names",
           "locations": [
            "Latvia"
           ],
           "name": "",
           "type": "choropleth",
           "z": [
            6.032
           ]
          }
         ],
         "name": "6.032"
        },
        {
         "data": [
          {
           "coloraxis": "coloraxis",
           "geo": "geo",
           "hovertemplate": "Ladder score=%{z}<br>Country name=%{location}<extra></extra>",
           "locationmode": "country names",
           "locations": [
            "Colombia"
           ],
           "name": "",
           "type": "choropleth",
           "z": [
            6.012
           ]
          }
         ],
         "name": "6.012"
        },
        {
         "data": [
          {
           "coloraxis": "coloraxis",
           "geo": "geo",
           "hovertemplate": "Ladder score=%{z}<br>Country name=%{location}<extra></extra>",
           "locationmode": "country names",
           "locations": [
            "Hungary"
           ],
           "name": "",
           "type": "choropleth",
           "z": [
            5.992
           ]
          }
         ],
         "name": "5.992"
        },
        {
         "data": [
          {
           "coloraxis": "coloraxis",
           "geo": "geo",
           "hovertemplate": "Ladder score=%{z}<br>Country name=%{location}<extra></extra>",
           "locationmode": "country names",
           "locations": [
            "Thailand"
           ],
           "name": "",
           "type": "choropleth",
           "z": [
            5.985
           ]
          }
         ],
         "name": "5.985"
        },
        {
         "data": [
          {
           "coloraxis": "coloraxis",
           "geo": "geo",
           "hovertemplate": "Ladder score=%{z}<br>Country name=%{location}<extra></extra>",
           "locationmode": "country names",
           "locations": [
            "Nicaragua"
           ],
           "name": "",
           "type": "choropleth",
           "z": [
            5.972
           ]
          }
         ],
         "name": "5.972"
        },
        {
         "data": [
          {
           "coloraxis": "coloraxis",
           "geo": "geo",
           "hovertemplate": "Ladder score=%{z}<br>Country name=%{location}<extra></extra>",
           "locationmode": "country names",
           "locations": [
            "Japan"
           ],
           "name": "",
           "type": "choropleth",
           "z": [
            5.94
           ]
          }
         ],
         "name": "5.94"
        },
        {
         "data": [
          {
           "coloraxis": "coloraxis",
           "geo": "geo",
           "hovertemplate": "Ladder score=%{z}<br>Country name=%{location}<extra></extra>",
           "locationmode": "country names",
           "locations": [
            "Argentina",
            "Portugal"
           ],
           "name": "",
           "type": "choropleth",
           "z": [
            5.929,
            5.929
           ]
          }
         ],
         "name": "5.929"
        },
        {
         "data": [
          {
           "coloraxis": "coloraxis",
           "geo": "geo",
           "hovertemplate": "Ladder score=%{z}<br>Country name=%{location}<extra></extra>",
           "locationmode": "country names",
           "locations": [
            "Honduras"
           ],
           "name": "",
           "type": "choropleth",
           "z": [
            5.919
           ]
          }
         ],
         "name": "5.919"
        },
        {
         "data": [
          {
           "coloraxis": "coloraxis",
           "geo": "geo",
           "hovertemplate": "Ladder score=%{z}<br>Country name=%{location}<extra></extra>",
           "locationmode": "country names",
           "locations": [
            "Croatia"
           ],
           "name": "",
           "type": "choropleth",
           "z": [
            5.882
           ]
          }
         ],
         "name": "5.882"
        },
        {
         "data": [
          {
           "coloraxis": "coloraxis",
           "geo": "geo",
           "hovertemplate": "Ladder score=%{z}<br>Country name=%{location}<extra></extra>",
           "locationmode": "country names",
           "locations": [
            "Philippines"
           ],
           "name": "",
           "type": "choropleth",
           "z": [
            5.88
           ]
          }
         ],
         "name": "5.88"
        },
        {
         "data": [
          {
           "coloraxis": "coloraxis",
           "geo": "geo",
           "hovertemplate": "Ladder score=%{z}<br>Country name=%{location}<extra></extra>",
           "locationmode": "country names",
           "locations": [
            "South Korea"
           ],
           "name": "",
           "type": "choropleth",
           "z": [
            5.845
           ]
          }
         ],
         "name": "5.845"
        },
        {
         "data": [
          {
           "coloraxis": "coloraxis",
           "geo": "geo",
           "hovertemplate": "Ladder score=%{z}<br>Country name=%{location}<extra></extra>",
           "locationmode": "country names",
           "locations": [
            "Peru"
           ],
           "name": "",
           "type": "choropleth",
           "z": [
            5.84
           ]
          }
         ],
         "name": "5.84"
        },
        {
         "data": [
          {
           "coloraxis": "coloraxis",
           "geo": "geo",
           "hovertemplate": "Ladder score=%{z}<br>Country name=%{location}<extra></extra>",
           "locationmode": "country names",
           "locations": [
            "Bosnia and Herzegovina"
           ],
           "name": "",
           "type": "choropleth",
           "z": [
            5.813
           ]
          }
         ],
         "name": "5.813"
        },
        {
         "data": [
          {
           "coloraxis": "coloraxis",
           "geo": "geo",
           "hovertemplate": "Ladder score=%{z}<br>Country name=%{location}<extra></extra>",
           "locationmode": "country names",
           "locations": [
            "Moldova"
           ],
           "name": "",
           "type": "choropleth",
           "z": [
            5.766
           ]
          }
         ],
         "name": "5.766"
        },
        {
         "data": [
          {
           "coloraxis": "coloraxis",
           "geo": "geo",
           "hovertemplate": "Ladder score=%{z}<br>Country name=%{location}<extra></extra>",
           "locationmode": "country names",
           "locations": [
            "Ecuador"
           ],
           "name": "",
           "type": "choropleth",
           "z": [
            5.764
           ]
          }
         ],
         "name": "5.764"
        },
        {
         "data": [
          {
           "coloraxis": "coloraxis",
           "geo": "geo",
           "hovertemplate": "Ladder score=%{z}<br>Country name=%{location}<extra></extra>",
           "locationmode": "country names",
           "locations": [
            "Kyrgyzstan"
           ],
           "name": "",
           "type": "choropleth",
           "z": [
            5.744
           ]
          }
         ],
         "name": "5.744"
        },
        {
         "data": [
          {
           "coloraxis": "coloraxis",
           "geo": "geo",
           "hovertemplate": "Ladder score=%{z}<br>Country name=%{location}<extra></extra>",
           "locationmode": "country names",
           "locations": [
            "Greece"
           ],
           "name": "",
           "type": "choropleth",
           "z": [
            5.723
           ]
          }
         ],
         "name": "5.723"
        },
        {
         "data": [
          {
           "coloraxis": "coloraxis",
           "geo": "geo",
           "hovertemplate": "Ladder score=%{z}<br>Country name=%{location}<extra></extra>",
           "locationmode": "country names",
           "locations": [
            "Bolivia"
           ],
           "name": "",
           "type": "choropleth",
           "z": [
            5.716
           ]
          }
         ],
         "name": "5.716"
        },
        {
         "data": [
          {
           "coloraxis": "coloraxis",
           "geo": "geo",
           "hovertemplate": "Ladder score=%{z}<br>Country name=%{location}<extra></extra>",
           "locationmode": "country names",
           "locations": [
            "Mongolia"
           ],
           "name": "",
           "type": "choropleth",
           "z": [
            5.677
           ]
          }
         ],
         "name": "5.677"
        },
        {
         "data": [
          {
           "coloraxis": "coloraxis",
           "geo": "geo",
           "hovertemplate": "Ladder score=%{z}<br>Country name=%{location}<extra></extra>",
           "locationmode": "country names",
           "locations": [
            "Paraguay"
           ],
           "name": "",
           "type": "choropleth",
           "z": [
            5.653
           ]
          }
         ],
         "name": "5.653"
        },
        {
         "data": [
          {
           "coloraxis": "coloraxis",
           "geo": "geo",
           "hovertemplate": "Ladder score=%{z}<br>Country name=%{location}<extra></extra>",
           "locationmode": "country names",
           "locations": [
            "Montenegro"
           ],
           "name": "",
           "type": "choropleth",
           "z": [
            5.581
           ]
          }
         ],
         "name": "5.581"
        },
        {
         "data": [
          {
           "coloraxis": "coloraxis",
           "geo": "geo",
           "hovertemplate": "Ladder score=%{z}<br>Country name=%{location}<extra></extra>",
           "locationmode": "country names",
           "locations": [
            "Dominican Republic"
           ],
           "name": "",
           "type": "choropleth",
           "z": [
            5.545
           ]
          }
         ],
         "name": "5.545"
        },
        {
         "data": [
          {
           "coloraxis": "coloraxis",
           "geo": "geo",
           "hovertemplate": "Ladder score=%{z}<br>Country name=%{location}<extra></extra>",
           "locationmode": "country names",
           "locations": [
            "North Cyprus"
           ],
           "name": "",
           "type": "choropleth",
           "z": [
            5.536
           ]
          }
         ],
         "name": "5.536"
        },
        {
         "data": [
          {
           "coloraxis": "coloraxis",
           "geo": "geo",
           "hovertemplate": "Ladder score=%{z}<br>Country name=%{location}<extra></extra>",
           "locationmode": "country names",
           "locations": [
            "Belarus"
           ],
           "name": "",
           "type": "choropleth",
           "z": [
            5.534
           ]
          }
         ],
         "name": "5.534"
        },
        {
         "data": [
          {
           "coloraxis": "coloraxis",
           "geo": "geo",
           "hovertemplate": "Ladder score=%{z}<br>Country name=%{location}<extra></extra>",
           "locationmode": "country names",
           "locations": [
            "Russia",
            "Hong Kong S.A.R. of China"
           ],
           "name": "",
           "type": "choropleth",
           "z": [
            5.477,
            5.477
           ]
          }
         ],
         "name": "5.477"
        },
        {
         "data": [
          {
           "coloraxis": "coloraxis",
           "geo": "geo",
           "hovertemplate": "Ladder score=%{z}<br>Country name=%{location}<extra></extra>",
           "locationmode": "country names",
           "locations": [
            "Tajikistan"
           ],
           "name": "",
           "type": "choropleth",
           "z": [
            5.466
           ]
          }
         ],
         "name": "5.466"
        },
        {
         "data": [
          {
           "coloraxis": "coloraxis",
           "geo": "geo",
           "hovertemplate": "Ladder score=%{z}<br>Country name=%{location}<extra></extra>",
           "locationmode": "country names",
           "locations": [
            "Vietnam"
           ],
           "name": "",
           "type": "choropleth",
           "z": [
            5.411
           ]
          }
         ],
         "name": "5.411"
        },
        {
         "data": [
          {
           "coloraxis": "coloraxis",
           "geo": "geo",
           "hovertemplate": "Ladder score=%{z}<br>Country name=%{location}<extra></extra>",
           "locationmode": "country names",
           "locations": [
            "Libya"
           ],
           "name": "",
           "type": "choropleth",
           "z": [
            5.41
           ]
          }
         ],
         "name": "5.41"
        },
        {
         "data": [
          {
           "coloraxis": "coloraxis",
           "geo": "geo",
           "hovertemplate": "Ladder score=%{z}<br>Country name=%{location}<extra></extra>",
           "locationmode": "country names",
           "locations": [
            "Malaysia"
           ],
           "name": "",
           "type": "choropleth",
           "z": [
            5.384
           ]
          }
         ],
         "name": "5.384"
        },
        {
         "data": [
          {
           "coloraxis": "coloraxis",
           "geo": "geo",
           "hovertemplate": "Ladder score=%{z}<br>Country name=%{location}<extra></extra>",
           "locationmode": "country names",
           "locations": [
            "Indonesia"
           ],
           "name": "",
           "type": "choropleth",
           "z": [
            5.345
           ]
          }
         ],
         "name": "5.345"
        },
        {
         "data": [
          {
           "coloraxis": "coloraxis",
           "geo": "geo",
           "hovertemplate": "Ladder score=%{z}<br>Country name=%{location}<extra></extra>",
           "locationmode": "country names",
           "locations": [
            "Congo (Brazzaville)"
           ],
           "name": "",
           "type": "choropleth",
           "z": [
            5.342
           ]
          }
         ],
         "name": "5.342"
        },
        {
         "data": [
          {
           "coloraxis": "coloraxis",
           "geo": "geo",
           "hovertemplate": "Ladder score=%{z}<br>Country name=%{location}<extra></extra>",
           "locationmode": "country names",
           "locations": [
            "China"
           ],
           "name": "",
           "type": "choropleth",
           "z": [
            5.339
           ]
          }
         ],
         "name": "5.339"
        },
        {
         "data": [
          {
           "coloraxis": "coloraxis",
           "geo": "geo",
           "hovertemplate": "Ladder score=%{z}<br>Country name=%{location}<extra></extra>",
           "locationmode": "country names",
           "locations": [
            "Ivory Coast"
           ],
           "name": "",
           "type": "choropleth",
           "z": [
            5.306
           ]
          }
         ],
         "name": "5.306"
        },
        {
         "data": [
          {
           "coloraxis": "coloraxis",
           "geo": "geo",
           "hovertemplate": "Ladder score=%{z}<br>Country name=%{location}<extra></extra>",
           "locationmode": "country names",
           "locations": [
            "Armenia"
           ],
           "name": "",
           "type": "choropleth",
           "z": [
            5.283
           ]
          }
         ],
         "name": "5.283"
        },
        {
         "data": [
          {
           "coloraxis": "coloraxis",
           "geo": "geo",
           "hovertemplate": "Ladder score=%{z}<br>Country name=%{location}<extra></extra>",
           "locationmode": "country names",
           "locations": [
            "Nepal"
           ],
           "name": "",
           "type": "choropleth",
           "z": [
            5.269
           ]
          }
         ],
         "name": "5.269"
        },
        {
         "data": [
          {
           "coloraxis": "coloraxis",
           "geo": "geo",
           "hovertemplate": "Ladder score=%{z}<br>Country name=%{location}<extra></extra>",
           "locationmode": "country names",
           "locations": [
            "Bulgaria"
           ],
           "name": "",
           "type": "choropleth",
           "z": [
            5.266
           ]
          }
         ],
         "name": "5.266"
        },
        {
         "data": [
          {
           "coloraxis": "coloraxis",
           "geo": "geo",
           "hovertemplate": "Ladder score=%{z}<br>Country name=%{location}<extra></extra>",
           "locationmode": "country names",
           "locations": [
            "Maldives"
           ],
           "name": "",
           "type": "choropleth",
           "z": [
            5.198
           ]
          }
         ],
         "name": "5.198"
        },
        {
         "data": [
          {
           "coloraxis": "coloraxis",
           "geo": "geo",
           "hovertemplate": "Ladder score=%{z}<br>Country name=%{location}<extra></extra>",
           "locationmode": "country names",
           "locations": [
            "Azerbaijan"
           ],
           "name": "",
           "type": "choropleth",
           "z": [
            5.171
           ]
          }
         ],
         "name": "5.171"
        },
        {
         "data": [
          {
           "coloraxis": "coloraxis",
           "geo": "geo",
           "hovertemplate": "Ladder score=%{z}<br>Country name=%{location}<extra></extra>",
           "locationmode": "country names",
           "locations": [
            "Cameroon"
           ],
           "name": "",
           "type": "choropleth",
           "z": [
            5.142
           ]
          }
         ],
         "name": "5.142"
        },
        {
         "data": [
          {
           "coloraxis": "coloraxis",
           "geo": "geo",
           "hovertemplate": "Ladder score=%{z}<br>Country name=%{location}<extra></extra>",
           "locationmode": "country names",
           "locations": [
            "Senegal"
           ],
           "name": "",
           "type": "choropleth",
           "z": [
            5.132
           ]
          }
         ],
         "name": "5.132"
        },
        {
         "data": [
          {
           "coloraxis": "coloraxis",
           "geo": "geo",
           "hovertemplate": "Ladder score=%{z}<br>Country name=%{location}<extra></extra>",
           "locationmode": "country names",
           "locations": [
            "Albania"
           ],
           "name": "",
           "type": "choropleth",
           "z": [
            5.117
           ]
          }
         ],
         "name": "5.117"
        },
        {
         "data": [
          {
           "coloraxis": "coloraxis",
           "geo": "geo",
           "hovertemplate": "Ladder score=%{z}<br>Country name=%{location}<extra></extra>",
           "locationmode": "country names",
           "locations": [
            "North Macedonia"
           ],
           "name": "",
           "type": "choropleth",
           "z": [
            5.101
           ]
          }
         ],
         "name": "5.101"
        },
        {
         "data": [
          {
           "coloraxis": "coloraxis",
           "geo": "geo",
           "hovertemplate": "Ladder score=%{z}<br>Country name=%{location}<extra></extra>",
           "locationmode": "country names",
           "locations": [
            "Ghana"
           ],
           "name": "",
           "type": "choropleth",
           "z": [
            5.088
           ]
          }
         ],
         "name": "5.088"
        },
        {
         "data": [
          {
           "coloraxis": "coloraxis",
           "geo": "geo",
           "hovertemplate": "Ladder score=%{z}<br>Country name=%{location}<extra></extra>",
           "locationmode": "country names",
           "locations": [
            "Niger"
           ],
           "name": "",
           "type": "choropleth",
           "z": [
            5.074
           ]
          }
         ],
         "name": "5.074"
        },
        {
         "data": [
          {
           "coloraxis": "coloraxis",
           "geo": "geo",
           "hovertemplate": "Ladder score=%{z}<br>Country name=%{location}<extra></extra>",
           "locationmode": "country names",
           "locations": [
            "Turkmenistan"
           ],
           "name": "",
           "type": "choropleth",
           "z": [
            5.066
           ]
          }
         ],
         "name": "5.066"
        },
        {
         "data": [
          {
           "coloraxis": "coloraxis",
           "geo": "geo",
           "hovertemplate": "Ladder score=%{z}<br>Country name=%{location}<extra></extra>",
           "locationmode": "country names",
           "locations": [
            "Gambia"
           ],
           "name": "",
           "type": "choropleth",
           "z": [
            5.051
           ]
          }
         ],
         "name": "5.051"
        },
        {
         "data": [
          {
           "coloraxis": "coloraxis",
           "geo": "geo",
           "hovertemplate": "Ladder score=%{z}<br>Country name=%{location}<extra></extra>",
           "locationmode": "country names",
           "locations": [
            "Benin"
           ],
           "name": "",
           "type": "choropleth",
           "z": [
            5.045
           ]
          }
         ],
         "name": "5.045"
        },
        {
         "data": [
          {
           "coloraxis": "coloraxis",
           "geo": "geo",
           "hovertemplate": "Ladder score=%{z}<br>Country name=%{location}<extra></extra>",
           "locationmode": "country names",
           "locations": [
            "Laos"
           ],
           "name": "",
           "type": "choropleth",
           "z": [
            5.03
           ]
          }
         ],
         "name": "5.03"
        },
        {
         "data": [
          {
           "coloraxis": "coloraxis",
           "geo": "geo",
           "hovertemplate": "Ladder score=%{z}<br>Country name=%{location}<extra></extra>",
           "locationmode": "country names",
           "locations": [
            "Bangladesh"
           ],
           "name": "",
           "type": "choropleth",
           "z": [
            5.025
           ]
          }
         ],
         "name": "5.025"
        },
        {
         "data": [
          {
           "coloraxis": "coloraxis",
           "geo": "geo",
           "hovertemplate": "Ladder score=%{z}<br>Country name=%{location}<extra></extra>",
           "locationmode": "country names",
           "locations": [
            "Guinea"
           ],
           "name": "",
           "type": "choropleth",
           "z": [
            4.984
           ]
          }
         ],
         "name": "4.984"
        },
        {
         "data": [
          {
           "coloraxis": "coloraxis",
           "geo": "geo",
           "hovertemplate": "Ladder score=%{z}<br>Country name=%{location}<extra></extra>",
           "locationmode": "country names",
           "locations": [
            "South Africa"
           ],
           "name": "",
           "type": "choropleth",
           "z": [
            4.956
           ]
          }
         ],
         "name": "4.956"
        },
        {
         "data": [
          {
           "coloraxis": "coloraxis",
           "geo": "geo",
           "hovertemplate": "Ladder score=%{z}<br>Country name=%{location}<extra></extra>",
           "locationmode": "country names",
           "locations": [
            "Turkey"
           ],
           "name": "",
           "type": "choropleth",
           "z": [
            4.948
           ]
          }
         ],
         "name": "4.948"
        },
        {
         "data": [
          {
           "coloraxis": "coloraxis",
           "geo": "geo",
           "hovertemplate": "Ladder score=%{z}<br>Country name=%{location}<extra></extra>",
           "locationmode": "country names",
           "locations": [
            "Pakistan"
           ],
           "name": "",
           "type": "choropleth",
           "z": [
            4.934
           ]
          }
         ],
         "name": "4.934"
        },
        {
         "data": [
          {
           "coloraxis": "coloraxis",
           "geo": "geo",
           "hovertemplate": "Ladder score=%{z}<br>Country name=%{location}<extra></extra>",
           "locationmode": "country names",
           "locations": [
            "Morocco"
           ],
           "name": "",
           "type": "choropleth",
           "z": [
            4.918
           ]
          }
         ],
         "name": "4.918"
        },
        {
         "data": [
          {
           "coloraxis": "coloraxis",
           "geo": "geo",
           "hovertemplate": "Ladder score=%{z}<br>Country name=%{location}<extra></extra>",
           "locationmode": "country names",
           "locations": [
            "Venezuela"
           ],
           "name": "",
           "type": "choropleth",
           "z": [
            4.892
           ]
          }
         ],
         "name": "4.892"
        },
        {
         "data": [
          {
           "coloraxis": "coloraxis",
           "geo": "geo",
           "hovertemplate": "Ladder score=%{z}<br>Country name=%{location}<extra></extra>",
           "locationmode": "country names",
           "locations": [
            "Georgia"
           ],
           "name": "",
           "type": "choropleth",
           "z": [
            4.891
           ]
          }
         ],
         "name": "4.891"
        },
        {
         "data": [
          {
           "coloraxis": "coloraxis",
           "geo": "geo",
           "hovertemplate": "Ladder score=%{z}<br>Country name=%{location}<extra></extra>",
           "locationmode": "country names",
           "locations": [
            "Algeria"
           ],
           "name": "",
           "type": "choropleth",
           "z": [
            4.887
           ]
          }
         ],
         "name": "4.887"
        },
        {
         "data": [
          {
           "coloraxis": "coloraxis",
           "geo": "geo",
           "hovertemplate": "Ladder score=%{z}<br>Country name=%{location}<extra></extra>",
           "locationmode": "country names",
           "locations": [
            "Ukraine"
           ],
           "name": "",
           "type": "choropleth",
           "z": [
            4.875
           ]
          }
         ],
         "name": "4.875"
        },
        {
         "data": [
          {
           "coloraxis": "coloraxis",
           "geo": "geo",
           "hovertemplate": "Ladder score=%{z}<br>Country name=%{location}<extra></extra>",
           "locationmode": "country names",
           "locations": [
            "Iraq"
           ],
           "name": "",
           "type": "choropleth",
           "z": [
            4.854
           ]
          }
         ],
         "name": "4.854"
        },
        {
         "data": [
          {
           "coloraxis": "coloraxis",
           "geo": "geo",
           "hovertemplate": "Ladder score=%{z}<br>Country name=%{location}<extra></extra>",
           "locationmode": "country names",
           "locations": [
            "Gabon"
           ],
           "name": "",
           "type": "choropleth",
           "z": [
            4.852
           ]
          }
         ],
         "name": "4.852"
        },
        {
         "data": [
          {
           "coloraxis": "coloraxis",
           "geo": "geo",
           "hovertemplate": "Ladder score=%{z}<br>Country name=%{location}<extra></extra>",
           "locationmode": "country names",
           "locations": [
            "Burkina Faso"
           ],
           "name": "",
           "type": "choropleth",
           "z": [
            4.834
           ]
          }
         ],
         "name": "4.834"
        },
        {
         "data": [
          {
           "coloraxis": "coloraxis",
           "geo": "geo",
           "hovertemplate": "Ladder score=%{z}<br>Country name=%{location}<extra></extra>",
           "locationmode": "country names",
           "locations": [
            "Cambodia"
           ],
           "name": "",
           "type": "choropleth",
           "z": [
            4.83
           ]
          }
         ],
         "name": "4.83"
        },
        {
         "data": [
          {
           "coloraxis": "coloraxis",
           "geo": "geo",
           "hovertemplate": "Ladder score=%{z}<br>Country name=%{location}<extra></extra>",
           "locationmode": "country names",
           "locations": [
            "Mozambique"
           ],
           "name": "",
           "type": "choropleth",
           "z": [
            4.794
           ]
          }
         ],
         "name": "4.794"
        },
        {
         "data": [
          {
           "coloraxis": "coloraxis",
           "geo": "geo",
           "hovertemplate": "Ladder score=%{z}<br>Country name=%{location}<extra></extra>",
           "locationmode": "country names",
           "locations": [
            "Nigeria"
           ],
           "name": "",
           "type": "choropleth",
           "z": [
            4.759
           ]
          }
         ],
         "name": "4.759"
        },
        {
         "data": [
          {
           "coloraxis": "coloraxis",
           "geo": "geo",
           "hovertemplate": "Ladder score=%{z}<br>Country name=%{location}<extra></extra>",
           "locationmode": "country names",
           "locations": [
            "Mali"
           ],
           "name": "",
           "type": "choropleth",
           "z": [
            4.723
           ]
          }
         ],
         "name": "4.723"
        },
        {
         "data": [
          {
           "coloraxis": "coloraxis",
           "geo": "geo",
           "hovertemplate": "Ladder score=%{z}<br>Country name=%{location}<extra></extra>",
           "locationmode": "country names",
           "locations": [
            "Iran"
           ],
           "name": "",
           "type": "choropleth",
           "z": [
            4.721
           ]
          }
         ],
         "name": "4.721"
        },
        {
         "data": [
          {
           "coloraxis": "coloraxis",
           "geo": "geo",
           "hovertemplate": "Ladder score=%{z}<br>Country name=%{location}<extra></extra>",
           "locationmode": "country names",
           "locations": [
            "Uganda"
           ],
           "name": "",
           "type": "choropleth",
           "z": [
            4.636
           ]
          }
         ],
         "name": "4.636"
        },
        {
         "data": [
          {
           "coloraxis": "coloraxis",
           "geo": "geo",
           "hovertemplate": "Ladder score=%{z}<br>Country name=%{location}<extra></extra>",
           "locationmode": "country names",
           "locations": [
            "Liberia"
           ],
           "name": "",
           "type": "choropleth",
           "z": [
            4.625
           ]
          }
         ],
         "name": "4.625"
        },
        {
         "data": [
          {
           "coloraxis": "coloraxis",
           "geo": "geo",
           "hovertemplate": "Ladder score=%{z}<br>Country name=%{location}<extra></extra>",
           "locationmode": "country names",
           "locations": [
            "Kenya"
           ],
           "name": "",
           "type": "choropleth",
           "z": [
            4.607
           ]
          }
         ],
         "name": "4.607"
        },
        {
         "data": [
          {
           "coloraxis": "coloraxis",
           "geo": "geo",
           "hovertemplate": "Ladder score=%{z}<br>Country name=%{location}<extra></extra>",
           "locationmode": "country names",
           "locations": [
            "Tunisia"
           ],
           "name": "",
           "type": "choropleth",
           "z": [
            4.596
           ]
          }
         ],
         "name": "4.596"
        },
        {
         "data": [
          {
           "coloraxis": "coloraxis",
           "geo": "geo",
           "hovertemplate": "Ladder score=%{z}<br>Country name=%{location}<extra></extra>",
           "locationmode": "country names",
           "locations": [
            "Lebanon"
           ],
           "name": "",
           "type": "choropleth",
           "z": [
            4.584
           ]
          }
         ],
         "name": "4.584"
        },
        {
         "data": [
          {
           "coloraxis": "coloraxis",
           "geo": "geo",
           "hovertemplate": "Ladder score=%{z}<br>Country name=%{location}<extra></extra>",
           "locationmode": "country names",
           "locations": [
            "Namibia"
           ],
           "name": "",
           "type": "choropleth",
           "z": [
            4.574
           ]
          }
         ],
         "name": "4.574"
        },
        {
         "data": [
          {
           "coloraxis": "coloraxis",
           "geo": "geo",
           "hovertemplate": "Ladder score=%{z}<br>Country name=%{location}<extra></extra>",
           "locationmode": "country names",
           "locations": [
            "Palestinian Territories"
           ],
           "name": "",
           "type": "choropleth",
           "z": [
            4.517
           ]
          }
         ],
         "name": "4.517"
        },
        {
         "data": [
          {
           "coloraxis": "coloraxis",
           "geo": "geo",
           "hovertemplate": "Ladder score=%{z}<br>Country name=%{location}<extra></extra>",
           "locationmode": "country names",
           "locations": [
            "Myanmar"
           ],
           "name": "",
           "type": "choropleth",
           "z": [
            4.426
           ]
          }
         ],
         "name": "4.426"
        },
        {
         "data": [
          {
           "coloraxis": "coloraxis",
           "geo": "geo",
           "hovertemplate": "Ladder score=%{z}<br>Country name=%{location}<extra></extra>",
           "locationmode": "country names",
           "locations": [
            "Jordan"
           ],
           "name": "",
           "type": "choropleth",
           "z": [
            4.395
           ]
          }
         ],
         "name": "4.395"
        },
        {
         "data": [
          {
           "coloraxis": "coloraxis",
           "geo": "geo",
           "hovertemplate": "Ladder score=%{z}<br>Country name=%{location}<extra></extra>",
           "locationmode": "country names",
           "locations": [
            "Chad"
           ],
           "name": "",
           "type": "choropleth",
           "z": [
            4.355
           ]
          }
         ],
         "name": "4.355"
        },
        {
         "data": [
          {
           "coloraxis": "coloraxis",
           "geo": "geo",
           "hovertemplate": "Ladder score=%{z}<br>Country name=%{location}<extra></extra>",
           "locationmode": "country names",
           "locations": [
            "Sri Lanka"
           ],
           "name": "",
           "type": "choropleth",
           "z": [
            4.325
           ]
          }
         ],
         "name": "4.325"
        },
        {
         "data": [
          {
           "coloraxis": "coloraxis",
           "geo": "geo",
           "hovertemplate": "Ladder score=%{z}<br>Country name=%{location}<extra></extra>",
           "locationmode": "country names",
           "locations": [
            "Swaziland"
           ],
           "name": "",
           "type": "choropleth",
           "z": [
            4.308
           ]
          }
         ],
         "name": "4.308"
        },
        {
         "data": [
          {
           "coloraxis": "coloraxis",
           "geo": "geo",
           "hovertemplate": "Ladder score=%{z}<br>Country name=%{location}<extra></extra>",
           "locationmode": "country names",
           "locations": [
            "Comoros"
           ],
           "name": "",
           "type": "choropleth",
           "z": [
            4.289
           ]
          }
         ],
         "name": "4.289"
        },
        {
         "data": [
          {
           "coloraxis": "coloraxis",
           "geo": "geo",
           "hovertemplate": "Ladder score=%{z}<br>Country name=%{location}<extra></extra>",
           "locationmode": "country names",
           "locations": [
            "Egypt"
           ],
           "name": "",
           "type": "choropleth",
           "z": [
            4.283
           ]
          }
         ],
         "name": "4.283"
        },
        {
         "data": [
          {
           "coloraxis": "coloraxis",
           "geo": "geo",
           "hovertemplate": "Ladder score=%{z}<br>Country name=%{location}<extra></extra>",
           "locationmode": "country names",
           "locations": [
            "Ethiopia"
           ],
           "name": "",
           "type": "choropleth",
           "z": [
            4.275
           ]
          }
         ],
         "name": "4.275"
        },
        {
         "data": [
          {
           "coloraxis": "coloraxis",
           "geo": "geo",
           "hovertemplate": "Ladder score=%{z}<br>Country name=%{location}<extra></extra>",
           "locationmode": "country names",
           "locations": [
            "Mauritania"
           ],
           "name": "",
           "type": "choropleth",
           "z": [
            4.227
           ]
          }
         ],
         "name": "4.227"
        },
        {
         "data": [
          {
           "coloraxis": "coloraxis",
           "geo": "geo",
           "hovertemplate": "Ladder score=%{z}<br>Country name=%{location}<extra></extra>",
           "locationmode": "country names",
           "locations": [
            "Madagascar"
           ],
           "name": "",
           "type": "choropleth",
           "z": [
            4.208
           ]
          }
         ],
         "name": "4.208"
        },
        {
         "data": [
          {
           "coloraxis": "coloraxis",
           "geo": "geo",
           "hovertemplate": "Ladder score=%{z}<br>Country name=%{location}<extra></extra>",
           "locationmode": "country names",
           "locations": [
            "Togo"
           ],
           "name": "",
           "type": "choropleth",
           "z": [
            4.107
           ]
          }
         ],
         "name": "4.107"
        },
        {
         "data": [
          {
           "coloraxis": "coloraxis",
           "geo": "geo",
           "hovertemplate": "Ladder score=%{z}<br>Country name=%{location}<extra></extra>",
           "locationmode": "country names",
           "locations": [
            "Zambia"
           ],
           "name": "",
           "type": "choropleth",
           "z": [
            4.073
           ]
          }
         ],
         "name": "4.073"
        },
        {
         "data": [
          {
           "coloraxis": "coloraxis",
           "geo": "geo",
           "hovertemplate": "Ladder score=%{z}<br>Country name=%{location}<extra></extra>",
           "locationmode": "country names",
           "locations": [
            "Sierra Leone"
           ],
           "name": "",
           "type": "choropleth",
           "z": [
            3.849
           ]
          }
         ],
         "name": "3.849"
        },
        {
         "data": [
          {
           "coloraxis": "coloraxis",
           "geo": "geo",
           "hovertemplate": "Ladder score=%{z}<br>Country name=%{location}<extra></extra>",
           "locationmode": "country names",
           "locations": [
            "India"
           ],
           "name": "",
           "type": "choropleth",
           "z": [
            3.819
           ]
          }
         ],
         "name": "3.819"
        },
        {
         "data": [
          {
           "coloraxis": "coloraxis",
           "geo": "geo",
           "hovertemplate": "Ladder score=%{z}<br>Country name=%{location}<extra></extra>",
           "locationmode": "country names",
           "locations": [
            "Burundi"
           ],
           "name": "",
           "type": "choropleth",
           "z": [
            3.775
           ]
          }
         ],
         "name": "3.775"
        },
        {
         "data": [
          {
           "coloraxis": "coloraxis",
           "geo": "geo",
           "hovertemplate": "Ladder score=%{z}<br>Country name=%{location}<extra></extra>",
           "locationmode": "country names",
           "locations": [
            "Yemen"
           ],
           "name": "",
           "type": "choropleth",
           "z": [
            3.658
           ]
          }
         ],
         "name": "3.658"
        },
        {
         "data": [
          {
           "coloraxis": "coloraxis",
           "geo": "geo",
           "hovertemplate": "Ladder score=%{z}<br>Country name=%{location}<extra></extra>",
           "locationmode": "country names",
           "locations": [
            "Tanzania"
           ],
           "name": "",
           "type": "choropleth",
           "z": [
            3.623
           ]
          }
         ],
         "name": "3.623"
        },
        {
         "data": [
          {
           "coloraxis": "coloraxis",
           "geo": "geo",
           "hovertemplate": "Ladder score=%{z}<br>Country name=%{location}<extra></extra>",
           "locationmode": "country names",
           "locations": [
            "Haiti"
           ],
           "name": "",
           "type": "choropleth",
           "z": [
            3.615
           ]
          }
         ],
         "name": "3.615"
        },
        {
         "data": [
          {
           "coloraxis": "coloraxis",
           "geo": "geo",
           "hovertemplate": "Ladder score=%{z}<br>Country name=%{location}<extra></extra>",
           "locationmode": "country names",
           "locations": [
            "Malawi"
           ],
           "name": "",
           "type": "choropleth",
           "z": [
            3.6
           ]
          }
         ],
         "name": "3.6"
        },
        {
         "data": [
          {
           "coloraxis": "coloraxis",
           "geo": "geo",
           "hovertemplate": "Ladder score=%{z}<br>Country name=%{location}<extra></extra>",
           "locationmode": "country names",
           "locations": [
            "Lesotho"
           ],
           "name": "",
           "type": "choropleth",
           "z": [
            3.512
           ]
          }
         ],
         "name": "3.512"
        },
        {
         "data": [
          {
           "coloraxis": "coloraxis",
           "geo": "geo",
           "hovertemplate": "Ladder score=%{z}<br>Country name=%{location}<extra></extra>",
           "locationmode": "country names",
           "locations": [
            "Botswana"
           ],
           "name": "",
           "type": "choropleth",
           "z": [
            3.467
           ]
          }
         ],
         "name": "3.467"
        },
        {
         "data": [
          {
           "coloraxis": "coloraxis",
           "geo": "geo",
           "hovertemplate": "Ladder score=%{z}<br>Country name=%{location}<extra></extra>",
           "locationmode": "country names",
           "locations": [
            "Rwanda"
           ],
           "name": "",
           "type": "choropleth",
           "z": [
            3.415
           ]
          }
         ],
         "name": "3.415"
        },
        {
         "data": [
          {
           "coloraxis": "coloraxis",
           "geo": "geo",
           "hovertemplate": "Ladder score=%{z}<br>Country name=%{location}<extra></extra>",
           "locationmode": "country names",
           "locations": [
            "Zimbabwe"
           ],
           "name": "",
           "type": "choropleth",
           "z": [
            3.145
           ]
          }
         ],
         "name": "3.145"
        },
        {
         "data": [
          {
           "coloraxis": "coloraxis",
           "geo": "geo",
           "hovertemplate": "Ladder score=%{z}<br>Country name=%{location}<extra></extra>",
           "locationmode": "country names",
           "locations": [
            "Afghanistan"
           ],
           "name": "",
           "type": "choropleth",
           "z": [
            2.523
           ]
          }
         ],
         "name": "2.523"
        }
       ],
       "layout": {
        "coloraxis": {
         "colorbar": {
          "title": {
           "text": "Ladder score"
          }
         },
         "colorscale": [
          [
           0,
           "#0d0887"
          ],
          [
           0.1111111111111111,
           "#46039f"
          ],
          [
           0.2222222222222222,
           "#7201a8"
          ],
          [
           0.3333333333333333,
           "#9c179e"
          ],
          [
           0.4444444444444444,
           "#bd3786"
          ],
          [
           0.5555555555555556,
           "#d8576b"
          ],
          [
           0.6666666666666666,
           "#ed7953"
          ],
          [
           0.7777777777777778,
           "#fb9f3a"
          ],
          [
           0.8888888888888888,
           "#fdca26"
          ],
          [
           1,
           "#f0f921"
          ]
         ]
        },
        "geo": {
         "center": {},
         "domain": {
          "x": [
           0,
           1
          ],
          "y": [
           0,
           1
          ]
         }
        },
        "legend": {
         "tracegroupgap": 0
        },
        "margin": {
         "t": 60
        },
        "sliders": [
         {
          "active": 0,
          "currentvalue": {
           "prefix": "Ladder score="
          },
          "len": 0.9,
          "pad": {
           "b": 10,
           "t": 60
          },
          "steps": [
           {
            "args": [
             [
              "7.842"
             ],
             {
              "frame": {
               "duration": 0,
               "redraw": true
              },
              "fromcurrent": true,
              "mode": "immediate",
              "transition": {
               "duration": 0,
               "easing": "linear"
              }
             }
            ],
            "label": "7.842",
            "method": "animate"
           },
           {
            "args": [
             [
              "7.62"
             ],
             {
              "frame": {
               "duration": 0,
               "redraw": true
              },
              "fromcurrent": true,
              "mode": "immediate",
              "transition": {
               "duration": 0,
               "easing": "linear"
              }
             }
            ],
            "label": "7.62",
            "method": "animate"
           },
           {
            "args": [
             [
              "7.571"
             ],
             {
              "frame": {
               "duration": 0,
               "redraw": true
              },
              "fromcurrent": true,
              "mode": "immediate",
              "transition": {
               "duration": 0,
               "easing": "linear"
              }
             }
            ],
            "label": "7.571",
            "method": "animate"
           },
           {
            "args": [
             [
              "7.554"
             ],
             {
              "frame": {
               "duration": 0,
               "redraw": true
              },
              "fromcurrent": true,
              "mode": "immediate",
              "transition": {
               "duration": 0,
               "easing": "linear"
              }
             }
            ],
            "label": "7.554",
            "method": "animate"
           },
           {
            "args": [
             [
              "7.464"
             ],
             {
              "frame": {
               "duration": 0,
               "redraw": true
              },
              "fromcurrent": true,
              "mode": "immediate",
              "transition": {
               "duration": 0,
               "easing": "linear"
              }
             }
            ],
            "label": "7.464",
            "method": "animate"
           },
           {
            "args": [
             [
              "7.392"
             ],
             {
              "frame": {
               "duration": 0,
               "redraw": true
              },
              "fromcurrent": true,
              "mode": "immediate",
              "transition": {
               "duration": 0,
               "easing": "linear"
              }
             }
            ],
            "label": "7.392",
            "method": "animate"
           },
           {
            "args": [
             [
              "7.363"
             ],
             {
              "frame": {
               "duration": 0,
               "redraw": true
              },
              "fromcurrent": true,
              "mode": "immediate",
              "transition": {
               "duration": 0,
               "easing": "linear"
              }
             }
            ],
            "label": "7.363",
            "method": "animate"
           },
           {
            "args": [
             [
              "7.324"
             ],
             {
              "frame": {
               "duration": 0,
               "redraw": true
              },
              "fromcurrent": true,
              "mode": "immediate",
              "transition": {
               "duration": 0,
               "easing": "linear"
              }
             }
            ],
            "label": "7.324",
            "method": "animate"
           },
           {
            "args": [
             [
              "7.277"
             ],
             {
              "frame": {
               "duration": 0,
               "redraw": true
              },
              "fromcurrent": true,
              "mode": "immediate",
              "transition": {
               "duration": 0,
               "easing": "linear"
              }
             }
            ],
            "label": "7.277",
            "method": "animate"
           },
           {
            "args": [
             [
              "7.268"
             ],
             {
              "frame": {
               "duration": 0,
               "redraw": true
              },
              "fromcurrent": true,
              "mode": "immediate",
              "transition": {
               "duration": 0,
               "easing": "linear"
              }
             }
            ],
            "label": "7.268",
            "method": "animate"
           },
           {
            "args": [
             [
              "7.183"
             ],
             {
              "frame": {
               "duration": 0,
               "redraw": true
              },
              "fromcurrent": true,
              "mode": "immediate",
              "transition": {
               "duration": 0,
               "easing": "linear"
              }
             }
            ],
            "label": "7.183",
            "method": "animate"
           },
           {
            "args": [
             [
              "7.157"
             ],
             {
              "frame": {
               "duration": 0,
               "redraw": true
              },
              "fromcurrent": true,
              "mode": "immediate",
              "transition": {
               "duration": 0,
               "easing": "linear"
              }
             }
            ],
            "label": "7.157",
            "method": "animate"
           },
           {
            "args": [
             [
              "7.155"
             ],
             {
              "frame": {
               "duration": 0,
               "redraw": true
              },
              "fromcurrent": true,
              "mode": "immediate",
              "transition": {
               "duration": 0,
               "easing": "linear"
              }
             }
            ],
            "label": "7.155",
            "method": "animate"
           },
           {
            "args": [
             [
              "7.103"
             ],
             {
              "frame": {
               "duration": 0,
               "redraw": true
              },
              "fromcurrent": true,
              "mode": "immediate",
              "transition": {
               "duration": 0,
               "easing": "linear"
              }
             }
            ],
            "label": "7.103",
            "method": "animate"
           },
           {
            "args": [
             [
              "7.085"
             ],
             {
              "frame": {
               "duration": 0,
               "redraw": true
              },
              "fromcurrent": true,
              "mode": "immediate",
              "transition": {
               "duration": 0,
               "easing": "linear"
              }
             }
            ],
            "label": "7.085",
            "method": "animate"
           },
           {
            "args": [
             [
              "7.069"
             ],
             {
              "frame": {
               "duration": 0,
               "redraw": true
              },
              "fromcurrent": true,
              "mode": "immediate",
              "transition": {
               "duration": 0,
               "easing": "linear"
              }
             }
            ],
            "label": "7.069",
            "method": "animate"
           },
           {
            "args": [
             [
              "7.064"
             ],
             {
              "frame": {
               "duration": 0,
               "redraw": true
              },
              "fromcurrent": true,
              "mode": "immediate",
              "transition": {
               "duration": 0,
               "easing": "linear"
              }
             }
            ],
            "label": "7.064",
            "method": "animate"
           },
           {
            "args": [
             [
              "6.965"
             ],
             {
              "frame": {
               "duration": 0,
               "redraw": true
              },
              "fromcurrent": true,
              "mode": "immediate",
              "transition": {
               "duration": 0,
               "easing": "linear"
              }
             }
            ],
            "label": "6.965",
            "method": "animate"
           },
           {
            "args": [
             [
              "6.951"
             ],
             {
              "frame": {
               "duration": 0,
               "redraw": true
              },
              "fromcurrent": true,
              "mode": "immediate",
              "transition": {
               "duration": 0,
               "easing": "linear"
              }
             }
            ],
            "label": "6.951",
            "method": "animate"
           },
           {
            "args": [
             [
              "6.834"
             ],
             {
              "frame": {
               "duration": 0,
               "redraw": true
              },
              "fromcurrent": true,
              "mode": "immediate",
              "transition": {
               "duration": 0,
               "easing": "linear"
              }
             }
            ],
            "label": "6.834",
            "method": "animate"
           },
           {
            "args": [
             [
              "6.69"
             ],
             {
              "frame": {
               "duration": 0,
               "redraw": true
              },
              "fromcurrent": true,
              "mode": "immediate",
              "transition": {
               "duration": 0,
               "easing": "linear"
              }
             }
            ],
            "label": "6.69",
            "method": "animate"
           },
           {
            "args": [
             [
              "6.647"
             ],
             {
              "frame": {
               "duration": 0,
               "redraw": true
              },
              "fromcurrent": true,
              "mode": "immediate",
              "transition": {
               "duration": 0,
               "easing": "linear"
              }
             }
            ],
            "label": "6.647",
            "method": "animate"
           },
           {
            "args": [
             [
              "6.602"
             ],
             {
              "frame": {
               "duration": 0,
               "redraw": true
              },
              "fromcurrent": true,
              "mode": "immediate",
              "transition": {
               "duration": 0,
               "easing": "linear"
              }
             }
            ],
            "label": "6.602",
            "method": "animate"
           },
           {
            "args": [
             [
              "6.584"
             ],
             {
              "frame": {
               "duration": 0,
               "redraw": true
              },
              "fromcurrent": true,
              "mode": "immediate",
              "transition": {
               "duration": 0,
               "easing": "linear"
              }
             }
            ],
            "label": "6.584",
            "method": "animate"
           },
           {
            "args": [
             [
              "6.561"
             ],
             {
              "frame": {
               "duration": 0,
               "redraw": true
              },
              "fromcurrent": true,
              "mode": "immediate",
              "transition": {
               "duration": 0,
               "easing": "linear"
              }
             }
            ],
            "label": "6.561",
            "method": "animate"
           },
           {
            "args": [
             [
              "6.494"
             ],
             {
              "frame": {
               "duration": 0,
               "redraw": true
              },
              "fromcurrent": true,
              "mode": "immediate",
              "transition": {
               "duration": 0,
               "easing": "linear"
              }
             }
            ],
            "label": "6.494",
            "method": "animate"
           },
           {
            "args": [
             [
              "6.491"
             ],
             {
              "frame": {
               "duration": 0,
               "redraw": true
              },
              "fromcurrent": true,
              "mode": "immediate",
              "transition": {
               "duration": 0,
               "easing": "linear"
              }
             }
            ],
            "label": "6.491",
            "method": "animate"
           },
           {
            "args": [
             [
              "6.483"
             ],
             {
              "frame": {
               "duration": 0,
               "redraw": true
              },
              "fromcurrent": true,
              "mode": "immediate",
              "transition": {
               "duration": 0,
               "easing": "linear"
              }
             }
            ],
            "label": "6.483",
            "method": "animate"
           },
           {
            "args": [
             [
              "6.461"
             ],
             {
              "frame": {
               "duration": 0,
               "redraw": true
              },
              "fromcurrent": true,
              "mode": "immediate",
              "transition": {
               "duration": 0,
               "easing": "linear"
              }
             }
            ],
            "label": "6.461",
            "method": "animate"
           },
           {
            "args": [
             [
              "6.435"
             ],
             {
              "frame": {
               "duration": 0,
               "redraw": true
              },
              "fromcurrent": true,
              "mode": "immediate",
              "transition": {
               "duration": 0,
               "easing": "linear"
              }
             }
            ],
            "label": "6.435",
            "method": "animate"
           },
           {
            "args": [
             [
              "6.431"
             ],
             {
              "frame": {
               "duration": 0,
               "redraw": true
              },
              "fromcurrent": true,
              "mode": "immediate",
              "transition": {
               "duration": 0,
               "easing": "linear"
              }
             }
            ],
            "label": "6.431",
            "method": "animate"
           },
           {
            "args": [
             [
              "6.377"
             ],
             {
              "frame": {
               "duration": 0,
               "redraw": true
              },
              "fromcurrent": true,
              "mode": "immediate",
              "transition": {
               "duration": 0,
               "easing": "linear"
              }
             }
            ],
            "label": "6.377",
            "method": "animate"
           },
           {
            "args": [
             [
              "6.372"
             ],
             {
              "frame": {
               "duration": 0,
               "redraw": true
              },
              "fromcurrent": true,
              "mode": "immediate",
              "transition": {
               "duration": 0,
               "easing": "linear"
              }
             }
            ],
            "label": "6.372",
            "method": "animate"
           },
           {
            "args": [
             [
              "6.331"
             ],
             {
              "frame": {
               "duration": 0,
               "redraw": true
              },
              "fromcurrent": true,
              "mode": "immediate",
              "transition": {
               "duration": 0,
               "easing": "linear"
              }
             }
            ],
            "label": "6.331",
            "method": "animate"
           },
           {
            "args": [
             [
              "6.33"
             ],
             {
              "frame": {
               "duration": 0,
               "redraw": true
              },
              "fromcurrent": true,
              "mode": "immediate",
              "transition": {
               "duration": 0,
               "easing": "linear"
              }
             }
            ],
            "label": "6.33",
            "method": "animate"
           },
           {
            "args": [
             [
              "6.317"
             ],
             {
              "frame": {
               "duration": 0,
               "redraw": true
              },
              "fromcurrent": true,
              "mode": "immediate",
              "transition": {
               "duration": 0,
               "easing": "linear"
              }
             }
            ],
            "label": "6.317",
            "method": "animate"
           },
           {
            "args": [
             [
              "6.309"
             ],
             {
              "frame": {
               "duration": 0,
               "redraw": true
              },
              "fromcurrent": true,
              "mode": "immediate",
              "transition": {
               "duration": 0,
               "easing": "linear"
              }
             }
            ],
            "label": "6.309",
            "method": "animate"
           },
           {
            "args": [
             [
              "6.255"
             ],
             {
              "frame": {
               "duration": 0,
               "redraw": true
              },
              "fromcurrent": true,
              "mode": "immediate",
              "transition": {
               "duration": 0,
               "easing": "linear"
              }
             }
            ],
            "label": "6.255",
            "method": "animate"
           },
           {
            "args": [
             [
              "6.223"
             ],
             {
              "frame": {
               "duration": 0,
               "redraw": true
              },
              "fromcurrent": true,
              "mode": "immediate",
              "transition": {
               "duration": 0,
               "easing": "linear"
              }
             }
            ],
            "label": "6.223",
            "method": "animate"
           },
           {
            "args": [
             [
              "6.189"
             ],
             {
              "frame": {
               "duration": 0,
               "redraw": true
              },
              "fromcurrent": true,
              "mode": "immediate",
              "transition": {
               "duration": 0,
               "easing": "linear"
              }
             }
            ],
            "label": "6.189",
            "method": "animate"
           },
           {
            "args": [
             [
              "6.18"
             ],
             {
              "frame": {
               "duration": 0,
               "redraw": true
              },
              "fromcurrent": true,
              "mode": "immediate",
              "transition": {
               "duration": 0,
               "easing": "linear"
              }
             }
            ],
            "label": "6.18",
            "method": "animate"
           },
           {
            "args": [
             [
              "6.179"
             ],
             {
              "frame": {
               "duration": 0,
               "redraw": true
              },
              "fromcurrent": true,
              "mode": "immediate",
              "transition": {
               "duration": 0,
               "easing": "linear"
              }
             }
            ],
            "label": "6.179",
            "method": "animate"
           },
           {
            "args": [
             [
              "6.172"
             ],
             {
              "frame": {
               "duration": 0,
               "redraw": true
              },
              "fromcurrent": true,
              "mode": "immediate",
              "transition": {
               "duration": 0,
               "easing": "linear"
              }
             }
            ],
            "label": "6.172",
            "method": "animate"
           },
           {
            "args": [
             [
              "6.166"
             ],
             {
              "frame": {
               "duration": 0,
               "redraw": true
              },
              "fromcurrent": true,
              "mode": "immediate",
              "transition": {
               "duration": 0,
               "easing": "linear"
              }
             }
            ],
            "label": "6.166",
            "method": "animate"
           },
           {
            "args": [
             [
              "6.152"
             ],
             {
              "frame": {
               "duration": 0,
               "redraw": true
              },
              "fromcurrent": true,
              "mode": "immediate",
              "transition": {
               "duration": 0,
               "easing": "linear"
              }
             }
            ],
            "label": "6.152",
            "method": "animate"
           },
           {
            "args": [
             [
              "6.14"
             ],
             {
              "frame": {
               "duration": 0,
               "redraw": true
              },
              "fromcurrent": true,
              "mode": "immediate",
              "transition": {
               "duration": 0,
               "easing": "linear"
              }
             }
            ],
            "label": "6.14",
            "method": "animate"
           },
           {
            "args": [
             [
              "6.106"
             ],
             {
              "frame": {
               "duration": 0,
               "redraw": true
              },
              "fromcurrent": true,
              "mode": "immediate",
              "transition": {
               "duration": 0,
               "easing": "linear"
              }
             }
            ],
            "label": "6.106",
            "method": "animate"
           },
           {
            "args": [
             [
              "6.078"
             ],
             {
              "frame": {
               "duration": 0,
               "redraw": true
              },
              "fromcurrent": true,
              "mode": "immediate",
              "transition": {
               "duration": 0,
               "easing": "linear"
              }
             }
            ],
            "label": "6.078",
            "method": "animate"
           },
           {
            "args": [
             [
              "6.061"
             ],
             {
              "frame": {
               "duration": 0,
               "redraw": true
              },
              "fromcurrent": true,
              "mode": "immediate",
              "transition": {
               "duration": 0,
               "easing": "linear"
              }
             }
            ],
            "label": "6.061",
            "method": "animate"
           },
           {
            "args": [
             [
              "6.049"
             ],
             {
              "frame": {
               "duration": 0,
               "redraw": true
              },
              "fromcurrent": true,
              "mode": "immediate",
              "transition": {
               "duration": 0,
               "easing": "linear"
              }
             }
            ],
            "label": "6.049",
            "method": "animate"
           },
           {
            "args": [
             [
              "6.032"
             ],
             {
              "frame": {
               "duration": 0,
               "redraw": true
              },
              "fromcurrent": true,
              "mode": "immediate",
              "transition": {
               "duration": 0,
               "easing": "linear"
              }
             }
            ],
            "label": "6.032",
            "method": "animate"
           },
           {
            "args": [
             [
              "6.012"
             ],
             {
              "frame": {
               "duration": 0,
               "redraw": true
              },
              "fromcurrent": true,
              "mode": "immediate",
              "transition": {
               "duration": 0,
               "easing": "linear"
              }
             }
            ],
            "label": "6.012",
            "method": "animate"
           },
           {
            "args": [
             [
              "5.992"
             ],
             {
              "frame": {
               "duration": 0,
               "redraw": true
              },
              "fromcurrent": true,
              "mode": "immediate",
              "transition": {
               "duration": 0,
               "easing": "linear"
              }
             }
            ],
            "label": "5.992",
            "method": "animate"
           },
           {
            "args": [
             [
              "5.985"
             ],
             {
              "frame": {
               "duration": 0,
               "redraw": true
              },
              "fromcurrent": true,
              "mode": "immediate",
              "transition": {
               "duration": 0,
               "easing": "linear"
              }
             }
            ],
            "label": "5.985",
            "method": "animate"
           },
           {
            "args": [
             [
              "5.972"
             ],
             {
              "frame": {
               "duration": 0,
               "redraw": true
              },
              "fromcurrent": true,
              "mode": "immediate",
              "transition": {
               "duration": 0,
               "easing": "linear"
              }
             }
            ],
            "label": "5.972",
            "method": "animate"
           },
           {
            "args": [
             [
              "5.94"
             ],
             {
              "frame": {
               "duration": 0,
               "redraw": true
              },
              "fromcurrent": true,
              "mode": "immediate",
              "transition": {
               "duration": 0,
               "easing": "linear"
              }
             }
            ],
            "label": "5.94",
            "method": "animate"
           },
           {
            "args": [
             [
              "5.929"
             ],
             {
              "frame": {
               "duration": 0,
               "redraw": true
              },
              "fromcurrent": true,
              "mode": "immediate",
              "transition": {
               "duration": 0,
               "easing": "linear"
              }
             }
            ],
            "label": "5.929",
            "method": "animate"
           },
           {
            "args": [
             [
              "5.919"
             ],
             {
              "frame": {
               "duration": 0,
               "redraw": true
              },
              "fromcurrent": true,
              "mode": "immediate",
              "transition": {
               "duration": 0,
               "easing": "linear"
              }
             }
            ],
            "label": "5.919",
            "method": "animate"
           },
           {
            "args": [
             [
              "5.882"
             ],
             {
              "frame": {
               "duration": 0,
               "redraw": true
              },
              "fromcurrent": true,
              "mode": "immediate",
              "transition": {
               "duration": 0,
               "easing": "linear"
              }
             }
            ],
            "label": "5.882",
            "method": "animate"
           },
           {
            "args": [
             [
              "5.88"
             ],
             {
              "frame": {
               "duration": 0,
               "redraw": true
              },
              "fromcurrent": true,
              "mode": "immediate",
              "transition": {
               "duration": 0,
               "easing": "linear"
              }
             }
            ],
            "label": "5.88",
            "method": "animate"
           },
           {
            "args": [
             [
              "5.845"
             ],
             {
              "frame": {
               "duration": 0,
               "redraw": true
              },
              "fromcurrent": true,
              "mode": "immediate",
              "transition": {
               "duration": 0,
               "easing": "linear"
              }
             }
            ],
            "label": "5.845",
            "method": "animate"
           },
           {
            "args": [
             [
              "5.84"
             ],
             {
              "frame": {
               "duration": 0,
               "redraw": true
              },
              "fromcurrent": true,
              "mode": "immediate",
              "transition": {
               "duration": 0,
               "easing": "linear"
              }
             }
            ],
            "label": "5.84",
            "method": "animate"
           },
           {
            "args": [
             [
              "5.813"
             ],
             {
              "frame": {
               "duration": 0,
               "redraw": true
              },
              "fromcurrent": true,
              "mode": "immediate",
              "transition": {
               "duration": 0,
               "easing": "linear"
              }
             }
            ],
            "label": "5.813",
            "method": "animate"
           },
           {
            "args": [
             [
              "5.766"
             ],
             {
              "frame": {
               "duration": 0,
               "redraw": true
              },
              "fromcurrent": true,
              "mode": "immediate",
              "transition": {
               "duration": 0,
               "easing": "linear"
              }
             }
            ],
            "label": "5.766",
            "method": "animate"
           },
           {
            "args": [
             [
              "5.764"
             ],
             {
              "frame": {
               "duration": 0,
               "redraw": true
              },
              "fromcurrent": true,
              "mode": "immediate",
              "transition": {
               "duration": 0,
               "easing": "linear"
              }
             }
            ],
            "label": "5.764",
            "method": "animate"
           },
           {
            "args": [
             [
              "5.744"
             ],
             {
              "frame": {
               "duration": 0,
               "redraw": true
              },
              "fromcurrent": true,
              "mode": "immediate",
              "transition": {
               "duration": 0,
               "easing": "linear"
              }
             }
            ],
            "label": "5.744",
            "method": "animate"
           },
           {
            "args": [
             [
              "5.723"
             ],
             {
              "frame": {
               "duration": 0,
               "redraw": true
              },
              "fromcurrent": true,
              "mode": "immediate",
              "transition": {
               "duration": 0,
               "easing": "linear"
              }
             }
            ],
            "label": "5.723",
            "method": "animate"
           },
           {
            "args": [
             [
              "5.716"
             ],
             {
              "frame": {
               "duration": 0,
               "redraw": true
              },
              "fromcurrent": true,
              "mode": "immediate",
              "transition": {
               "duration": 0,
               "easing": "linear"
              }
             }
            ],
            "label": "5.716",
            "method": "animate"
           },
           {
            "args": [
             [
              "5.677"
             ],
             {
              "frame": {
               "duration": 0,
               "redraw": true
              },
              "fromcurrent": true,
              "mode": "immediate",
              "transition": {
               "duration": 0,
               "easing": "linear"
              }
             }
            ],
            "label": "5.677",
            "method": "animate"
           },
           {
            "args": [
             [
              "5.653"
             ],
             {
              "frame": {
               "duration": 0,
               "redraw": true
              },
              "fromcurrent": true,
              "mode": "immediate",
              "transition": {
               "duration": 0,
               "easing": "linear"
              }
             }
            ],
            "label": "5.653",
            "method": "animate"
           },
           {
            "args": [
             [
              "5.581"
             ],
             {
              "frame": {
               "duration": 0,
               "redraw": true
              },
              "fromcurrent": true,
              "mode": "immediate",
              "transition": {
               "duration": 0,
               "easing": "linear"
              }
             }
            ],
            "label": "5.581",
            "method": "animate"
           },
           {
            "args": [
             [
              "5.545"
             ],
             {
              "frame": {
               "duration": 0,
               "redraw": true
              },
              "fromcurrent": true,
              "mode": "immediate",
              "transition": {
               "duration": 0,
               "easing": "linear"
              }
             }
            ],
            "label": "5.545",
            "method": "animate"
           },
           {
            "args": [
             [
              "5.536"
             ],
             {
              "frame": {
               "duration": 0,
               "redraw": true
              },
              "fromcurrent": true,
              "mode": "immediate",
              "transition": {
               "duration": 0,
               "easing": "linear"
              }
             }
            ],
            "label": "5.536",
            "method": "animate"
           },
           {
            "args": [
             [
              "5.534"
             ],
             {
              "frame": {
               "duration": 0,
               "redraw": true
              },
              "fromcurrent": true,
              "mode": "immediate",
              "transition": {
               "duration": 0,
               "easing": "linear"
              }
             }
            ],
            "label": "5.534",
            "method": "animate"
           },
           {
            "args": [
             [
              "5.477"
             ],
             {
              "frame": {
               "duration": 0,
               "redraw": true
              },
              "fromcurrent": true,
              "mode": "immediate",
              "transition": {
               "duration": 0,
               "easing": "linear"
              }
             }
            ],
            "label": "5.477",
            "method": "animate"
           },
           {
            "args": [
             [
              "5.466"
             ],
             {
              "frame": {
               "duration": 0,
               "redraw": true
              },
              "fromcurrent": true,
              "mode": "immediate",
              "transition": {
               "duration": 0,
               "easing": "linear"
              }
             }
            ],
            "label": "5.466",
            "method": "animate"
           },
           {
            "args": [
             [
              "5.411"
             ],
             {
              "frame": {
               "duration": 0,
               "redraw": true
              },
              "fromcurrent": true,
              "mode": "immediate",
              "transition": {
               "duration": 0,
               "easing": "linear"
              }
             }
            ],
            "label": "5.411",
            "method": "animate"
           },
           {
            "args": [
             [
              "5.41"
             ],
             {
              "frame": {
               "duration": 0,
               "redraw": true
              },
              "fromcurrent": true,
              "mode": "immediate",
              "transition": {
               "duration": 0,
               "easing": "linear"
              }
             }
            ],
            "label": "5.41",
            "method": "animate"
           },
           {
            "args": [
             [
              "5.384"
             ],
             {
              "frame": {
               "duration": 0,
               "redraw": true
              },
              "fromcurrent": true,
              "mode": "immediate",
              "transition": {
               "duration": 0,
               "easing": "linear"
              }
             }
            ],
            "label": "5.384",
            "method": "animate"
           },
           {
            "args": [
             [
              "5.345"
             ],
             {
              "frame": {
               "duration": 0,
               "redraw": true
              },
              "fromcurrent": true,
              "mode": "immediate",
              "transition": {
               "duration": 0,
               "easing": "linear"
              }
             }
            ],
            "label": "5.345",
            "method": "animate"
           },
           {
            "args": [
             [
              "5.342"
             ],
             {
              "frame": {
               "duration": 0,
               "redraw": true
              },
              "fromcurrent": true,
              "mode": "immediate",
              "transition": {
               "duration": 0,
               "easing": "linear"
              }
             }
            ],
            "label": "5.342",
            "method": "animate"
           },
           {
            "args": [
             [
              "5.339"
             ],
             {
              "frame": {
               "duration": 0,
               "redraw": true
              },
              "fromcurrent": true,
              "mode": "immediate",
              "transition": {
               "duration": 0,
               "easing": "linear"
              }
             }
            ],
            "label": "5.339",
            "method": "animate"
           },
           {
            "args": [
             [
              "5.306"
             ],
             {
              "frame": {
               "duration": 0,
               "redraw": true
              },
              "fromcurrent": true,
              "mode": "immediate",
              "transition": {
               "duration": 0,
               "easing": "linear"
              }
             }
            ],
            "label": "5.306",
            "method": "animate"
           },
           {
            "args": [
             [
              "5.283"
             ],
             {
              "frame": {
               "duration": 0,
               "redraw": true
              },
              "fromcurrent": true,
              "mode": "immediate",
              "transition": {
               "duration": 0,
               "easing": "linear"
              }
             }
            ],
            "label": "5.283",
            "method": "animate"
           },
           {
            "args": [
             [
              "5.269"
             ],
             {
              "frame": {
               "duration": 0,
               "redraw": true
              },
              "fromcurrent": true,
              "mode": "immediate",
              "transition": {
               "duration": 0,
               "easing": "linear"
              }
             }
            ],
            "label": "5.269",
            "method": "animate"
           },
           {
            "args": [
             [
              "5.266"
             ],
             {
              "frame": {
               "duration": 0,
               "redraw": true
              },
              "fromcurrent": true,
              "mode": "immediate",
              "transition": {
               "duration": 0,
               "easing": "linear"
              }
             }
            ],
            "label": "5.266",
            "method": "animate"
           },
           {
            "args": [
             [
              "5.198"
             ],
             {
              "frame": {
               "duration": 0,
               "redraw": true
              },
              "fromcurrent": true,
              "mode": "immediate",
              "transition": {
               "duration": 0,
               "easing": "linear"
              }
             }
            ],
            "label": "5.198",
            "method": "animate"
           },
           {
            "args": [
             [
              "5.171"
             ],
             {
              "frame": {
               "duration": 0,
               "redraw": true
              },
              "fromcurrent": true,
              "mode": "immediate",
              "transition": {
               "duration": 0,
               "easing": "linear"
              }
             }
            ],
            "label": "5.171",
            "method": "animate"
           },
           {
            "args": [
             [
              "5.142"
             ],
             {
              "frame": {
               "duration": 0,
               "redraw": true
              },
              "fromcurrent": true,
              "mode": "immediate",
              "transition": {
               "duration": 0,
               "easing": "linear"
              }
             }
            ],
            "label": "5.142",
            "method": "animate"
           },
           {
            "args": [
             [
              "5.132"
             ],
             {
              "frame": {
               "duration": 0,
               "redraw": true
              },
              "fromcurrent": true,
              "mode": "immediate",
              "transition": {
               "duration": 0,
               "easing": "linear"
              }
             }
            ],
            "label": "5.132",
            "method": "animate"
           },
           {
            "args": [
             [
              "5.117"
             ],
             {
              "frame": {
               "duration": 0,
               "redraw": true
              },
              "fromcurrent": true,
              "mode": "immediate",
              "transition": {
               "duration": 0,
               "easing": "linear"
              }
             }
            ],
            "label": "5.117",
            "method": "animate"
           },
           {
            "args": [
             [
              "5.101"
             ],
             {
              "frame": {
               "duration": 0,
               "redraw": true
              },
              "fromcurrent": true,
              "mode": "immediate",
              "transition": {
               "duration": 0,
               "easing": "linear"
              }
             }
            ],
            "label": "5.101",
            "method": "animate"
           },
           {
            "args": [
             [
              "5.088"
             ],
             {
              "frame": {
               "duration": 0,
               "redraw": true
              },
              "fromcurrent": true,
              "mode": "immediate",
              "transition": {
               "duration": 0,
               "easing": "linear"
              }
             }
            ],
            "label": "5.088",
            "method": "animate"
           },
           {
            "args": [
             [
              "5.074"
             ],
             {
              "frame": {
               "duration": 0,
               "redraw": true
              },
              "fromcurrent": true,
              "mode": "immediate",
              "transition": {
               "duration": 0,
               "easing": "linear"
              }
             }
            ],
            "label": "5.074",
            "method": "animate"
           },
           {
            "args": [
             [
              "5.066"
             ],
             {
              "frame": {
               "duration": 0,
               "redraw": true
              },
              "fromcurrent": true,
              "mode": "immediate",
              "transition": {
               "duration": 0,
               "easing": "linear"
              }
             }
            ],
            "label": "5.066",
            "method": "animate"
           },
           {
            "args": [
             [
              "5.051"
             ],
             {
              "frame": {
               "duration": 0,
               "redraw": true
              },
              "fromcurrent": true,
              "mode": "immediate",
              "transition": {
               "duration": 0,
               "easing": "linear"
              }
             }
            ],
            "label": "5.051",
            "method": "animate"
           },
           {
            "args": [
             [
              "5.045"
             ],
             {
              "frame": {
               "duration": 0,
               "redraw": true
              },
              "fromcurrent": true,
              "mode": "immediate",
              "transition": {
               "duration": 0,
               "easing": "linear"
              }
             }
            ],
            "label": "5.045",
            "method": "animate"
           },
           {
            "args": [
             [
              "5.03"
             ],
             {
              "frame": {
               "duration": 0,
               "redraw": true
              },
              "fromcurrent": true,
              "mode": "immediate",
              "transition": {
               "duration": 0,
               "easing": "linear"
              }
             }
            ],
            "label": "5.03",
            "method": "animate"
           },
           {
            "args": [
             [
              "5.025"
             ],
             {
              "frame": {
               "duration": 0,
               "redraw": true
              },
              "fromcurrent": true,
              "mode": "immediate",
              "transition": {
               "duration": 0,
               "easing": "linear"
              }
             }
            ],
            "label": "5.025",
            "method": "animate"
           },
           {
            "args": [
             [
              "4.984"
             ],
             {
              "frame": {
               "duration": 0,
               "redraw": true
              },
              "fromcurrent": true,
              "mode": "immediate",
              "transition": {
               "duration": 0,
               "easing": "linear"
              }
             }
            ],
            "label": "4.984",
            "method": "animate"
           },
           {
            "args": [
             [
              "4.956"
             ],
             {
              "frame": {
               "duration": 0,
               "redraw": true
              },
              "fromcurrent": true,
              "mode": "immediate",
              "transition": {
               "duration": 0,
               "easing": "linear"
              }
             }
            ],
            "label": "4.956",
            "method": "animate"
           },
           {
            "args": [
             [
              "4.948"
             ],
             {
              "frame": {
               "duration": 0,
               "redraw": true
              },
              "fromcurrent": true,
              "mode": "immediate",
              "transition": {
               "duration": 0,
               "easing": "linear"
              }
             }
            ],
            "label": "4.948",
            "method": "animate"
           },
           {
            "args": [
             [
              "4.934"
             ],
             {
              "frame": {
               "duration": 0,
               "redraw": true
              },
              "fromcurrent": true,
              "mode": "immediate",
              "transition": {
               "duration": 0,
               "easing": "linear"
              }
             }
            ],
            "label": "4.934",
            "method": "animate"
           },
           {
            "args": [
             [
              "4.918"
             ],
             {
              "frame": {
               "duration": 0,
               "redraw": true
              },
              "fromcurrent": true,
              "mode": "immediate",
              "transition": {
               "duration": 0,
               "easing": "linear"
              }
             }
            ],
            "label": "4.918",
            "method": "animate"
           },
           {
            "args": [
             [
              "4.892"
             ],
             {
              "frame": {
               "duration": 0,
               "redraw": true
              },
              "fromcurrent": true,
              "mode": "immediate",
              "transition": {
               "duration": 0,
               "easing": "linear"
              }
             }
            ],
            "label": "4.892",
            "method": "animate"
           },
           {
            "args": [
             [
              "4.891"
             ],
             {
              "frame": {
               "duration": 0,
               "redraw": true
              },
              "fromcurrent": true,
              "mode": "immediate",
              "transition": {
               "duration": 0,
               "easing": "linear"
              }
             }
            ],
            "label": "4.891",
            "method": "animate"
           },
           {
            "args": [
             [
              "4.887"
             ],
             {
              "frame": {
               "duration": 0,
               "redraw": true
              },
              "fromcurrent": true,
              "mode": "immediate",
              "transition": {
               "duration": 0,
               "easing": "linear"
              }
             }
            ],
            "label": "4.887",
            "method": "animate"
           },
           {
            "args": [
             [
              "4.875"
             ],
             {
              "frame": {
               "duration": 0,
               "redraw": true
              },
              "fromcurrent": true,
              "mode": "immediate",
              "transition": {
               "duration": 0,
               "easing": "linear"
              }
             }
            ],
            "label": "4.875",
            "method": "animate"
           },
           {
            "args": [
             [
              "4.854"
             ],
             {
              "frame": {
               "duration": 0,
               "redraw": true
              },
              "fromcurrent": true,
              "mode": "immediate",
              "transition": {
               "duration": 0,
               "easing": "linear"
              }
             }
            ],
            "label": "4.854",
            "method": "animate"
           },
           {
            "args": [
             [
              "4.852"
             ],
             {
              "frame": {
               "duration": 0,
               "redraw": true
              },
              "fromcurrent": true,
              "mode": "immediate",
              "transition": {
               "duration": 0,
               "easing": "linear"
              }
             }
            ],
            "label": "4.852",
            "method": "animate"
           },
           {
            "args": [
             [
              "4.834"
             ],
             {
              "frame": {
               "duration": 0,
               "redraw": true
              },
              "fromcurrent": true,
              "mode": "immediate",
              "transition": {
               "duration": 0,
               "easing": "linear"
              }
             }
            ],
            "label": "4.834",
            "method": "animate"
           },
           {
            "args": [
             [
              "4.83"
             ],
             {
              "frame": {
               "duration": 0,
               "redraw": true
              },
              "fromcurrent": true,
              "mode": "immediate",
              "transition": {
               "duration": 0,
               "easing": "linear"
              }
             }
            ],
            "label": "4.83",
            "method": "animate"
           },
           {
            "args": [
             [
              "4.794"
             ],
             {
              "frame": {
               "duration": 0,
               "redraw": true
              },
              "fromcurrent": true,
              "mode": "immediate",
              "transition": {
               "duration": 0,
               "easing": "linear"
              }
             }
            ],
            "label": "4.794",
            "method": "animate"
           },
           {
            "args": [
             [
              "4.759"
             ],
             {
              "frame": {
               "duration": 0,
               "redraw": true
              },
              "fromcurrent": true,
              "mode": "immediate",
              "transition": {
               "duration": 0,
               "easing": "linear"
              }
             }
            ],
            "label": "4.759",
            "method": "animate"
           },
           {
            "args": [
             [
              "4.723"
             ],
             {
              "frame": {
               "duration": 0,
               "redraw": true
              },
              "fromcurrent": true,
              "mode": "immediate",
              "transition": {
               "duration": 0,
               "easing": "linear"
              }
             }
            ],
            "label": "4.723",
            "method": "animate"
           },
           {
            "args": [
             [
              "4.721"
             ],
             {
              "frame": {
               "duration": 0,
               "redraw": true
              },
              "fromcurrent": true,
              "mode": "immediate",
              "transition": {
               "duration": 0,
               "easing": "linear"
              }
             }
            ],
            "label": "4.721",
            "method": "animate"
           },
           {
            "args": [
             [
              "4.636"
             ],
             {
              "frame": {
               "duration": 0,
               "redraw": true
              },
              "fromcurrent": true,
              "mode": "immediate",
              "transition": {
               "duration": 0,
               "easing": "linear"
              }
             }
            ],
            "label": "4.636",
            "method": "animate"
           },
           {
            "args": [
             [
              "4.625"
             ],
             {
              "frame": {
               "duration": 0,
               "redraw": true
              },
              "fromcurrent": true,
              "mode": "immediate",
              "transition": {
               "duration": 0,
               "easing": "linear"
              }
             }
            ],
            "label": "4.625",
            "method": "animate"
           },
           {
            "args": [
             [
              "4.607"
             ],
             {
              "frame": {
               "duration": 0,
               "redraw": true
              },
              "fromcurrent": true,
              "mode": "immediate",
              "transition": {
               "duration": 0,
               "easing": "linear"
              }
             }
            ],
            "label": "4.607",
            "method": "animate"
           },
           {
            "args": [
             [
              "4.596"
             ],
             {
              "frame": {
               "duration": 0,
               "redraw": true
              },
              "fromcurrent": true,
              "mode": "immediate",
              "transition": {
               "duration": 0,
               "easing": "linear"
              }
             }
            ],
            "label": "4.596",
            "method": "animate"
           },
           {
            "args": [
             [
              "4.584"
             ],
             {
              "frame": {
               "duration": 0,
               "redraw": true
              },
              "fromcurrent": true,
              "mode": "immediate",
              "transition": {
               "duration": 0,
               "easing": "linear"
              }
             }
            ],
            "label": "4.584",
            "method": "animate"
           },
           {
            "args": [
             [
              "4.574"
             ],
             {
              "frame": {
               "duration": 0,
               "redraw": true
              },
              "fromcurrent": true,
              "mode": "immediate",
              "transition": {
               "duration": 0,
               "easing": "linear"
              }
             }
            ],
            "label": "4.574",
            "method": "animate"
           },
           {
            "args": [
             [
              "4.517"
             ],
             {
              "frame": {
               "duration": 0,
               "redraw": true
              },
              "fromcurrent": true,
              "mode": "immediate",
              "transition": {
               "duration": 0,
               "easing": "linear"
              }
             }
            ],
            "label": "4.517",
            "method": "animate"
           },
           {
            "args": [
             [
              "4.426"
             ],
             {
              "frame": {
               "duration": 0,
               "redraw": true
              },
              "fromcurrent": true,
              "mode": "immediate",
              "transition": {
               "duration": 0,
               "easing": "linear"
              }
             }
            ],
            "label": "4.426",
            "method": "animate"
           },
           {
            "args": [
             [
              "4.395"
             ],
             {
              "frame": {
               "duration": 0,
               "redraw": true
              },
              "fromcurrent": true,
              "mode": "immediate",
              "transition": {
               "duration": 0,
               "easing": "linear"
              }
             }
            ],
            "label": "4.395",
            "method": "animate"
           },
           {
            "args": [
             [
              "4.355"
             ],
             {
              "frame": {
               "duration": 0,
               "redraw": true
              },
              "fromcurrent": true,
              "mode": "immediate",
              "transition": {
               "duration": 0,
               "easing": "linear"
              }
             }
            ],
            "label": "4.355",
            "method": "animate"
           },
           {
            "args": [
             [
              "4.325"
             ],
             {
              "frame": {
               "duration": 0,
               "redraw": true
              },
              "fromcurrent": true,
              "mode": "immediate",
              "transition": {
               "duration": 0,
               "easing": "linear"
              }
             }
            ],
            "label": "4.325",
            "method": "animate"
           },
           {
            "args": [
             [
              "4.308"
             ],
             {
              "frame": {
               "duration": 0,
               "redraw": true
              },
              "fromcurrent": true,
              "mode": "immediate",
              "transition": {
               "duration": 0,
               "easing": "linear"
              }
             }
            ],
            "label": "4.308",
            "method": "animate"
           },
           {
            "args": [
             [
              "4.289"
             ],
             {
              "frame": {
               "duration": 0,
               "redraw": true
              },
              "fromcurrent": true,
              "mode": "immediate",
              "transition": {
               "duration": 0,
               "easing": "linear"
              }
             }
            ],
            "label": "4.289",
            "method": "animate"
           },
           {
            "args": [
             [
              "4.283"
             ],
             {
              "frame": {
               "duration": 0,
               "redraw": true
              },
              "fromcurrent": true,
              "mode": "immediate",
              "transition": {
               "duration": 0,
               "easing": "linear"
              }
             }
            ],
            "label": "4.283",
            "method": "animate"
           },
           {
            "args": [
             [
              "4.275"
             ],
             {
              "frame": {
               "duration": 0,
               "redraw": true
              },
              "fromcurrent": true,
              "mode": "immediate",
              "transition": {
               "duration": 0,
               "easing": "linear"
              }
             }
            ],
            "label": "4.275",
            "method": "animate"
           },
           {
            "args": [
             [
              "4.227"
             ],
             {
              "frame": {
               "duration": 0,
               "redraw": true
              },
              "fromcurrent": true,
              "mode": "immediate",
              "transition": {
               "duration": 0,
               "easing": "linear"
              }
             }
            ],
            "label": "4.227",
            "method": "animate"
           },
           {
            "args": [
             [
              "4.208"
             ],
             {
              "frame": {
               "duration": 0,
               "redraw": true
              },
              "fromcurrent": true,
              "mode": "immediate",
              "transition": {
               "duration": 0,
               "easing": "linear"
              }
             }
            ],
            "label": "4.208",
            "method": "animate"
           },
           {
            "args": [
             [
              "4.107"
             ],
             {
              "frame": {
               "duration": 0,
               "redraw": true
              },
              "fromcurrent": true,
              "mode": "immediate",
              "transition": {
               "duration": 0,
               "easing": "linear"
              }
             }
            ],
            "label": "4.107",
            "method": "animate"
           },
           {
            "args": [
             [
              "4.073"
             ],
             {
              "frame": {
               "duration": 0,
               "redraw": true
              },
              "fromcurrent": true,
              "mode": "immediate",
              "transition": {
               "duration": 0,
               "easing": "linear"
              }
             }
            ],
            "label": "4.073",
            "method": "animate"
           },
           {
            "args": [
             [
              "3.849"
             ],
             {
              "frame": {
               "duration": 0,
               "redraw": true
              },
              "fromcurrent": true,
              "mode": "immediate",
              "transition": {
               "duration": 0,
               "easing": "linear"
              }
             }
            ],
            "label": "3.849",
            "method": "animate"
           },
           {
            "args": [
             [
              "3.819"
             ],
             {
              "frame": {
               "duration": 0,
               "redraw": true
              },
              "fromcurrent": true,
              "mode": "immediate",
              "transition": {
               "duration": 0,
               "easing": "linear"
              }
             }
            ],
            "label": "3.819",
            "method": "animate"
           },
           {
            "args": [
             [
              "3.775"
             ],
             {
              "frame": {
               "duration": 0,
               "redraw": true
              },
              "fromcurrent": true,
              "mode": "immediate",
              "transition": {
               "duration": 0,
               "easing": "linear"
              }
             }
            ],
            "label": "3.775",
            "method": "animate"
           },
           {
            "args": [
             [
              "3.658"
             ],
             {
              "frame": {
               "duration": 0,
               "redraw": true
              },
              "fromcurrent": true,
              "mode": "immediate",
              "transition": {
               "duration": 0,
               "easing": "linear"
              }
             }
            ],
            "label": "3.658",
            "method": "animate"
           },
           {
            "args": [
             [
              "3.623"
             ],
             {
              "frame": {
               "duration": 0,
               "redraw": true
              },
              "fromcurrent": true,
              "mode": "immediate",
              "transition": {
               "duration": 0,
               "easing": "linear"
              }
             }
            ],
            "label": "3.623",
            "method": "animate"
           },
           {
            "args": [
             [
              "3.615"
             ],
             {
              "frame": {
               "duration": 0,
               "redraw": true
              },
              "fromcurrent": true,
              "mode": "immediate",
              "transition": {
               "duration": 0,
               "easing": "linear"
              }
             }
            ],
            "label": "3.615",
            "method": "animate"
           },
           {
            "args": [
             [
              "3.6"
             ],
             {
              "frame": {
               "duration": 0,
               "redraw": true
              },
              "fromcurrent": true,
              "mode": "immediate",
              "transition": {
               "duration": 0,
               "easing": "linear"
              }
             }
            ],
            "label": "3.6",
            "method": "animate"
           },
           {
            "args": [
             [
              "3.512"
             ],
             {
              "frame": {
               "duration": 0,
               "redraw": true
              },
              "fromcurrent": true,
              "mode": "immediate",
              "transition": {
               "duration": 0,
               "easing": "linear"
              }
             }
            ],
            "label": "3.512",
            "method": "animate"
           },
           {
            "args": [
             [
              "3.467"
             ],
             {
              "frame": {
               "duration": 0,
               "redraw": true
              },
              "fromcurrent": true,
              "mode": "immediate",
              "transition": {
               "duration": 0,
               "easing": "linear"
              }
             }
            ],
            "label": "3.467",
            "method": "animate"
           },
           {
            "args": [
             [
              "3.415"
             ],
             {
              "frame": {
               "duration": 0,
               "redraw": true
              },
              "fromcurrent": true,
              "mode": "immediate",
              "transition": {
               "duration": 0,
               "easing": "linear"
              }
             }
            ],
            "label": "3.415",
            "method": "animate"
           },
           {
            "args": [
             [
              "3.145"
             ],
             {
              "frame": {
               "duration": 0,
               "redraw": true
              },
              "fromcurrent": true,
              "mode": "immediate",
              "transition": {
               "duration": 0,
               "easing": "linear"
              }
             }
            ],
            "label": "3.145",
            "method": "animate"
           },
           {
            "args": [
             [
              "2.523"
             ],
             {
              "frame": {
               "duration": 0,
               "redraw": true
              },
              "fromcurrent": true,
              "mode": "immediate",
              "transition": {
               "duration": 0,
               "easing": "linear"
              }
             }
            ],
            "label": "2.523",
            "method": "animate"
           }
          ],
          "x": 0.1,
          "xanchor": "left",
          "y": 0,
          "yanchor": "top"
         }
        ],
        "template": {
         "data": {
          "bar": [
           {
            "error_x": {
             "color": "#2a3f5f"
            },
            "error_y": {
             "color": "#2a3f5f"
            },
            "marker": {
             "line": {
              "color": "#E5ECF6",
              "width": 0.5
             },
             "pattern": {
              "fillmode": "overlay",
              "size": 10,
              "solidity": 0.2
             }
            },
            "type": "bar"
           }
          ],
          "barpolar": [
           {
            "marker": {
             "line": {
              "color": "#E5ECF6",
              "width": 0.5
             },
             "pattern": {
              "fillmode": "overlay",
              "size": 10,
              "solidity": 0.2
             }
            },
            "type": "barpolar"
           }
          ],
          "carpet": [
           {
            "aaxis": {
             "endlinecolor": "#2a3f5f",
             "gridcolor": "white",
             "linecolor": "white",
             "minorgridcolor": "white",
             "startlinecolor": "#2a3f5f"
            },
            "baxis": {
             "endlinecolor": "#2a3f5f",
             "gridcolor": "white",
             "linecolor": "white",
             "minorgridcolor": "white",
             "startlinecolor": "#2a3f5f"
            },
            "type": "carpet"
           }
          ],
          "choropleth": [
           {
            "colorbar": {
             "outlinewidth": 0,
             "ticks": ""
            },
            "type": "choropleth"
           }
          ],
          "contour": [
           {
            "colorbar": {
             "outlinewidth": 0,
             "ticks": ""
            },
            "colorscale": [
             [
              0,
              "#0d0887"
             ],
             [
              0.1111111111111111,
              "#46039f"
             ],
             [
              0.2222222222222222,
              "#7201a8"
             ],
             [
              0.3333333333333333,
              "#9c179e"
             ],
             [
              0.4444444444444444,
              "#bd3786"
             ],
             [
              0.5555555555555556,
              "#d8576b"
             ],
             [
              0.6666666666666666,
              "#ed7953"
             ],
             [
              0.7777777777777778,
              "#fb9f3a"
             ],
             [
              0.8888888888888888,
              "#fdca26"
             ],
             [
              1,
              "#f0f921"
             ]
            ],
            "type": "contour"
           }
          ],
          "contourcarpet": [
           {
            "colorbar": {
             "outlinewidth": 0,
             "ticks": ""
            },
            "type": "contourcarpet"
           }
          ],
          "heatmap": [
           {
            "colorbar": {
             "outlinewidth": 0,
             "ticks": ""
            },
            "colorscale": [
             [
              0,
              "#0d0887"
             ],
             [
              0.1111111111111111,
              "#46039f"
             ],
             [
              0.2222222222222222,
              "#7201a8"
             ],
             [
              0.3333333333333333,
              "#9c179e"
             ],
             [
              0.4444444444444444,
              "#bd3786"
             ],
             [
              0.5555555555555556,
              "#d8576b"
             ],
             [
              0.6666666666666666,
              "#ed7953"
             ],
             [
              0.7777777777777778,
              "#fb9f3a"
             ],
             [
              0.8888888888888888,
              "#fdca26"
             ],
             [
              1,
              "#f0f921"
             ]
            ],
            "type": "heatmap"
           }
          ],
          "heatmapgl": [
           {
            "colorbar": {
             "outlinewidth": 0,
             "ticks": ""
            },
            "colorscale": [
             [
              0,
              "#0d0887"
             ],
             [
              0.1111111111111111,
              "#46039f"
             ],
             [
              0.2222222222222222,
              "#7201a8"
             ],
             [
              0.3333333333333333,
              "#9c179e"
             ],
             [
              0.4444444444444444,
              "#bd3786"
             ],
             [
              0.5555555555555556,
              "#d8576b"
             ],
             [
              0.6666666666666666,
              "#ed7953"
             ],
             [
              0.7777777777777778,
              "#fb9f3a"
             ],
             [
              0.8888888888888888,
              "#fdca26"
             ],
             [
              1,
              "#f0f921"
             ]
            ],
            "type": "heatmapgl"
           }
          ],
          "histogram": [
           {
            "marker": {
             "pattern": {
              "fillmode": "overlay",
              "size": 10,
              "solidity": 0.2
             }
            },
            "type": "histogram"
           }
          ],
          "histogram2d": [
           {
            "colorbar": {
             "outlinewidth": 0,
             "ticks": ""
            },
            "colorscale": [
             [
              0,
              "#0d0887"
             ],
             [
              0.1111111111111111,
              "#46039f"
             ],
             [
              0.2222222222222222,
              "#7201a8"
             ],
             [
              0.3333333333333333,
              "#9c179e"
             ],
             [
              0.4444444444444444,
              "#bd3786"
             ],
             [
              0.5555555555555556,
              "#d8576b"
             ],
             [
              0.6666666666666666,
              "#ed7953"
             ],
             [
              0.7777777777777778,
              "#fb9f3a"
             ],
             [
              0.8888888888888888,
              "#fdca26"
             ],
             [
              1,
              "#f0f921"
             ]
            ],
            "type": "histogram2d"
           }
          ],
          "histogram2dcontour": [
           {
            "colorbar": {
             "outlinewidth": 0,
             "ticks": ""
            },
            "colorscale": [
             [
              0,
              "#0d0887"
             ],
             [
              0.1111111111111111,
              "#46039f"
             ],
             [
              0.2222222222222222,
              "#7201a8"
             ],
             [
              0.3333333333333333,
              "#9c179e"
             ],
             [
              0.4444444444444444,
              "#bd3786"
             ],
             [
              0.5555555555555556,
              "#d8576b"
             ],
             [
              0.6666666666666666,
              "#ed7953"
             ],
             [
              0.7777777777777778,
              "#fb9f3a"
             ],
             [
              0.8888888888888888,
              "#fdca26"
             ],
             [
              1,
              "#f0f921"
             ]
            ],
            "type": "histogram2dcontour"
           }
          ],
          "mesh3d": [
           {
            "colorbar": {
             "outlinewidth": 0,
             "ticks": ""
            },
            "type": "mesh3d"
           }
          ],
          "parcoords": [
           {
            "line": {
             "colorbar": {
              "outlinewidth": 0,
              "ticks": ""
             }
            },
            "type": "parcoords"
           }
          ],
          "pie": [
           {
            "automargin": true,
            "type": "pie"
           }
          ],
          "scatter": [
           {
            "marker": {
             "colorbar": {
              "outlinewidth": 0,
              "ticks": ""
             }
            },
            "type": "scatter"
           }
          ],
          "scatter3d": [
           {
            "line": {
             "colorbar": {
              "outlinewidth": 0,
              "ticks": ""
             }
            },
            "marker": {
             "colorbar": {
              "outlinewidth": 0,
              "ticks": ""
             }
            },
            "type": "scatter3d"
           }
          ],
          "scattercarpet": [
           {
            "marker": {
             "colorbar": {
              "outlinewidth": 0,
              "ticks": ""
             }
            },
            "type": "scattercarpet"
           }
          ],
          "scattergeo": [
           {
            "marker": {
             "colorbar": {
              "outlinewidth": 0,
              "ticks": ""
             }
            },
            "type": "scattergeo"
           }
          ],
          "scattergl": [
           {
            "marker": {
             "colorbar": {
              "outlinewidth": 0,
              "ticks": ""
             }
            },
            "type": "scattergl"
           }
          ],
          "scattermapbox": [
           {
            "marker": {
             "colorbar": {
              "outlinewidth": 0,
              "ticks": ""
             }
            },
            "type": "scattermapbox"
           }
          ],
          "scatterpolar": [
           {
            "marker": {
             "colorbar": {
              "outlinewidth": 0,
              "ticks": ""
             }
            },
            "type": "scatterpolar"
           }
          ],
          "scatterpolargl": [
           {
            "marker": {
             "colorbar": {
              "outlinewidth": 0,
              "ticks": ""
             }
            },
            "type": "scatterpolargl"
           }
          ],
          "scatterternary": [
           {
            "marker": {
             "colorbar": {
              "outlinewidth": 0,
              "ticks": ""
             }
            },
            "type": "scatterternary"
           }
          ],
          "surface": [
           {
            "colorbar": {
             "outlinewidth": 0,
             "ticks": ""
            },
            "colorscale": [
             [
              0,
              "#0d0887"
             ],
             [
              0.1111111111111111,
              "#46039f"
             ],
             [
              0.2222222222222222,
              "#7201a8"
             ],
             [
              0.3333333333333333,
              "#9c179e"
             ],
             [
              0.4444444444444444,
              "#bd3786"
             ],
             [
              0.5555555555555556,
              "#d8576b"
             ],
             [
              0.6666666666666666,
              "#ed7953"
             ],
             [
              0.7777777777777778,
              "#fb9f3a"
             ],
             [
              0.8888888888888888,
              "#fdca26"
             ],
             [
              1,
              "#f0f921"
             ]
            ],
            "type": "surface"
           }
          ],
          "table": [
           {
            "cells": {
             "fill": {
              "color": "#EBF0F8"
             },
             "line": {
              "color": "white"
             }
            },
            "header": {
             "fill": {
              "color": "#C8D4E3"
             },
             "line": {
              "color": "white"
             }
            },
            "type": "table"
           }
          ]
         },
         "layout": {
          "annotationdefaults": {
           "arrowcolor": "#2a3f5f",
           "arrowhead": 0,
           "arrowwidth": 1
          },
          "autotypenumbers": "strict",
          "coloraxis": {
           "colorbar": {
            "outlinewidth": 0,
            "ticks": ""
           }
          },
          "colorscale": {
           "diverging": [
            [
             0,
             "#8e0152"
            ],
            [
             0.1,
             "#c51b7d"
            ],
            [
             0.2,
             "#de77ae"
            ],
            [
             0.3,
             "#f1b6da"
            ],
            [
             0.4,
             "#fde0ef"
            ],
            [
             0.5,
             "#f7f7f7"
            ],
            [
             0.6,
             "#e6f5d0"
            ],
            [
             0.7,
             "#b8e186"
            ],
            [
             0.8,
             "#7fbc41"
            ],
            [
             0.9,
             "#4d9221"
            ],
            [
             1,
             "#276419"
            ]
           ],
           "sequential": [
            [
             0,
             "#0d0887"
            ],
            [
             0.1111111111111111,
             "#46039f"
            ],
            [
             0.2222222222222222,
             "#7201a8"
            ],
            [
             0.3333333333333333,
             "#9c179e"
            ],
            [
             0.4444444444444444,
             "#bd3786"
            ],
            [
             0.5555555555555556,
             "#d8576b"
            ],
            [
             0.6666666666666666,
             "#ed7953"
            ],
            [
             0.7777777777777778,
             "#fb9f3a"
            ],
            [
             0.8888888888888888,
             "#fdca26"
            ],
            [
             1,
             "#f0f921"
            ]
           ],
           "sequentialminus": [
            [
             0,
             "#0d0887"
            ],
            [
             0.1111111111111111,
             "#46039f"
            ],
            [
             0.2222222222222222,
             "#7201a8"
            ],
            [
             0.3333333333333333,
             "#9c179e"
            ],
            [
             0.4444444444444444,
             "#bd3786"
            ],
            [
             0.5555555555555556,
             "#d8576b"
            ],
            [
             0.6666666666666666,
             "#ed7953"
            ],
            [
             0.7777777777777778,
             "#fb9f3a"
            ],
            [
             0.8888888888888888,
             "#fdca26"
            ],
            [
             1,
             "#f0f921"
            ]
           ]
          },
          "colorway": [
           "#636efa",
           "#EF553B",
           "#00cc96",
           "#ab63fa",
           "#FFA15A",
           "#19d3f3",
           "#FF6692",
           "#B6E880",
           "#FF97FF",
           "#FECB52"
          ],
          "font": {
           "color": "#2a3f5f"
          },
          "geo": {
           "bgcolor": "white",
           "lakecolor": "white",
           "landcolor": "#E5ECF6",
           "showlakes": true,
           "showland": true,
           "subunitcolor": "white"
          },
          "hoverlabel": {
           "align": "left"
          },
          "hovermode": "closest",
          "mapbox": {
           "style": "light"
          },
          "paper_bgcolor": "white",
          "plot_bgcolor": "#E5ECF6",
          "polar": {
           "angularaxis": {
            "gridcolor": "white",
            "linecolor": "white",
            "ticks": ""
           },
           "bgcolor": "#E5ECF6",
           "radialaxis": {
            "gridcolor": "white",
            "linecolor": "white",
            "ticks": ""
           }
          },
          "scene": {
           "xaxis": {
            "backgroundcolor": "#E5ECF6",
            "gridcolor": "white",
            "gridwidth": 2,
            "linecolor": "white",
            "showbackground": true,
            "ticks": "",
            "zerolinecolor": "white"
           },
           "yaxis": {
            "backgroundcolor": "#E5ECF6",
            "gridcolor": "white",
            "gridwidth": 2,
            "linecolor": "white",
            "showbackground": true,
            "ticks": "",
            "zerolinecolor": "white"
           },
           "zaxis": {
            "backgroundcolor": "#E5ECF6",
            "gridcolor": "white",
            "gridwidth": 2,
            "linecolor": "white",
            "showbackground": true,
            "ticks": "",
            "zerolinecolor": "white"
           }
          },
          "shapedefaults": {
           "line": {
            "color": "#2a3f5f"
           }
          },
          "ternary": {
           "aaxis": {
            "gridcolor": "white",
            "linecolor": "white",
            "ticks": ""
           },
           "baxis": {
            "gridcolor": "white",
            "linecolor": "white",
            "ticks": ""
           },
           "bgcolor": "#E5ECF6",
           "caxis": {
            "gridcolor": "white",
            "linecolor": "white",
            "ticks": ""
           }
          },
          "title": {
           "x": 0.05
          },
          "xaxis": {
           "automargin": true,
           "gridcolor": "white",
           "linecolor": "white",
           "ticks": "",
           "title": {
            "standoff": 15
           },
           "zerolinecolor": "white",
           "zerolinewidth": 2
          },
          "yaxis": {
           "automargin": true,
           "gridcolor": "white",
           "linecolor": "white",
           "ticks": "",
           "title": {
            "standoff": 15
           },
           "zerolinecolor": "white",
           "zerolinewidth": 2
          }
         }
        },
        "title": {
         "text": "World Happiness Index - year wise data",
         "x": 0.5
        },
        "updatemenus": [
         {
          "buttons": [
           {
            "args": [
             null,
             {
              "frame": {
               "duration": 500,
               "redraw": true
              },
              "fromcurrent": true,
              "mode": "immediate",
              "transition": {
               "duration": 500,
               "easing": "linear"
              }
             }
            ],
            "label": "&#9654;",
            "method": "animate"
           },
           {
            "args": [
             [
              null
             ],
             {
              "frame": {
               "duration": 0,
               "redraw": true
              },
              "fromcurrent": true,
              "mode": "immediate",
              "transition": {
               "duration": 0,
               "easing": "linear"
              }
             }
            ],
            "label": "&#9724;",
            "method": "animate"
           }
          ],
          "direction": "left",
          "pad": {
           "r": 10,
           "t": 70
          },
          "showactive": false,
          "type": "buttons",
          "x": 0.1,
          "xanchor": "right",
          "y": 0,
          "yanchor": "top"
         }
        ]
       }
      },
      "text/html": [
       "<div>                            <div id=\"c6e519c6-c7b9-47b1-aab8-b36c6d185a77\" class=\"plotly-graph-div\" style=\"height:525px; width:100%;\"></div>            <script type=\"text/javascript\">                require([\"plotly\"], function(Plotly) {                    window.PLOTLYENV=window.PLOTLYENV || {};                                    if (document.getElementById(\"c6e519c6-c7b9-47b1-aab8-b36c6d185a77\")) {                    Plotly.newPlot(                        \"c6e519c6-c7b9-47b1-aab8-b36c6d185a77\",                        [{\"coloraxis\":\"coloraxis\",\"geo\":\"geo\",\"hovertemplate\":\"Ladder score=%{z}<br>Country name=%{location}<extra></extra>\",\"locationmode\":\"country names\",\"locations\":[\"Finland\"],\"name\":\"\",\"z\":[7.842],\"type\":\"choropleth\"}],                        {\"template\":{\"data\":{\"bar\":[{\"error_x\":{\"color\":\"#2a3f5f\"},\"error_y\":{\"color\":\"#2a3f5f\"},\"marker\":{\"line\":{\"color\":\"#E5ECF6\",\"width\":0.5},\"pattern\":{\"fillmode\":\"overlay\",\"size\":10,\"solidity\":0.2}},\"type\":\"bar\"}],\"barpolar\":[{\"marker\":{\"line\":{\"color\":\"#E5ECF6\",\"width\":0.5},\"pattern\":{\"fillmode\":\"overlay\",\"size\":10,\"solidity\":0.2}},\"type\":\"barpolar\"}],\"carpet\":[{\"aaxis\":{\"endlinecolor\":\"#2a3f5f\",\"gridcolor\":\"white\",\"linecolor\":\"white\",\"minorgridcolor\":\"white\",\"startlinecolor\":\"#2a3f5f\"},\"baxis\":{\"endlinecolor\":\"#2a3f5f\",\"gridcolor\":\"white\",\"linecolor\":\"white\",\"minorgridcolor\":\"white\",\"startlinecolor\":\"#2a3f5f\"},\"type\":\"carpet\"}],\"choropleth\":[{\"colorbar\":{\"outlinewidth\":0,\"ticks\":\"\"},\"type\":\"choropleth\"}],\"contour\":[{\"colorbar\":{\"outlinewidth\":0,\"ticks\":\"\"},\"colorscale\":[[0.0,\"#0d0887\"],[0.1111111111111111,\"#46039f\"],[0.2222222222222222,\"#7201a8\"],[0.3333333333333333,\"#9c179e\"],[0.4444444444444444,\"#bd3786\"],[0.5555555555555556,\"#d8576b\"],[0.6666666666666666,\"#ed7953\"],[0.7777777777777778,\"#fb9f3a\"],[0.8888888888888888,\"#fdca26\"],[1.0,\"#f0f921\"]],\"type\":\"contour\"}],\"contourcarpet\":[{\"colorbar\":{\"outlinewidth\":0,\"ticks\":\"\"},\"type\":\"contourcarpet\"}],\"heatmap\":[{\"colorbar\":{\"outlinewidth\":0,\"ticks\":\"\"},\"colorscale\":[[0.0,\"#0d0887\"],[0.1111111111111111,\"#46039f\"],[0.2222222222222222,\"#7201a8\"],[0.3333333333333333,\"#9c179e\"],[0.4444444444444444,\"#bd3786\"],[0.5555555555555556,\"#d8576b\"],[0.6666666666666666,\"#ed7953\"],[0.7777777777777778,\"#fb9f3a\"],[0.8888888888888888,\"#fdca26\"],[1.0,\"#f0f921\"]],\"type\":\"heatmap\"}],\"heatmapgl\":[{\"colorbar\":{\"outlinewidth\":0,\"ticks\":\"\"},\"colorscale\":[[0.0,\"#0d0887\"],[0.1111111111111111,\"#46039f\"],[0.2222222222222222,\"#7201a8\"],[0.3333333333333333,\"#9c179e\"],[0.4444444444444444,\"#bd3786\"],[0.5555555555555556,\"#d8576b\"],[0.6666666666666666,\"#ed7953\"],[0.7777777777777778,\"#fb9f3a\"],[0.8888888888888888,\"#fdca26\"],[1.0,\"#f0f921\"]],\"type\":\"heatmapgl\"}],\"histogram\":[{\"marker\":{\"pattern\":{\"fillmode\":\"overlay\",\"size\":10,\"solidity\":0.2}},\"type\":\"histogram\"}],\"histogram2d\":[{\"colorbar\":{\"outlinewidth\":0,\"ticks\":\"\"},\"colorscale\":[[0.0,\"#0d0887\"],[0.1111111111111111,\"#46039f\"],[0.2222222222222222,\"#7201a8\"],[0.3333333333333333,\"#9c179e\"],[0.4444444444444444,\"#bd3786\"],[0.5555555555555556,\"#d8576b\"],[0.6666666666666666,\"#ed7953\"],[0.7777777777777778,\"#fb9f3a\"],[0.8888888888888888,\"#fdca26\"],[1.0,\"#f0f921\"]],\"type\":\"histogram2d\"}],\"histogram2dcontour\":[{\"colorbar\":{\"outlinewidth\":0,\"ticks\":\"\"},\"colorscale\":[[0.0,\"#0d0887\"],[0.1111111111111111,\"#46039f\"],[0.2222222222222222,\"#7201a8\"],[0.3333333333333333,\"#9c179e\"],[0.4444444444444444,\"#bd3786\"],[0.5555555555555556,\"#d8576b\"],[0.6666666666666666,\"#ed7953\"],[0.7777777777777778,\"#fb9f3a\"],[0.8888888888888888,\"#fdca26\"],[1.0,\"#f0f921\"]],\"type\":\"histogram2dcontour\"}],\"mesh3d\":[{\"colorbar\":{\"outlinewidth\":0,\"ticks\":\"\"},\"type\":\"mesh3d\"}],\"parcoords\":[{\"line\":{\"colorbar\":{\"outlinewidth\":0,\"ticks\":\"\"}},\"type\":\"parcoords\"}],\"pie\":[{\"automargin\":true,\"type\":\"pie\"}],\"scatter\":[{\"marker\":{\"colorbar\":{\"outlinewidth\":0,\"ticks\":\"\"}},\"type\":\"scatter\"}],\"scatter3d\":[{\"line\":{\"colorbar\":{\"outlinewidth\":0,\"ticks\":\"\"}},\"marker\":{\"colorbar\":{\"outlinewidth\":0,\"ticks\":\"\"}},\"type\":\"scatter3d\"}],\"scattercarpet\":[{\"marker\":{\"colorbar\":{\"outlinewidth\":0,\"ticks\":\"\"}},\"type\":\"scattercarpet\"}],\"scattergeo\":[{\"marker\":{\"colorbar\":{\"outlinewidth\":0,\"ticks\":\"\"}},\"type\":\"scattergeo\"}],\"scattergl\":[{\"marker\":{\"colorbar\":{\"outlinewidth\":0,\"ticks\":\"\"}},\"type\":\"scattergl\"}],\"scattermapbox\":[{\"marker\":{\"colorbar\":{\"outlinewidth\":0,\"ticks\":\"\"}},\"type\":\"scattermapbox\"}],\"scatterpolar\":[{\"marker\":{\"colorbar\":{\"outlinewidth\":0,\"ticks\":\"\"}},\"type\":\"scatterpolar\"}],\"scatterpolargl\":[{\"marker\":{\"colorbar\":{\"outlinewidth\":0,\"ticks\":\"\"}},\"type\":\"scatterpolargl\"}],\"scatterternary\":[{\"marker\":{\"colorbar\":{\"outlinewidth\":0,\"ticks\":\"\"}},\"type\":\"scatterternary\"}],\"surface\":[{\"colorbar\":{\"outlinewidth\":0,\"ticks\":\"\"},\"colorscale\":[[0.0,\"#0d0887\"],[0.1111111111111111,\"#46039f\"],[0.2222222222222222,\"#7201a8\"],[0.3333333333333333,\"#9c179e\"],[0.4444444444444444,\"#bd3786\"],[0.5555555555555556,\"#d8576b\"],[0.6666666666666666,\"#ed7953\"],[0.7777777777777778,\"#fb9f3a\"],[0.8888888888888888,\"#fdca26\"],[1.0,\"#f0f921\"]],\"type\":\"surface\"}],\"table\":[{\"cells\":{\"fill\":{\"color\":\"#EBF0F8\"},\"line\":{\"color\":\"white\"}},\"header\":{\"fill\":{\"color\":\"#C8D4E3\"},\"line\":{\"color\":\"white\"}},\"type\":\"table\"}]},\"layout\":{\"annotationdefaults\":{\"arrowcolor\":\"#2a3f5f\",\"arrowhead\":0,\"arrowwidth\":1},\"autotypenumbers\":\"strict\",\"coloraxis\":{\"colorbar\":{\"outlinewidth\":0,\"ticks\":\"\"}},\"colorscale\":{\"diverging\":[[0,\"#8e0152\"],[0.1,\"#c51b7d\"],[0.2,\"#de77ae\"],[0.3,\"#f1b6da\"],[0.4,\"#fde0ef\"],[0.5,\"#f7f7f7\"],[0.6,\"#e6f5d0\"],[0.7,\"#b8e186\"],[0.8,\"#7fbc41\"],[0.9,\"#4d9221\"],[1,\"#276419\"]],\"sequential\":[[0.0,\"#0d0887\"],[0.1111111111111111,\"#46039f\"],[0.2222222222222222,\"#7201a8\"],[0.3333333333333333,\"#9c179e\"],[0.4444444444444444,\"#bd3786\"],[0.5555555555555556,\"#d8576b\"],[0.6666666666666666,\"#ed7953\"],[0.7777777777777778,\"#fb9f3a\"],[0.8888888888888888,\"#fdca26\"],[1.0,\"#f0f921\"]],\"sequentialminus\":[[0.0,\"#0d0887\"],[0.1111111111111111,\"#46039f\"],[0.2222222222222222,\"#7201a8\"],[0.3333333333333333,\"#9c179e\"],[0.4444444444444444,\"#bd3786\"],[0.5555555555555556,\"#d8576b\"],[0.6666666666666666,\"#ed7953\"],[0.7777777777777778,\"#fb9f3a\"],[0.8888888888888888,\"#fdca26\"],[1.0,\"#f0f921\"]]},\"colorway\":[\"#636efa\",\"#EF553B\",\"#00cc96\",\"#ab63fa\",\"#FFA15A\",\"#19d3f3\",\"#FF6692\",\"#B6E880\",\"#FF97FF\",\"#FECB52\"],\"font\":{\"color\":\"#2a3f5f\"},\"geo\":{\"bgcolor\":\"white\",\"lakecolor\":\"white\",\"landcolor\":\"#E5ECF6\",\"showlakes\":true,\"showland\":true,\"subunitcolor\":\"white\"},\"hoverlabel\":{\"align\":\"left\"},\"hovermode\":\"closest\",\"mapbox\":{\"style\":\"light\"},\"paper_bgcolor\":\"white\",\"plot_bgcolor\":\"#E5ECF6\",\"polar\":{\"angularaxis\":{\"gridcolor\":\"white\",\"linecolor\":\"white\",\"ticks\":\"\"},\"bgcolor\":\"#E5ECF6\",\"radialaxis\":{\"gridcolor\":\"white\",\"linecolor\":\"white\",\"ticks\":\"\"}},\"scene\":{\"xaxis\":{\"backgroundcolor\":\"#E5ECF6\",\"gridcolor\":\"white\",\"gridwidth\":2,\"linecolor\":\"white\",\"showbackground\":true,\"ticks\":\"\",\"zerolinecolor\":\"white\"},\"yaxis\":{\"backgroundcolor\":\"#E5ECF6\",\"gridcolor\":\"white\",\"gridwidth\":2,\"linecolor\":\"white\",\"showbackground\":true,\"ticks\":\"\",\"zerolinecolor\":\"white\"},\"zaxis\":{\"backgroundcolor\":\"#E5ECF6\",\"gridcolor\":\"white\",\"gridwidth\":2,\"linecolor\":\"white\",\"showbackground\":true,\"ticks\":\"\",\"zerolinecolor\":\"white\"}},\"shapedefaults\":{\"line\":{\"color\":\"#2a3f5f\"}},\"ternary\":{\"aaxis\":{\"gridcolor\":\"white\",\"linecolor\":\"white\",\"ticks\":\"\"},\"baxis\":{\"gridcolor\":\"white\",\"linecolor\":\"white\",\"ticks\":\"\"},\"bgcolor\":\"#E5ECF6\",\"caxis\":{\"gridcolor\":\"white\",\"linecolor\":\"white\",\"ticks\":\"\"}},\"title\":{\"x\":0.05},\"xaxis\":{\"automargin\":true,\"gridcolor\":\"white\",\"linecolor\":\"white\",\"ticks\":\"\",\"title\":{\"standoff\":15},\"zerolinecolor\":\"white\",\"zerolinewidth\":2},\"yaxis\":{\"automargin\":true,\"gridcolor\":\"white\",\"linecolor\":\"white\",\"ticks\":\"\",\"title\":{\"standoff\":15},\"zerolinecolor\":\"white\",\"zerolinewidth\":2}}},\"geo\":{\"domain\":{\"x\":[0.0,1.0],\"y\":[0.0,1.0]},\"center\":{}},\"coloraxis\":{\"colorbar\":{\"title\":{\"text\":\"Ladder score\"}},\"colorscale\":[[0.0,\"#0d0887\"],[0.1111111111111111,\"#46039f\"],[0.2222222222222222,\"#7201a8\"],[0.3333333333333333,\"#9c179e\"],[0.4444444444444444,\"#bd3786\"],[0.5555555555555556,\"#d8576b\"],[0.6666666666666666,\"#ed7953\"],[0.7777777777777778,\"#fb9f3a\"],[0.8888888888888888,\"#fdca26\"],[1.0,\"#f0f921\"]]},\"legend\":{\"tracegroupgap\":0},\"margin\":{\"t\":60},\"updatemenus\":[{\"buttons\":[{\"args\":[null,{\"frame\":{\"duration\":500,\"redraw\":true},\"mode\":\"immediate\",\"fromcurrent\":true,\"transition\":{\"duration\":500,\"easing\":\"linear\"}}],\"label\":\"&#9654;\",\"method\":\"animate\"},{\"args\":[[null],{\"frame\":{\"duration\":0,\"redraw\":true},\"mode\":\"immediate\",\"fromcurrent\":true,\"transition\":{\"duration\":0,\"easing\":\"linear\"}}],\"label\":\"&#9724;\",\"method\":\"animate\"}],\"direction\":\"left\",\"pad\":{\"r\":10,\"t\":70},\"showactive\":false,\"type\":\"buttons\",\"x\":0.1,\"xanchor\":\"right\",\"y\":0,\"yanchor\":\"top\"}],\"sliders\":[{\"active\":0,\"currentvalue\":{\"prefix\":\"Ladder score=\"},\"len\":0.9,\"pad\":{\"b\":10,\"t\":60},\"steps\":[{\"args\":[[\"7.842\"],{\"frame\":{\"duration\":0,\"redraw\":true},\"mode\":\"immediate\",\"fromcurrent\":true,\"transition\":{\"duration\":0,\"easing\":\"linear\"}}],\"label\":\"7.842\",\"method\":\"animate\"},{\"args\":[[\"7.62\"],{\"frame\":{\"duration\":0,\"redraw\":true},\"mode\":\"immediate\",\"fromcurrent\":true,\"transition\":{\"duration\":0,\"easing\":\"linear\"}}],\"label\":\"7.62\",\"method\":\"animate\"},{\"args\":[[\"7.571\"],{\"frame\":{\"duration\":0,\"redraw\":true},\"mode\":\"immediate\",\"fromcurrent\":true,\"transition\":{\"duration\":0,\"easing\":\"linear\"}}],\"label\":\"7.571\",\"method\":\"animate\"},{\"args\":[[\"7.554\"],{\"frame\":{\"duration\":0,\"redraw\":true},\"mode\":\"immediate\",\"fromcurrent\":true,\"transition\":{\"duration\":0,\"easing\":\"linear\"}}],\"label\":\"7.554\",\"method\":\"animate\"},{\"args\":[[\"7.464\"],{\"frame\":{\"duration\":0,\"redraw\":true},\"mode\":\"immediate\",\"fromcurrent\":true,\"transition\":{\"duration\":0,\"easing\":\"linear\"}}],\"label\":\"7.464\",\"method\":\"animate\"},{\"args\":[[\"7.392\"],{\"frame\":{\"duration\":0,\"redraw\":true},\"mode\":\"immediate\",\"fromcurrent\":true,\"transition\":{\"duration\":0,\"easing\":\"linear\"}}],\"label\":\"7.392\",\"method\":\"animate\"},{\"args\":[[\"7.363\"],{\"frame\":{\"duration\":0,\"redraw\":true},\"mode\":\"immediate\",\"fromcurrent\":true,\"transition\":{\"duration\":0,\"easing\":\"linear\"}}],\"label\":\"7.363\",\"method\":\"animate\"},{\"args\":[[\"7.324\"],{\"frame\":{\"duration\":0,\"redraw\":true},\"mode\":\"immediate\",\"fromcurrent\":true,\"transition\":{\"duration\":0,\"easing\":\"linear\"}}],\"label\":\"7.324\",\"method\":\"animate\"},{\"args\":[[\"7.277\"],{\"frame\":{\"duration\":0,\"redraw\":true},\"mode\":\"immediate\",\"fromcurrent\":true,\"transition\":{\"duration\":0,\"easing\":\"linear\"}}],\"label\":\"7.277\",\"method\":\"animate\"},{\"args\":[[\"7.268\"],{\"frame\":{\"duration\":0,\"redraw\":true},\"mode\":\"immediate\",\"fromcurrent\":true,\"transition\":{\"duration\":0,\"easing\":\"linear\"}}],\"label\":\"7.268\",\"method\":\"animate\"},{\"args\":[[\"7.183\"],{\"frame\":{\"duration\":0,\"redraw\":true},\"mode\":\"immediate\",\"fromcurrent\":true,\"transition\":{\"duration\":0,\"easing\":\"linear\"}}],\"label\":\"7.183\",\"method\":\"animate\"},{\"args\":[[\"7.157\"],{\"frame\":{\"duration\":0,\"redraw\":true},\"mode\":\"immediate\",\"fromcurrent\":true,\"transition\":{\"duration\":0,\"easing\":\"linear\"}}],\"label\":\"7.157\",\"method\":\"animate\"},{\"args\":[[\"7.155\"],{\"frame\":{\"duration\":0,\"redraw\":true},\"mode\":\"immediate\",\"fromcurrent\":true,\"transition\":{\"duration\":0,\"easing\":\"linear\"}}],\"label\":\"7.155\",\"method\":\"animate\"},{\"args\":[[\"7.103\"],{\"frame\":{\"duration\":0,\"redraw\":true},\"mode\":\"immediate\",\"fromcurrent\":true,\"transition\":{\"duration\":0,\"easing\":\"linear\"}}],\"label\":\"7.103\",\"method\":\"animate\"},{\"args\":[[\"7.085\"],{\"frame\":{\"duration\":0,\"redraw\":true},\"mode\":\"immediate\",\"fromcurrent\":true,\"transition\":{\"duration\":0,\"easing\":\"linear\"}}],\"label\":\"7.085\",\"method\":\"animate\"},{\"args\":[[\"7.069\"],{\"frame\":{\"duration\":0,\"redraw\":true},\"mode\":\"immediate\",\"fromcurrent\":true,\"transition\":{\"duration\":0,\"easing\":\"linear\"}}],\"label\":\"7.069\",\"method\":\"animate\"},{\"args\":[[\"7.064\"],{\"frame\":{\"duration\":0,\"redraw\":true},\"mode\":\"immediate\",\"fromcurrent\":true,\"transition\":{\"duration\":0,\"easing\":\"linear\"}}],\"label\":\"7.064\",\"method\":\"animate\"},{\"args\":[[\"6.965\"],{\"frame\":{\"duration\":0,\"redraw\":true},\"mode\":\"immediate\",\"fromcurrent\":true,\"transition\":{\"duration\":0,\"easing\":\"linear\"}}],\"label\":\"6.965\",\"method\":\"animate\"},{\"args\":[[\"6.951\"],{\"frame\":{\"duration\":0,\"redraw\":true},\"mode\":\"immediate\",\"fromcurrent\":true,\"transition\":{\"duration\":0,\"easing\":\"linear\"}}],\"label\":\"6.951\",\"method\":\"animate\"},{\"args\":[[\"6.834\"],{\"frame\":{\"duration\":0,\"redraw\":true},\"mode\":\"immediate\",\"fromcurrent\":true,\"transition\":{\"duration\":0,\"easing\":\"linear\"}}],\"label\":\"6.834\",\"method\":\"animate\"},{\"args\":[[\"6.69\"],{\"frame\":{\"duration\":0,\"redraw\":true},\"mode\":\"immediate\",\"fromcurrent\":true,\"transition\":{\"duration\":0,\"easing\":\"linear\"}}],\"label\":\"6.69\",\"method\":\"animate\"},{\"args\":[[\"6.647\"],{\"frame\":{\"duration\":0,\"redraw\":true},\"mode\":\"immediate\",\"fromcurrent\":true,\"transition\":{\"duration\":0,\"easing\":\"linear\"}}],\"label\":\"6.647\",\"method\":\"animate\"},{\"args\":[[\"6.602\"],{\"frame\":{\"duration\":0,\"redraw\":true},\"mode\":\"immediate\",\"fromcurrent\":true,\"transition\":{\"duration\":0,\"easing\":\"linear\"}}],\"label\":\"6.602\",\"method\":\"animate\"},{\"args\":[[\"6.584\"],{\"frame\":{\"duration\":0,\"redraw\":true},\"mode\":\"immediate\",\"fromcurrent\":true,\"transition\":{\"duration\":0,\"easing\":\"linear\"}}],\"label\":\"6.584\",\"method\":\"animate\"},{\"args\":[[\"6.561\"],{\"frame\":{\"duration\":0,\"redraw\":true},\"mode\":\"immediate\",\"fromcurrent\":true,\"transition\":{\"duration\":0,\"easing\":\"linear\"}}],\"label\":\"6.561\",\"method\":\"animate\"},{\"args\":[[\"6.494\"],{\"frame\":{\"duration\":0,\"redraw\":true},\"mode\":\"immediate\",\"fromcurrent\":true,\"transition\":{\"duration\":0,\"easing\":\"linear\"}}],\"label\":\"6.494\",\"method\":\"animate\"},{\"args\":[[\"6.491\"],{\"frame\":{\"duration\":0,\"redraw\":true},\"mode\":\"immediate\",\"fromcurrent\":true,\"transition\":{\"duration\":0,\"easing\":\"linear\"}}],\"label\":\"6.491\",\"method\":\"animate\"},{\"args\":[[\"6.483\"],{\"frame\":{\"duration\":0,\"redraw\":true},\"mode\":\"immediate\",\"fromcurrent\":true,\"transition\":{\"duration\":0,\"easing\":\"linear\"}}],\"label\":\"6.483\",\"method\":\"animate\"},{\"args\":[[\"6.461\"],{\"frame\":{\"duration\":0,\"redraw\":true},\"mode\":\"immediate\",\"fromcurrent\":true,\"transition\":{\"duration\":0,\"easing\":\"linear\"}}],\"label\":\"6.461\",\"method\":\"animate\"},{\"args\":[[\"6.435\"],{\"frame\":{\"duration\":0,\"redraw\":true},\"mode\":\"immediate\",\"fromcurrent\":true,\"transition\":{\"duration\":0,\"easing\":\"linear\"}}],\"label\":\"6.435\",\"method\":\"animate\"},{\"args\":[[\"6.431\"],{\"frame\":{\"duration\":0,\"redraw\":true},\"mode\":\"immediate\",\"fromcurrent\":true,\"transition\":{\"duration\":0,\"easing\":\"linear\"}}],\"label\":\"6.431\",\"method\":\"animate\"},{\"args\":[[\"6.377\"],{\"frame\":{\"duration\":0,\"redraw\":true},\"mode\":\"immediate\",\"fromcurrent\":true,\"transition\":{\"duration\":0,\"easing\":\"linear\"}}],\"label\":\"6.377\",\"method\":\"animate\"},{\"args\":[[\"6.372\"],{\"frame\":{\"duration\":0,\"redraw\":true},\"mode\":\"immediate\",\"fromcurrent\":true,\"transition\":{\"duration\":0,\"easing\":\"linear\"}}],\"label\":\"6.372\",\"method\":\"animate\"},{\"args\":[[\"6.331\"],{\"frame\":{\"duration\":0,\"redraw\":true},\"mode\":\"immediate\",\"fromcurrent\":true,\"transition\":{\"duration\":0,\"easing\":\"linear\"}}],\"label\":\"6.331\",\"method\":\"animate\"},{\"args\":[[\"6.33\"],{\"frame\":{\"duration\":0,\"redraw\":true},\"mode\":\"immediate\",\"fromcurrent\":true,\"transition\":{\"duration\":0,\"easing\":\"linear\"}}],\"label\":\"6.33\",\"method\":\"animate\"},{\"args\":[[\"6.317\"],{\"frame\":{\"duration\":0,\"redraw\":true},\"mode\":\"immediate\",\"fromcurrent\":true,\"transition\":{\"duration\":0,\"easing\":\"linear\"}}],\"label\":\"6.317\",\"method\":\"animate\"},{\"args\":[[\"6.309\"],{\"frame\":{\"duration\":0,\"redraw\":true},\"mode\":\"immediate\",\"fromcurrent\":true,\"transition\":{\"duration\":0,\"easing\":\"linear\"}}],\"label\":\"6.309\",\"method\":\"animate\"},{\"args\":[[\"6.255\"],{\"frame\":{\"duration\":0,\"redraw\":true},\"mode\":\"immediate\",\"fromcurrent\":true,\"transition\":{\"duration\":0,\"easing\":\"linear\"}}],\"label\":\"6.255\",\"method\":\"animate\"},{\"args\":[[\"6.223\"],{\"frame\":{\"duration\":0,\"redraw\":true},\"mode\":\"immediate\",\"fromcurrent\":true,\"transition\":{\"duration\":0,\"easing\":\"linear\"}}],\"label\":\"6.223\",\"method\":\"animate\"},{\"args\":[[\"6.189\"],{\"frame\":{\"duration\":0,\"redraw\":true},\"mode\":\"immediate\",\"fromcurrent\":true,\"transition\":{\"duration\":0,\"easing\":\"linear\"}}],\"label\":\"6.189\",\"method\":\"animate\"},{\"args\":[[\"6.18\"],{\"frame\":{\"duration\":0,\"redraw\":true},\"mode\":\"immediate\",\"fromcurrent\":true,\"transition\":{\"duration\":0,\"easing\":\"linear\"}}],\"label\":\"6.18\",\"method\":\"animate\"},{\"args\":[[\"6.179\"],{\"frame\":{\"duration\":0,\"redraw\":true},\"mode\":\"immediate\",\"fromcurrent\":true,\"transition\":{\"duration\":0,\"easing\":\"linear\"}}],\"label\":\"6.179\",\"method\":\"animate\"},{\"args\":[[\"6.172\"],{\"frame\":{\"duration\":0,\"redraw\":true},\"mode\":\"immediate\",\"fromcurrent\":true,\"transition\":{\"duration\":0,\"easing\":\"linear\"}}],\"label\":\"6.172\",\"method\":\"animate\"},{\"args\":[[\"6.166\"],{\"frame\":{\"duration\":0,\"redraw\":true},\"mode\":\"immediate\",\"fromcurrent\":true,\"transition\":{\"duration\":0,\"easing\":\"linear\"}}],\"label\":\"6.166\",\"method\":\"animate\"},{\"args\":[[\"6.152\"],{\"frame\":{\"duration\":0,\"redraw\":true},\"mode\":\"immediate\",\"fromcurrent\":true,\"transition\":{\"duration\":0,\"easing\":\"linear\"}}],\"label\":\"6.152\",\"method\":\"animate\"},{\"args\":[[\"6.14\"],{\"frame\":{\"duration\":0,\"redraw\":true},\"mode\":\"immediate\",\"fromcurrent\":true,\"transition\":{\"duration\":0,\"easing\":\"linear\"}}],\"label\":\"6.14\",\"method\":\"animate\"},{\"args\":[[\"6.106\"],{\"frame\":{\"duration\":0,\"redraw\":true},\"mode\":\"immediate\",\"fromcurrent\":true,\"transition\":{\"duration\":0,\"easing\":\"linear\"}}],\"label\":\"6.106\",\"method\":\"animate\"},{\"args\":[[\"6.078\"],{\"frame\":{\"duration\":0,\"redraw\":true},\"mode\":\"immediate\",\"fromcurrent\":true,\"transition\":{\"duration\":0,\"easing\":\"linear\"}}],\"label\":\"6.078\",\"method\":\"animate\"},{\"args\":[[\"6.061\"],{\"frame\":{\"duration\":0,\"redraw\":true},\"mode\":\"immediate\",\"fromcurrent\":true,\"transition\":{\"duration\":0,\"easing\":\"linear\"}}],\"label\":\"6.061\",\"method\":\"animate\"},{\"args\":[[\"6.049\"],{\"frame\":{\"duration\":0,\"redraw\":true},\"mode\":\"immediate\",\"fromcurrent\":true,\"transition\":{\"duration\":0,\"easing\":\"linear\"}}],\"label\":\"6.049\",\"method\":\"animate\"},{\"args\":[[\"6.032\"],{\"frame\":{\"duration\":0,\"redraw\":true},\"mode\":\"immediate\",\"fromcurrent\":true,\"transition\":{\"duration\":0,\"easing\":\"linear\"}}],\"label\":\"6.032\",\"method\":\"animate\"},{\"args\":[[\"6.012\"],{\"frame\":{\"duration\":0,\"redraw\":true},\"mode\":\"immediate\",\"fromcurrent\":true,\"transition\":{\"duration\":0,\"easing\":\"linear\"}}],\"label\":\"6.012\",\"method\":\"animate\"},{\"args\":[[\"5.992\"],{\"frame\":{\"duration\":0,\"redraw\":true},\"mode\":\"immediate\",\"fromcurrent\":true,\"transition\":{\"duration\":0,\"easing\":\"linear\"}}],\"label\":\"5.992\",\"method\":\"animate\"},{\"args\":[[\"5.985\"],{\"frame\":{\"duration\":0,\"redraw\":true},\"mode\":\"immediate\",\"fromcurrent\":true,\"transition\":{\"duration\":0,\"easing\":\"linear\"}}],\"label\":\"5.985\",\"method\":\"animate\"},{\"args\":[[\"5.972\"],{\"frame\":{\"duration\":0,\"redraw\":true},\"mode\":\"immediate\",\"fromcurrent\":true,\"transition\":{\"duration\":0,\"easing\":\"linear\"}}],\"label\":\"5.972\",\"method\":\"animate\"},{\"args\":[[\"5.94\"],{\"frame\":{\"duration\":0,\"redraw\":true},\"mode\":\"immediate\",\"fromcurrent\":true,\"transition\":{\"duration\":0,\"easing\":\"linear\"}}],\"label\":\"5.94\",\"method\":\"animate\"},{\"args\":[[\"5.929\"],{\"frame\":{\"duration\":0,\"redraw\":true},\"mode\":\"immediate\",\"fromcurrent\":true,\"transition\":{\"duration\":0,\"easing\":\"linear\"}}],\"label\":\"5.929\",\"method\":\"animate\"},{\"args\":[[\"5.919\"],{\"frame\":{\"duration\":0,\"redraw\":true},\"mode\":\"immediate\",\"fromcurrent\":true,\"transition\":{\"duration\":0,\"easing\":\"linear\"}}],\"label\":\"5.919\",\"method\":\"animate\"},{\"args\":[[\"5.882\"],{\"frame\":{\"duration\":0,\"redraw\":true},\"mode\":\"immediate\",\"fromcurrent\":true,\"transition\":{\"duration\":0,\"easing\":\"linear\"}}],\"label\":\"5.882\",\"method\":\"animate\"},{\"args\":[[\"5.88\"],{\"frame\":{\"duration\":0,\"redraw\":true},\"mode\":\"immediate\",\"fromcurrent\":true,\"transition\":{\"duration\":0,\"easing\":\"linear\"}}],\"label\":\"5.88\",\"method\":\"animate\"},{\"args\":[[\"5.845\"],{\"frame\":{\"duration\":0,\"redraw\":true},\"mode\":\"immediate\",\"fromcurrent\":true,\"transition\":{\"duration\":0,\"easing\":\"linear\"}}],\"label\":\"5.845\",\"method\":\"animate\"},{\"args\":[[\"5.84\"],{\"frame\":{\"duration\":0,\"redraw\":true},\"mode\":\"immediate\",\"fromcurrent\":true,\"transition\":{\"duration\":0,\"easing\":\"linear\"}}],\"label\":\"5.84\",\"method\":\"animate\"},{\"args\":[[\"5.813\"],{\"frame\":{\"duration\":0,\"redraw\":true},\"mode\":\"immediate\",\"fromcurrent\":true,\"transition\":{\"duration\":0,\"easing\":\"linear\"}}],\"label\":\"5.813\",\"method\":\"animate\"},{\"args\":[[\"5.766\"],{\"frame\":{\"duration\":0,\"redraw\":true},\"mode\":\"immediate\",\"fromcurrent\":true,\"transition\":{\"duration\":0,\"easing\":\"linear\"}}],\"label\":\"5.766\",\"method\":\"animate\"},{\"args\":[[\"5.764\"],{\"frame\":{\"duration\":0,\"redraw\":true},\"mode\":\"immediate\",\"fromcurrent\":true,\"transition\":{\"duration\":0,\"easing\":\"linear\"}}],\"label\":\"5.764\",\"method\":\"animate\"},{\"args\":[[\"5.744\"],{\"frame\":{\"duration\":0,\"redraw\":true},\"mode\":\"immediate\",\"fromcurrent\":true,\"transition\":{\"duration\":0,\"easing\":\"linear\"}}],\"label\":\"5.744\",\"method\":\"animate\"},{\"args\":[[\"5.723\"],{\"frame\":{\"duration\":0,\"redraw\":true},\"mode\":\"immediate\",\"fromcurrent\":true,\"transition\":{\"duration\":0,\"easing\":\"linear\"}}],\"label\":\"5.723\",\"method\":\"animate\"},{\"args\":[[\"5.716\"],{\"frame\":{\"duration\":0,\"redraw\":true},\"mode\":\"immediate\",\"fromcurrent\":true,\"transition\":{\"duration\":0,\"easing\":\"linear\"}}],\"label\":\"5.716\",\"method\":\"animate\"},{\"args\":[[\"5.677\"],{\"frame\":{\"duration\":0,\"redraw\":true},\"mode\":\"immediate\",\"fromcurrent\":true,\"transition\":{\"duration\":0,\"easing\":\"linear\"}}],\"label\":\"5.677\",\"method\":\"animate\"},{\"args\":[[\"5.653\"],{\"frame\":{\"duration\":0,\"redraw\":true},\"mode\":\"immediate\",\"fromcurrent\":true,\"transition\":{\"duration\":0,\"easing\":\"linear\"}}],\"label\":\"5.653\",\"method\":\"animate\"},{\"args\":[[\"5.581\"],{\"frame\":{\"duration\":0,\"redraw\":true},\"mode\":\"immediate\",\"fromcurrent\":true,\"transition\":{\"duration\":0,\"easing\":\"linear\"}}],\"label\":\"5.581\",\"method\":\"animate\"},{\"args\":[[\"5.545\"],{\"frame\":{\"duration\":0,\"redraw\":true},\"mode\":\"immediate\",\"fromcurrent\":true,\"transition\":{\"duration\":0,\"easing\":\"linear\"}}],\"label\":\"5.545\",\"method\":\"animate\"},{\"args\":[[\"5.536\"],{\"frame\":{\"duration\":0,\"redraw\":true},\"mode\":\"immediate\",\"fromcurrent\":true,\"transition\":{\"duration\":0,\"easing\":\"linear\"}}],\"label\":\"5.536\",\"method\":\"animate\"},{\"args\":[[\"5.534\"],{\"frame\":{\"duration\":0,\"redraw\":true},\"mode\":\"immediate\",\"fromcurrent\":true,\"transition\":{\"duration\":0,\"easing\":\"linear\"}}],\"label\":\"5.534\",\"method\":\"animate\"},{\"args\":[[\"5.477\"],{\"frame\":{\"duration\":0,\"redraw\":true},\"mode\":\"immediate\",\"fromcurrent\":true,\"transition\":{\"duration\":0,\"easing\":\"linear\"}}],\"label\":\"5.477\",\"method\":\"animate\"},{\"args\":[[\"5.466\"],{\"frame\":{\"duration\":0,\"redraw\":true},\"mode\":\"immediate\",\"fromcurrent\":true,\"transition\":{\"duration\":0,\"easing\":\"linear\"}}],\"label\":\"5.466\",\"method\":\"animate\"},{\"args\":[[\"5.411\"],{\"frame\":{\"duration\":0,\"redraw\":true},\"mode\":\"immediate\",\"fromcurrent\":true,\"transition\":{\"duration\":0,\"easing\":\"linear\"}}],\"label\":\"5.411\",\"method\":\"animate\"},{\"args\":[[\"5.41\"],{\"frame\":{\"duration\":0,\"redraw\":true},\"mode\":\"immediate\",\"fromcurrent\":true,\"transition\":{\"duration\":0,\"easing\":\"linear\"}}],\"label\":\"5.41\",\"method\":\"animate\"},{\"args\":[[\"5.384\"],{\"frame\":{\"duration\":0,\"redraw\":true},\"mode\":\"immediate\",\"fromcurrent\":true,\"transition\":{\"duration\":0,\"easing\":\"linear\"}}],\"label\":\"5.384\",\"method\":\"animate\"},{\"args\":[[\"5.345\"],{\"frame\":{\"duration\":0,\"redraw\":true},\"mode\":\"immediate\",\"fromcurrent\":true,\"transition\":{\"duration\":0,\"easing\":\"linear\"}}],\"label\":\"5.345\",\"method\":\"animate\"},{\"args\":[[\"5.342\"],{\"frame\":{\"duration\":0,\"redraw\":true},\"mode\":\"immediate\",\"fromcurrent\":true,\"transition\":{\"duration\":0,\"easing\":\"linear\"}}],\"label\":\"5.342\",\"method\":\"animate\"},{\"args\":[[\"5.339\"],{\"frame\":{\"duration\":0,\"redraw\":true},\"mode\":\"immediate\",\"fromcurrent\":true,\"transition\":{\"duration\":0,\"easing\":\"linear\"}}],\"label\":\"5.339\",\"method\":\"animate\"},{\"args\":[[\"5.306\"],{\"frame\":{\"duration\":0,\"redraw\":true},\"mode\":\"immediate\",\"fromcurrent\":true,\"transition\":{\"duration\":0,\"easing\":\"linear\"}}],\"label\":\"5.306\",\"method\":\"animate\"},{\"args\":[[\"5.283\"],{\"frame\":{\"duration\":0,\"redraw\":true},\"mode\":\"immediate\",\"fromcurrent\":true,\"transition\":{\"duration\":0,\"easing\":\"linear\"}}],\"label\":\"5.283\",\"method\":\"animate\"},{\"args\":[[\"5.269\"],{\"frame\":{\"duration\":0,\"redraw\":true},\"mode\":\"immediate\",\"fromcurrent\":true,\"transition\":{\"duration\":0,\"easing\":\"linear\"}}],\"label\":\"5.269\",\"method\":\"animate\"},{\"args\":[[\"5.266\"],{\"frame\":{\"duration\":0,\"redraw\":true},\"mode\":\"immediate\",\"fromcurrent\":true,\"transition\":{\"duration\":0,\"easing\":\"linear\"}}],\"label\":\"5.266\",\"method\":\"animate\"},{\"args\":[[\"5.198\"],{\"frame\":{\"duration\":0,\"redraw\":true},\"mode\":\"immediate\",\"fromcurrent\":true,\"transition\":{\"duration\":0,\"easing\":\"linear\"}}],\"label\":\"5.198\",\"method\":\"animate\"},{\"args\":[[\"5.171\"],{\"frame\":{\"duration\":0,\"redraw\":true},\"mode\":\"immediate\",\"fromcurrent\":true,\"transition\":{\"duration\":0,\"easing\":\"linear\"}}],\"label\":\"5.171\",\"method\":\"animate\"},{\"args\":[[\"5.142\"],{\"frame\":{\"duration\":0,\"redraw\":true},\"mode\":\"immediate\",\"fromcurrent\":true,\"transition\":{\"duration\":0,\"easing\":\"linear\"}}],\"label\":\"5.142\",\"method\":\"animate\"},{\"args\":[[\"5.132\"],{\"frame\":{\"duration\":0,\"redraw\":true},\"mode\":\"immediate\",\"fromcurrent\":true,\"transition\":{\"duration\":0,\"easing\":\"linear\"}}],\"label\":\"5.132\",\"method\":\"animate\"},{\"args\":[[\"5.117\"],{\"frame\":{\"duration\":0,\"redraw\":true},\"mode\":\"immediate\",\"fromcurrent\":true,\"transition\":{\"duration\":0,\"easing\":\"linear\"}}],\"label\":\"5.117\",\"method\":\"animate\"},{\"args\":[[\"5.101\"],{\"frame\":{\"duration\":0,\"redraw\":true},\"mode\":\"immediate\",\"fromcurrent\":true,\"transition\":{\"duration\":0,\"easing\":\"linear\"}}],\"label\":\"5.101\",\"method\":\"animate\"},{\"args\":[[\"5.088\"],{\"frame\":{\"duration\":0,\"redraw\":true},\"mode\":\"immediate\",\"fromcurrent\":true,\"transition\":{\"duration\":0,\"easing\":\"linear\"}}],\"label\":\"5.088\",\"method\":\"animate\"},{\"args\":[[\"5.074\"],{\"frame\":{\"duration\":0,\"redraw\":true},\"mode\":\"immediate\",\"fromcurrent\":true,\"transition\":{\"duration\":0,\"easing\":\"linear\"}}],\"label\":\"5.074\",\"method\":\"animate\"},{\"args\":[[\"5.066\"],{\"frame\":{\"duration\":0,\"redraw\":true},\"mode\":\"immediate\",\"fromcurrent\":true,\"transition\":{\"duration\":0,\"easing\":\"linear\"}}],\"label\":\"5.066\",\"method\":\"animate\"},{\"args\":[[\"5.051\"],{\"frame\":{\"duration\":0,\"redraw\":true},\"mode\":\"immediate\",\"fromcurrent\":true,\"transition\":{\"duration\":0,\"easing\":\"linear\"}}],\"label\":\"5.051\",\"method\":\"animate\"},{\"args\":[[\"5.045\"],{\"frame\":{\"duration\":0,\"redraw\":true},\"mode\":\"immediate\",\"fromcurrent\":true,\"transition\":{\"duration\":0,\"easing\":\"linear\"}}],\"label\":\"5.045\",\"method\":\"animate\"},{\"args\":[[\"5.03\"],{\"frame\":{\"duration\":0,\"redraw\":true},\"mode\":\"immediate\",\"fromcurrent\":true,\"transition\":{\"duration\":0,\"easing\":\"linear\"}}],\"label\":\"5.03\",\"method\":\"animate\"},{\"args\":[[\"5.025\"],{\"frame\":{\"duration\":0,\"redraw\":true},\"mode\":\"immediate\",\"fromcurrent\":true,\"transition\":{\"duration\":0,\"easing\":\"linear\"}}],\"label\":\"5.025\",\"method\":\"animate\"},{\"args\":[[\"4.984\"],{\"frame\":{\"duration\":0,\"redraw\":true},\"mode\":\"immediate\",\"fromcurrent\":true,\"transition\":{\"duration\":0,\"easing\":\"linear\"}}],\"label\":\"4.984\",\"method\":\"animate\"},{\"args\":[[\"4.956\"],{\"frame\":{\"duration\":0,\"redraw\":true},\"mode\":\"immediate\",\"fromcurrent\":true,\"transition\":{\"duration\":0,\"easing\":\"linear\"}}],\"label\":\"4.956\",\"method\":\"animate\"},{\"args\":[[\"4.948\"],{\"frame\":{\"duration\":0,\"redraw\":true},\"mode\":\"immediate\",\"fromcurrent\":true,\"transition\":{\"duration\":0,\"easing\":\"linear\"}}],\"label\":\"4.948\",\"method\":\"animate\"},{\"args\":[[\"4.934\"],{\"frame\":{\"duration\":0,\"redraw\":true},\"mode\":\"immediate\",\"fromcurrent\":true,\"transition\":{\"duration\":0,\"easing\":\"linear\"}}],\"label\":\"4.934\",\"method\":\"animate\"},{\"args\":[[\"4.918\"],{\"frame\":{\"duration\":0,\"redraw\":true},\"mode\":\"immediate\",\"fromcurrent\":true,\"transition\":{\"duration\":0,\"easing\":\"linear\"}}],\"label\":\"4.918\",\"method\":\"animate\"},{\"args\":[[\"4.892\"],{\"frame\":{\"duration\":0,\"redraw\":true},\"mode\":\"immediate\",\"fromcurrent\":true,\"transition\":{\"duration\":0,\"easing\":\"linear\"}}],\"label\":\"4.892\",\"method\":\"animate\"},{\"args\":[[\"4.891\"],{\"frame\":{\"duration\":0,\"redraw\":true},\"mode\":\"immediate\",\"fromcurrent\":true,\"transition\":{\"duration\":0,\"easing\":\"linear\"}}],\"label\":\"4.891\",\"method\":\"animate\"},{\"args\":[[\"4.887\"],{\"frame\":{\"duration\":0,\"redraw\":true},\"mode\":\"immediate\",\"fromcurrent\":true,\"transition\":{\"duration\":0,\"easing\":\"linear\"}}],\"label\":\"4.887\",\"method\":\"animate\"},{\"args\":[[\"4.875\"],{\"frame\":{\"duration\":0,\"redraw\":true},\"mode\":\"immediate\",\"fromcurrent\":true,\"transition\":{\"duration\":0,\"easing\":\"linear\"}}],\"label\":\"4.875\",\"method\":\"animate\"},{\"args\":[[\"4.854\"],{\"frame\":{\"duration\":0,\"redraw\":true},\"mode\":\"immediate\",\"fromcurrent\":true,\"transition\":{\"duration\":0,\"easing\":\"linear\"}}],\"label\":\"4.854\",\"method\":\"animate\"},{\"args\":[[\"4.852\"],{\"frame\":{\"duration\":0,\"redraw\":true},\"mode\":\"immediate\",\"fromcurrent\":true,\"transition\":{\"duration\":0,\"easing\":\"linear\"}}],\"label\":\"4.852\",\"method\":\"animate\"},{\"args\":[[\"4.834\"],{\"frame\":{\"duration\":0,\"redraw\":true},\"mode\":\"immediate\",\"fromcurrent\":true,\"transition\":{\"duration\":0,\"easing\":\"linear\"}}],\"label\":\"4.834\",\"method\":\"animate\"},{\"args\":[[\"4.83\"],{\"frame\":{\"duration\":0,\"redraw\":true},\"mode\":\"immediate\",\"fromcurrent\":true,\"transition\":{\"duration\":0,\"easing\":\"linear\"}}],\"label\":\"4.83\",\"method\":\"animate\"},{\"args\":[[\"4.794\"],{\"frame\":{\"duration\":0,\"redraw\":true},\"mode\":\"immediate\",\"fromcurrent\":true,\"transition\":{\"duration\":0,\"easing\":\"linear\"}}],\"label\":\"4.794\",\"method\":\"animate\"},{\"args\":[[\"4.759\"],{\"frame\":{\"duration\":0,\"redraw\":true},\"mode\":\"immediate\",\"fromcurrent\":true,\"transition\":{\"duration\":0,\"easing\":\"linear\"}}],\"label\":\"4.759\",\"method\":\"animate\"},{\"args\":[[\"4.723\"],{\"frame\":{\"duration\":0,\"redraw\":true},\"mode\":\"immediate\",\"fromcurrent\":true,\"transition\":{\"duration\":0,\"easing\":\"linear\"}}],\"label\":\"4.723\",\"method\":\"animate\"},{\"args\":[[\"4.721\"],{\"frame\":{\"duration\":0,\"redraw\":true},\"mode\":\"immediate\",\"fromcurrent\":true,\"transition\":{\"duration\":0,\"easing\":\"linear\"}}],\"label\":\"4.721\",\"method\":\"animate\"},{\"args\":[[\"4.636\"],{\"frame\":{\"duration\":0,\"redraw\":true},\"mode\":\"immediate\",\"fromcurrent\":true,\"transition\":{\"duration\":0,\"easing\":\"linear\"}}],\"label\":\"4.636\",\"method\":\"animate\"},{\"args\":[[\"4.625\"],{\"frame\":{\"duration\":0,\"redraw\":true},\"mode\":\"immediate\",\"fromcurrent\":true,\"transition\":{\"duration\":0,\"easing\":\"linear\"}}],\"label\":\"4.625\",\"method\":\"animate\"},{\"args\":[[\"4.607\"],{\"frame\":{\"duration\":0,\"redraw\":true},\"mode\":\"immediate\",\"fromcurrent\":true,\"transition\":{\"duration\":0,\"easing\":\"linear\"}}],\"label\":\"4.607\",\"method\":\"animate\"},{\"args\":[[\"4.596\"],{\"frame\":{\"duration\":0,\"redraw\":true},\"mode\":\"immediate\",\"fromcurrent\":true,\"transition\":{\"duration\":0,\"easing\":\"linear\"}}],\"label\":\"4.596\",\"method\":\"animate\"},{\"args\":[[\"4.584\"],{\"frame\":{\"duration\":0,\"redraw\":true},\"mode\":\"immediate\",\"fromcurrent\":true,\"transition\":{\"duration\":0,\"easing\":\"linear\"}}],\"label\":\"4.584\",\"method\":\"animate\"},{\"args\":[[\"4.574\"],{\"frame\":{\"duration\":0,\"redraw\":true},\"mode\":\"immediate\",\"fromcurrent\":true,\"transition\":{\"duration\":0,\"easing\":\"linear\"}}],\"label\":\"4.574\",\"method\":\"animate\"},{\"args\":[[\"4.517\"],{\"frame\":{\"duration\":0,\"redraw\":true},\"mode\":\"immediate\",\"fromcurrent\":true,\"transition\":{\"duration\":0,\"easing\":\"linear\"}}],\"label\":\"4.517\",\"method\":\"animate\"},{\"args\":[[\"4.426\"],{\"frame\":{\"duration\":0,\"redraw\":true},\"mode\":\"immediate\",\"fromcurrent\":true,\"transition\":{\"duration\":0,\"easing\":\"linear\"}}],\"label\":\"4.426\",\"method\":\"animate\"},{\"args\":[[\"4.395\"],{\"frame\":{\"duration\":0,\"redraw\":true},\"mode\":\"immediate\",\"fromcurrent\":true,\"transition\":{\"duration\":0,\"easing\":\"linear\"}}],\"label\":\"4.395\",\"method\":\"animate\"},{\"args\":[[\"4.355\"],{\"frame\":{\"duration\":0,\"redraw\":true},\"mode\":\"immediate\",\"fromcurrent\":true,\"transition\":{\"duration\":0,\"easing\":\"linear\"}}],\"label\":\"4.355\",\"method\":\"animate\"},{\"args\":[[\"4.325\"],{\"frame\":{\"duration\":0,\"redraw\":true},\"mode\":\"immediate\",\"fromcurrent\":true,\"transition\":{\"duration\":0,\"easing\":\"linear\"}}],\"label\":\"4.325\",\"method\":\"animate\"},{\"args\":[[\"4.308\"],{\"frame\":{\"duration\":0,\"redraw\":true},\"mode\":\"immediate\",\"fromcurrent\":true,\"transition\":{\"duration\":0,\"easing\":\"linear\"}}],\"label\":\"4.308\",\"method\":\"animate\"},{\"args\":[[\"4.289\"],{\"frame\":{\"duration\":0,\"redraw\":true},\"mode\":\"immediate\",\"fromcurrent\":true,\"transition\":{\"duration\":0,\"easing\":\"linear\"}}],\"label\":\"4.289\",\"method\":\"animate\"},{\"args\":[[\"4.283\"],{\"frame\":{\"duration\":0,\"redraw\":true},\"mode\":\"immediate\",\"fromcurrent\":true,\"transition\":{\"duration\":0,\"easing\":\"linear\"}}],\"label\":\"4.283\",\"method\":\"animate\"},{\"args\":[[\"4.275\"],{\"frame\":{\"duration\":0,\"redraw\":true},\"mode\":\"immediate\",\"fromcurrent\":true,\"transition\":{\"duration\":0,\"easing\":\"linear\"}}],\"label\":\"4.275\",\"method\":\"animate\"},{\"args\":[[\"4.227\"],{\"frame\":{\"duration\":0,\"redraw\":true},\"mode\":\"immediate\",\"fromcurrent\":true,\"transition\":{\"duration\":0,\"easing\":\"linear\"}}],\"label\":\"4.227\",\"method\":\"animate\"},{\"args\":[[\"4.208\"],{\"frame\":{\"duration\":0,\"redraw\":true},\"mode\":\"immediate\",\"fromcurrent\":true,\"transition\":{\"duration\":0,\"easing\":\"linear\"}}],\"label\":\"4.208\",\"method\":\"animate\"},{\"args\":[[\"4.107\"],{\"frame\":{\"duration\":0,\"redraw\":true},\"mode\":\"immediate\",\"fromcurrent\":true,\"transition\":{\"duration\":0,\"easing\":\"linear\"}}],\"label\":\"4.107\",\"method\":\"animate\"},{\"args\":[[\"4.073\"],{\"frame\":{\"duration\":0,\"redraw\":true},\"mode\":\"immediate\",\"fromcurrent\":true,\"transition\":{\"duration\":0,\"easing\":\"linear\"}}],\"label\":\"4.073\",\"method\":\"animate\"},{\"args\":[[\"3.849\"],{\"frame\":{\"duration\":0,\"redraw\":true},\"mode\":\"immediate\",\"fromcurrent\":true,\"transition\":{\"duration\":0,\"easing\":\"linear\"}}],\"label\":\"3.849\",\"method\":\"animate\"},{\"args\":[[\"3.819\"],{\"frame\":{\"duration\":0,\"redraw\":true},\"mode\":\"immediate\",\"fromcurrent\":true,\"transition\":{\"duration\":0,\"easing\":\"linear\"}}],\"label\":\"3.819\",\"method\":\"animate\"},{\"args\":[[\"3.775\"],{\"frame\":{\"duration\":0,\"redraw\":true},\"mode\":\"immediate\",\"fromcurrent\":true,\"transition\":{\"duration\":0,\"easing\":\"linear\"}}],\"label\":\"3.775\",\"method\":\"animate\"},{\"args\":[[\"3.658\"],{\"frame\":{\"duration\":0,\"redraw\":true},\"mode\":\"immediate\",\"fromcurrent\":true,\"transition\":{\"duration\":0,\"easing\":\"linear\"}}],\"label\":\"3.658\",\"method\":\"animate\"},{\"args\":[[\"3.623\"],{\"frame\":{\"duration\":0,\"redraw\":true},\"mode\":\"immediate\",\"fromcurrent\":true,\"transition\":{\"duration\":0,\"easing\":\"linear\"}}],\"label\":\"3.623\",\"method\":\"animate\"},{\"args\":[[\"3.615\"],{\"frame\":{\"duration\":0,\"redraw\":true},\"mode\":\"immediate\",\"fromcurrent\":true,\"transition\":{\"duration\":0,\"easing\":\"linear\"}}],\"label\":\"3.615\",\"method\":\"animate\"},{\"args\":[[\"3.6\"],{\"frame\":{\"duration\":0,\"redraw\":true},\"mode\":\"immediate\",\"fromcurrent\":true,\"transition\":{\"duration\":0,\"easing\":\"linear\"}}],\"label\":\"3.6\",\"method\":\"animate\"},{\"args\":[[\"3.512\"],{\"frame\":{\"duration\":0,\"redraw\":true},\"mode\":\"immediate\",\"fromcurrent\":true,\"transition\":{\"duration\":0,\"easing\":\"linear\"}}],\"label\":\"3.512\",\"method\":\"animate\"},{\"args\":[[\"3.467\"],{\"frame\":{\"duration\":0,\"redraw\":true},\"mode\":\"immediate\",\"fromcurrent\":true,\"transition\":{\"duration\":0,\"easing\":\"linear\"}}],\"label\":\"3.467\",\"method\":\"animate\"},{\"args\":[[\"3.415\"],{\"frame\":{\"duration\":0,\"redraw\":true},\"mode\":\"immediate\",\"fromcurrent\":true,\"transition\":{\"duration\":0,\"easing\":\"linear\"}}],\"label\":\"3.415\",\"method\":\"animate\"},{\"args\":[[\"3.145\"],{\"frame\":{\"duration\":0,\"redraw\":true},\"mode\":\"immediate\",\"fromcurrent\":true,\"transition\":{\"duration\":0,\"easing\":\"linear\"}}],\"label\":\"3.145\",\"method\":\"animate\"},{\"args\":[[\"2.523\"],{\"frame\":{\"duration\":0,\"redraw\":true},\"mode\":\"immediate\",\"fromcurrent\":true,\"transition\":{\"duration\":0,\"easing\":\"linear\"}}],\"label\":\"2.523\",\"method\":\"animate\"}],\"x\":0.1,\"xanchor\":\"left\",\"y\":0,\"yanchor\":\"top\"}],\"title\":{\"text\":\"World Happiness Index - year wise data\",\"x\":0.5}},                        {\"responsive\": true}                    ).then(function(){\n",
       "                            Plotly.addFrames('c6e519c6-c7b9-47b1-aab8-b36c6d185a77', [{\"data\":[{\"coloraxis\":\"coloraxis\",\"geo\":\"geo\",\"hovertemplate\":\"Ladder score=%{z}<br>Country name=%{location}<extra></extra>\",\"locationmode\":\"country names\",\"locations\":[\"Finland\"],\"name\":\"\",\"z\":[7.842],\"type\":\"choropleth\"}],\"name\":\"7.842\"},{\"data\":[{\"coloraxis\":\"coloraxis\",\"geo\":\"geo\",\"hovertemplate\":\"Ladder score=%{z}<br>Country name=%{location}<extra></extra>\",\"locationmode\":\"country names\",\"locations\":[\"Denmark\"],\"name\":\"\",\"z\":[7.62],\"type\":\"choropleth\"}],\"name\":\"7.62\"},{\"data\":[{\"coloraxis\":\"coloraxis\",\"geo\":\"geo\",\"hovertemplate\":\"Ladder score=%{z}<br>Country name=%{location}<extra></extra>\",\"locationmode\":\"country names\",\"locations\":[\"Switzerland\"],\"name\":\"\",\"z\":[7.571],\"type\":\"choropleth\"}],\"name\":\"7.571\"},{\"data\":[{\"coloraxis\":\"coloraxis\",\"geo\":\"geo\",\"hovertemplate\":\"Ladder score=%{z}<br>Country name=%{location}<extra></extra>\",\"locationmode\":\"country names\",\"locations\":[\"Iceland\"],\"name\":\"\",\"z\":[7.554],\"type\":\"choropleth\"}],\"name\":\"7.554\"},{\"data\":[{\"coloraxis\":\"coloraxis\",\"geo\":\"geo\",\"hovertemplate\":\"Ladder score=%{z}<br>Country name=%{location}<extra></extra>\",\"locationmode\":\"country names\",\"locations\":[\"Netherlands\"],\"name\":\"\",\"z\":[7.464],\"type\":\"choropleth\"}],\"name\":\"7.464\"},{\"data\":[{\"coloraxis\":\"coloraxis\",\"geo\":\"geo\",\"hovertemplate\":\"Ladder score=%{z}<br>Country name=%{location}<extra></extra>\",\"locationmode\":\"country names\",\"locations\":[\"Norway\"],\"name\":\"\",\"z\":[7.392],\"type\":\"choropleth\"}],\"name\":\"7.392\"},{\"data\":[{\"coloraxis\":\"coloraxis\",\"geo\":\"geo\",\"hovertemplate\":\"Ladder score=%{z}<br>Country name=%{location}<extra></extra>\",\"locationmode\":\"country names\",\"locations\":[\"Sweden\"],\"name\":\"\",\"z\":[7.363],\"type\":\"choropleth\"}],\"name\":\"7.363\"},{\"data\":[{\"coloraxis\":\"coloraxis\",\"geo\":\"geo\",\"hovertemplate\":\"Ladder score=%{z}<br>Country name=%{location}<extra></extra>\",\"locationmode\":\"country names\",\"locations\":[\"Luxembourg\"],\"name\":\"\",\"z\":[7.324],\"type\":\"choropleth\"}],\"name\":\"7.324\"},{\"data\":[{\"coloraxis\":\"coloraxis\",\"geo\":\"geo\",\"hovertemplate\":\"Ladder score=%{z}<br>Country name=%{location}<extra></extra>\",\"locationmode\":\"country names\",\"locations\":[\"New Zealand\"],\"name\":\"\",\"z\":[7.277],\"type\":\"choropleth\"}],\"name\":\"7.277\"},{\"data\":[{\"coloraxis\":\"coloraxis\",\"geo\":\"geo\",\"hovertemplate\":\"Ladder score=%{z}<br>Country name=%{location}<extra></extra>\",\"locationmode\":\"country names\",\"locations\":[\"Austria\"],\"name\":\"\",\"z\":[7.268],\"type\":\"choropleth\"}],\"name\":\"7.268\"},{\"data\":[{\"coloraxis\":\"coloraxis\",\"geo\":\"geo\",\"hovertemplate\":\"Ladder score=%{z}<br>Country name=%{location}<extra></extra>\",\"locationmode\":\"country names\",\"locations\":[\"Australia\"],\"name\":\"\",\"z\":[7.183],\"type\":\"choropleth\"}],\"name\":\"7.183\"},{\"data\":[{\"coloraxis\":\"coloraxis\",\"geo\":\"geo\",\"hovertemplate\":\"Ladder score=%{z}<br>Country name=%{location}<extra></extra>\",\"locationmode\":\"country names\",\"locations\":[\"Israel\"],\"name\":\"\",\"z\":[7.157],\"type\":\"choropleth\"}],\"name\":\"7.157\"},{\"data\":[{\"coloraxis\":\"coloraxis\",\"geo\":\"geo\",\"hovertemplate\":\"Ladder score=%{z}<br>Country name=%{location}<extra></extra>\",\"locationmode\":\"country names\",\"locations\":[\"Germany\"],\"name\":\"\",\"z\":[7.155],\"type\":\"choropleth\"}],\"name\":\"7.155\"},{\"data\":[{\"coloraxis\":\"coloraxis\",\"geo\":\"geo\",\"hovertemplate\":\"Ladder score=%{z}<br>Country name=%{location}<extra></extra>\",\"locationmode\":\"country names\",\"locations\":[\"Canada\"],\"name\":\"\",\"z\":[7.103],\"type\":\"choropleth\"}],\"name\":\"7.103\"},{\"data\":[{\"coloraxis\":\"coloraxis\",\"geo\":\"geo\",\"hovertemplate\":\"Ladder score=%{z}<br>Country name=%{location}<extra></extra>\",\"locationmode\":\"country names\",\"locations\":[\"Ireland\"],\"name\":\"\",\"z\":[7.085],\"type\":\"choropleth\"}],\"name\":\"7.085\"},{\"data\":[{\"coloraxis\":\"coloraxis\",\"geo\":\"geo\",\"hovertemplate\":\"Ladder score=%{z}<br>Country name=%{location}<extra></extra>\",\"locationmode\":\"country names\",\"locations\":[\"Costa Rica\"],\"name\":\"\",\"z\":[7.069],\"type\":\"choropleth\"}],\"name\":\"7.069\"},{\"data\":[{\"coloraxis\":\"coloraxis\",\"geo\":\"geo\",\"hovertemplate\":\"Ladder score=%{z}<br>Country name=%{location}<extra></extra>\",\"locationmode\":\"country names\",\"locations\":[\"United Kingdom\"],\"name\":\"\",\"z\":[7.064],\"type\":\"choropleth\"}],\"name\":\"7.064\"},{\"data\":[{\"coloraxis\":\"coloraxis\",\"geo\":\"geo\",\"hovertemplate\":\"Ladder score=%{z}<br>Country name=%{location}<extra></extra>\",\"locationmode\":\"country names\",\"locations\":[\"Czech Republic\"],\"name\":\"\",\"z\":[6.965],\"type\":\"choropleth\"}],\"name\":\"6.965\"},{\"data\":[{\"coloraxis\":\"coloraxis\",\"geo\":\"geo\",\"hovertemplate\":\"Ladder score=%{z}<br>Country name=%{location}<extra></extra>\",\"locationmode\":\"country names\",\"locations\":[\"United States\"],\"name\":\"\",\"z\":[6.951],\"type\":\"choropleth\"}],\"name\":\"6.951\"},{\"data\":[{\"coloraxis\":\"coloraxis\",\"geo\":\"geo\",\"hovertemplate\":\"Ladder score=%{z}<br>Country name=%{location}<extra></extra>\",\"locationmode\":\"country names\",\"locations\":[\"Belgium\"],\"name\":\"\",\"z\":[6.834],\"type\":\"choropleth\"}],\"name\":\"6.834\"},{\"data\":[{\"coloraxis\":\"coloraxis\",\"geo\":\"geo\",\"hovertemplate\":\"Ladder score=%{z}<br>Country name=%{location}<extra></extra>\",\"locationmode\":\"country names\",\"locations\":[\"France\"],\"name\":\"\",\"z\":[6.69],\"type\":\"choropleth\"}],\"name\":\"6.69\"},{\"data\":[{\"coloraxis\":\"coloraxis\",\"geo\":\"geo\",\"hovertemplate\":\"Ladder score=%{z}<br>Country name=%{location}<extra></extra>\",\"locationmode\":\"country names\",\"locations\":[\"Bahrain\"],\"name\":\"\",\"z\":[6.647],\"type\":\"choropleth\"}],\"name\":\"6.647\"},{\"data\":[{\"coloraxis\":\"coloraxis\",\"geo\":\"geo\",\"hovertemplate\":\"Ladder score=%{z}<br>Country name=%{location}<extra></extra>\",\"locationmode\":\"country names\",\"locations\":[\"Malta\"],\"name\":\"\",\"z\":[6.602],\"type\":\"choropleth\"}],\"name\":\"6.602\"},{\"data\":[{\"coloraxis\":\"coloraxis\",\"geo\":\"geo\",\"hovertemplate\":\"Ladder score=%{z}<br>Country name=%{location}<extra></extra>\",\"locationmode\":\"country names\",\"locations\":[\"Taiwan Province of China\"],\"name\":\"\",\"z\":[6.584],\"type\":\"choropleth\"}],\"name\":\"6.584\"},{\"data\":[{\"coloraxis\":\"coloraxis\",\"geo\":\"geo\",\"hovertemplate\":\"Ladder score=%{z}<br>Country name=%{location}<extra></extra>\",\"locationmode\":\"country names\",\"locations\":[\"United Arab Emirates\"],\"name\":\"\",\"z\":[6.561],\"type\":\"choropleth\"}],\"name\":\"6.561\"},{\"data\":[{\"coloraxis\":\"coloraxis\",\"geo\":\"geo\",\"hovertemplate\":\"Ladder score=%{z}<br>Country name=%{location}<extra></extra>\",\"locationmode\":\"country names\",\"locations\":[\"Saudi Arabia\"],\"name\":\"\",\"z\":[6.494],\"type\":\"choropleth\"}],\"name\":\"6.494\"},{\"data\":[{\"coloraxis\":\"coloraxis\",\"geo\":\"geo\",\"hovertemplate\":\"Ladder score=%{z}<br>Country name=%{location}<extra></extra>\",\"locationmode\":\"country names\",\"locations\":[\"Spain\"],\"name\":\"\",\"z\":[6.491],\"type\":\"choropleth\"}],\"name\":\"6.491\"},{\"data\":[{\"coloraxis\":\"coloraxis\",\"geo\":\"geo\",\"hovertemplate\":\"Ladder score=%{z}<br>Country name=%{location}<extra></extra>\",\"locationmode\":\"country names\",\"locations\":[\"Italy\"],\"name\":\"\",\"z\":[6.483],\"type\":\"choropleth\"}],\"name\":\"6.483\"},{\"data\":[{\"coloraxis\":\"coloraxis\",\"geo\":\"geo\",\"hovertemplate\":\"Ladder score=%{z}<br>Country name=%{location}<extra></extra>\",\"locationmode\":\"country names\",\"locations\":[\"Slovenia\"],\"name\":\"\",\"z\":[6.461],\"type\":\"choropleth\"}],\"name\":\"6.461\"},{\"data\":[{\"coloraxis\":\"coloraxis\",\"geo\":\"geo\",\"hovertemplate\":\"Ladder score=%{z}<br>Country name=%{location}<extra></extra>\",\"locationmode\":\"country names\",\"locations\":[\"Guatemala\"],\"name\":\"\",\"z\":[6.435],\"type\":\"choropleth\"}],\"name\":\"6.435\"},{\"data\":[{\"coloraxis\":\"coloraxis\",\"geo\":\"geo\",\"hovertemplate\":\"Ladder score=%{z}<br>Country name=%{location}<extra></extra>\",\"locationmode\":\"country names\",\"locations\":[\"Uruguay\"],\"name\":\"\",\"z\":[6.431],\"type\":\"choropleth\"}],\"name\":\"6.431\"},{\"data\":[{\"coloraxis\":\"coloraxis\",\"geo\":\"geo\",\"hovertemplate\":\"Ladder score=%{z}<br>Country name=%{location}<extra></extra>\",\"locationmode\":\"country names\",\"locations\":[\"Singapore\"],\"name\":\"\",\"z\":[6.377],\"type\":\"choropleth\"}],\"name\":\"6.377\"},{\"data\":[{\"coloraxis\":\"coloraxis\",\"geo\":\"geo\",\"hovertemplate\":\"Ladder score=%{z}<br>Country name=%{location}<extra></extra>\",\"locationmode\":\"country names\",\"locations\":[\"Kosovo\"],\"name\":\"\",\"z\":[6.372],\"type\":\"choropleth\"}],\"name\":\"6.372\"},{\"data\":[{\"coloraxis\":\"coloraxis\",\"geo\":\"geo\",\"hovertemplate\":\"Ladder score=%{z}<br>Country name=%{location}<extra></extra>\",\"locationmode\":\"country names\",\"locations\":[\"Slovakia\"],\"name\":\"\",\"z\":[6.331],\"type\":\"choropleth\"}],\"name\":\"6.331\"},{\"data\":[{\"coloraxis\":\"coloraxis\",\"geo\":\"geo\",\"hovertemplate\":\"Ladder score=%{z}<br>Country name=%{location}<extra></extra>\",\"locationmode\":\"country names\",\"locations\":[\"Brazil\"],\"name\":\"\",\"z\":[6.33],\"type\":\"choropleth\"}],\"name\":\"6.33\"},{\"data\":[{\"coloraxis\":\"coloraxis\",\"geo\":\"geo\",\"hovertemplate\":\"Ladder score=%{z}<br>Country name=%{location}<extra></extra>\",\"locationmode\":\"country names\",\"locations\":[\"Mexico\"],\"name\":\"\",\"z\":[6.317],\"type\":\"choropleth\"}],\"name\":\"6.317\"},{\"data\":[{\"coloraxis\":\"coloraxis\",\"geo\":\"geo\",\"hovertemplate\":\"Ladder score=%{z}<br>Country name=%{location}<extra></extra>\",\"locationmode\":\"country names\",\"locations\":[\"Jamaica\"],\"name\":\"\",\"z\":[6.309],\"type\":\"choropleth\"}],\"name\":\"6.309\"},{\"data\":[{\"coloraxis\":\"coloraxis\",\"geo\":\"geo\",\"hovertemplate\":\"Ladder score=%{z}<br>Country name=%{location}<extra></extra>\",\"locationmode\":\"country names\",\"locations\":[\"Lithuania\"],\"name\":\"\",\"z\":[6.255],\"type\":\"choropleth\"}],\"name\":\"6.255\"},{\"data\":[{\"coloraxis\":\"coloraxis\",\"geo\":\"geo\",\"hovertemplate\":\"Ladder score=%{z}<br>Country name=%{location}<extra></extra>\",\"locationmode\":\"country names\",\"locations\":[\"Cyprus\"],\"name\":\"\",\"z\":[6.223],\"type\":\"choropleth\"}],\"name\":\"6.223\"},{\"data\":[{\"coloraxis\":\"coloraxis\",\"geo\":\"geo\",\"hovertemplate\":\"Ladder score=%{z}<br>Country name=%{location}<extra></extra>\",\"locationmode\":\"country names\",\"locations\":[\"Estonia\"],\"name\":\"\",\"z\":[6.189],\"type\":\"choropleth\"}],\"name\":\"6.189\"},{\"data\":[{\"coloraxis\":\"coloraxis\",\"geo\":\"geo\",\"hovertemplate\":\"Ladder score=%{z}<br>Country name=%{location}<extra></extra>\",\"locationmode\":\"country names\",\"locations\":[\"Panama\"],\"name\":\"\",\"z\":[6.18],\"type\":\"choropleth\"}],\"name\":\"6.18\"},{\"data\":[{\"coloraxis\":\"coloraxis\",\"geo\":\"geo\",\"hovertemplate\":\"Ladder score=%{z}<br>Country name=%{location}<extra></extra>\",\"locationmode\":\"country names\",\"locations\":[\"Uzbekistan\"],\"name\":\"\",\"z\":[6.179],\"type\":\"choropleth\"}],\"name\":\"6.179\"},{\"data\":[{\"coloraxis\":\"coloraxis\",\"geo\":\"geo\",\"hovertemplate\":\"Ladder score=%{z}<br>Country name=%{location}<extra></extra>\",\"locationmode\":\"country names\",\"locations\":[\"Chile\"],\"name\":\"\",\"z\":[6.172],\"type\":\"choropleth\"}],\"name\":\"6.172\"},{\"data\":[{\"coloraxis\":\"coloraxis\",\"geo\":\"geo\",\"hovertemplate\":\"Ladder score=%{z}<br>Country name=%{location}<extra></extra>\",\"locationmode\":\"country names\",\"locations\":[\"Poland\"],\"name\":\"\",\"z\":[6.166],\"type\":\"choropleth\"}],\"name\":\"6.166\"},{\"data\":[{\"coloraxis\":\"coloraxis\",\"geo\":\"geo\",\"hovertemplate\":\"Ladder score=%{z}<br>Country name=%{location}<extra></extra>\",\"locationmode\":\"country names\",\"locations\":[\"Kazakhstan\"],\"name\":\"\",\"z\":[6.152],\"type\":\"choropleth\"}],\"name\":\"6.152\"},{\"data\":[{\"coloraxis\":\"coloraxis\",\"geo\":\"geo\",\"hovertemplate\":\"Ladder score=%{z}<br>Country name=%{location}<extra></extra>\",\"locationmode\":\"country names\",\"locations\":[\"Romania\"],\"name\":\"\",\"z\":[6.14],\"type\":\"choropleth\"}],\"name\":\"6.14\"},{\"data\":[{\"coloraxis\":\"coloraxis\",\"geo\":\"geo\",\"hovertemplate\":\"Ladder score=%{z}<br>Country name=%{location}<extra></extra>\",\"locationmode\":\"country names\",\"locations\":[\"Kuwait\"],\"name\":\"\",\"z\":[6.106],\"type\":\"choropleth\"}],\"name\":\"6.106\"},{\"data\":[{\"coloraxis\":\"coloraxis\",\"geo\":\"geo\",\"hovertemplate\":\"Ladder score=%{z}<br>Country name=%{location}<extra></extra>\",\"locationmode\":\"country names\",\"locations\":[\"Serbia\"],\"name\":\"\",\"z\":[6.078],\"type\":\"choropleth\"}],\"name\":\"6.078\"},{\"data\":[{\"coloraxis\":\"coloraxis\",\"geo\":\"geo\",\"hovertemplate\":\"Ladder score=%{z}<br>Country name=%{location}<extra></extra>\",\"locationmode\":\"country names\",\"locations\":[\"El Salvador\"],\"name\":\"\",\"z\":[6.061],\"type\":\"choropleth\"}],\"name\":\"6.061\"},{\"data\":[{\"coloraxis\":\"coloraxis\",\"geo\":\"geo\",\"hovertemplate\":\"Ladder score=%{z}<br>Country name=%{location}<extra></extra>\",\"locationmode\":\"country names\",\"locations\":[\"Mauritius\"],\"name\":\"\",\"z\":[6.049],\"type\":\"choropleth\"}],\"name\":\"6.049\"},{\"data\":[{\"coloraxis\":\"coloraxis\",\"geo\":\"geo\",\"hovertemplate\":\"Ladder score=%{z}<br>Country name=%{location}<extra></extra>\",\"locationmode\":\"country names\",\"locations\":[\"Latvia\"],\"name\":\"\",\"z\":[6.032],\"type\":\"choropleth\"}],\"name\":\"6.032\"},{\"data\":[{\"coloraxis\":\"coloraxis\",\"geo\":\"geo\",\"hovertemplate\":\"Ladder score=%{z}<br>Country name=%{location}<extra></extra>\",\"locationmode\":\"country names\",\"locations\":[\"Colombia\"],\"name\":\"\",\"z\":[6.012],\"type\":\"choropleth\"}],\"name\":\"6.012\"},{\"data\":[{\"coloraxis\":\"coloraxis\",\"geo\":\"geo\",\"hovertemplate\":\"Ladder score=%{z}<br>Country name=%{location}<extra></extra>\",\"locationmode\":\"country names\",\"locations\":[\"Hungary\"],\"name\":\"\",\"z\":[5.992],\"type\":\"choropleth\"}],\"name\":\"5.992\"},{\"data\":[{\"coloraxis\":\"coloraxis\",\"geo\":\"geo\",\"hovertemplate\":\"Ladder score=%{z}<br>Country name=%{location}<extra></extra>\",\"locationmode\":\"country names\",\"locations\":[\"Thailand\"],\"name\":\"\",\"z\":[5.985],\"type\":\"choropleth\"}],\"name\":\"5.985\"},{\"data\":[{\"coloraxis\":\"coloraxis\",\"geo\":\"geo\",\"hovertemplate\":\"Ladder score=%{z}<br>Country name=%{location}<extra></extra>\",\"locationmode\":\"country names\",\"locations\":[\"Nicaragua\"],\"name\":\"\",\"z\":[5.972],\"type\":\"choropleth\"}],\"name\":\"5.972\"},{\"data\":[{\"coloraxis\":\"coloraxis\",\"geo\":\"geo\",\"hovertemplate\":\"Ladder score=%{z}<br>Country name=%{location}<extra></extra>\",\"locationmode\":\"country names\",\"locations\":[\"Japan\"],\"name\":\"\",\"z\":[5.94],\"type\":\"choropleth\"}],\"name\":\"5.94\"},{\"data\":[{\"coloraxis\":\"coloraxis\",\"geo\":\"geo\",\"hovertemplate\":\"Ladder score=%{z}<br>Country name=%{location}<extra></extra>\",\"locationmode\":\"country names\",\"locations\":[\"Argentina\",\"Portugal\"],\"name\":\"\",\"z\":[5.929,5.929],\"type\":\"choropleth\"}],\"name\":\"5.929\"},{\"data\":[{\"coloraxis\":\"coloraxis\",\"geo\":\"geo\",\"hovertemplate\":\"Ladder score=%{z}<br>Country name=%{location}<extra></extra>\",\"locationmode\":\"country names\",\"locations\":[\"Honduras\"],\"name\":\"\",\"z\":[5.919],\"type\":\"choropleth\"}],\"name\":\"5.919\"},{\"data\":[{\"coloraxis\":\"coloraxis\",\"geo\":\"geo\",\"hovertemplate\":\"Ladder score=%{z}<br>Country name=%{location}<extra></extra>\",\"locationmode\":\"country names\",\"locations\":[\"Croatia\"],\"name\":\"\",\"z\":[5.882],\"type\":\"choropleth\"}],\"name\":\"5.882\"},{\"data\":[{\"coloraxis\":\"coloraxis\",\"geo\":\"geo\",\"hovertemplate\":\"Ladder score=%{z}<br>Country name=%{location}<extra></extra>\",\"locationmode\":\"country names\",\"locations\":[\"Philippines\"],\"name\":\"\",\"z\":[5.88],\"type\":\"choropleth\"}],\"name\":\"5.88\"},{\"data\":[{\"coloraxis\":\"coloraxis\",\"geo\":\"geo\",\"hovertemplate\":\"Ladder score=%{z}<br>Country name=%{location}<extra></extra>\",\"locationmode\":\"country names\",\"locations\":[\"South Korea\"],\"name\":\"\",\"z\":[5.845],\"type\":\"choropleth\"}],\"name\":\"5.845\"},{\"data\":[{\"coloraxis\":\"coloraxis\",\"geo\":\"geo\",\"hovertemplate\":\"Ladder score=%{z}<br>Country name=%{location}<extra></extra>\",\"locationmode\":\"country names\",\"locations\":[\"Peru\"],\"name\":\"\",\"z\":[5.84],\"type\":\"choropleth\"}],\"name\":\"5.84\"},{\"data\":[{\"coloraxis\":\"coloraxis\",\"geo\":\"geo\",\"hovertemplate\":\"Ladder score=%{z}<br>Country name=%{location}<extra></extra>\",\"locationmode\":\"country names\",\"locations\":[\"Bosnia and Herzegovina\"],\"name\":\"\",\"z\":[5.813],\"type\":\"choropleth\"}],\"name\":\"5.813\"},{\"data\":[{\"coloraxis\":\"coloraxis\",\"geo\":\"geo\",\"hovertemplate\":\"Ladder score=%{z}<br>Country name=%{location}<extra></extra>\",\"locationmode\":\"country names\",\"locations\":[\"Moldova\"],\"name\":\"\",\"z\":[5.766],\"type\":\"choropleth\"}],\"name\":\"5.766\"},{\"data\":[{\"coloraxis\":\"coloraxis\",\"geo\":\"geo\",\"hovertemplate\":\"Ladder score=%{z}<br>Country name=%{location}<extra></extra>\",\"locationmode\":\"country names\",\"locations\":[\"Ecuador\"],\"name\":\"\",\"z\":[5.764],\"type\":\"choropleth\"}],\"name\":\"5.764\"},{\"data\":[{\"coloraxis\":\"coloraxis\",\"geo\":\"geo\",\"hovertemplate\":\"Ladder score=%{z}<br>Country name=%{location}<extra></extra>\",\"locationmode\":\"country names\",\"locations\":[\"Kyrgyzstan\"],\"name\":\"\",\"z\":[5.744],\"type\":\"choropleth\"}],\"name\":\"5.744\"},{\"data\":[{\"coloraxis\":\"coloraxis\",\"geo\":\"geo\",\"hovertemplate\":\"Ladder score=%{z}<br>Country name=%{location}<extra></extra>\",\"locationmode\":\"country names\",\"locations\":[\"Greece\"],\"name\":\"\",\"z\":[5.723],\"type\":\"choropleth\"}],\"name\":\"5.723\"},{\"data\":[{\"coloraxis\":\"coloraxis\",\"geo\":\"geo\",\"hovertemplate\":\"Ladder score=%{z}<br>Country name=%{location}<extra></extra>\",\"locationmode\":\"country names\",\"locations\":[\"Bolivia\"],\"name\":\"\",\"z\":[5.716],\"type\":\"choropleth\"}],\"name\":\"5.716\"},{\"data\":[{\"coloraxis\":\"coloraxis\",\"geo\":\"geo\",\"hovertemplate\":\"Ladder score=%{z}<br>Country name=%{location}<extra></extra>\",\"locationmode\":\"country names\",\"locations\":[\"Mongolia\"],\"name\":\"\",\"z\":[5.677],\"type\":\"choropleth\"}],\"name\":\"5.677\"},{\"data\":[{\"coloraxis\":\"coloraxis\",\"geo\":\"geo\",\"hovertemplate\":\"Ladder score=%{z}<br>Country name=%{location}<extra></extra>\",\"locationmode\":\"country names\",\"locations\":[\"Paraguay\"],\"name\":\"\",\"z\":[5.653],\"type\":\"choropleth\"}],\"name\":\"5.653\"},{\"data\":[{\"coloraxis\":\"coloraxis\",\"geo\":\"geo\",\"hovertemplate\":\"Ladder score=%{z}<br>Country name=%{location}<extra></extra>\",\"locationmode\":\"country names\",\"locations\":[\"Montenegro\"],\"name\":\"\",\"z\":[5.581],\"type\":\"choropleth\"}],\"name\":\"5.581\"},{\"data\":[{\"coloraxis\":\"coloraxis\",\"geo\":\"geo\",\"hovertemplate\":\"Ladder score=%{z}<br>Country name=%{location}<extra></extra>\",\"locationmode\":\"country names\",\"locations\":[\"Dominican Republic\"],\"name\":\"\",\"z\":[5.545],\"type\":\"choropleth\"}],\"name\":\"5.545\"},{\"data\":[{\"coloraxis\":\"coloraxis\",\"geo\":\"geo\",\"hovertemplate\":\"Ladder score=%{z}<br>Country name=%{location}<extra></extra>\",\"locationmode\":\"country names\",\"locations\":[\"North Cyprus\"],\"name\":\"\",\"z\":[5.536],\"type\":\"choropleth\"}],\"name\":\"5.536\"},{\"data\":[{\"coloraxis\":\"coloraxis\",\"geo\":\"geo\",\"hovertemplate\":\"Ladder score=%{z}<br>Country name=%{location}<extra></extra>\",\"locationmode\":\"country names\",\"locations\":[\"Belarus\"],\"name\":\"\",\"z\":[5.534],\"type\":\"choropleth\"}],\"name\":\"5.534\"},{\"data\":[{\"coloraxis\":\"coloraxis\",\"geo\":\"geo\",\"hovertemplate\":\"Ladder score=%{z}<br>Country name=%{location}<extra></extra>\",\"locationmode\":\"country names\",\"locations\":[\"Russia\",\"Hong Kong S.A.R. of China\"],\"name\":\"\",\"z\":[5.477,5.477],\"type\":\"choropleth\"}],\"name\":\"5.477\"},{\"data\":[{\"coloraxis\":\"coloraxis\",\"geo\":\"geo\",\"hovertemplate\":\"Ladder score=%{z}<br>Country name=%{location}<extra></extra>\",\"locationmode\":\"country names\",\"locations\":[\"Tajikistan\"],\"name\":\"\",\"z\":[5.466],\"type\":\"choropleth\"}],\"name\":\"5.466\"},{\"data\":[{\"coloraxis\":\"coloraxis\",\"geo\":\"geo\",\"hovertemplate\":\"Ladder score=%{z}<br>Country name=%{location}<extra></extra>\",\"locationmode\":\"country names\",\"locations\":[\"Vietnam\"],\"name\":\"\",\"z\":[5.411],\"type\":\"choropleth\"}],\"name\":\"5.411\"},{\"data\":[{\"coloraxis\":\"coloraxis\",\"geo\":\"geo\",\"hovertemplate\":\"Ladder score=%{z}<br>Country name=%{location}<extra></extra>\",\"locationmode\":\"country names\",\"locations\":[\"Libya\"],\"name\":\"\",\"z\":[5.41],\"type\":\"choropleth\"}],\"name\":\"5.41\"},{\"data\":[{\"coloraxis\":\"coloraxis\",\"geo\":\"geo\",\"hovertemplate\":\"Ladder score=%{z}<br>Country name=%{location}<extra></extra>\",\"locationmode\":\"country names\",\"locations\":[\"Malaysia\"],\"name\":\"\",\"z\":[5.384],\"type\":\"choropleth\"}],\"name\":\"5.384\"},{\"data\":[{\"coloraxis\":\"coloraxis\",\"geo\":\"geo\",\"hovertemplate\":\"Ladder score=%{z}<br>Country name=%{location}<extra></extra>\",\"locationmode\":\"country names\",\"locations\":[\"Indonesia\"],\"name\":\"\",\"z\":[5.345],\"type\":\"choropleth\"}],\"name\":\"5.345\"},{\"data\":[{\"coloraxis\":\"coloraxis\",\"geo\":\"geo\",\"hovertemplate\":\"Ladder score=%{z}<br>Country name=%{location}<extra></extra>\",\"locationmode\":\"country names\",\"locations\":[\"Congo (Brazzaville)\"],\"name\":\"\",\"z\":[5.342],\"type\":\"choropleth\"}],\"name\":\"5.342\"},{\"data\":[{\"coloraxis\":\"coloraxis\",\"geo\":\"geo\",\"hovertemplate\":\"Ladder score=%{z}<br>Country name=%{location}<extra></extra>\",\"locationmode\":\"country names\",\"locations\":[\"China\"],\"name\":\"\",\"z\":[5.339],\"type\":\"choropleth\"}],\"name\":\"5.339\"},{\"data\":[{\"coloraxis\":\"coloraxis\",\"geo\":\"geo\",\"hovertemplate\":\"Ladder score=%{z}<br>Country name=%{location}<extra></extra>\",\"locationmode\":\"country names\",\"locations\":[\"Ivory Coast\"],\"name\":\"\",\"z\":[5.306],\"type\":\"choropleth\"}],\"name\":\"5.306\"},{\"data\":[{\"coloraxis\":\"coloraxis\",\"geo\":\"geo\",\"hovertemplate\":\"Ladder score=%{z}<br>Country name=%{location}<extra></extra>\",\"locationmode\":\"country names\",\"locations\":[\"Armenia\"],\"name\":\"\",\"z\":[5.283],\"type\":\"choropleth\"}],\"name\":\"5.283\"},{\"data\":[{\"coloraxis\":\"coloraxis\",\"geo\":\"geo\",\"hovertemplate\":\"Ladder score=%{z}<br>Country name=%{location}<extra></extra>\",\"locationmode\":\"country names\",\"locations\":[\"Nepal\"],\"name\":\"\",\"z\":[5.269],\"type\":\"choropleth\"}],\"name\":\"5.269\"},{\"data\":[{\"coloraxis\":\"coloraxis\",\"geo\":\"geo\",\"hovertemplate\":\"Ladder score=%{z}<br>Country name=%{location}<extra></extra>\",\"locationmode\":\"country names\",\"locations\":[\"Bulgaria\"],\"name\":\"\",\"z\":[5.266],\"type\":\"choropleth\"}],\"name\":\"5.266\"},{\"data\":[{\"coloraxis\":\"coloraxis\",\"geo\":\"geo\",\"hovertemplate\":\"Ladder score=%{z}<br>Country name=%{location}<extra></extra>\",\"locationmode\":\"country names\",\"locations\":[\"Maldives\"],\"name\":\"\",\"z\":[5.198],\"type\":\"choropleth\"}],\"name\":\"5.198\"},{\"data\":[{\"coloraxis\":\"coloraxis\",\"geo\":\"geo\",\"hovertemplate\":\"Ladder score=%{z}<br>Country name=%{location}<extra></extra>\",\"locationmode\":\"country names\",\"locations\":[\"Azerbaijan\"],\"name\":\"\",\"z\":[5.171],\"type\":\"choropleth\"}],\"name\":\"5.171\"},{\"data\":[{\"coloraxis\":\"coloraxis\",\"geo\":\"geo\",\"hovertemplate\":\"Ladder score=%{z}<br>Country name=%{location}<extra></extra>\",\"locationmode\":\"country names\",\"locations\":[\"Cameroon\"],\"name\":\"\",\"z\":[5.142],\"type\":\"choropleth\"}],\"name\":\"5.142\"},{\"data\":[{\"coloraxis\":\"coloraxis\",\"geo\":\"geo\",\"hovertemplate\":\"Ladder score=%{z}<br>Country name=%{location}<extra></extra>\",\"locationmode\":\"country names\",\"locations\":[\"Senegal\"],\"name\":\"\",\"z\":[5.132],\"type\":\"choropleth\"}],\"name\":\"5.132\"},{\"data\":[{\"coloraxis\":\"coloraxis\",\"geo\":\"geo\",\"hovertemplate\":\"Ladder score=%{z}<br>Country name=%{location}<extra></extra>\",\"locationmode\":\"country names\",\"locations\":[\"Albania\"],\"name\":\"\",\"z\":[5.117],\"type\":\"choropleth\"}],\"name\":\"5.117\"},{\"data\":[{\"coloraxis\":\"coloraxis\",\"geo\":\"geo\",\"hovertemplate\":\"Ladder score=%{z}<br>Country name=%{location}<extra></extra>\",\"locationmode\":\"country names\",\"locations\":[\"North Macedonia\"],\"name\":\"\",\"z\":[5.101],\"type\":\"choropleth\"}],\"name\":\"5.101\"},{\"data\":[{\"coloraxis\":\"coloraxis\",\"geo\":\"geo\",\"hovertemplate\":\"Ladder score=%{z}<br>Country name=%{location}<extra></extra>\",\"locationmode\":\"country names\",\"locations\":[\"Ghana\"],\"name\":\"\",\"z\":[5.088],\"type\":\"choropleth\"}],\"name\":\"5.088\"},{\"data\":[{\"coloraxis\":\"coloraxis\",\"geo\":\"geo\",\"hovertemplate\":\"Ladder score=%{z}<br>Country name=%{location}<extra></extra>\",\"locationmode\":\"country names\",\"locations\":[\"Niger\"],\"name\":\"\",\"z\":[5.074],\"type\":\"choropleth\"}],\"name\":\"5.074\"},{\"data\":[{\"coloraxis\":\"coloraxis\",\"geo\":\"geo\",\"hovertemplate\":\"Ladder score=%{z}<br>Country name=%{location}<extra></extra>\",\"locationmode\":\"country names\",\"locations\":[\"Turkmenistan\"],\"name\":\"\",\"z\":[5.066],\"type\":\"choropleth\"}],\"name\":\"5.066\"},{\"data\":[{\"coloraxis\":\"coloraxis\",\"geo\":\"geo\",\"hovertemplate\":\"Ladder score=%{z}<br>Country name=%{location}<extra></extra>\",\"locationmode\":\"country names\",\"locations\":[\"Gambia\"],\"name\":\"\",\"z\":[5.051],\"type\":\"choropleth\"}],\"name\":\"5.051\"},{\"data\":[{\"coloraxis\":\"coloraxis\",\"geo\":\"geo\",\"hovertemplate\":\"Ladder score=%{z}<br>Country name=%{location}<extra></extra>\",\"locationmode\":\"country names\",\"locations\":[\"Benin\"],\"name\":\"\",\"z\":[5.045],\"type\":\"choropleth\"}],\"name\":\"5.045\"},{\"data\":[{\"coloraxis\":\"coloraxis\",\"geo\":\"geo\",\"hovertemplate\":\"Ladder score=%{z}<br>Country name=%{location}<extra></extra>\",\"locationmode\":\"country names\",\"locations\":[\"Laos\"],\"name\":\"\",\"z\":[5.03],\"type\":\"choropleth\"}],\"name\":\"5.03\"},{\"data\":[{\"coloraxis\":\"coloraxis\",\"geo\":\"geo\",\"hovertemplate\":\"Ladder score=%{z}<br>Country name=%{location}<extra></extra>\",\"locationmode\":\"country names\",\"locations\":[\"Bangladesh\"],\"name\":\"\",\"z\":[5.025],\"type\":\"choropleth\"}],\"name\":\"5.025\"},{\"data\":[{\"coloraxis\":\"coloraxis\",\"geo\":\"geo\",\"hovertemplate\":\"Ladder score=%{z}<br>Country name=%{location}<extra></extra>\",\"locationmode\":\"country names\",\"locations\":[\"Guinea\"],\"name\":\"\",\"z\":[4.984],\"type\":\"choropleth\"}],\"name\":\"4.984\"},{\"data\":[{\"coloraxis\":\"coloraxis\",\"geo\":\"geo\",\"hovertemplate\":\"Ladder score=%{z}<br>Country name=%{location}<extra></extra>\",\"locationmode\":\"country names\",\"locations\":[\"South Africa\"],\"name\":\"\",\"z\":[4.956],\"type\":\"choropleth\"}],\"name\":\"4.956\"},{\"data\":[{\"coloraxis\":\"coloraxis\",\"geo\":\"geo\",\"hovertemplate\":\"Ladder score=%{z}<br>Country name=%{location}<extra></extra>\",\"locationmode\":\"country names\",\"locations\":[\"Turkey\"],\"name\":\"\",\"z\":[4.948],\"type\":\"choropleth\"}],\"name\":\"4.948\"},{\"data\":[{\"coloraxis\":\"coloraxis\",\"geo\":\"geo\",\"hovertemplate\":\"Ladder score=%{z}<br>Country name=%{location}<extra></extra>\",\"locationmode\":\"country names\",\"locations\":[\"Pakistan\"],\"name\":\"\",\"z\":[4.934],\"type\":\"choropleth\"}],\"name\":\"4.934\"},{\"data\":[{\"coloraxis\":\"coloraxis\",\"geo\":\"geo\",\"hovertemplate\":\"Ladder score=%{z}<br>Country name=%{location}<extra></extra>\",\"locationmode\":\"country names\",\"locations\":[\"Morocco\"],\"name\":\"\",\"z\":[4.918],\"type\":\"choropleth\"}],\"name\":\"4.918\"},{\"data\":[{\"coloraxis\":\"coloraxis\",\"geo\":\"geo\",\"hovertemplate\":\"Ladder score=%{z}<br>Country name=%{location}<extra></extra>\",\"locationmode\":\"country names\",\"locations\":[\"Venezuela\"],\"name\":\"\",\"z\":[4.892],\"type\":\"choropleth\"}],\"name\":\"4.892\"},{\"data\":[{\"coloraxis\":\"coloraxis\",\"geo\":\"geo\",\"hovertemplate\":\"Ladder score=%{z}<br>Country name=%{location}<extra></extra>\",\"locationmode\":\"country names\",\"locations\":[\"Georgia\"],\"name\":\"\",\"z\":[4.891],\"type\":\"choropleth\"}],\"name\":\"4.891\"},{\"data\":[{\"coloraxis\":\"coloraxis\",\"geo\":\"geo\",\"hovertemplate\":\"Ladder score=%{z}<br>Country name=%{location}<extra></extra>\",\"locationmode\":\"country names\",\"locations\":[\"Algeria\"],\"name\":\"\",\"z\":[4.887],\"type\":\"choropleth\"}],\"name\":\"4.887\"},{\"data\":[{\"coloraxis\":\"coloraxis\",\"geo\":\"geo\",\"hovertemplate\":\"Ladder score=%{z}<br>Country name=%{location}<extra></extra>\",\"locationmode\":\"country names\",\"locations\":[\"Ukraine\"],\"name\":\"\",\"z\":[4.875],\"type\":\"choropleth\"}],\"name\":\"4.875\"},{\"data\":[{\"coloraxis\":\"coloraxis\",\"geo\":\"geo\",\"hovertemplate\":\"Ladder score=%{z}<br>Country name=%{location}<extra></extra>\",\"locationmode\":\"country names\",\"locations\":[\"Iraq\"],\"name\":\"\",\"z\":[4.854],\"type\":\"choropleth\"}],\"name\":\"4.854\"},{\"data\":[{\"coloraxis\":\"coloraxis\",\"geo\":\"geo\",\"hovertemplate\":\"Ladder score=%{z}<br>Country name=%{location}<extra></extra>\",\"locationmode\":\"country names\",\"locations\":[\"Gabon\"],\"name\":\"\",\"z\":[4.852],\"type\":\"choropleth\"}],\"name\":\"4.852\"},{\"data\":[{\"coloraxis\":\"coloraxis\",\"geo\":\"geo\",\"hovertemplate\":\"Ladder score=%{z}<br>Country name=%{location}<extra></extra>\",\"locationmode\":\"country names\",\"locations\":[\"Burkina Faso\"],\"name\":\"\",\"z\":[4.834],\"type\":\"choropleth\"}],\"name\":\"4.834\"},{\"data\":[{\"coloraxis\":\"coloraxis\",\"geo\":\"geo\",\"hovertemplate\":\"Ladder score=%{z}<br>Country name=%{location}<extra></extra>\",\"locationmode\":\"country names\",\"locations\":[\"Cambodia\"],\"name\":\"\",\"z\":[4.83],\"type\":\"choropleth\"}],\"name\":\"4.83\"},{\"data\":[{\"coloraxis\":\"coloraxis\",\"geo\":\"geo\",\"hovertemplate\":\"Ladder score=%{z}<br>Country name=%{location}<extra></extra>\",\"locationmode\":\"country names\",\"locations\":[\"Mozambique\"],\"name\":\"\",\"z\":[4.794],\"type\":\"choropleth\"}],\"name\":\"4.794\"},{\"data\":[{\"coloraxis\":\"coloraxis\",\"geo\":\"geo\",\"hovertemplate\":\"Ladder score=%{z}<br>Country name=%{location}<extra></extra>\",\"locationmode\":\"country names\",\"locations\":[\"Nigeria\"],\"name\":\"\",\"z\":[4.759],\"type\":\"choropleth\"}],\"name\":\"4.759\"},{\"data\":[{\"coloraxis\":\"coloraxis\",\"geo\":\"geo\",\"hovertemplate\":\"Ladder score=%{z}<br>Country name=%{location}<extra></extra>\",\"locationmode\":\"country names\",\"locations\":[\"Mali\"],\"name\":\"\",\"z\":[4.723],\"type\":\"choropleth\"}],\"name\":\"4.723\"},{\"data\":[{\"coloraxis\":\"coloraxis\",\"geo\":\"geo\",\"hovertemplate\":\"Ladder score=%{z}<br>Country name=%{location}<extra></extra>\",\"locationmode\":\"country names\",\"locations\":[\"Iran\"],\"name\":\"\",\"z\":[4.721],\"type\":\"choropleth\"}],\"name\":\"4.721\"},{\"data\":[{\"coloraxis\":\"coloraxis\",\"geo\":\"geo\",\"hovertemplate\":\"Ladder score=%{z}<br>Country name=%{location}<extra></extra>\",\"locationmode\":\"country names\",\"locations\":[\"Uganda\"],\"name\":\"\",\"z\":[4.636],\"type\":\"choropleth\"}],\"name\":\"4.636\"},{\"data\":[{\"coloraxis\":\"coloraxis\",\"geo\":\"geo\",\"hovertemplate\":\"Ladder score=%{z}<br>Country name=%{location}<extra></extra>\",\"locationmode\":\"country names\",\"locations\":[\"Liberia\"],\"name\":\"\",\"z\":[4.625],\"type\":\"choropleth\"}],\"name\":\"4.625\"},{\"data\":[{\"coloraxis\":\"coloraxis\",\"geo\":\"geo\",\"hovertemplate\":\"Ladder score=%{z}<br>Country name=%{location}<extra></extra>\",\"locationmode\":\"country names\",\"locations\":[\"Kenya\"],\"name\":\"\",\"z\":[4.607],\"type\":\"choropleth\"}],\"name\":\"4.607\"},{\"data\":[{\"coloraxis\":\"coloraxis\",\"geo\":\"geo\",\"hovertemplate\":\"Ladder score=%{z}<br>Country name=%{location}<extra></extra>\",\"locationmode\":\"country names\",\"locations\":[\"Tunisia\"],\"name\":\"\",\"z\":[4.596],\"type\":\"choropleth\"}],\"name\":\"4.596\"},{\"data\":[{\"coloraxis\":\"coloraxis\",\"geo\":\"geo\",\"hovertemplate\":\"Ladder score=%{z}<br>Country name=%{location}<extra></extra>\",\"locationmode\":\"country names\",\"locations\":[\"Lebanon\"],\"name\":\"\",\"z\":[4.584],\"type\":\"choropleth\"}],\"name\":\"4.584\"},{\"data\":[{\"coloraxis\":\"coloraxis\",\"geo\":\"geo\",\"hovertemplate\":\"Ladder score=%{z}<br>Country name=%{location}<extra></extra>\",\"locationmode\":\"country names\",\"locations\":[\"Namibia\"],\"name\":\"\",\"z\":[4.574],\"type\":\"choropleth\"}],\"name\":\"4.574\"},{\"data\":[{\"coloraxis\":\"coloraxis\",\"geo\":\"geo\",\"hovertemplate\":\"Ladder score=%{z}<br>Country name=%{location}<extra></extra>\",\"locationmode\":\"country names\",\"locations\":[\"Palestinian Territories\"],\"name\":\"\",\"z\":[4.517],\"type\":\"choropleth\"}],\"name\":\"4.517\"},{\"data\":[{\"coloraxis\":\"coloraxis\",\"geo\":\"geo\",\"hovertemplate\":\"Ladder score=%{z}<br>Country name=%{location}<extra></extra>\",\"locationmode\":\"country names\",\"locations\":[\"Myanmar\"],\"name\":\"\",\"z\":[4.426],\"type\":\"choropleth\"}],\"name\":\"4.426\"},{\"data\":[{\"coloraxis\":\"coloraxis\",\"geo\":\"geo\",\"hovertemplate\":\"Ladder score=%{z}<br>Country name=%{location}<extra></extra>\",\"locationmode\":\"country names\",\"locations\":[\"Jordan\"],\"name\":\"\",\"z\":[4.395],\"type\":\"choropleth\"}],\"name\":\"4.395\"},{\"data\":[{\"coloraxis\":\"coloraxis\",\"geo\":\"geo\",\"hovertemplate\":\"Ladder score=%{z}<br>Country name=%{location}<extra></extra>\",\"locationmode\":\"country names\",\"locations\":[\"Chad\"],\"name\":\"\",\"z\":[4.355],\"type\":\"choropleth\"}],\"name\":\"4.355\"},{\"data\":[{\"coloraxis\":\"coloraxis\",\"geo\":\"geo\",\"hovertemplate\":\"Ladder score=%{z}<br>Country name=%{location}<extra></extra>\",\"locationmode\":\"country names\",\"locations\":[\"Sri Lanka\"],\"name\":\"\",\"z\":[4.325],\"type\":\"choropleth\"}],\"name\":\"4.325\"},{\"data\":[{\"coloraxis\":\"coloraxis\",\"geo\":\"geo\",\"hovertemplate\":\"Ladder score=%{z}<br>Country name=%{location}<extra></extra>\",\"locationmode\":\"country names\",\"locations\":[\"Swaziland\"],\"name\":\"\",\"z\":[4.308],\"type\":\"choropleth\"}],\"name\":\"4.308\"},{\"data\":[{\"coloraxis\":\"coloraxis\",\"geo\":\"geo\",\"hovertemplate\":\"Ladder score=%{z}<br>Country name=%{location}<extra></extra>\",\"locationmode\":\"country names\",\"locations\":[\"Comoros\"],\"name\":\"\",\"z\":[4.289],\"type\":\"choropleth\"}],\"name\":\"4.289\"},{\"data\":[{\"coloraxis\":\"coloraxis\",\"geo\":\"geo\",\"hovertemplate\":\"Ladder score=%{z}<br>Country name=%{location}<extra></extra>\",\"locationmode\":\"country names\",\"locations\":[\"Egypt\"],\"name\":\"\",\"z\":[4.283],\"type\":\"choropleth\"}],\"name\":\"4.283\"},{\"data\":[{\"coloraxis\":\"coloraxis\",\"geo\":\"geo\",\"hovertemplate\":\"Ladder score=%{z}<br>Country name=%{location}<extra></extra>\",\"locationmode\":\"country names\",\"locations\":[\"Ethiopia\"],\"name\":\"\",\"z\":[4.275],\"type\":\"choropleth\"}],\"name\":\"4.275\"},{\"data\":[{\"coloraxis\":\"coloraxis\",\"geo\":\"geo\",\"hovertemplate\":\"Ladder score=%{z}<br>Country name=%{location}<extra></extra>\",\"locationmode\":\"country names\",\"locations\":[\"Mauritania\"],\"name\":\"\",\"z\":[4.227],\"type\":\"choropleth\"}],\"name\":\"4.227\"},{\"data\":[{\"coloraxis\":\"coloraxis\",\"geo\":\"geo\",\"hovertemplate\":\"Ladder score=%{z}<br>Country name=%{location}<extra></extra>\",\"locationmode\":\"country names\",\"locations\":[\"Madagascar\"],\"name\":\"\",\"z\":[4.208],\"type\":\"choropleth\"}],\"name\":\"4.208\"},{\"data\":[{\"coloraxis\":\"coloraxis\",\"geo\":\"geo\",\"hovertemplate\":\"Ladder score=%{z}<br>Country name=%{location}<extra></extra>\",\"locationmode\":\"country names\",\"locations\":[\"Togo\"],\"name\":\"\",\"z\":[4.107],\"type\":\"choropleth\"}],\"name\":\"4.107\"},{\"data\":[{\"coloraxis\":\"coloraxis\",\"geo\":\"geo\",\"hovertemplate\":\"Ladder score=%{z}<br>Country name=%{location}<extra></extra>\",\"locationmode\":\"country names\",\"locations\":[\"Zambia\"],\"name\":\"\",\"z\":[4.073],\"type\":\"choropleth\"}],\"name\":\"4.073\"},{\"data\":[{\"coloraxis\":\"coloraxis\",\"geo\":\"geo\",\"hovertemplate\":\"Ladder score=%{z}<br>Country name=%{location}<extra></extra>\",\"locationmode\":\"country names\",\"locations\":[\"Sierra Leone\"],\"name\":\"\",\"z\":[3.849],\"type\":\"choropleth\"}],\"name\":\"3.849\"},{\"data\":[{\"coloraxis\":\"coloraxis\",\"geo\":\"geo\",\"hovertemplate\":\"Ladder score=%{z}<br>Country name=%{location}<extra></extra>\",\"locationmode\":\"country names\",\"locations\":[\"India\"],\"name\":\"\",\"z\":[3.819],\"type\":\"choropleth\"}],\"name\":\"3.819\"},{\"data\":[{\"coloraxis\":\"coloraxis\",\"geo\":\"geo\",\"hovertemplate\":\"Ladder score=%{z}<br>Country name=%{location}<extra></extra>\",\"locationmode\":\"country names\",\"locations\":[\"Burundi\"],\"name\":\"\",\"z\":[3.775],\"type\":\"choropleth\"}],\"name\":\"3.775\"},{\"data\":[{\"coloraxis\":\"coloraxis\",\"geo\":\"geo\",\"hovertemplate\":\"Ladder score=%{z}<br>Country name=%{location}<extra></extra>\",\"locationmode\":\"country names\",\"locations\":[\"Yemen\"],\"name\":\"\",\"z\":[3.658],\"type\":\"choropleth\"}],\"name\":\"3.658\"},{\"data\":[{\"coloraxis\":\"coloraxis\",\"geo\":\"geo\",\"hovertemplate\":\"Ladder score=%{z}<br>Country name=%{location}<extra></extra>\",\"locationmode\":\"country names\",\"locations\":[\"Tanzania\"],\"name\":\"\",\"z\":[3.623],\"type\":\"choropleth\"}],\"name\":\"3.623\"},{\"data\":[{\"coloraxis\":\"coloraxis\",\"geo\":\"geo\",\"hovertemplate\":\"Ladder score=%{z}<br>Country name=%{location}<extra></extra>\",\"locationmode\":\"country names\",\"locations\":[\"Haiti\"],\"name\":\"\",\"z\":[3.615],\"type\":\"choropleth\"}],\"name\":\"3.615\"},{\"data\":[{\"coloraxis\":\"coloraxis\",\"geo\":\"geo\",\"hovertemplate\":\"Ladder score=%{z}<br>Country name=%{location}<extra></extra>\",\"locationmode\":\"country names\",\"locations\":[\"Malawi\"],\"name\":\"\",\"z\":[3.6],\"type\":\"choropleth\"}],\"name\":\"3.6\"},{\"data\":[{\"coloraxis\":\"coloraxis\",\"geo\":\"geo\",\"hovertemplate\":\"Ladder score=%{z}<br>Country name=%{location}<extra></extra>\",\"locationmode\":\"country names\",\"locations\":[\"Lesotho\"],\"name\":\"\",\"z\":[3.512],\"type\":\"choropleth\"}],\"name\":\"3.512\"},{\"data\":[{\"coloraxis\":\"coloraxis\",\"geo\":\"geo\",\"hovertemplate\":\"Ladder score=%{z}<br>Country name=%{location}<extra></extra>\",\"locationmode\":\"country names\",\"locations\":[\"Botswana\"],\"name\":\"\",\"z\":[3.467],\"type\":\"choropleth\"}],\"name\":\"3.467\"},{\"data\":[{\"coloraxis\":\"coloraxis\",\"geo\":\"geo\",\"hovertemplate\":\"Ladder score=%{z}<br>Country name=%{location}<extra></extra>\",\"locationmode\":\"country names\",\"locations\":[\"Rwanda\"],\"name\":\"\",\"z\":[3.415],\"type\":\"choropleth\"}],\"name\":\"3.415\"},{\"data\":[{\"coloraxis\":\"coloraxis\",\"geo\":\"geo\",\"hovertemplate\":\"Ladder score=%{z}<br>Country name=%{location}<extra></extra>\",\"locationmode\":\"country names\",\"locations\":[\"Zimbabwe\"],\"name\":\"\",\"z\":[3.145],\"type\":\"choropleth\"}],\"name\":\"3.145\"},{\"data\":[{\"coloraxis\":\"coloraxis\",\"geo\":\"geo\",\"hovertemplate\":\"Ladder score=%{z}<br>Country name=%{location}<extra></extra>\",\"locationmode\":\"country names\",\"locations\":[\"Afghanistan\"],\"name\":\"\",\"z\":[2.523],\"type\":\"choropleth\"}],\"name\":\"2.523\"}]);\n",
       "                        }).then(function(){\n",
       "                            \n",
       "var gd = document.getElementById('c6e519c6-c7b9-47b1-aab8-b36c6d185a77');\n",
       "var x = new MutationObserver(function (mutations, observer) {{\n",
       "        var display = window.getComputedStyle(gd).display;\n",
       "        if (!display || display === 'none') {{\n",
       "            console.log([gd, 'removed!']);\n",
       "            Plotly.purge(gd);\n",
       "            observer.disconnect();\n",
       "        }}\n",
       "}});\n",
       "\n",
       "// Listen for the removal of the full notebook cells\n",
       "var notebookContainer = gd.closest('#notebook-container');\n",
       "if (notebookContainer) {{\n",
       "    x.observe(notebookContainer, {childList: true});\n",
       "}}\n",
       "\n",
       "// Listen for the clearing of the current output cell\n",
       "var outputEl = gd.closest('.output');\n",
       "if (outputEl) {{\n",
       "    x.observe(outputEl, {childList: true});\n",
       "}}\n",
       "\n",
       "                        })                };                });            </script>        </div>"
      ]
     },
     "metadata": {},
     "output_type": "display_data"
    },
    {
     "data": {
      "text/plain": [
       "<Figure size 576x396 with 0 Axes>"
      ]
     },
     "metadata": {},
     "output_type": "display_data"
    }
   ],
   "source": [
    "fig = px.choropleth(data, locations = \"Country name\", color = \"Ladder score\", locationmode='country names',animation_frame = \"Ladder score\")\n",
    "fig.update_layout(title_text = 'World Happiness Index - year wise data', title_x = 0.5)\n",
    "fig.show()\n",
    "plt.savefig('map.png')"
   ]
  },
  {
   "cell_type": "code",
   "execution_count": 108,
   "id": "5e96de80-5c22-40ab-abef-dbe98d7259dc",
   "metadata": {},
   "outputs": [
    {
     "data": {
      "application/vnd.plotly.v1+json": {
       "config": {
        "plotlyServerURL": "https://plot.ly"
       },
       "data": [
        {
         "coloraxis": "coloraxis",
         "geo": "geo",
         "hovertemplate": "<b>%{hovertext}</b><br><br>iso_alpha=%{location}<br>lifeExp=%{z}<extra></extra>",
         "hovertext": [
          "Afghanistan",
          "Albania",
          "Algeria",
          "Angola",
          "Argentina",
          "Australia",
          "Austria",
          "Bahrain",
          "Bangladesh",
          "Belgium",
          "Benin",
          "Bolivia",
          "Bosnia and Herzegovina",
          "Botswana",
          "Brazil",
          "Bulgaria",
          "Burkina Faso",
          "Burundi",
          "Cambodia",
          "Cameroon",
          "Canada",
          "Central African Republic",
          "Chad",
          "Chile",
          "China",
          "Colombia",
          "Comoros",
          "Congo, Dem. Rep.",
          "Congo, Rep.",
          "Costa Rica",
          "Cote d'Ivoire",
          "Croatia",
          "Cuba",
          "Czech Republic",
          "Denmark",
          "Djibouti",
          "Dominican Republic",
          "Ecuador",
          "Egypt",
          "El Salvador",
          "Equatorial Guinea",
          "Eritrea",
          "Ethiopia",
          "Finland",
          "France",
          "Gabon",
          "Gambia",
          "Germany",
          "Ghana",
          "Greece",
          "Guatemala",
          "Guinea",
          "Guinea-Bissau",
          "Haiti",
          "Honduras",
          "Hong Kong, China",
          "Hungary",
          "Iceland",
          "India",
          "Indonesia",
          "Iran",
          "Iraq",
          "Ireland",
          "Israel",
          "Italy",
          "Jamaica",
          "Japan",
          "Jordan",
          "Kenya",
          "Korea, Dem. Rep.",
          "Korea, Rep.",
          "Kuwait",
          "Lebanon",
          "Lesotho",
          "Liberia",
          "Libya",
          "Madagascar",
          "Malawi",
          "Malaysia",
          "Mali",
          "Mauritania",
          "Mauritius",
          "Mexico",
          "Mongolia",
          "Montenegro",
          "Morocco",
          "Mozambique",
          "Myanmar",
          "Namibia",
          "Nepal",
          "Netherlands",
          "New Zealand",
          "Nicaragua",
          "Niger",
          "Nigeria",
          "Norway",
          "Oman",
          "Pakistan",
          "Panama",
          "Paraguay",
          "Peru",
          "Philippines",
          "Poland",
          "Portugal",
          "Puerto Rico",
          "Reunion",
          "Romania",
          "Rwanda",
          "Sao Tome and Principe",
          "Saudi Arabia",
          "Senegal",
          "Serbia",
          "Sierra Leone",
          "Singapore",
          "Slovak Republic",
          "Slovenia",
          "Somalia",
          "South Africa",
          "Spain",
          "Sri Lanka",
          "Sudan",
          "Swaziland",
          "Sweden",
          "Switzerland",
          "Syria",
          "Taiwan",
          "Tanzania",
          "Thailand",
          "Togo",
          "Trinidad and Tobago",
          "Tunisia",
          "Turkey",
          "Uganda",
          "United Kingdom",
          "United States",
          "Uruguay",
          "Venezuela",
          "Vietnam",
          "West Bank and Gaza",
          "Yemen, Rep.",
          "Zambia",
          "Zimbabwe"
         ],
         "locations": [
          "AFG",
          "ALB",
          "DZA",
          "AGO",
          "ARG",
          "AUS",
          "AUT",
          "BHR",
          "BGD",
          "BEL",
          "BEN",
          "BOL",
          "BIH",
          "BWA",
          "BRA",
          "BGR",
          "BFA",
          "BDI",
          "KHM",
          "CMR",
          "CAN",
          "CAF",
          "TCD",
          "CHL",
          "CHN",
          "COL",
          "COM",
          "COD",
          "COG",
          "CRI",
          "CIV",
          "HRV",
          "CUB",
          "CZE",
          "DNK",
          "DJI",
          "DOM",
          "ECU",
          "EGY",
          "SLV",
          "GNQ",
          "ERI",
          "ETH",
          "FIN",
          "FRA",
          "GAB",
          "GMB",
          "DEU",
          "GHA",
          "GRC",
          "GTM",
          "GIN",
          "GNB",
          "HTI",
          "HND",
          "HKG",
          "HUN",
          "ISL",
          "IND",
          "IDN",
          "IRN",
          "IRQ",
          "IRL",
          "ISR",
          "ITA",
          "JAM",
          "JPN",
          "JOR",
          "KEN",
          "KOR",
          "KOR",
          "KWT",
          "LBN",
          "LSO",
          "LBR",
          "LBY",
          "MDG",
          "MWI",
          "MYS",
          "MLI",
          "MRT",
          "MUS",
          "MEX",
          "MNG",
          "MNE",
          "MAR",
          "MOZ",
          "MMR",
          "NAM",
          "NPL",
          "NLD",
          "NZL",
          "NIC",
          "NER",
          "NGA",
          "NOR",
          "OMN",
          "PAK",
          "PAN",
          "PRY",
          "PER",
          "PHL",
          "POL",
          "PRT",
          "PRI",
          "REU",
          "ROU",
          "RWA",
          "STP",
          "SAU",
          "SEN",
          "SRB",
          "SLE",
          "SGP",
          "SVK",
          "SVN",
          "SOM",
          "ZAF",
          "ESP",
          "LKA",
          "SDN",
          "SWZ",
          "SWE",
          "CHE",
          "SYR",
          "TWN",
          "TZA",
          "THA",
          "TGO",
          "TTO",
          "TUN",
          "TUR",
          "UGA",
          "GBR",
          "USA",
          "URY",
          "VEN",
          "VNM",
          "PSE",
          "YEM",
          "ZMB",
          "ZWE"
         ],
         "name": "",
         "type": "choropleth",
         "z": [
          43.828,
          76.423,
          72.301,
          42.731,
          75.32,
          81.235,
          79.829,
          75.635,
          64.062,
          79.441,
          56.728,
          65.554,
          74.852,
          50.728,
          72.39,
          73.005,
          52.295,
          49.58,
          59.723,
          50.43,
          80.653,
          44.74100000000001,
          50.651,
          78.553,
          72.961,
          72.889,
          65.152,
          46.462,
          55.322,
          78.782,
          48.328,
          75.748,
          78.273,
          76.486,
          78.332,
          54.791,
          72.235,
          74.994,
          71.33800000000002,
          71.878,
          51.57899999999999,
          58.04,
          52.947,
          79.313,
          80.657,
          56.735,
          59.448,
          79.406,
          60.022,
          79.483,
          70.259,
          56.007,
          46.38800000000001,
          60.916,
          70.19800000000001,
          82.208,
          73.33800000000002,
          81.757,
          64.69800000000001,
          70.65,
          70.964,
          59.545,
          78.885,
          80.745,
          80.546,
          72.567,
          82.603,
          72.535,
          54.11,
          67.297,
          78.623,
          77.58800000000002,
          71.993,
          42.592,
          45.678,
          73.952,
          59.44300000000001,
          48.303,
          74.241,
          54.467,
          64.164,
          72.801,
          76.195,
          66.803,
          74.543,
          71.164,
          42.082,
          62.069,
          52.90600000000001,
          63.785,
          79.762,
          80.204,
          72.899,
          56.867,
          46.859,
          80.196,
          75.64,
          65.483,
          75.53699999999998,
          71.752,
          71.421,
          71.688,
          75.563,
          78.098,
          78.74600000000002,
          76.442,
          72.476,
          46.242,
          65.528,
          72.777,
          63.062,
          74.002,
          42.56800000000001,
          79.972,
          74.663,
          77.926,
          48.159,
          49.339,
          80.941,
          72.396,
          58.556,
          39.613,
          80.884,
          81.70100000000002,
          74.143,
          78.4,
          52.517,
          70.616,
          58.42,
          69.819,
          73.923,
          71.777,
          51.542,
          79.425,
          78.242,
          76.384,
          73.747,
          74.249,
          73.422,
          62.698,
          42.38399999999999,
          43.487
         ]
        }
       ],
       "layout": {
        "coloraxis": {
         "colorbar": {
          "title": {
           "text": "lifeExp"
          }
         },
         "colorscale": [
          [
           0,
           "#0d0887"
          ],
          [
           0.1111111111111111,
           "#46039f"
          ],
          [
           0.2222222222222222,
           "#7201a8"
          ],
          [
           0.3333333333333333,
           "#9c179e"
          ],
          [
           0.4444444444444444,
           "#bd3786"
          ],
          [
           0.5555555555555556,
           "#d8576b"
          ],
          [
           0.6666666666666666,
           "#ed7953"
          ],
          [
           0.7777777777777778,
           "#fb9f3a"
          ],
          [
           0.8888888888888888,
           "#fdca26"
          ],
          [
           1,
           "#f0f921"
          ]
         ]
        },
        "geo": {
         "center": {},
         "domain": {
          "x": [
           0,
           1
          ],
          "y": [
           0,
           1
          ]
         }
        },
        "legend": {
         "tracegroupgap": 0
        },
        "margin": {
         "t": 60
        },
        "template": {
         "data": {
          "bar": [
           {
            "error_x": {
             "color": "#2a3f5f"
            },
            "error_y": {
             "color": "#2a3f5f"
            },
            "marker": {
             "line": {
              "color": "#E5ECF6",
              "width": 0.5
             },
             "pattern": {
              "fillmode": "overlay",
              "size": 10,
              "solidity": 0.2
             }
            },
            "type": "bar"
           }
          ],
          "barpolar": [
           {
            "marker": {
             "line": {
              "color": "#E5ECF6",
              "width": 0.5
             },
             "pattern": {
              "fillmode": "overlay",
              "size": 10,
              "solidity": 0.2
             }
            },
            "type": "barpolar"
           }
          ],
          "carpet": [
           {
            "aaxis": {
             "endlinecolor": "#2a3f5f",
             "gridcolor": "white",
             "linecolor": "white",
             "minorgridcolor": "white",
             "startlinecolor": "#2a3f5f"
            },
            "baxis": {
             "endlinecolor": "#2a3f5f",
             "gridcolor": "white",
             "linecolor": "white",
             "minorgridcolor": "white",
             "startlinecolor": "#2a3f5f"
            },
            "type": "carpet"
           }
          ],
          "choropleth": [
           {
            "colorbar": {
             "outlinewidth": 0,
             "ticks": ""
            },
            "type": "choropleth"
           }
          ],
          "contour": [
           {
            "colorbar": {
             "outlinewidth": 0,
             "ticks": ""
            },
            "colorscale": [
             [
              0,
              "#0d0887"
             ],
             [
              0.1111111111111111,
              "#46039f"
             ],
             [
              0.2222222222222222,
              "#7201a8"
             ],
             [
              0.3333333333333333,
              "#9c179e"
             ],
             [
              0.4444444444444444,
              "#bd3786"
             ],
             [
              0.5555555555555556,
              "#d8576b"
             ],
             [
              0.6666666666666666,
              "#ed7953"
             ],
             [
              0.7777777777777778,
              "#fb9f3a"
             ],
             [
              0.8888888888888888,
              "#fdca26"
             ],
             [
              1,
              "#f0f921"
             ]
            ],
            "type": "contour"
           }
          ],
          "contourcarpet": [
           {
            "colorbar": {
             "outlinewidth": 0,
             "ticks": ""
            },
            "type": "contourcarpet"
           }
          ],
          "heatmap": [
           {
            "colorbar": {
             "outlinewidth": 0,
             "ticks": ""
            },
            "colorscale": [
             [
              0,
              "#0d0887"
             ],
             [
              0.1111111111111111,
              "#46039f"
             ],
             [
              0.2222222222222222,
              "#7201a8"
             ],
             [
              0.3333333333333333,
              "#9c179e"
             ],
             [
              0.4444444444444444,
              "#bd3786"
             ],
             [
              0.5555555555555556,
              "#d8576b"
             ],
             [
              0.6666666666666666,
              "#ed7953"
             ],
             [
              0.7777777777777778,
              "#fb9f3a"
             ],
             [
              0.8888888888888888,
              "#fdca26"
             ],
             [
              1,
              "#f0f921"
             ]
            ],
            "type": "heatmap"
           }
          ],
          "heatmapgl": [
           {
            "colorbar": {
             "outlinewidth": 0,
             "ticks": ""
            },
            "colorscale": [
             [
              0,
              "#0d0887"
             ],
             [
              0.1111111111111111,
              "#46039f"
             ],
             [
              0.2222222222222222,
              "#7201a8"
             ],
             [
              0.3333333333333333,
              "#9c179e"
             ],
             [
              0.4444444444444444,
              "#bd3786"
             ],
             [
              0.5555555555555556,
              "#d8576b"
             ],
             [
              0.6666666666666666,
              "#ed7953"
             ],
             [
              0.7777777777777778,
              "#fb9f3a"
             ],
             [
              0.8888888888888888,
              "#fdca26"
             ],
             [
              1,
              "#f0f921"
             ]
            ],
            "type": "heatmapgl"
           }
          ],
          "histogram": [
           {
            "marker": {
             "pattern": {
              "fillmode": "overlay",
              "size": 10,
              "solidity": 0.2
             }
            },
            "type": "histogram"
           }
          ],
          "histogram2d": [
           {
            "colorbar": {
             "outlinewidth": 0,
             "ticks": ""
            },
            "colorscale": [
             [
              0,
              "#0d0887"
             ],
             [
              0.1111111111111111,
              "#46039f"
             ],
             [
              0.2222222222222222,
              "#7201a8"
             ],
             [
              0.3333333333333333,
              "#9c179e"
             ],
             [
              0.4444444444444444,
              "#bd3786"
             ],
             [
              0.5555555555555556,
              "#d8576b"
             ],
             [
              0.6666666666666666,
              "#ed7953"
             ],
             [
              0.7777777777777778,
              "#fb9f3a"
             ],
             [
              0.8888888888888888,
              "#fdca26"
             ],
             [
              1,
              "#f0f921"
             ]
            ],
            "type": "histogram2d"
           }
          ],
          "histogram2dcontour": [
           {
            "colorbar": {
             "outlinewidth": 0,
             "ticks": ""
            },
            "colorscale": [
             [
              0,
              "#0d0887"
             ],
             [
              0.1111111111111111,
              "#46039f"
             ],
             [
              0.2222222222222222,
              "#7201a8"
             ],
             [
              0.3333333333333333,
              "#9c179e"
             ],
             [
              0.4444444444444444,
              "#bd3786"
             ],
             [
              0.5555555555555556,
              "#d8576b"
             ],
             [
              0.6666666666666666,
              "#ed7953"
             ],
             [
              0.7777777777777778,
              "#fb9f3a"
             ],
             [
              0.8888888888888888,
              "#fdca26"
             ],
             [
              1,
              "#f0f921"
             ]
            ],
            "type": "histogram2dcontour"
           }
          ],
          "mesh3d": [
           {
            "colorbar": {
             "outlinewidth": 0,
             "ticks": ""
            },
            "type": "mesh3d"
           }
          ],
          "parcoords": [
           {
            "line": {
             "colorbar": {
              "outlinewidth": 0,
              "ticks": ""
             }
            },
            "type": "parcoords"
           }
          ],
          "pie": [
           {
            "automargin": true,
            "type": "pie"
           }
          ],
          "scatter": [
           {
            "marker": {
             "colorbar": {
              "outlinewidth": 0,
              "ticks": ""
             }
            },
            "type": "scatter"
           }
          ],
          "scatter3d": [
           {
            "line": {
             "colorbar": {
              "outlinewidth": 0,
              "ticks": ""
             }
            },
            "marker": {
             "colorbar": {
              "outlinewidth": 0,
              "ticks": ""
             }
            },
            "type": "scatter3d"
           }
          ],
          "scattercarpet": [
           {
            "marker": {
             "colorbar": {
              "outlinewidth": 0,
              "ticks": ""
             }
            },
            "type": "scattercarpet"
           }
          ],
          "scattergeo": [
           {
            "marker": {
             "colorbar": {
              "outlinewidth": 0,
              "ticks": ""
             }
            },
            "type": "scattergeo"
           }
          ],
          "scattergl": [
           {
            "marker": {
             "colorbar": {
              "outlinewidth": 0,
              "ticks": ""
             }
            },
            "type": "scattergl"
           }
          ],
          "scattermapbox": [
           {
            "marker": {
             "colorbar": {
              "outlinewidth": 0,
              "ticks": ""
             }
            },
            "type": "scattermapbox"
           }
          ],
          "scatterpolar": [
           {
            "marker": {
             "colorbar": {
              "outlinewidth": 0,
              "ticks": ""
             }
            },
            "type": "scatterpolar"
           }
          ],
          "scatterpolargl": [
           {
            "marker": {
             "colorbar": {
              "outlinewidth": 0,
              "ticks": ""
             }
            },
            "type": "scatterpolargl"
           }
          ],
          "scatterternary": [
           {
            "marker": {
             "colorbar": {
              "outlinewidth": 0,
              "ticks": ""
             }
            },
            "type": "scatterternary"
           }
          ],
          "surface": [
           {
            "colorbar": {
             "outlinewidth": 0,
             "ticks": ""
            },
            "colorscale": [
             [
              0,
              "#0d0887"
             ],
             [
              0.1111111111111111,
              "#46039f"
             ],
             [
              0.2222222222222222,
              "#7201a8"
             ],
             [
              0.3333333333333333,
              "#9c179e"
             ],
             [
              0.4444444444444444,
              "#bd3786"
             ],
             [
              0.5555555555555556,
              "#d8576b"
             ],
             [
              0.6666666666666666,
              "#ed7953"
             ],
             [
              0.7777777777777778,
              "#fb9f3a"
             ],
             [
              0.8888888888888888,
              "#fdca26"
             ],
             [
              1,
              "#f0f921"
             ]
            ],
            "type": "surface"
           }
          ],
          "table": [
           {
            "cells": {
             "fill": {
              "color": "#EBF0F8"
             },
             "line": {
              "color": "white"
             }
            },
            "header": {
             "fill": {
              "color": "#C8D4E3"
             },
             "line": {
              "color": "white"
             }
            },
            "type": "table"
           }
          ]
         },
         "layout": {
          "annotationdefaults": {
           "arrowcolor": "#2a3f5f",
           "arrowhead": 0,
           "arrowwidth": 1
          },
          "autotypenumbers": "strict",
          "coloraxis": {
           "colorbar": {
            "outlinewidth": 0,
            "ticks": ""
           }
          },
          "colorscale": {
           "diverging": [
            [
             0,
             "#8e0152"
            ],
            [
             0.1,
             "#c51b7d"
            ],
            [
             0.2,
             "#de77ae"
            ],
            [
             0.3,
             "#f1b6da"
            ],
            [
             0.4,
             "#fde0ef"
            ],
            [
             0.5,
             "#f7f7f7"
            ],
            [
             0.6,
             "#e6f5d0"
            ],
            [
             0.7,
             "#b8e186"
            ],
            [
             0.8,
             "#7fbc41"
            ],
            [
             0.9,
             "#4d9221"
            ],
            [
             1,
             "#276419"
            ]
           ],
           "sequential": [
            [
             0,
             "#0d0887"
            ],
            [
             0.1111111111111111,
             "#46039f"
            ],
            [
             0.2222222222222222,
             "#7201a8"
            ],
            [
             0.3333333333333333,
             "#9c179e"
            ],
            [
             0.4444444444444444,
             "#bd3786"
            ],
            [
             0.5555555555555556,
             "#d8576b"
            ],
            [
             0.6666666666666666,
             "#ed7953"
            ],
            [
             0.7777777777777778,
             "#fb9f3a"
            ],
            [
             0.8888888888888888,
             "#fdca26"
            ],
            [
             1,
             "#f0f921"
            ]
           ],
           "sequentialminus": [
            [
             0,
             "#0d0887"
            ],
            [
             0.1111111111111111,
             "#46039f"
            ],
            [
             0.2222222222222222,
             "#7201a8"
            ],
            [
             0.3333333333333333,
             "#9c179e"
            ],
            [
             0.4444444444444444,
             "#bd3786"
            ],
            [
             0.5555555555555556,
             "#d8576b"
            ],
            [
             0.6666666666666666,
             "#ed7953"
            ],
            [
             0.7777777777777778,
             "#fb9f3a"
            ],
            [
             0.8888888888888888,
             "#fdca26"
            ],
            [
             1,
             "#f0f921"
            ]
           ]
          },
          "colorway": [
           "#636efa",
           "#EF553B",
           "#00cc96",
           "#ab63fa",
           "#FFA15A",
           "#19d3f3",
           "#FF6692",
           "#B6E880",
           "#FF97FF",
           "#FECB52"
          ],
          "font": {
           "color": "#2a3f5f"
          },
          "geo": {
           "bgcolor": "white",
           "lakecolor": "white",
           "landcolor": "#E5ECF6",
           "showlakes": true,
           "showland": true,
           "subunitcolor": "white"
          },
          "hoverlabel": {
           "align": "left"
          },
          "hovermode": "closest",
          "mapbox": {
           "style": "light"
          },
          "paper_bgcolor": "white",
          "plot_bgcolor": "#E5ECF6",
          "polar": {
           "angularaxis": {
            "gridcolor": "white",
            "linecolor": "white",
            "ticks": ""
           },
           "bgcolor": "#E5ECF6",
           "radialaxis": {
            "gridcolor": "white",
            "linecolor": "white",
            "ticks": ""
           }
          },
          "scene": {
           "xaxis": {
            "backgroundcolor": "#E5ECF6",
            "gridcolor": "white",
            "gridwidth": 2,
            "linecolor": "white",
            "showbackground": true,
            "ticks": "",
            "zerolinecolor": "white"
           },
           "yaxis": {
            "backgroundcolor": "#E5ECF6",
            "gridcolor": "white",
            "gridwidth": 2,
            "linecolor": "white",
            "showbackground": true,
            "ticks": "",
            "zerolinecolor": "white"
           },
           "zaxis": {
            "backgroundcolor": "#E5ECF6",
            "gridcolor": "white",
            "gridwidth": 2,
            "linecolor": "white",
            "showbackground": true,
            "ticks": "",
            "zerolinecolor": "white"
           }
          },
          "shapedefaults": {
           "line": {
            "color": "#2a3f5f"
           }
          },
          "ternary": {
           "aaxis": {
            "gridcolor": "white",
            "linecolor": "white",
            "ticks": ""
           },
           "baxis": {
            "gridcolor": "white",
            "linecolor": "white",
            "ticks": ""
           },
           "bgcolor": "#E5ECF6",
           "caxis": {
            "gridcolor": "white",
            "linecolor": "white",
            "ticks": ""
           }
          },
          "title": {
           "x": 0.05
          },
          "xaxis": {
           "automargin": true,
           "gridcolor": "white",
           "linecolor": "white",
           "ticks": "",
           "title": {
            "standoff": 15
           },
           "zerolinecolor": "white",
           "zerolinewidth": 2
          },
          "yaxis": {
           "automargin": true,
           "gridcolor": "white",
           "linecolor": "white",
           "ticks": "",
           "title": {
            "standoff": 15
           },
           "zerolinecolor": "white",
           "zerolinewidth": 2
          }
         }
        }
       }
      },
      "text/html": [
       "<div>                            <div id=\"19744322-c128-4838-8c07-e6f6639bbc7d\" class=\"plotly-graph-div\" style=\"height:525px; width:100%;\"></div>            <script type=\"text/javascript\">                require([\"plotly\"], function(Plotly) {                    window.PLOTLYENV=window.PLOTLYENV || {};                                    if (document.getElementById(\"19744322-c128-4838-8c07-e6f6639bbc7d\")) {                    Plotly.newPlot(                        \"19744322-c128-4838-8c07-e6f6639bbc7d\",                        [{\"coloraxis\":\"coloraxis\",\"geo\":\"geo\",\"hovertemplate\":\"<b>%{hovertext}</b><br><br>iso_alpha=%{location}<br>lifeExp=%{z}<extra></extra>\",\"hovertext\":[\"Afghanistan\",\"Albania\",\"Algeria\",\"Angola\",\"Argentina\",\"Australia\",\"Austria\",\"Bahrain\",\"Bangladesh\",\"Belgium\",\"Benin\",\"Bolivia\",\"Bosnia and Herzegovina\",\"Botswana\",\"Brazil\",\"Bulgaria\",\"Burkina Faso\",\"Burundi\",\"Cambodia\",\"Cameroon\",\"Canada\",\"Central African Republic\",\"Chad\",\"Chile\",\"China\",\"Colombia\",\"Comoros\",\"Congo, Dem. Rep.\",\"Congo, Rep.\",\"Costa Rica\",\"Cote d'Ivoire\",\"Croatia\",\"Cuba\",\"Czech Republic\",\"Denmark\",\"Djibouti\",\"Dominican Republic\",\"Ecuador\",\"Egypt\",\"El Salvador\",\"Equatorial Guinea\",\"Eritrea\",\"Ethiopia\",\"Finland\",\"France\",\"Gabon\",\"Gambia\",\"Germany\",\"Ghana\",\"Greece\",\"Guatemala\",\"Guinea\",\"Guinea-Bissau\",\"Haiti\",\"Honduras\",\"Hong Kong, China\",\"Hungary\",\"Iceland\",\"India\",\"Indonesia\",\"Iran\",\"Iraq\",\"Ireland\",\"Israel\",\"Italy\",\"Jamaica\",\"Japan\",\"Jordan\",\"Kenya\",\"Korea, Dem. Rep.\",\"Korea, Rep.\",\"Kuwait\",\"Lebanon\",\"Lesotho\",\"Liberia\",\"Libya\",\"Madagascar\",\"Malawi\",\"Malaysia\",\"Mali\",\"Mauritania\",\"Mauritius\",\"Mexico\",\"Mongolia\",\"Montenegro\",\"Morocco\",\"Mozambique\",\"Myanmar\",\"Namibia\",\"Nepal\",\"Netherlands\",\"New Zealand\",\"Nicaragua\",\"Niger\",\"Nigeria\",\"Norway\",\"Oman\",\"Pakistan\",\"Panama\",\"Paraguay\",\"Peru\",\"Philippines\",\"Poland\",\"Portugal\",\"Puerto Rico\",\"Reunion\",\"Romania\",\"Rwanda\",\"Sao Tome and Principe\",\"Saudi Arabia\",\"Senegal\",\"Serbia\",\"Sierra Leone\",\"Singapore\",\"Slovak Republic\",\"Slovenia\",\"Somalia\",\"South Africa\",\"Spain\",\"Sri Lanka\",\"Sudan\",\"Swaziland\",\"Sweden\",\"Switzerland\",\"Syria\",\"Taiwan\",\"Tanzania\",\"Thailand\",\"Togo\",\"Trinidad and Tobago\",\"Tunisia\",\"Turkey\",\"Uganda\",\"United Kingdom\",\"United States\",\"Uruguay\",\"Venezuela\",\"Vietnam\",\"West Bank and Gaza\",\"Yemen, Rep.\",\"Zambia\",\"Zimbabwe\"],\"locations\":[\"AFG\",\"ALB\",\"DZA\",\"AGO\",\"ARG\",\"AUS\",\"AUT\",\"BHR\",\"BGD\",\"BEL\",\"BEN\",\"BOL\",\"BIH\",\"BWA\",\"BRA\",\"BGR\",\"BFA\",\"BDI\",\"KHM\",\"CMR\",\"CAN\",\"CAF\",\"TCD\",\"CHL\",\"CHN\",\"COL\",\"COM\",\"COD\",\"COG\",\"CRI\",\"CIV\",\"HRV\",\"CUB\",\"CZE\",\"DNK\",\"DJI\",\"DOM\",\"ECU\",\"EGY\",\"SLV\",\"GNQ\",\"ERI\",\"ETH\",\"FIN\",\"FRA\",\"GAB\",\"GMB\",\"DEU\",\"GHA\",\"GRC\",\"GTM\",\"GIN\",\"GNB\",\"HTI\",\"HND\",\"HKG\",\"HUN\",\"ISL\",\"IND\",\"IDN\",\"IRN\",\"IRQ\",\"IRL\",\"ISR\",\"ITA\",\"JAM\",\"JPN\",\"JOR\",\"KEN\",\"KOR\",\"KOR\",\"KWT\",\"LBN\",\"LSO\",\"LBR\",\"LBY\",\"MDG\",\"MWI\",\"MYS\",\"MLI\",\"MRT\",\"MUS\",\"MEX\",\"MNG\",\"MNE\",\"MAR\",\"MOZ\",\"MMR\",\"NAM\",\"NPL\",\"NLD\",\"NZL\",\"NIC\",\"NER\",\"NGA\",\"NOR\",\"OMN\",\"PAK\",\"PAN\",\"PRY\",\"PER\",\"PHL\",\"POL\",\"PRT\",\"PRI\",\"REU\",\"ROU\",\"RWA\",\"STP\",\"SAU\",\"SEN\",\"SRB\",\"SLE\",\"SGP\",\"SVK\",\"SVN\",\"SOM\",\"ZAF\",\"ESP\",\"LKA\",\"SDN\",\"SWZ\",\"SWE\",\"CHE\",\"SYR\",\"TWN\",\"TZA\",\"THA\",\"TGO\",\"TTO\",\"TUN\",\"TUR\",\"UGA\",\"GBR\",\"USA\",\"URY\",\"VEN\",\"VNM\",\"PSE\",\"YEM\",\"ZMB\",\"ZWE\"],\"name\":\"\",\"z\":[43.828,76.423,72.301,42.731,75.32,81.235,79.829,75.635,64.062,79.441,56.728,65.554,74.852,50.728,72.39,73.005,52.295,49.58,59.723,50.43,80.653,44.74100000000001,50.651,78.553,72.961,72.889,65.152,46.462,55.322,78.782,48.328,75.748,78.273,76.486,78.332,54.791,72.235,74.994,71.33800000000002,71.878,51.57899999999999,58.04,52.947,79.313,80.657,56.735,59.448,79.406,60.022,79.483,70.259,56.007,46.38800000000001,60.916,70.19800000000001,82.208,73.33800000000002,81.757,64.69800000000001,70.65,70.964,59.545,78.885,80.745,80.546,72.567,82.603,72.535,54.11,67.297,78.623,77.58800000000002,71.993,42.592,45.678,73.952,59.44300000000001,48.303,74.241,54.467,64.164,72.801,76.195,66.803,74.543,71.164,42.082,62.069,52.90600000000001,63.785,79.762,80.204,72.899,56.867,46.859,80.196,75.64,65.483,75.53699999999998,71.752,71.421,71.688,75.563,78.098,78.74600000000002,76.442,72.476,46.242,65.528,72.777,63.062,74.002,42.56800000000001,79.972,74.663,77.926,48.159,49.339,80.941,72.396,58.556,39.613,80.884,81.70100000000002,74.143,78.4,52.517,70.616,58.42,69.819,73.923,71.777,51.542,79.425,78.242,76.384,73.747,74.249,73.422,62.698,42.38399999999999,43.487],\"type\":\"choropleth\"}],                        {\"template\":{\"data\":{\"bar\":[{\"error_x\":{\"color\":\"#2a3f5f\"},\"error_y\":{\"color\":\"#2a3f5f\"},\"marker\":{\"line\":{\"color\":\"#E5ECF6\",\"width\":0.5},\"pattern\":{\"fillmode\":\"overlay\",\"size\":10,\"solidity\":0.2}},\"type\":\"bar\"}],\"barpolar\":[{\"marker\":{\"line\":{\"color\":\"#E5ECF6\",\"width\":0.5},\"pattern\":{\"fillmode\":\"overlay\",\"size\":10,\"solidity\":0.2}},\"type\":\"barpolar\"}],\"carpet\":[{\"aaxis\":{\"endlinecolor\":\"#2a3f5f\",\"gridcolor\":\"white\",\"linecolor\":\"white\",\"minorgridcolor\":\"white\",\"startlinecolor\":\"#2a3f5f\"},\"baxis\":{\"endlinecolor\":\"#2a3f5f\",\"gridcolor\":\"white\",\"linecolor\":\"white\",\"minorgridcolor\":\"white\",\"startlinecolor\":\"#2a3f5f\"},\"type\":\"carpet\"}],\"choropleth\":[{\"colorbar\":{\"outlinewidth\":0,\"ticks\":\"\"},\"type\":\"choropleth\"}],\"contour\":[{\"colorbar\":{\"outlinewidth\":0,\"ticks\":\"\"},\"colorscale\":[[0.0,\"#0d0887\"],[0.1111111111111111,\"#46039f\"],[0.2222222222222222,\"#7201a8\"],[0.3333333333333333,\"#9c179e\"],[0.4444444444444444,\"#bd3786\"],[0.5555555555555556,\"#d8576b\"],[0.6666666666666666,\"#ed7953\"],[0.7777777777777778,\"#fb9f3a\"],[0.8888888888888888,\"#fdca26\"],[1.0,\"#f0f921\"]],\"type\":\"contour\"}],\"contourcarpet\":[{\"colorbar\":{\"outlinewidth\":0,\"ticks\":\"\"},\"type\":\"contourcarpet\"}],\"heatmap\":[{\"colorbar\":{\"outlinewidth\":0,\"ticks\":\"\"},\"colorscale\":[[0.0,\"#0d0887\"],[0.1111111111111111,\"#46039f\"],[0.2222222222222222,\"#7201a8\"],[0.3333333333333333,\"#9c179e\"],[0.4444444444444444,\"#bd3786\"],[0.5555555555555556,\"#d8576b\"],[0.6666666666666666,\"#ed7953\"],[0.7777777777777778,\"#fb9f3a\"],[0.8888888888888888,\"#fdca26\"],[1.0,\"#f0f921\"]],\"type\":\"heatmap\"}],\"heatmapgl\":[{\"colorbar\":{\"outlinewidth\":0,\"ticks\":\"\"},\"colorscale\":[[0.0,\"#0d0887\"],[0.1111111111111111,\"#46039f\"],[0.2222222222222222,\"#7201a8\"],[0.3333333333333333,\"#9c179e\"],[0.4444444444444444,\"#bd3786\"],[0.5555555555555556,\"#d8576b\"],[0.6666666666666666,\"#ed7953\"],[0.7777777777777778,\"#fb9f3a\"],[0.8888888888888888,\"#fdca26\"],[1.0,\"#f0f921\"]],\"type\":\"heatmapgl\"}],\"histogram\":[{\"marker\":{\"pattern\":{\"fillmode\":\"overlay\",\"size\":10,\"solidity\":0.2}},\"type\":\"histogram\"}],\"histogram2d\":[{\"colorbar\":{\"outlinewidth\":0,\"ticks\":\"\"},\"colorscale\":[[0.0,\"#0d0887\"],[0.1111111111111111,\"#46039f\"],[0.2222222222222222,\"#7201a8\"],[0.3333333333333333,\"#9c179e\"],[0.4444444444444444,\"#bd3786\"],[0.5555555555555556,\"#d8576b\"],[0.6666666666666666,\"#ed7953\"],[0.7777777777777778,\"#fb9f3a\"],[0.8888888888888888,\"#fdca26\"],[1.0,\"#f0f921\"]],\"type\":\"histogram2d\"}],\"histogram2dcontour\":[{\"colorbar\":{\"outlinewidth\":0,\"ticks\":\"\"},\"colorscale\":[[0.0,\"#0d0887\"],[0.1111111111111111,\"#46039f\"],[0.2222222222222222,\"#7201a8\"],[0.3333333333333333,\"#9c179e\"],[0.4444444444444444,\"#bd3786\"],[0.5555555555555556,\"#d8576b\"],[0.6666666666666666,\"#ed7953\"],[0.7777777777777778,\"#fb9f3a\"],[0.8888888888888888,\"#fdca26\"],[1.0,\"#f0f921\"]],\"type\":\"histogram2dcontour\"}],\"mesh3d\":[{\"colorbar\":{\"outlinewidth\":0,\"ticks\":\"\"},\"type\":\"mesh3d\"}],\"parcoords\":[{\"line\":{\"colorbar\":{\"outlinewidth\":0,\"ticks\":\"\"}},\"type\":\"parcoords\"}],\"pie\":[{\"automargin\":true,\"type\":\"pie\"}],\"scatter\":[{\"marker\":{\"colorbar\":{\"outlinewidth\":0,\"ticks\":\"\"}},\"type\":\"scatter\"}],\"scatter3d\":[{\"line\":{\"colorbar\":{\"outlinewidth\":0,\"ticks\":\"\"}},\"marker\":{\"colorbar\":{\"outlinewidth\":0,\"ticks\":\"\"}},\"type\":\"scatter3d\"}],\"scattercarpet\":[{\"marker\":{\"colorbar\":{\"outlinewidth\":0,\"ticks\":\"\"}},\"type\":\"scattercarpet\"}],\"scattergeo\":[{\"marker\":{\"colorbar\":{\"outlinewidth\":0,\"ticks\":\"\"}},\"type\":\"scattergeo\"}],\"scattergl\":[{\"marker\":{\"colorbar\":{\"outlinewidth\":0,\"ticks\":\"\"}},\"type\":\"scattergl\"}],\"scattermapbox\":[{\"marker\":{\"colorbar\":{\"outlinewidth\":0,\"ticks\":\"\"}},\"type\":\"scattermapbox\"}],\"scatterpolar\":[{\"marker\":{\"colorbar\":{\"outlinewidth\":0,\"ticks\":\"\"}},\"type\":\"scatterpolar\"}],\"scatterpolargl\":[{\"marker\":{\"colorbar\":{\"outlinewidth\":0,\"ticks\":\"\"}},\"type\":\"scatterpolargl\"}],\"scatterternary\":[{\"marker\":{\"colorbar\":{\"outlinewidth\":0,\"ticks\":\"\"}},\"type\":\"scatterternary\"}],\"surface\":[{\"colorbar\":{\"outlinewidth\":0,\"ticks\":\"\"},\"colorscale\":[[0.0,\"#0d0887\"],[0.1111111111111111,\"#46039f\"],[0.2222222222222222,\"#7201a8\"],[0.3333333333333333,\"#9c179e\"],[0.4444444444444444,\"#bd3786\"],[0.5555555555555556,\"#d8576b\"],[0.6666666666666666,\"#ed7953\"],[0.7777777777777778,\"#fb9f3a\"],[0.8888888888888888,\"#fdca26\"],[1.0,\"#f0f921\"]],\"type\":\"surface\"}],\"table\":[{\"cells\":{\"fill\":{\"color\":\"#EBF0F8\"},\"line\":{\"color\":\"white\"}},\"header\":{\"fill\":{\"color\":\"#C8D4E3\"},\"line\":{\"color\":\"white\"}},\"type\":\"table\"}]},\"layout\":{\"annotationdefaults\":{\"arrowcolor\":\"#2a3f5f\",\"arrowhead\":0,\"arrowwidth\":1},\"autotypenumbers\":\"strict\",\"coloraxis\":{\"colorbar\":{\"outlinewidth\":0,\"ticks\":\"\"}},\"colorscale\":{\"diverging\":[[0,\"#8e0152\"],[0.1,\"#c51b7d\"],[0.2,\"#de77ae\"],[0.3,\"#f1b6da\"],[0.4,\"#fde0ef\"],[0.5,\"#f7f7f7\"],[0.6,\"#e6f5d0\"],[0.7,\"#b8e186\"],[0.8,\"#7fbc41\"],[0.9,\"#4d9221\"],[1,\"#276419\"]],\"sequential\":[[0.0,\"#0d0887\"],[0.1111111111111111,\"#46039f\"],[0.2222222222222222,\"#7201a8\"],[0.3333333333333333,\"#9c179e\"],[0.4444444444444444,\"#bd3786\"],[0.5555555555555556,\"#d8576b\"],[0.6666666666666666,\"#ed7953\"],[0.7777777777777778,\"#fb9f3a\"],[0.8888888888888888,\"#fdca26\"],[1.0,\"#f0f921\"]],\"sequentialminus\":[[0.0,\"#0d0887\"],[0.1111111111111111,\"#46039f\"],[0.2222222222222222,\"#7201a8\"],[0.3333333333333333,\"#9c179e\"],[0.4444444444444444,\"#bd3786\"],[0.5555555555555556,\"#d8576b\"],[0.6666666666666666,\"#ed7953\"],[0.7777777777777778,\"#fb9f3a\"],[0.8888888888888888,\"#fdca26\"],[1.0,\"#f0f921\"]]},\"colorway\":[\"#636efa\",\"#EF553B\",\"#00cc96\",\"#ab63fa\",\"#FFA15A\",\"#19d3f3\",\"#FF6692\",\"#B6E880\",\"#FF97FF\",\"#FECB52\"],\"font\":{\"color\":\"#2a3f5f\"},\"geo\":{\"bgcolor\":\"white\",\"lakecolor\":\"white\",\"landcolor\":\"#E5ECF6\",\"showlakes\":true,\"showland\":true,\"subunitcolor\":\"white\"},\"hoverlabel\":{\"align\":\"left\"},\"hovermode\":\"closest\",\"mapbox\":{\"style\":\"light\"},\"paper_bgcolor\":\"white\",\"plot_bgcolor\":\"#E5ECF6\",\"polar\":{\"angularaxis\":{\"gridcolor\":\"white\",\"linecolor\":\"white\",\"ticks\":\"\"},\"bgcolor\":\"#E5ECF6\",\"radialaxis\":{\"gridcolor\":\"white\",\"linecolor\":\"white\",\"ticks\":\"\"}},\"scene\":{\"xaxis\":{\"backgroundcolor\":\"#E5ECF6\",\"gridcolor\":\"white\",\"gridwidth\":2,\"linecolor\":\"white\",\"showbackground\":true,\"ticks\":\"\",\"zerolinecolor\":\"white\"},\"yaxis\":{\"backgroundcolor\":\"#E5ECF6\",\"gridcolor\":\"white\",\"gridwidth\":2,\"linecolor\":\"white\",\"showbackground\":true,\"ticks\":\"\",\"zerolinecolor\":\"white\"},\"zaxis\":{\"backgroundcolor\":\"#E5ECF6\",\"gridcolor\":\"white\",\"gridwidth\":2,\"linecolor\":\"white\",\"showbackground\":true,\"ticks\":\"\",\"zerolinecolor\":\"white\"}},\"shapedefaults\":{\"line\":{\"color\":\"#2a3f5f\"}},\"ternary\":{\"aaxis\":{\"gridcolor\":\"white\",\"linecolor\":\"white\",\"ticks\":\"\"},\"baxis\":{\"gridcolor\":\"white\",\"linecolor\":\"white\",\"ticks\":\"\"},\"bgcolor\":\"#E5ECF6\",\"caxis\":{\"gridcolor\":\"white\",\"linecolor\":\"white\",\"ticks\":\"\"}},\"title\":{\"x\":0.05},\"xaxis\":{\"automargin\":true,\"gridcolor\":\"white\",\"linecolor\":\"white\",\"ticks\":\"\",\"title\":{\"standoff\":15},\"zerolinecolor\":\"white\",\"zerolinewidth\":2},\"yaxis\":{\"automargin\":true,\"gridcolor\":\"white\",\"linecolor\":\"white\",\"ticks\":\"\",\"title\":{\"standoff\":15},\"zerolinecolor\":\"white\",\"zerolinewidth\":2}}},\"geo\":{\"domain\":{\"x\":[0.0,1.0],\"y\":[0.0,1.0]},\"center\":{}},\"coloraxis\":{\"colorbar\":{\"title\":{\"text\":\"lifeExp\"}},\"colorscale\":[[0.0,\"#0d0887\"],[0.1111111111111111,\"#46039f\"],[0.2222222222222222,\"#7201a8\"],[0.3333333333333333,\"#9c179e\"],[0.4444444444444444,\"#bd3786\"],[0.5555555555555556,\"#d8576b\"],[0.6666666666666666,\"#ed7953\"],[0.7777777777777778,\"#fb9f3a\"],[0.8888888888888888,\"#fdca26\"],[1.0,\"#f0f921\"]]},\"legend\":{\"tracegroupgap\":0},\"margin\":{\"t\":60}},                        {\"responsive\": true}                    ).then(function(){\n",
       "                            \n",
       "var gd = document.getElementById('19744322-c128-4838-8c07-e6f6639bbc7d');\n",
       "var x = new MutationObserver(function (mutations, observer) {{\n",
       "        var display = window.getComputedStyle(gd).display;\n",
       "        if (!display || display === 'none') {{\n",
       "            console.log([gd, 'removed!']);\n",
       "            Plotly.purge(gd);\n",
       "            observer.disconnect();\n",
       "        }}\n",
       "}});\n",
       "\n",
       "// Listen for the removal of the full notebook cells\n",
       "var notebookContainer = gd.closest('#notebook-container');\n",
       "if (notebookContainer) {{\n",
       "    x.observe(notebookContainer, {childList: true});\n",
       "}}\n",
       "\n",
       "// Listen for the clearing of the current output cell\n",
       "var outputEl = gd.closest('.output');\n",
       "if (outputEl) {{\n",
       "    x.observe(outputEl, {childList: true});\n",
       "}}\n",
       "\n",
       "                        })                };                });            </script>        </div>"
      ]
     },
     "metadata": {},
     "output_type": "display_data"
    },
    {
     "data": {
      "text/html": [
       "<div>\n",
       "<style scoped>\n",
       "    .dataframe tbody tr th:only-of-type {\n",
       "        vertical-align: middle;\n",
       "    }\n",
       "\n",
       "    .dataframe tbody tr th {\n",
       "        vertical-align: top;\n",
       "    }\n",
       "\n",
       "    .dataframe thead th {\n",
       "        text-align: right;\n",
       "    }\n",
       "</style>\n",
       "<table border=\"1\" class=\"dataframe\">\n",
       "  <thead>\n",
       "    <tr style=\"text-align: right;\">\n",
       "      <th></th>\n",
       "      <th>country</th>\n",
       "      <th>continent</th>\n",
       "      <th>year</th>\n",
       "      <th>lifeExp</th>\n",
       "      <th>pop</th>\n",
       "      <th>gdpPercap</th>\n",
       "      <th>iso_alpha</th>\n",
       "      <th>iso_num</th>\n",
       "    </tr>\n",
       "  </thead>\n",
       "  <tbody>\n",
       "    <tr>\n",
       "      <th>11</th>\n",
       "      <td>Afghanistan</td>\n",
       "      <td>Asia</td>\n",
       "      <td>2007</td>\n",
       "      <td>43.828</td>\n",
       "      <td>31889923</td>\n",
       "      <td>974.580338</td>\n",
       "      <td>AFG</td>\n",
       "      <td>4</td>\n",
       "    </tr>\n",
       "    <tr>\n",
       "      <th>23</th>\n",
       "      <td>Albania</td>\n",
       "      <td>Europe</td>\n",
       "      <td>2007</td>\n",
       "      <td>76.423</td>\n",
       "      <td>3600523</td>\n",
       "      <td>5937.029526</td>\n",
       "      <td>ALB</td>\n",
       "      <td>8</td>\n",
       "    </tr>\n",
       "    <tr>\n",
       "      <th>35</th>\n",
       "      <td>Algeria</td>\n",
       "      <td>Africa</td>\n",
       "      <td>2007</td>\n",
       "      <td>72.301</td>\n",
       "      <td>33333216</td>\n",
       "      <td>6223.367465</td>\n",
       "      <td>DZA</td>\n",
       "      <td>12</td>\n",
       "    </tr>\n",
       "    <tr>\n",
       "      <th>47</th>\n",
       "      <td>Angola</td>\n",
       "      <td>Africa</td>\n",
       "      <td>2007</td>\n",
       "      <td>42.731</td>\n",
       "      <td>12420476</td>\n",
       "      <td>4797.231267</td>\n",
       "      <td>AGO</td>\n",
       "      <td>24</td>\n",
       "    </tr>\n",
       "    <tr>\n",
       "      <th>59</th>\n",
       "      <td>Argentina</td>\n",
       "      <td>Americas</td>\n",
       "      <td>2007</td>\n",
       "      <td>75.320</td>\n",
       "      <td>40301927</td>\n",
       "      <td>12779.379640</td>\n",
       "      <td>ARG</td>\n",
       "      <td>32</td>\n",
       "    </tr>\n",
       "    <tr>\n",
       "      <th>...</th>\n",
       "      <td>...</td>\n",
       "      <td>...</td>\n",
       "      <td>...</td>\n",
       "      <td>...</td>\n",
       "      <td>...</td>\n",
       "      <td>...</td>\n",
       "      <td>...</td>\n",
       "      <td>...</td>\n",
       "    </tr>\n",
       "    <tr>\n",
       "      <th>1655</th>\n",
       "      <td>Vietnam</td>\n",
       "      <td>Asia</td>\n",
       "      <td>2007</td>\n",
       "      <td>74.249</td>\n",
       "      <td>85262356</td>\n",
       "      <td>2441.576404</td>\n",
       "      <td>VNM</td>\n",
       "      <td>704</td>\n",
       "    </tr>\n",
       "    <tr>\n",
       "      <th>1667</th>\n",
       "      <td>West Bank and Gaza</td>\n",
       "      <td>Asia</td>\n",
       "      <td>2007</td>\n",
       "      <td>73.422</td>\n",
       "      <td>4018332</td>\n",
       "      <td>3025.349798</td>\n",
       "      <td>PSE</td>\n",
       "      <td>275</td>\n",
       "    </tr>\n",
       "    <tr>\n",
       "      <th>1679</th>\n",
       "      <td>Yemen, Rep.</td>\n",
       "      <td>Asia</td>\n",
       "      <td>2007</td>\n",
       "      <td>62.698</td>\n",
       "      <td>22211743</td>\n",
       "      <td>2280.769906</td>\n",
       "      <td>YEM</td>\n",
       "      <td>887</td>\n",
       "    </tr>\n",
       "    <tr>\n",
       "      <th>1691</th>\n",
       "      <td>Zambia</td>\n",
       "      <td>Africa</td>\n",
       "      <td>2007</td>\n",
       "      <td>42.384</td>\n",
       "      <td>11746035</td>\n",
       "      <td>1271.211593</td>\n",
       "      <td>ZMB</td>\n",
       "      <td>894</td>\n",
       "    </tr>\n",
       "    <tr>\n",
       "      <th>1703</th>\n",
       "      <td>Zimbabwe</td>\n",
       "      <td>Africa</td>\n",
       "      <td>2007</td>\n",
       "      <td>43.487</td>\n",
       "      <td>12311143</td>\n",
       "      <td>469.709298</td>\n",
       "      <td>ZWE</td>\n",
       "      <td>716</td>\n",
       "    </tr>\n",
       "  </tbody>\n",
       "</table>\n",
       "<p>142 rows × 8 columns</p>\n",
       "</div>"
      ],
      "text/plain": [
       "                 country continent  year  lifeExp       pop     gdpPercap  \\\n",
       "11           Afghanistan      Asia  2007   43.828  31889923    974.580338   \n",
       "23               Albania    Europe  2007   76.423   3600523   5937.029526   \n",
       "35               Algeria    Africa  2007   72.301  33333216   6223.367465   \n",
       "47                Angola    Africa  2007   42.731  12420476   4797.231267   \n",
       "59             Argentina  Americas  2007   75.320  40301927  12779.379640   \n",
       "...                  ...       ...   ...      ...       ...           ...   \n",
       "1655             Vietnam      Asia  2007   74.249  85262356   2441.576404   \n",
       "1667  West Bank and Gaza      Asia  2007   73.422   4018332   3025.349798   \n",
       "1679         Yemen, Rep.      Asia  2007   62.698  22211743   2280.769906   \n",
       "1691              Zambia    Africa  2007   42.384  11746035   1271.211593   \n",
       "1703            Zimbabwe    Africa  2007   43.487  12311143    469.709298   \n",
       "\n",
       "     iso_alpha  iso_num  \n",
       "11         AFG        4  \n",
       "23         ALB        8  \n",
       "35         DZA       12  \n",
       "47         AGO       24  \n",
       "59         ARG       32  \n",
       "...        ...      ...  \n",
       "1655       VNM      704  \n",
       "1667       PSE      275  \n",
       "1679       YEM      887  \n",
       "1691       ZMB      894  \n",
       "1703       ZWE      716  \n",
       "\n",
       "[142 rows x 8 columns]"
      ]
     },
     "execution_count": 108,
     "metadata": {},
     "output_type": "execute_result"
    }
   ],
   "source": [
    "df = px.data.gapminder().query(\"year==2007\")\n",
    "fig = px.choropleth(df, locations=\"iso_alpha\",\n",
    "                    color=\"lifeExp\", # lifeExp is a column of gapminder\n",
    "                    hover_name=\"country\", # column to add to hover information\n",
    "                    color_continuous_scale=px.colors.sequential.Plasma)\n",
    "fig.show()\n",
    "df"
   ]
  },
  {
   "cell_type": "markdown",
   "id": "2ab2ccec-72f9-4db9-bd88-e569aee750b4",
   "metadata": {},
   "source": [
    "## WSM + WPM:"
   ]
  },
  {
   "cell_type": "markdown",
   "id": "794b48eb-7870-43e2-a49c-ffe6a3552b17",
   "metadata": {},
   "source": [
    "### Step 0:"
   ]
  },
  {
   "cell_type": "code",
   "execution_count": 72,
   "id": "b66e0d05-bcb0-4008-a8bd-03caf93df8ca",
   "metadata": {},
   "outputs": [
    {
     "data": {
      "text/html": [
       "<div>\n",
       "<style scoped>\n",
       "    .dataframe tbody tr th:only-of-type {\n",
       "        vertical-align: middle;\n",
       "    }\n",
       "\n",
       "    .dataframe tbody tr th {\n",
       "        vertical-align: top;\n",
       "    }\n",
       "\n",
       "    .dataframe thead th {\n",
       "        text-align: right;\n",
       "    }\n",
       "</style>\n",
       "<table border=\"1\" class=\"dataframe\">\n",
       "  <thead>\n",
       "    <tr style=\"text-align: right;\">\n",
       "      <th></th>\n",
       "      <th>Logged GDP per capita</th>\n",
       "      <th>Social support</th>\n",
       "      <th>Healthy life expectancy</th>\n",
       "      <th>Freedom to make life choices</th>\n",
       "      <th>Perceptions of corruption</th>\n",
       "    </tr>\n",
       "  </thead>\n",
       "  <tbody>\n",
       "    <tr>\n",
       "      <th>Finland</th>\n",
       "      <td>10.775</td>\n",
       "      <td>0.954</td>\n",
       "      <td>72.000</td>\n",
       "      <td>0.949</td>\n",
       "      <td>0.186</td>\n",
       "    </tr>\n",
       "    <tr>\n",
       "      <th>Denmark</th>\n",
       "      <td>10.933</td>\n",
       "      <td>0.954</td>\n",
       "      <td>72.700</td>\n",
       "      <td>0.946</td>\n",
       "      <td>0.179</td>\n",
       "    </tr>\n",
       "    <tr>\n",
       "      <th>Switzerland</th>\n",
       "      <td>11.117</td>\n",
       "      <td>0.942</td>\n",
       "      <td>74.400</td>\n",
       "      <td>0.919</td>\n",
       "      <td>0.292</td>\n",
       "    </tr>\n",
       "    <tr>\n",
       "      <th>Iceland</th>\n",
       "      <td>10.878</td>\n",
       "      <td>0.983</td>\n",
       "      <td>73.000</td>\n",
       "      <td>0.955</td>\n",
       "      <td>0.673</td>\n",
       "    </tr>\n",
       "    <tr>\n",
       "      <th>Netherlands</th>\n",
       "      <td>10.932</td>\n",
       "      <td>0.942</td>\n",
       "      <td>72.400</td>\n",
       "      <td>0.913</td>\n",
       "      <td>0.338</td>\n",
       "    </tr>\n",
       "    <tr>\n",
       "      <th>...</th>\n",
       "      <td>...</td>\n",
       "      <td>...</td>\n",
       "      <td>...</td>\n",
       "      <td>...</td>\n",
       "      <td>...</td>\n",
       "    </tr>\n",
       "    <tr>\n",
       "      <th>Zimbabwe</th>\n",
       "      <td>7.943</td>\n",
       "      <td>0.750</td>\n",
       "      <td>56.201</td>\n",
       "      <td>0.677</td>\n",
       "      <td>0.821</td>\n",
       "    </tr>\n",
       "    <tr>\n",
       "      <th>Afghanistan</th>\n",
       "      <td>7.695</td>\n",
       "      <td>0.463</td>\n",
       "      <td>52.493</td>\n",
       "      <td>0.382</td>\n",
       "      <td>0.924</td>\n",
       "    </tr>\n",
       "    <tr>\n",
       "      <th>Max</th>\n",
       "      <td>11.647</td>\n",
       "      <td>0.983</td>\n",
       "      <td>76.953</td>\n",
       "      <td>0.970</td>\n",
       "      <td>0.939</td>\n",
       "    </tr>\n",
       "    <tr>\n",
       "      <th>Min</th>\n",
       "      <td>6.635</td>\n",
       "      <td>0.463</td>\n",
       "      <td>48.478</td>\n",
       "      <td>0.382</td>\n",
       "      <td>0.082</td>\n",
       "    </tr>\n",
       "    <tr>\n",
       "      <th>Weights</th>\n",
       "      <td>0.200</td>\n",
       "      <td>0.200</td>\n",
       "      <td>0.200</td>\n",
       "      <td>0.200</td>\n",
       "      <td>0.200</td>\n",
       "    </tr>\n",
       "  </tbody>\n",
       "</table>\n",
       "<p>152 rows × 5 columns</p>\n",
       "</div>"
      ],
      "text/plain": [
       "             Logged GDP per capita  Social support  Healthy life expectancy  \\\n",
       "Finland                     10.775           0.954                   72.000   \n",
       "Denmark                     10.933           0.954                   72.700   \n",
       "Switzerland                 11.117           0.942                   74.400   \n",
       "Iceland                     10.878           0.983                   73.000   \n",
       "Netherlands                 10.932           0.942                   72.400   \n",
       "...                            ...             ...                      ...   \n",
       "Zimbabwe                     7.943           0.750                   56.201   \n",
       "Afghanistan                  7.695           0.463                   52.493   \n",
       "Max                         11.647           0.983                   76.953   \n",
       "Min                          6.635           0.463                   48.478   \n",
       "Weights                      0.200           0.200                    0.200   \n",
       "\n",
       "             Freedom to make life choices  Perceptions of corruption  \n",
       "Finland                             0.949                      0.186  \n",
       "Denmark                             0.946                      0.179  \n",
       "Switzerland                         0.919                      0.292  \n",
       "Iceland                             0.955                      0.673  \n",
       "Netherlands                         0.913                      0.338  \n",
       "...                                   ...                        ...  \n",
       "Zimbabwe                            0.677                      0.821  \n",
       "Afghanistan                         0.382                      0.924  \n",
       "Max                                 0.970                      0.939  \n",
       "Min                                 0.382                      0.082  \n",
       "Weights                             0.200                      0.200  \n",
       "\n",
       "[152 rows x 5 columns]"
      ]
     },
     "execution_count": 72,
     "metadata": {},
     "output_type": "execute_result"
    }
   ],
   "source": [
    "#Add max for each column\n",
    "df6 =df.copy()\n",
    "Max = df6.max(numeric_only=True)\n",
    "Max = Max.rename('Max')\n",
    "#Add min for each column\n",
    "Min = df6.min(numeric_only=True)\n",
    "Min = Min.rename('Min')\n",
    "#Add weigths\n",
    "criteria = len(df6.columns)\n",
    "Weight = 1/criteria\n",
    "Weigths = []\n",
    "for i in range(len(df6.columns)):\n",
    "     Weigths.append(Weight)\n",
    "W = pd.Series(Weigths, index = df6.columns)\n",
    "W = W.rename(\"Weights\")\n",
    "df6 = df6.append([Max,Min,W], ignore_index=False)\n",
    "df6"
   ]
  },
  {
   "cell_type": "markdown",
   "id": "61b11f32-53be-447c-a554-3ca27ef57c62",
   "metadata": {},
   "source": [
    "### WSM or Simple Additive Weighting(SAW) method"
   ]
  },
  {
   "cell_type": "markdown",
   "id": "f43780a5-9535-4c83-832d-ff425c615a1c",
   "metadata": {},
   "source": [
    "### Step 1: Normalize the decision matrix"
   ]
  },
  {
   "cell_type": "code",
   "execution_count": 73,
   "id": "cd31a784-0ffb-418f-9953-6d320d1d9616",
   "metadata": {},
   "outputs": [
    {
     "data": {
      "text/html": [
       "<div>\n",
       "<style scoped>\n",
       "    .dataframe tbody tr th:only-of-type {\n",
       "        vertical-align: middle;\n",
       "    }\n",
       "\n",
       "    .dataframe tbody tr th {\n",
       "        vertical-align: top;\n",
       "    }\n",
       "\n",
       "    .dataframe thead th {\n",
       "        text-align: right;\n",
       "    }\n",
       "</style>\n",
       "<table border=\"1\" class=\"dataframe\">\n",
       "  <thead>\n",
       "    <tr style=\"text-align: right;\">\n",
       "      <th></th>\n",
       "      <th>Logged GDP per capita</th>\n",
       "      <th>Social support</th>\n",
       "      <th>Healthy life expectancy</th>\n",
       "      <th>Freedom to make life choices</th>\n",
       "      <th>Perceptions of corruption</th>\n",
       "    </tr>\n",
       "  </thead>\n",
       "  <tbody>\n",
       "    <tr>\n",
       "      <th>Finland</th>\n",
       "      <td>1.623964</td>\n",
       "      <td>2.060475</td>\n",
       "      <td>1.485210</td>\n",
       "      <td>2.484293</td>\n",
       "      <td>0.198083</td>\n",
       "    </tr>\n",
       "    <tr>\n",
       "      <th>Denmark</th>\n",
       "      <td>1.647777</td>\n",
       "      <td>2.060475</td>\n",
       "      <td>1.499649</td>\n",
       "      <td>2.476440</td>\n",
       "      <td>0.190628</td>\n",
       "    </tr>\n",
       "    <tr>\n",
       "      <th>Switzerland</th>\n",
       "      <td>1.675509</td>\n",
       "      <td>2.034557</td>\n",
       "      <td>1.534717</td>\n",
       "      <td>2.405759</td>\n",
       "      <td>0.310969</td>\n",
       "    </tr>\n",
       "    <tr>\n",
       "      <th>Iceland</th>\n",
       "      <td>1.639488</td>\n",
       "      <td>2.123110</td>\n",
       "      <td>1.505838</td>\n",
       "      <td>2.500000</td>\n",
       "      <td>0.716720</td>\n",
       "    </tr>\n",
       "    <tr>\n",
       "      <th>Netherlands</th>\n",
       "      <td>1.647626</td>\n",
       "      <td>2.034557</td>\n",
       "      <td>1.493461</td>\n",
       "      <td>2.390052</td>\n",
       "      <td>0.359957</td>\n",
       "    </tr>\n",
       "    <tr>\n",
       "      <th>...</th>\n",
       "      <td>...</td>\n",
       "      <td>...</td>\n",
       "      <td>...</td>\n",
       "      <td>...</td>\n",
       "      <td>...</td>\n",
       "    </tr>\n",
       "    <tr>\n",
       "      <th>Lesotho</th>\n",
       "      <td>1.194574</td>\n",
       "      <td>1.699784</td>\n",
       "      <td>1.004579</td>\n",
       "      <td>1.871728</td>\n",
       "      <td>0.974441</td>\n",
       "    </tr>\n",
       "    <tr>\n",
       "      <th>Botswana</th>\n",
       "      <td>1.474303</td>\n",
       "      <td>1.693305</td>\n",
       "      <td>1.222596</td>\n",
       "      <td>2.157068</td>\n",
       "      <td>0.853035</td>\n",
       "    </tr>\n",
       "    <tr>\n",
       "      <th>Rwanda</th>\n",
       "      <td>1.156895</td>\n",
       "      <td>1.192225</td>\n",
       "      <td>1.266554</td>\n",
       "      <td>2.348168</td>\n",
       "      <td>0.177849</td>\n",
       "    </tr>\n",
       "    <tr>\n",
       "      <th>Zimbabwe</th>\n",
       "      <td>1.197136</td>\n",
       "      <td>1.619870</td>\n",
       "      <td>1.159309</td>\n",
       "      <td>1.772251</td>\n",
       "      <td>0.874334</td>\n",
       "    </tr>\n",
       "    <tr>\n",
       "      <th>Afghanistan</th>\n",
       "      <td>1.159759</td>\n",
       "      <td>1.000000</td>\n",
       "      <td>1.082821</td>\n",
       "      <td>1.000000</td>\n",
       "      <td>0.984026</td>\n",
       "    </tr>\n",
       "  </tbody>\n",
       "</table>\n",
       "<p>149 rows × 5 columns</p>\n",
       "</div>"
      ],
      "text/plain": [
       "             Logged GDP per capita  Social support  Healthy life expectancy  \\\n",
       "Finland                   1.623964        2.060475                 1.485210   \n",
       "Denmark                   1.647777        2.060475                 1.499649   \n",
       "Switzerland               1.675509        2.034557                 1.534717   \n",
       "Iceland                   1.639488        2.123110                 1.505838   \n",
       "Netherlands               1.647626        2.034557                 1.493461   \n",
       "...                            ...             ...                      ...   \n",
       "Lesotho                   1.194574        1.699784                 1.004579   \n",
       "Botswana                  1.474303        1.693305                 1.222596   \n",
       "Rwanda                    1.156895        1.192225                 1.266554   \n",
       "Zimbabwe                  1.197136        1.619870                 1.159309   \n",
       "Afghanistan               1.159759        1.000000                 1.082821   \n",
       "\n",
       "             Freedom to make life choices  Perceptions of corruption  \n",
       "Finland                          2.484293                   0.198083  \n",
       "Denmark                          2.476440                   0.190628  \n",
       "Switzerland                      2.405759                   0.310969  \n",
       "Iceland                          2.500000                   0.716720  \n",
       "Netherlands                      2.390052                   0.359957  \n",
       "...                                   ...                        ...  \n",
       "Lesotho                          1.871728                   0.974441  \n",
       "Botswana                         2.157068                   0.853035  \n",
       "Rwanda                           2.348168                   0.177849  \n",
       "Zimbabwe                         1.772251                   0.874334  \n",
       "Afghanistan                      1.000000                   0.984026  \n",
       "\n",
       "[149 rows x 5 columns]"
      ]
     },
     "execution_count": 73,
     "metadata": {},
     "output_type": "execute_result"
    }
   ],
   "source": [
    "#If the criterion is minimized then the value in the Min row should be considered otherwise it's the opposite\n",
    "#Normalization: [MAX] p_ij = x_ij/max{j}(x_ij) # [MIN] min{j}{x_ij}/x_ij\n",
    "df7 =pd.DataFrame()\n",
    "df7[\"Logged GDP per capita\"] = df6[\"Logged GDP per capita\"] / df6.loc[\"Min\"][\"Logged GDP per capita\"]\n",
    "df7[\"Social support\"] = df6[\"Social support\"] / df6.loc[\"Min\"][\"Social support\"]\n",
    "df7[\"Healthy life expectancy\"] = df6[\"Healthy life expectancy\"] / df6.loc[\"Min\"][\"Healthy life expectancy\"]\n",
    "df7[\"Freedom to make life choices\"] = df6[\"Freedom to make life choices\"] / df6.loc[\"Min\"][\"Freedom to make life choices\"]\n",
    "df7[\"Perceptions of corruption\"] = df6[\"Perceptions of corruption\"] / df6.loc[\"Max\"][\"Perceptions of corruption\"]\n",
    "df7 = df7.drop([\"Max\",\"Min\",\"Weights\"], axis =0)\n",
    "df7"
   ]
  },
  {
   "cell_type": "markdown",
   "id": "5ba56d78-69b2-4e5a-9c16-32c133648a9f",
   "metadata": {},
   "source": [
    "### Step 2: WSM"
   ]
  },
  {
   "cell_type": "code",
   "execution_count": 74,
   "id": "68a5421d-6db8-49a0-81f3-979041ba57bf",
   "metadata": {},
   "outputs": [
    {
     "data": {
      "text/html": [
       "<div>\n",
       "<style scoped>\n",
       "    .dataframe tbody tr th:only-of-type {\n",
       "        vertical-align: middle;\n",
       "    }\n",
       "\n",
       "    .dataframe tbody tr th {\n",
       "        vertical-align: top;\n",
       "    }\n",
       "\n",
       "    .dataframe thead th {\n",
       "        text-align: right;\n",
       "    }\n",
       "</style>\n",
       "<table border=\"1\" class=\"dataframe\">\n",
       "  <thead>\n",
       "    <tr style=\"text-align: right;\">\n",
       "      <th></th>\n",
       "      <th>Sum</th>\n",
       "      <th>Rank</th>\n",
       "    </tr>\n",
       "  </thead>\n",
       "  <tbody>\n",
       "    <tr>\n",
       "      <th>Rwanda</th>\n",
       "      <td>1.206307</td>\n",
       "      <td>1.0</td>\n",
       "    </tr>\n",
       "    <tr>\n",
       "      <th>Singapore</th>\n",
       "      <td>1.069908</td>\n",
       "      <td>2.0</td>\n",
       "    </tr>\n",
       "    <tr>\n",
       "      <th>Burundi</th>\n",
       "      <td>0.976791</td>\n",
       "      <td>3.0</td>\n",
       "    </tr>\n",
       "    <tr>\n",
       "      <th>Denmark</th>\n",
       "      <td>0.950668</td>\n",
       "      <td>4.0</td>\n",
       "    </tr>\n",
       "    <tr>\n",
       "      <th>Finland</th>\n",
       "      <td>0.946519</td>\n",
       "      <td>5.0</td>\n",
       "    </tr>\n",
       "    <tr>\n",
       "      <th>...</th>\n",
       "      <td>...</td>\n",
       "      <td>...</td>\n",
       "    </tr>\n",
       "    <tr>\n",
       "      <th>Romania</th>\n",
       "      <td>0.473638</td>\n",
       "      <td>145.0</td>\n",
       "    </tr>\n",
       "    <tr>\n",
       "      <th>Slovakia</th>\n",
       "      <td>0.469495</td>\n",
       "      <td>146.0</td>\n",
       "    </tr>\n",
       "    <tr>\n",
       "      <th>Czech Republic</th>\n",
       "      <td>0.462545</td>\n",
       "      <td>147.0</td>\n",
       "    </tr>\n",
       "    <tr>\n",
       "      <th>Croatia</th>\n",
       "      <td>0.461208</td>\n",
       "      <td>148.0</td>\n",
       "    </tr>\n",
       "    <tr>\n",
       "      <th>Portugal</th>\n",
       "      <td>0.458695</td>\n",
       "      <td>149.0</td>\n",
       "    </tr>\n",
       "  </tbody>\n",
       "</table>\n",
       "<p>149 rows × 2 columns</p>\n",
       "</div>"
      ],
      "text/plain": [
       "                     Sum   Rank\n",
       "Rwanda          1.206307    1.0\n",
       "Singapore       1.069908    2.0\n",
       "Burundi         0.976791    3.0\n",
       "Denmark         0.950668    4.0\n",
       "Finland         0.946519    5.0\n",
       "...                  ...    ...\n",
       "Romania         0.473638  145.0\n",
       "Slovakia        0.469495  146.0\n",
       "Czech Republic  0.462545  147.0\n",
       "Croatia         0.461208  148.0\n",
       "Portugal        0.458695  149.0\n",
       "\n",
       "[149 rows x 2 columns]"
      ]
     },
     "execution_count": 74,
     "metadata": {},
     "output_type": "execute_result"
    }
   ],
   "source": [
    "df8 = df6.loc[\"Weights\"] ** df7\n",
    "df8 = df8.sum(axis= 1)\n",
    "df8 =df8.rename(\"Sum\")\n",
    "df8 = pd.DataFrame(df8)\n",
    "df8['Rank'] = df8.rank(axis= 0,ascending= False)\n",
    "df8 = df8.sort_values(by=['Rank'])\n",
    "df8"
   ]
  },
  {
   "cell_type": "markdown",
   "id": "4eabc632-f1b4-4c0e-ae44-5d8fb1d4fd08",
   "metadata": {
    "tags": []
   },
   "source": [
    "### The Hapiest and Most Unhappy Countries according to WSM"
   ]
  },
  {
   "cell_type": "code",
   "execution_count": 81,
   "id": "edc4bc31-df42-4d8a-b668-46cafc48f095",
   "metadata": {
    "tags": []
   },
   "outputs": [
    {
     "name": "stdout",
     "output_type": "stream",
     "text": [
      "The Happiest Country:  Rwanda\n",
      "The Most Unhappy Country:  Portugal\n"
     ]
    }
   ],
   "source": [
    "print(\"The Happiest Country: \", df8.index.values[0]);\n",
    "print(\"The Most Unhappy Country: \", df8.index.values[-1]);"
   ]
  },
  {
   "cell_type": "code",
   "execution_count": 83,
   "id": "7f555f7b-45e1-46c2-a691-4315fc0b7370",
   "metadata": {},
   "outputs": [
    {
     "data": {
      "text/plain": [
       "Text(0.5, 1.0, 'The most unhappy countries')"
      ]
     },
     "execution_count": 83,
     "metadata": {},
     "output_type": "execute_result"
    },
    {
     "data": {
      "image/png": "[encoded data removed]",
      "text/plain": [
       "<Figure size 576x396 with 1 Axes>"
      ]
     },
     "metadata": {},
     "output_type": "display_data"
    }
   ],
   "source": [
    "happinessFilter = (df8.loc[:,\"Rank\"] > 141) ;\n",
    "y = df8.index.values[-8:]\n",
    "ax = sns.barplot(x = \"Sum\", y = y, data = df8[happinessFilter], palette = \"coolwarm\");\n",
    "ax.set_title('The most unhappy countries')"
   ]
  },
  {
   "cell_type": "code",
   "execution_count": 84,
   "id": "d471c041-c6d6-405e-9daf-877db48ece4d",
   "metadata": {},
   "outputs": [
    {
     "data": {
      "text/plain": [
       "Text(0.5, 1.0, 'The most happy countries')"
      ]
     },
     "execution_count": 84,
     "metadata": {},
     "output_type": "execute_result"
    },
    {
     "data": {
      "image/png": "[encoded data removed]",
      "text/plain": [
       "<Figure size 576x396 with 1 Axes>"
      ]
     },
     "metadata": {},
     "output_type": "display_data"
    }
   ],
   "source": [
    "happinessFilter = (df8.loc[:,\"Rank\"] < 8) ;\n",
    "y = df8.index.values[0:7]\n",
    "ax = sns.barplot(x = \"Sum\", y = y, data = df8[happinessFilter], palette = \"coolwarm\");\n",
    "ax.set_title('The most happy countries')"
   ]
  },
  {
   "cell_type": "markdown",
   "id": "19c2b1e4-edad-4fd7-a4e8-ebc35aa219ad",
   "metadata": {},
   "source": [
    "### Step 3: WPM"
   ]
  },
  {
   "cell_type": "code",
   "execution_count": 75,
   "id": "1c574f57-5ebe-4900-bc76-1d471e4c1ec5",
   "metadata": {},
   "outputs": [
    {
     "data": {
      "text/html": [
       "<div>\n",
       "<style scoped>\n",
       "    .dataframe tbody tr th:only-of-type {\n",
       "        vertical-align: middle;\n",
       "    }\n",
       "\n",
       "    .dataframe tbody tr th {\n",
       "        vertical-align: top;\n",
       "    }\n",
       "\n",
       "    .dataframe thead th {\n",
       "        text-align: right;\n",
       "    }\n",
       "</style>\n",
       "<table border=\"1\" class=\"dataframe\">\n",
       "  <thead>\n",
       "    <tr style=\"text-align: right;\">\n",
       "      <th></th>\n",
       "      <th>Product</th>\n",
       "      <th>Rank</th>\n",
       "    </tr>\n",
       "  </thead>\n",
       "  <tbody>\n",
       "    <tr>\n",
       "      <th>Slovenia</th>\n",
       "      <td>0.003265</td>\n",
       "      <td>1.0</td>\n",
       "    </tr>\n",
       "    <tr>\n",
       "      <th>Czech Republic</th>\n",
       "      <td>0.003158</td>\n",
       "      <td>2.0</td>\n",
       "    </tr>\n",
       "    <tr>\n",
       "      <th>Portugal</th>\n",
       "      <td>0.003152</td>\n",
       "      <td>3.0</td>\n",
       "    </tr>\n",
       "    <tr>\n",
       "      <th>Iceland</th>\n",
       "      <td>0.003005</td>\n",
       "      <td>4.0</td>\n",
       "    </tr>\n",
       "    <tr>\n",
       "      <th>Panama</th>\n",
       "      <td>0.002888</td>\n",
       "      <td>5.0</td>\n",
       "    </tr>\n",
       "    <tr>\n",
       "      <th>...</th>\n",
       "      <td>...</td>\n",
       "      <td>...</td>\n",
       "    </tr>\n",
       "    <tr>\n",
       "      <th>Haiti</th>\n",
       "      <td>0.000576</td>\n",
       "      <td>145.0</td>\n",
       "    </tr>\n",
       "    <tr>\n",
       "      <th>Afghanistan</th>\n",
       "      <td>0.000395</td>\n",
       "      <td>146.0</td>\n",
       "    </tr>\n",
       "    <tr>\n",
       "      <th>Burundi</th>\n",
       "      <td>0.000395</td>\n",
       "      <td>147.0</td>\n",
       "    </tr>\n",
       "    <tr>\n",
       "      <th>Singapore</th>\n",
       "      <td>0.000368</td>\n",
       "      <td>148.0</td>\n",
       "    </tr>\n",
       "    <tr>\n",
       "      <th>Rwanda</th>\n",
       "      <td>0.000233</td>\n",
       "      <td>149.0</td>\n",
       "    </tr>\n",
       "  </tbody>\n",
       "</table>\n",
       "<p>149 rows × 2 columns</p>\n",
       "</div>"
      ],
      "text/plain": [
       "                 Product   Rank\n",
       "Slovenia        0.003265    1.0\n",
       "Czech Republic  0.003158    2.0\n",
       "Portugal        0.003152    3.0\n",
       "Iceland         0.003005    4.0\n",
       "Panama          0.002888    5.0\n",
       "...                  ...    ...\n",
       "Haiti           0.000576  145.0\n",
       "Afghanistan     0.000395  146.0\n",
       "Burundi         0.000395  147.0\n",
       "Singapore       0.000368  148.0\n",
       "Rwanda          0.000233  149.0\n",
       "\n",
       "[149 rows x 2 columns]"
      ]
     },
     "execution_count": 75,
     "metadata": {},
     "output_type": "execute_result"
    }
   ],
   "source": [
    "df9 = df6.loc[\"Weights\"] * df7\n",
    "df9 = df9.product(axis= 1)\n",
    "df9 =df9.rename(\"Product\")\n",
    "df9 = pd.DataFrame(df9)\n",
    "df9['Rank'] = df9.rank(axis= 0,ascending= False)\n",
    "df9 = df9.sort_values(by=['Rank'])\n",
    "df9"
   ]
  },
  {
   "cell_type": "markdown",
   "id": "50e6aec0-3b3c-4308-95b0-8444ba62e0f5",
   "metadata": {
    "tags": []
   },
   "source": [
    "### The Hapiest and Most Unhappy Countries according to WPM"
   ]
  },
  {
   "cell_type": "code",
   "execution_count": 76,
   "id": "df55461f-e463-4b8e-8682-421a3de506dd",
   "metadata": {
    "tags": []
   },
   "outputs": [
    {
     "name": "stdout",
     "output_type": "stream",
     "text": [
      "The Happiest Country:  Slovenia\n",
      "The Most Unhappy Country:  Rwanda\n"
     ]
    }
   ],
   "source": [
    "print(\"The Happiest Country: \", df9.index.values[0]);\n",
    "print(\"The Most Unhappy Country: \", df9.index.values[-1]);"
   ]
  },
  {
   "cell_type": "code",
   "execution_count": 79,
   "id": "2d7f2eb5-c7de-4f0a-b239-9d3c8c0b0b81",
   "metadata": {},
   "outputs": [
    {
     "data": {
      "text/plain": [
       "Text(0.5, 1.0, 'The most unhappy countries')"
      ]
     },
     "execution_count": 79,
     "metadata": {},
     "output_type": "execute_result"
    },
    {
     "data": {
      "image/png": "[encoded data removed]",
      "text/plain": [
       "<Figure size 576x396 with 1 Axes>"
      ]
     },
     "metadata": {},
     "output_type": "display_data"
    }
   ],
   "source": [
    "happinessFilter = (df9.loc[:,\"Rank\"] > 141) ;\n",
    "y = df9.index.values[-8:]\n",
    "ax = sns.barplot(x = \"Product\", y = y, data = df9[happinessFilter], palette = \"coolwarm\");\n",
    "ax.set_title('The most unhappy countries')"
   ]
  },
  {
   "cell_type": "code",
   "execution_count": 80,
   "id": "f371f342-5916-4fb7-bc6c-9c83ab6c8393",
   "metadata": {},
   "outputs": [
    {
     "data": {
      "text/plain": [
       "Text(0.5, 1.0, 'The most happy countries')"
      ]
     },
     "execution_count": 80,
     "metadata": {},
     "output_type": "execute_result"
    },
    {
     "data": {
      "image/png": "[encoded data removed]",
      "text/plain": [
       "<Figure size 576x396 with 1 Axes>"
      ]
     },
     "metadata": {},
     "output_type": "display_data"
    }
   ],
   "source": [
    "happinessFilter = (df9.loc[:,\"Rank\"] < 8) ;\n",
    "y = df9.index.values[0:7]\n",
    "ax = sns.barplot(x = \"Product\", y = y, data = df9[happinessFilter], palette = \"coolwarm\");\n",
    "ax.set_title('The most happy countries')"
   ]
  },
  {
   "cell_type": "markdown",
   "id": "bdd90e53-b85e-4161-bbba-c95499cf96ac",
   "metadata": {},
   "source": [
    "### WASPASS:\n",
    "     We redo the same steps as the previous methods for the 3 first steps"
   ]
  },
  {
   "cell_type": "markdown",
   "id": "09917aa6-310a-417b-a8af-3241046012be",
   "metadata": {},
   "source": [
    "#### Step 4: combine the two methods"
   ]
  },
  {
   "cell_type": "code",
   "execution_count": 85,
   "id": "2b6082fa-e0db-49a4-a82c-1bf6f2c38c2f",
   "metadata": {},
   "outputs": [
    {
     "data": {
      "text/html": [
       "<div>\n",
       "<style scoped>\n",
       "    .dataframe tbody tr th:only-of-type {\n",
       "        vertical-align: middle;\n",
       "    }\n",
       "\n",
       "    .dataframe tbody tr th {\n",
       "        vertical-align: top;\n",
       "    }\n",
       "\n",
       "    .dataframe thead th {\n",
       "        text-align: right;\n",
       "    }\n",
       "</style>\n",
       "<table border=\"1\" class=\"dataframe\">\n",
       "  <thead>\n",
       "    <tr style=\"text-align: right;\">\n",
       "      <th></th>\n",
       "      <th>WSM</th>\n",
       "      <th>WPM</th>\n",
       "      <th>Score</th>\n",
       "      <th>Rank</th>\n",
       "    </tr>\n",
       "  </thead>\n",
       "  <tbody>\n",
       "    <tr>\n",
       "      <th>Rwanda</th>\n",
       "      <td>1.206307</td>\n",
       "      <td>0.000233</td>\n",
       "      <td>1.206424</td>\n",
       "      <td>1.0</td>\n",
       "    </tr>\n",
       "    <tr>\n",
       "      <th>Singapore</th>\n",
       "      <td>1.069908</td>\n",
       "      <td>0.000368</td>\n",
       "      <td>1.070092</td>\n",
       "      <td>2.0</td>\n",
       "    </tr>\n",
       "    <tr>\n",
       "      <th>Burundi</th>\n",
       "      <td>0.976791</td>\n",
       "      <td>0.000395</td>\n",
       "      <td>0.976989</td>\n",
       "      <td>3.0</td>\n",
       "    </tr>\n",
       "    <tr>\n",
       "      <th>Denmark</th>\n",
       "      <td>0.950668</td>\n",
       "      <td>0.000769</td>\n",
       "      <td>0.951053</td>\n",
       "      <td>4.0</td>\n",
       "    </tr>\n",
       "    <tr>\n",
       "      <th>Finland</th>\n",
       "      <td>0.946519</td>\n",
       "      <td>0.000783</td>\n",
       "      <td>0.946910</td>\n",
       "      <td>5.0</td>\n",
       "    </tr>\n",
       "    <tr>\n",
       "      <th>...</th>\n",
       "      <td>...</td>\n",
       "      <td>...</td>\n",
       "      <td>...</td>\n",
       "      <td>...</td>\n",
       "    </tr>\n",
       "    <tr>\n",
       "      <th>Romania</th>\n",
       "      <td>0.473638</td>\n",
       "      <td>0.002736</td>\n",
       "      <td>0.475007</td>\n",
       "      <td>145.0</td>\n",
       "    </tr>\n",
       "    <tr>\n",
       "      <th>Slovakia</th>\n",
       "      <td>0.469495</td>\n",
       "      <td>0.002808</td>\n",
       "      <td>0.470899</td>\n",
       "      <td>146.0</td>\n",
       "    </tr>\n",
       "    <tr>\n",
       "      <th>Czech Republic</th>\n",
       "      <td>0.462545</td>\n",
       "      <td>0.003158</td>\n",
       "      <td>0.464124</td>\n",
       "      <td>147.0</td>\n",
       "    </tr>\n",
       "    <tr>\n",
       "      <th>Croatia</th>\n",
       "      <td>0.461208</td>\n",
       "      <td>0.002835</td>\n",
       "      <td>0.462625</td>\n",
       "      <td>148.0</td>\n",
       "    </tr>\n",
       "    <tr>\n",
       "      <th>Portugal</th>\n",
       "      <td>0.458695</td>\n",
       "      <td>0.003152</td>\n",
       "      <td>0.460271</td>\n",
       "      <td>149.0</td>\n",
       "    </tr>\n",
       "  </tbody>\n",
       "</table>\n",
       "<p>149 rows × 4 columns</p>\n",
       "</div>"
      ],
      "text/plain": [
       "                     WSM       WPM     Score   Rank\n",
       "Rwanda          1.206307  0.000233  1.206424    1.0\n",
       "Singapore       1.069908  0.000368  1.070092    2.0\n",
       "Burundi         0.976791  0.000395  0.976989    3.0\n",
       "Denmark         0.950668  0.000769  0.951053    4.0\n",
       "Finland         0.946519  0.000783  0.946910    5.0\n",
       "...                  ...       ...       ...    ...\n",
       "Romania         0.473638  0.002736  0.475007  145.0\n",
       "Slovakia        0.469495  0.002808  0.470899  146.0\n",
       "Czech Republic  0.462545  0.003158  0.464124  147.0\n",
       "Croatia         0.461208  0.002835  0.462625  148.0\n",
       "Portugal        0.458695  0.003152  0.460271  149.0\n",
       "\n",
       "[149 rows x 4 columns]"
      ]
     },
     "execution_count": 85,
     "metadata": {},
     "output_type": "execute_result"
    }
   ],
   "source": [
    "Lambda = 0.5\n",
    "df10 = pd.DataFrame()\n",
    "df10[\"WSM\"] = df8[\"Sum\"]\n",
    "df10[\"WPM\"] = df9[\"Product\"]\n",
    "df10[\"Score\"] = df10[\"WSM\"] + (1-Lambda) * df10[\"WPM\"]\n",
    "df10['Rank'] = df10[\"Score\"].rank(axis= 0,ascending= False)\n",
    "df10 = df10.sort_values(by=['Rank'])\n",
    "df10"
   ]
  },
  {
   "cell_type": "markdown",
   "id": "b69abe95-d4f1-4f73-9714-f797376a6ff8",
   "metadata": {
    "tags": []
   },
   "source": [
    "### The Hapiest and Most Unhappy Countries according to WASPASS"
   ]
  },
  {
   "cell_type": "code",
   "execution_count": 86,
   "id": "3730e44c-6be6-4dc5-ab12-d22c5ac12aae",
   "metadata": {
    "tags": []
   },
   "outputs": [
    {
     "name": "stdout",
     "output_type": "stream",
     "text": [
      "The Happiest Country:  Rwanda\n",
      "The Most Unhappy Country:  Portugal\n"
     ]
    }
   ],
   "source": [
    "print(\"The Happiest Country: \", df10.index.values[0]);\n",
    "print(\"The Most Unhappy Country: \", df10.index.values[-1]);"
   ]
  },
  {
   "cell_type": "code",
   "execution_count": 89,
   "id": "f2639621-d51a-49de-88a8-97038edd7dce",
   "metadata": {},
   "outputs": [
    {
     "data": {
      "text/plain": [
       "Text(0.5, 1.0, 'The most unhappy countries')"
      ]
     },
     "execution_count": 89,
     "metadata": {},
     "output_type": "execute_result"
    },
    {
     "data": {
      "image/png": "[encoded data removed]",
      "text/plain": [
       "<Figure size 576x396 with 1 Axes>"
      ]
     },
     "metadata": {},
     "output_type": "display_data"
    }
   ],
   "source": [
    "happinessFilter = (df10.loc[:,\"Rank\"] > 141) ;\n",
    "y = df10.index.values[-8:]\n",
    "ax = sns.barplot(x = \"Score\", y = y, data = df10[happinessFilter], palette = \"coolwarm\");\n",
    "ax.set_title('The most unhappy countries')"
   ]
  },
  {
   "cell_type": "code",
   "execution_count": 90,
   "id": "0c633abe-fe9f-4610-b63e-0184a7f45999",
   "metadata": {},
   "outputs": [
    {
     "data": {
      "text/plain": [
       "Text(0.5, 1.0, 'The most happy countries')"
      ]
     },
     "execution_count": 90,
     "metadata": {},
     "output_type": "execute_result"
    },
    {
     "data": {
      "image/png": "[encoded data removed]",
      "text/plain": [
       "<Figure size 576x396 with 1 Axes>"
      ]
     },
     "metadata": {},
     "output_type": "display_data"
    }
   ],
   "source": [
    "happinessFilter = (df10.loc[:,\"Rank\"] < 8) ;\n",
    "y = df10.index.values[0:7]\n",
    "ax = sns.barplot(x = \"Score\", y = y, data = df10[happinessFilter], palette = \"coolwarm\");\n",
    "ax.set_title('The most happy countries')"
   ]
  },
  {
   "cell_type": "markdown",
   "id": "dff3fbb6-77ef-4304-870c-1e5e163ba6a7",
   "metadata": {},
   "source": [
    "### Topsis"
   ]
  },
  {
   "cell_type": "code",
   "execution_count": 91,
   "id": "da3d5e60-b65d-45be-98a1-481120c56f04",
   "metadata": {},
   "outputs": [
    {
     "data": {
      "text/html": [
       "<div>\n",
       "<style scoped>\n",
       "    .dataframe tbody tr th:only-of-type {\n",
       "        vertical-align: middle;\n",
       "    }\n",
       "\n",
       "    .dataframe tbody tr th {\n",
       "        vertical-align: top;\n",
       "    }\n",
       "\n",
       "    .dataframe thead th {\n",
       "        text-align: right;\n",
       "    }\n",
       "</style>\n",
       "<table border=\"1\" class=\"dataframe\">\n",
       "  <thead>\n",
       "    <tr style=\"text-align: right;\">\n",
       "      <th></th>\n",
       "      <th>Logged GDP per capita</th>\n",
       "      <th>Social support</th>\n",
       "      <th>Healthy life expectancy</th>\n",
       "      <th>Freedom to make life choices</th>\n",
       "      <th>Perceptions of corruption</th>\n",
       "    </tr>\n",
       "  </thead>\n",
       "  <tbody>\n",
       "    <tr>\n",
       "      <th>Finland</th>\n",
       "      <td>10.77500</td>\n",
       "      <td>0.954000</td>\n",
       "      <td>72.000000</td>\n",
       "      <td>0.949000</td>\n",
       "      <td>0.186000</td>\n",
       "    </tr>\n",
       "    <tr>\n",
       "      <th>Denmark</th>\n",
       "      <td>10.93300</td>\n",
       "      <td>0.954000</td>\n",
       "      <td>72.700000</td>\n",
       "      <td>0.946000</td>\n",
       "      <td>0.179000</td>\n",
       "    </tr>\n",
       "    <tr>\n",
       "      <th>Switzerland</th>\n",
       "      <td>11.11700</td>\n",
       "      <td>0.942000</td>\n",
       "      <td>74.400000</td>\n",
       "      <td>0.919000</td>\n",
       "      <td>0.292000</td>\n",
       "    </tr>\n",
       "    <tr>\n",
       "      <th>Iceland</th>\n",
       "      <td>10.87800</td>\n",
       "      <td>0.983000</td>\n",
       "      <td>73.000000</td>\n",
       "      <td>0.955000</td>\n",
       "      <td>0.673000</td>\n",
       "    </tr>\n",
       "    <tr>\n",
       "      <th>Netherlands</th>\n",
       "      <td>10.93200</td>\n",
       "      <td>0.942000</td>\n",
       "      <td>72.400000</td>\n",
       "      <td>0.913000</td>\n",
       "      <td>0.338000</td>\n",
       "    </tr>\n",
       "    <tr>\n",
       "      <th>...</th>\n",
       "      <td>...</td>\n",
       "      <td>...</td>\n",
       "      <td>...</td>\n",
       "      <td>...</td>\n",
       "      <td>...</td>\n",
       "    </tr>\n",
       "    <tr>\n",
       "      <th>Zimbabwe</th>\n",
       "      <td>7.94300</td>\n",
       "      <td>0.750000</td>\n",
       "      <td>56.201000</td>\n",
       "      <td>0.677000</td>\n",
       "      <td>0.821000</td>\n",
       "    </tr>\n",
       "    <tr>\n",
       "      <th>Afghanistan</th>\n",
       "      <td>7.69500</td>\n",
       "      <td>0.463000</td>\n",
       "      <td>52.493000</td>\n",
       "      <td>0.382000</td>\n",
       "      <td>0.924000</td>\n",
       "    </tr>\n",
       "    <tr>\n",
       "      <th>Weights</th>\n",
       "      <td>0.20000</td>\n",
       "      <td>0.200000</td>\n",
       "      <td>0.200000</td>\n",
       "      <td>0.200000</td>\n",
       "      <td>0.200000</td>\n",
       "    </tr>\n",
       "    <tr>\n",
       "      <th>Sum</th>\n",
       "      <td>1405.39900</td>\n",
       "      <td>121.397000</td>\n",
       "      <td>9683.927000</td>\n",
       "      <td>117.948000</td>\n",
       "      <td>108.390000</td>\n",
       "    </tr>\n",
       "    <tr>\n",
       "      <th>SQRT(Sum(x_ij^2))</th>\n",
       "      <td>115.99433</td>\n",
       "      <td>10.042964</td>\n",
       "      <td>797.591908</td>\n",
       "      <td>9.760545</td>\n",
       "      <td>9.143431</td>\n",
       "    </tr>\n",
       "  </tbody>\n",
       "</table>\n",
       "<p>152 rows × 5 columns</p>\n",
       "</div>"
      ],
      "text/plain": [
       "                   Logged GDP per capita  Social support  \\\n",
       "Finland                         10.77500        0.954000   \n",
       "Denmark                         10.93300        0.954000   \n",
       "Switzerland                     11.11700        0.942000   \n",
       "Iceland                         10.87800        0.983000   \n",
       "Netherlands                     10.93200        0.942000   \n",
       "...                                  ...             ...   \n",
       "Zimbabwe                         7.94300        0.750000   \n",
       "Afghanistan                      7.69500        0.463000   \n",
       "Weights                          0.20000        0.200000   \n",
       "Sum                           1405.39900      121.397000   \n",
       "SQRT(Sum(x_ij^2))              115.99433       10.042964   \n",
       "\n",
       "                   Healthy life expectancy  Freedom to make life choices  \\\n",
       "Finland                          72.000000                      0.949000   \n",
       "Denmark                          72.700000                      0.946000   \n",
       "Switzerland                      74.400000                      0.919000   \n",
       "Iceland                          73.000000                      0.955000   \n",
       "Netherlands                      72.400000                      0.913000   \n",
       "...                                    ...                           ...   \n",
       "Zimbabwe                         56.201000                      0.677000   \n",
       "Afghanistan                      52.493000                      0.382000   \n",
       "Weights                           0.200000                      0.200000   \n",
       "Sum                            9683.927000                    117.948000   \n",
       "SQRT(Sum(x_ij^2))               797.591908                      9.760545   \n",
       "\n",
       "                   Perceptions of corruption  \n",
       "Finland                             0.186000  \n",
       "Denmark                             0.179000  \n",
       "Switzerland                         0.292000  \n",
       "Iceland                             0.673000  \n",
       "Netherlands                         0.338000  \n",
       "...                                      ...  \n",
       "Zimbabwe                            0.821000  \n",
       "Afghanistan                         0.924000  \n",
       "Weights                             0.200000  \n",
       "Sum                               108.390000  \n",
       "SQRT(Sum(x_ij^2))                   9.143431  \n",
       "\n",
       "[152 rows x 5 columns]"
      ]
     },
     "execution_count": 91,
     "metadata": {},
     "output_type": "execute_result"
    }
   ],
   "source": [
    "df11= df.copy() \n",
    "# nb criteria\n",
    "n = df11.shape[1]\n",
    "#nb alternatives\n",
    "m = df11.shape[0]\n",
    "#Add weigths\n",
    "criteria = len(df11.columns)\n",
    "Weight = 1/criteria\n",
    "Weigths = []\n",
    "for i in range(len(df11.columns)):\n",
    "     Weigths.append(Weight)\n",
    "W = pd.Series(Weigths, index = df11.columns)\n",
    "W = W.rename(\"Weights\")\n",
    "Sum = df.sum(axis = 0)\n",
    "Sum = Sum.rename(\"Sum\")\n",
    "SQT = np.sqrt((np.power(df, 2)).sum(axis=0))\n",
    "SQT = SQT.rename(\"SQRT(Sum(x_ij^2))\")\n",
    "df11 = df11.append([W,Sum,SQT], ignore_index=False)\n",
    "df11"
   ]
  },
  {
   "cell_type": "markdown",
   "id": "4452717a-43ad-432e-a1dd-d47d56166b2d",
   "metadata": {},
   "source": [
    "### Step 1 : Normalization"
   ]
  },
  {
   "cell_type": "code",
   "execution_count": 92,
   "id": "59190f0f-c2e1-434b-a4b6-6222bb67df3d",
   "metadata": {},
   "outputs": [
    {
     "data": {
      "text/html": [
       "<div>\n",
       "<style scoped>\n",
       "    .dataframe tbody tr th:only-of-type {\n",
       "        vertical-align: middle;\n",
       "    }\n",
       "\n",
       "    .dataframe tbody tr th {\n",
       "        vertical-align: top;\n",
       "    }\n",
       "\n",
       "    .dataframe thead th {\n",
       "        text-align: right;\n",
       "    }\n",
       "</style>\n",
       "<table border=\"1\" class=\"dataframe\">\n",
       "  <thead>\n",
       "    <tr style=\"text-align: right;\">\n",
       "      <th></th>\n",
       "      <th>Logged GDP per capita</th>\n",
       "      <th>Social support</th>\n",
       "      <th>Healthy life expectancy</th>\n",
       "      <th>Freedom to make life choices</th>\n",
       "      <th>Perceptions of corruption</th>\n",
       "    </tr>\n",
       "  </thead>\n",
       "  <tbody>\n",
       "    <tr>\n",
       "      <th>Finland</th>\n",
       "      <td>0.092892</td>\n",
       "      <td>0.094992</td>\n",
       "      <td>0.090272</td>\n",
       "      <td>0.097228</td>\n",
       "      <td>0.020342</td>\n",
       "    </tr>\n",
       "    <tr>\n",
       "      <th>Denmark</th>\n",
       "      <td>0.094255</td>\n",
       "      <td>0.094992</td>\n",
       "      <td>0.091149</td>\n",
       "      <td>0.096921</td>\n",
       "      <td>0.019577</td>\n",
       "    </tr>\n",
       "    <tr>\n",
       "      <th>Switzerland</th>\n",
       "      <td>0.095841</td>\n",
       "      <td>0.093797</td>\n",
       "      <td>0.093281</td>\n",
       "      <td>0.094155</td>\n",
       "      <td>0.031935</td>\n",
       "    </tr>\n",
       "    <tr>\n",
       "      <th>Iceland</th>\n",
       "      <td>0.093780</td>\n",
       "      <td>0.097879</td>\n",
       "      <td>0.091526</td>\n",
       "      <td>0.097843</td>\n",
       "      <td>0.073605</td>\n",
       "    </tr>\n",
       "    <tr>\n",
       "      <th>Netherlands</th>\n",
       "      <td>0.094246</td>\n",
       "      <td>0.093797</td>\n",
       "      <td>0.090773</td>\n",
       "      <td>0.093540</td>\n",
       "      <td>0.036966</td>\n",
       "    </tr>\n",
       "    <tr>\n",
       "      <th>...</th>\n",
       "      <td>...</td>\n",
       "      <td>...</td>\n",
       "      <td>...</td>\n",
       "      <td>...</td>\n",
       "      <td>...</td>\n",
       "    </tr>\n",
       "    <tr>\n",
       "      <th>Lesotho</th>\n",
       "      <td>0.068331</td>\n",
       "      <td>0.078363</td>\n",
       "      <td>0.061059</td>\n",
       "      <td>0.073254</td>\n",
       "      <td>0.100072</td>\n",
       "    </tr>\n",
       "    <tr>\n",
       "      <th>Botswana</th>\n",
       "      <td>0.084332</td>\n",
       "      <td>0.078065</td>\n",
       "      <td>0.074310</td>\n",
       "      <td>0.084422</td>\n",
       "      <td>0.087604</td>\n",
       "    </tr>\n",
       "    <tr>\n",
       "      <th>Rwanda</th>\n",
       "      <td>0.066176</td>\n",
       "      <td>0.054964</td>\n",
       "      <td>0.076982</td>\n",
       "      <td>0.091901</td>\n",
       "      <td>0.018264</td>\n",
       "    </tr>\n",
       "    <tr>\n",
       "      <th>Zimbabwe</th>\n",
       "      <td>0.068477</td>\n",
       "      <td>0.074679</td>\n",
       "      <td>0.070463</td>\n",
       "      <td>0.069361</td>\n",
       "      <td>0.089791</td>\n",
       "    </tr>\n",
       "    <tr>\n",
       "      <th>Afghanistan</th>\n",
       "      <td>0.066339</td>\n",
       "      <td>0.046102</td>\n",
       "      <td>0.065814</td>\n",
       "      <td>0.039137</td>\n",
       "      <td>0.101056</td>\n",
       "    </tr>\n",
       "  </tbody>\n",
       "</table>\n",
       "<p>149 rows × 5 columns</p>\n",
       "</div>"
      ],
      "text/plain": [
       "             Logged GDP per capita  Social support  Healthy life expectancy  \\\n",
       "Finland                   0.092892        0.094992                 0.090272   \n",
       "Denmark                   0.094255        0.094992                 0.091149   \n",
       "Switzerland               0.095841        0.093797                 0.093281   \n",
       "Iceland                   0.093780        0.097879                 0.091526   \n",
       "Netherlands               0.094246        0.093797                 0.090773   \n",
       "...                            ...             ...                      ...   \n",
       "Lesotho                   0.068331        0.078363                 0.061059   \n",
       "Botswana                  0.084332        0.078065                 0.074310   \n",
       "Rwanda                    0.066176        0.054964                 0.076982   \n",
       "Zimbabwe                  0.068477        0.074679                 0.070463   \n",
       "Afghanistan               0.066339        0.046102                 0.065814   \n",
       "\n",
       "             Freedom to make life choices  Perceptions of corruption  \n",
       "Finland                          0.097228                   0.020342  \n",
       "Denmark                          0.096921                   0.019577  \n",
       "Switzerland                      0.094155                   0.031935  \n",
       "Iceland                          0.097843                   0.073605  \n",
       "Netherlands                      0.093540                   0.036966  \n",
       "...                                   ...                        ...  \n",
       "Lesotho                          0.073254                   0.100072  \n",
       "Botswana                         0.084422                   0.087604  \n",
       "Rwanda                           0.091901                   0.018264  \n",
       "Zimbabwe                         0.069361                   0.089791  \n",
       "Afghanistan                      0.039137                   0.101056  \n",
       "\n",
       "[149 rows x 5 columns]"
      ]
     },
     "execution_count": 92,
     "metadata": {},
     "output_type": "execute_result"
    }
   ],
   "source": [
    "#Normalization: r_ij\n",
    "df12 = df11 / df11.loc[\"SQRT(Sum(x_ij^2))\"]\n",
    "df12 = df12.drop([\"Weights\",\"Sum\",\"SQRT(Sum(x_ij^2))\"],axis=0)\n",
    "df12"
   ]
  },
  {
   "cell_type": "markdown",
   "id": "4b89cb0e-f19f-45b7-905e-7f9cce9b7cc6",
   "metadata": {},
   "source": [
    "### Step 2 : Weighted normalized decision matrix"
   ]
  },
  {
   "cell_type": "code",
   "execution_count": 93,
   "id": "f3ff577a-4c36-4acf-a0f5-65fbf379cce6",
   "metadata": {},
   "outputs": [
    {
     "data": {
      "text/html": [
       "<div>\n",
       "<style scoped>\n",
       "    .dataframe tbody tr th:only-of-type {\n",
       "        vertical-align: middle;\n",
       "    }\n",
       "\n",
       "    .dataframe tbody tr th {\n",
       "        vertical-align: top;\n",
       "    }\n",
       "\n",
       "    .dataframe thead th {\n",
       "        text-align: right;\n",
       "    }\n",
       "</style>\n",
       "<table border=\"1\" class=\"dataframe\">\n",
       "  <thead>\n",
       "    <tr style=\"text-align: right;\">\n",
       "      <th></th>\n",
       "      <th>Logged GDP per capita</th>\n",
       "      <th>Social support</th>\n",
       "      <th>Healthy life expectancy</th>\n",
       "      <th>Freedom to make life choices</th>\n",
       "      <th>Perceptions of corruption</th>\n",
       "    </tr>\n",
       "  </thead>\n",
       "  <tbody>\n",
       "    <tr>\n",
       "      <th>Finland</th>\n",
       "      <td>0.018578</td>\n",
       "      <td>0.018998</td>\n",
       "      <td>0.018054</td>\n",
       "      <td>0.019446</td>\n",
       "      <td>0.004068</td>\n",
       "    </tr>\n",
       "    <tr>\n",
       "      <th>Denmark</th>\n",
       "      <td>0.018851</td>\n",
       "      <td>0.018998</td>\n",
       "      <td>0.018230</td>\n",
       "      <td>0.019384</td>\n",
       "      <td>0.003915</td>\n",
       "    </tr>\n",
       "    <tr>\n",
       "      <th>Switzerland</th>\n",
       "      <td>0.019168</td>\n",
       "      <td>0.018759</td>\n",
       "      <td>0.018656</td>\n",
       "      <td>0.018831</td>\n",
       "      <td>0.006387</td>\n",
       "    </tr>\n",
       "    <tr>\n",
       "      <th>Iceland</th>\n",
       "      <td>0.018756</td>\n",
       "      <td>0.019576</td>\n",
       "      <td>0.018305</td>\n",
       "      <td>0.019569</td>\n",
       "      <td>0.014721</td>\n",
       "    </tr>\n",
       "    <tr>\n",
       "      <th>Netherlands</th>\n",
       "      <td>0.018849</td>\n",
       "      <td>0.018759</td>\n",
       "      <td>0.018155</td>\n",
       "      <td>0.018708</td>\n",
       "      <td>0.007393</td>\n",
       "    </tr>\n",
       "    <tr>\n",
       "      <th>...</th>\n",
       "      <td>...</td>\n",
       "      <td>...</td>\n",
       "      <td>...</td>\n",
       "      <td>...</td>\n",
       "      <td>...</td>\n",
       "    </tr>\n",
       "    <tr>\n",
       "      <th>Lesotho</th>\n",
       "      <td>0.013666</td>\n",
       "      <td>0.015673</td>\n",
       "      <td>0.012212</td>\n",
       "      <td>0.014651</td>\n",
       "      <td>0.020014</td>\n",
       "    </tr>\n",
       "    <tr>\n",
       "      <th>Botswana</th>\n",
       "      <td>0.016866</td>\n",
       "      <td>0.015613</td>\n",
       "      <td>0.014862</td>\n",
       "      <td>0.016884</td>\n",
       "      <td>0.017521</td>\n",
       "    </tr>\n",
       "    <tr>\n",
       "      <th>Rwanda</th>\n",
       "      <td>0.013235</td>\n",
       "      <td>0.010993</td>\n",
       "      <td>0.015396</td>\n",
       "      <td>0.018380</td>\n",
       "      <td>0.003653</td>\n",
       "    </tr>\n",
       "    <tr>\n",
       "      <th>Zimbabwe</th>\n",
       "      <td>0.013695</td>\n",
       "      <td>0.014936</td>\n",
       "      <td>0.014093</td>\n",
       "      <td>0.013872</td>\n",
       "      <td>0.017958</td>\n",
       "    </tr>\n",
       "    <tr>\n",
       "      <th>Afghanistan</th>\n",
       "      <td>0.013268</td>\n",
       "      <td>0.009220</td>\n",
       "      <td>0.013163</td>\n",
       "      <td>0.007827</td>\n",
       "      <td>0.020211</td>\n",
       "    </tr>\n",
       "  </tbody>\n",
       "</table>\n",
       "<p>149 rows × 5 columns</p>\n",
       "</div>"
      ],
      "text/plain": [
       "             Logged GDP per capita  Social support  Healthy life expectancy  \\\n",
       "Finland                   0.018578        0.018998                 0.018054   \n",
       "Denmark                   0.018851        0.018998                 0.018230   \n",
       "Switzerland               0.019168        0.018759                 0.018656   \n",
       "Iceland                   0.018756        0.019576                 0.018305   \n",
       "Netherlands               0.018849        0.018759                 0.018155   \n",
       "...                            ...             ...                      ...   \n",
       "Lesotho                   0.013666        0.015673                 0.012212   \n",
       "Botswana                  0.016866        0.015613                 0.014862   \n",
       "Rwanda                    0.013235        0.010993                 0.015396   \n",
       "Zimbabwe                  0.013695        0.014936                 0.014093   \n",
       "Afghanistan               0.013268        0.009220                 0.013163   \n",
       "\n",
       "             Freedom to make life choices  Perceptions of corruption  \n",
       "Finland                          0.019446                   0.004068  \n",
       "Denmark                          0.019384                   0.003915  \n",
       "Switzerland                      0.018831                   0.006387  \n",
       "Iceland                          0.019569                   0.014721  \n",
       "Netherlands                      0.018708                   0.007393  \n",
       "...                                   ...                        ...  \n",
       "Lesotho                          0.014651                   0.020014  \n",
       "Botswana                         0.016884                   0.017521  \n",
       "Rwanda                           0.018380                   0.003653  \n",
       "Zimbabwe                         0.013872                   0.017958  \n",
       "Afghanistan                      0.007827                   0.020211  \n",
       "\n",
       "[149 rows x 5 columns]"
      ]
     },
     "execution_count": 93,
     "metadata": {},
     "output_type": "execute_result"
    }
   ],
   "source": [
    "#2- v_ij = r_ij*w_ij\n",
    "df13 = df12 * df11.loc[\"Weights\"]\n",
    "df13 "
   ]
  },
  {
   "cell_type": "markdown",
   "id": "f1319a80-15d2-464b-a8be-eef5b8db1015",
   "metadata": {},
   "source": [
    "### Step 3: Calculate the ideal best"
   ]
  },
  {
   "cell_type": "code",
   "execution_count": 94,
   "id": "2688472e-72e5-4820-bca6-270eb4613ce5",
   "metadata": {},
   "outputs": [
    {
     "data": {
      "text/html": [
       "<div>\n",
       "<style scoped>\n",
       "    .dataframe tbody tr th:only-of-type {\n",
       "        vertical-align: middle;\n",
       "    }\n",
       "\n",
       "    .dataframe tbody tr th {\n",
       "        vertical-align: top;\n",
       "    }\n",
       "\n",
       "    .dataframe thead th {\n",
       "        text-align: right;\n",
       "    }\n",
       "</style>\n",
       "<table border=\"1\" class=\"dataframe\">\n",
       "  <thead>\n",
       "    <tr style=\"text-align: right;\">\n",
       "      <th></th>\n",
       "      <th>Logged GDP per capita</th>\n",
       "      <th>Social support</th>\n",
       "      <th>Healthy life expectancy</th>\n",
       "      <th>Freedom to make life choices</th>\n",
       "      <th>Perceptions of corruption</th>\n",
       "    </tr>\n",
       "  </thead>\n",
       "  <tbody>\n",
       "    <tr>\n",
       "      <th>Max</th>\n",
       "      <td>0.020082</td>\n",
       "      <td>0.019576</td>\n",
       "      <td>0.019296</td>\n",
       "      <td>0.019876</td>\n",
       "      <td>0.020539</td>\n",
       "    </tr>\n",
       "    <tr>\n",
       "      <th>Min</th>\n",
       "      <td>0.011440</td>\n",
       "      <td>0.009220</td>\n",
       "      <td>0.012156</td>\n",
       "      <td>0.007827</td>\n",
       "      <td>0.001794</td>\n",
       "    </tr>\n",
       "    <tr>\n",
       "      <th>v_j+</th>\n",
       "      <td>0.020082</td>\n",
       "      <td>0.019576</td>\n",
       "      <td>0.019296</td>\n",
       "      <td>0.019876</td>\n",
       "      <td>0.001794</td>\n",
       "    </tr>\n",
       "    <tr>\n",
       "      <th>v_j-</th>\n",
       "      <td>0.011440</td>\n",
       "      <td>0.009220</td>\n",
       "      <td>0.012156</td>\n",
       "      <td>0.007827</td>\n",
       "      <td>0.020539</td>\n",
       "    </tr>\n",
       "  </tbody>\n",
       "</table>\n",
       "</div>"
      ],
      "text/plain": [
       "      Logged GDP per capita  Social support  Healthy life expectancy  \\\n",
       "Max                0.020082        0.019576                 0.019296   \n",
       "Min                0.011440        0.009220                 0.012156   \n",
       "v_j+               0.020082        0.019576                 0.019296   \n",
       "v_j-               0.011440        0.009220                 0.012156   \n",
       "\n",
       "      Freedom to make life choices  Perceptions of corruption  \n",
       "Max                       0.019876                   0.020539  \n",
       "Min                       0.007827                   0.001794  \n",
       "v_j+                      0.019876                   0.001794  \n",
       "v_j-                      0.007827                   0.020539  "
      ]
     },
     "execution_count": 94,
     "metadata": {},
     "output_type": "execute_result"
    }
   ],
   "source": [
    "#3- V_j+ and V_j-\n",
    "df14 = pd.DataFrame()\n",
    "Max = df13.max()\n",
    "Max = Max.rename('Max')\n",
    "#Add min for each column\n",
    "Min = df13.min()\n",
    "Min = Min.rename('Min')\n",
    "df14 = df14.append([Max,Min], ignore_index=False)\n",
    "#Chose the v_j+ row\n",
    "v_jPlus = df14.loc[\"Max\"][0:4]\n",
    "v_jPlus= v_jPlus.append(df14.loc[\"Min\"][4:5])\n",
    "v_jPlus = v_jPlus.rename(\"v_j+\")\n",
    "#Chose the v_j- row\n",
    "v_jMoins = df14.loc[\"Min\"][0:4]\n",
    "v_jMoins= v_jMoins.append(df14.loc[\"Max\"][4:5])\n",
    "v_jMoins = v_jMoins.rename(\"v_j-\")\n",
    "df14 = df14.append([v_jPlus,v_jMoins], ignore_index=False)\n",
    "df14"
   ]
  },
  {
   "cell_type": "markdown",
   "id": "74aa6106-169e-4895-aa6e-2be26aae6890",
   "metadata": {},
   "source": [
    "### Step 4: Euclidean distance from ideal best and worst"
   ]
  },
  {
   "cell_type": "code",
   "execution_count": 95,
   "id": "4b61fa8e-6e76-48bc-8225-1336ae5ce522",
   "metadata": {},
   "outputs": [
    {
     "data": {
      "text/html": [
       "<div>\n",
       "<style scoped>\n",
       "    .dataframe tbody tr th:only-of-type {\n",
       "        vertical-align: middle;\n",
       "    }\n",
       "\n",
       "    .dataframe tbody tr th {\n",
       "        vertical-align: top;\n",
       "    }\n",
       "\n",
       "    .dataframe thead th {\n",
       "        text-align: right;\n",
       "    }\n",
       "</style>\n",
       "<table border=\"1\" class=\"dataframe\">\n",
       "  <thead>\n",
       "    <tr style=\"text-align: right;\">\n",
       "      <th></th>\n",
       "      <th>Logged GDP per capita</th>\n",
       "      <th>Social support</th>\n",
       "      <th>Healthy life expectancy</th>\n",
       "      <th>Freedom to make life choices</th>\n",
       "      <th>Perceptions of corruption</th>\n",
       "      <th>Sum</th>\n",
       "      <th>S_i+</th>\n",
       "    </tr>\n",
       "  </thead>\n",
       "  <tbody>\n",
       "    <tr>\n",
       "      <th>Finland</th>\n",
       "      <td>2.260578e-06</td>\n",
       "      <td>3.335279e-07</td>\n",
       "      <td>1.542536e-06</td>\n",
       "      <td>1.851614e-07</td>\n",
       "      <td>0.000005</td>\n",
       "      <td>0.000009</td>\n",
       "      <td>0.003082</td>\n",
       "    </tr>\n",
       "    <tr>\n",
       "      <th>Denmark</th>\n",
       "      <td>1.515594e-06</td>\n",
       "      <td>3.335279e-07</td>\n",
       "      <td>1.137337e-06</td>\n",
       "      <td>2.418434e-07</td>\n",
       "      <td>0.000005</td>\n",
       "      <td>0.000008</td>\n",
       "      <td>0.002780</td>\n",
       "    </tr>\n",
       "    <tr>\n",
       "      <th>Switzerland</th>\n",
       "      <td>8.350995e-07</td>\n",
       "      <td>6.666593e-07</td>\n",
       "      <td>4.098266e-07</td>\n",
       "      <td>1.092074e-06</td>\n",
       "      <td>0.000021</td>\n",
       "      <td>0.000024</td>\n",
       "      <td>0.004910</td>\n",
       "    </tr>\n",
       "    <tr>\n",
       "      <th>Iceland</th>\n",
       "      <td>1.758082e-06</td>\n",
       "      <td>0.000000e+00</td>\n",
       "      <td>9.825443e-07</td>\n",
       "      <td>9.447009e-08</td>\n",
       "      <td>0.000167</td>\n",
       "      <td>0.000170</td>\n",
       "      <td>0.013037</td>\n",
       "    </tr>\n",
       "    <tr>\n",
       "      <th>Netherlands</th>\n",
       "      <td>1.519842e-06</td>\n",
       "      <td>6.666593e-07</td>\n",
       "      <td>1.303448e-06</td>\n",
       "      <td>1.364148e-06</td>\n",
       "      <td>0.000031</td>\n",
       "      <td>0.000036</td>\n",
       "      <td>0.006017</td>\n",
       "    </tr>\n",
       "    <tr>\n",
       "      <th>...</th>\n",
       "      <td>...</td>\n",
       "      <td>...</td>\n",
       "      <td>...</td>\n",
       "      <td>...</td>\n",
       "      <td>...</td>\n",
       "      <td>...</td>\n",
       "      <td>...</td>\n",
       "    </tr>\n",
       "    <tr>\n",
       "      <th>Lesotho</th>\n",
       "      <td>4.116289e-05</td>\n",
       "      <td>1.523521e-05</td>\n",
       "      <td>5.019121e-05</td>\n",
       "      <td>2.730186e-05</td>\n",
       "      <td>0.000332</td>\n",
       "      <td>0.000466</td>\n",
       "      <td>0.021584</td>\n",
       "    </tr>\n",
       "    <tr>\n",
       "      <th>Botswana</th>\n",
       "      <td>1.034056e-05</td>\n",
       "      <td>1.570516e-05</td>\n",
       "      <td>1.966344e-05</td>\n",
       "      <td>8.949887e-06</td>\n",
       "      <td>0.000247</td>\n",
       "      <td>0.000302</td>\n",
       "      <td>0.017378</td>\n",
       "    </tr>\n",
       "    <tr>\n",
       "      <th>Rwanda</th>\n",
       "      <td>4.687985e-05</td>\n",
       "      <td>7.367001e-05</td>\n",
       "      <td>1.520992e-05</td>\n",
       "      <td>2.237472e-06</td>\n",
       "      <td>0.000003</td>\n",
       "      <td>0.000141</td>\n",
       "      <td>0.011893</td>\n",
       "    </tr>\n",
       "    <tr>\n",
       "      <th>Zimbabwe</th>\n",
       "      <td>4.078763e-05</td>\n",
       "      <td>2.153020e-05</td>\n",
       "      <td>2.707812e-05</td>\n",
       "      <td>3.604517e-05</td>\n",
       "      <td>0.000261</td>\n",
       "      <td>0.000387</td>\n",
       "      <td>0.019666</td>\n",
       "    </tr>\n",
       "    <tr>\n",
       "      <th>Afghanistan</th>\n",
       "      <td>4.643232e-05</td>\n",
       "      <td>1.072366e-04</td>\n",
       "      <td>3.761936e-05</td>\n",
       "      <td>1.451665e-04</td>\n",
       "      <td>0.000339</td>\n",
       "      <td>0.000676</td>\n",
       "      <td>0.025994</td>\n",
       "    </tr>\n",
       "  </tbody>\n",
       "</table>\n",
       "<p>149 rows × 7 columns</p>\n",
       "</div>"
      ],
      "text/plain": [
       "             Logged GDP per capita  Social support  Healthy life expectancy  \\\n",
       "Finland               2.260578e-06    3.335279e-07             1.542536e-06   \n",
       "Denmark               1.515594e-06    3.335279e-07             1.137337e-06   \n",
       "Switzerland           8.350995e-07    6.666593e-07             4.098266e-07   \n",
       "Iceland               1.758082e-06    0.000000e+00             9.825443e-07   \n",
       "Netherlands           1.519842e-06    6.666593e-07             1.303448e-06   \n",
       "...                            ...             ...                      ...   \n",
       "Lesotho               4.116289e-05    1.523521e-05             5.019121e-05   \n",
       "Botswana              1.034056e-05    1.570516e-05             1.966344e-05   \n",
       "Rwanda                4.687985e-05    7.367001e-05             1.520992e-05   \n",
       "Zimbabwe              4.078763e-05    2.153020e-05             2.707812e-05   \n",
       "Afghanistan           4.643232e-05    1.072366e-04             3.761936e-05   \n",
       "\n",
       "             Freedom to make life choices  Perceptions of corruption  \\\n",
       "Finland                      1.851614e-07                   0.000005   \n",
       "Denmark                      2.418434e-07                   0.000005   \n",
       "Switzerland                  1.092074e-06                   0.000021   \n",
       "Iceland                      9.447009e-08                   0.000167   \n",
       "Netherlands                  1.364148e-06                   0.000031   \n",
       "...                                   ...                        ...   \n",
       "Lesotho                      2.730186e-05                   0.000332   \n",
       "Botswana                     8.949887e-06                   0.000247   \n",
       "Rwanda                       2.237472e-06                   0.000003   \n",
       "Zimbabwe                     3.604517e-05                   0.000261   \n",
       "Afghanistan                  1.451665e-04                   0.000339   \n",
       "\n",
       "                  Sum      S_i+  \n",
       "Finland      0.000009  0.003082  \n",
       "Denmark      0.000008  0.002780  \n",
       "Switzerland  0.000024  0.004910  \n",
       "Iceland      0.000170  0.013037  \n",
       "Netherlands  0.000036  0.006017  \n",
       "...               ...       ...  \n",
       "Lesotho      0.000466  0.021584  \n",
       "Botswana     0.000302  0.017378  \n",
       "Rwanda       0.000141  0.011893  \n",
       "Zimbabwe     0.000387  0.019666  \n",
       "Afghanistan  0.000676  0.025994  \n",
       "\n",
       "[149 rows x 7 columns]"
      ]
     },
     "execution_count": 95,
     "metadata": {},
     "output_type": "execute_result"
    }
   ],
   "source": [
    "#4.1- SQR(v_ij - v_j+)\n",
    "df15 = np.power((df13 - df14.loc[\"v_j+\"]),2)\n",
    "df15[\"Sum\"] = df15.sum(axis=1)\n",
    "df15[\"S_i+\"] = np.sqrt(df15[\"Sum\"])\n",
    "df15"
   ]
  },
  {
   "cell_type": "code",
   "execution_count": 96,
   "id": "a035157a-2430-428d-957a-6888b896a4bd",
   "metadata": {},
   "outputs": [
    {
     "data": {
      "text/html": [
       "<div>\n",
       "<style scoped>\n",
       "    .dataframe tbody tr th:only-of-type {\n",
       "        vertical-align: middle;\n",
       "    }\n",
       "\n",
       "    .dataframe tbody tr th {\n",
       "        vertical-align: top;\n",
       "    }\n",
       "\n",
       "    .dataframe thead th {\n",
       "        text-align: right;\n",
       "    }\n",
       "</style>\n",
       "<table border=\"1\" class=\"dataframe\">\n",
       "  <thead>\n",
       "    <tr style=\"text-align: right;\">\n",
       "      <th></th>\n",
       "      <th>Logged GDP per capita</th>\n",
       "      <th>Social support</th>\n",
       "      <th>Healthy life expectancy</th>\n",
       "      <th>Freedom to make life choices</th>\n",
       "      <th>Perceptions of corruption</th>\n",
       "      <th>Sum</th>\n",
       "      <th>S_i-</th>\n",
       "    </tr>\n",
       "  </thead>\n",
       "  <tbody>\n",
       "    <tr>\n",
       "      <th>Finland</th>\n",
       "      <td>0.000051</td>\n",
       "      <td>0.000096</td>\n",
       "      <td>3.478941e-05</td>\n",
       "      <td>0.000135</td>\n",
       "      <td>2.712886e-04</td>\n",
       "      <td>0.000588</td>\n",
       "      <td>0.024241</td>\n",
       "    </tr>\n",
       "    <tr>\n",
       "      <th>Denmark</th>\n",
       "      <td>0.000055</td>\n",
       "      <td>0.000096</td>\n",
       "      <td>3.689084e-05</td>\n",
       "      <td>0.000134</td>\n",
       "      <td>2.763559e-04</td>\n",
       "      <td>0.000597</td>\n",
       "      <td>0.024440</td>\n",
       "    </tr>\n",
       "    <tr>\n",
       "      <th>Switzerland</th>\n",
       "      <td>0.000060</td>\n",
       "      <td>0.000091</td>\n",
       "      <td>4.225086e-05</td>\n",
       "      <td>0.000121</td>\n",
       "      <td>2.002858e-04</td>\n",
       "      <td>0.000514</td>\n",
       "      <td>0.022679</td>\n",
       "    </tr>\n",
       "    <tr>\n",
       "      <th>Iceland</th>\n",
       "      <td>0.000054</td>\n",
       "      <td>0.000107</td>\n",
       "      <td>3.781031e-05</td>\n",
       "      <td>0.000138</td>\n",
       "      <td>3.385360e-05</td>\n",
       "      <td>0.000370</td>\n",
       "      <td>0.019243</td>\n",
       "    </tr>\n",
       "    <tr>\n",
       "      <th>Netherlands</th>\n",
       "      <td>0.000055</td>\n",
       "      <td>0.000091</td>\n",
       "      <td>3.598268e-05</td>\n",
       "      <td>0.000118</td>\n",
       "      <td>1.728186e-04</td>\n",
       "      <td>0.000473</td>\n",
       "      <td>0.021750</td>\n",
       "    </tr>\n",
       "    <tr>\n",
       "      <th>...</th>\n",
       "      <td>...</td>\n",
       "      <td>...</td>\n",
       "      <td>...</td>\n",
       "      <td>...</td>\n",
       "      <td>...</td>\n",
       "      <td>...</td>\n",
       "      <td>...</td>\n",
       "    </tr>\n",
       "    <tr>\n",
       "      <th>Lesotho</th>\n",
       "      <td>0.000005</td>\n",
       "      <td>0.000042</td>\n",
       "      <td>3.098878e-09</td>\n",
       "      <td>0.000047</td>\n",
       "      <td>2.755904e-07</td>\n",
       "      <td>0.000093</td>\n",
       "      <td>0.009666</td>\n",
       "    </tr>\n",
       "    <tr>\n",
       "      <th>Botswana</th>\n",
       "      <td>0.000029</td>\n",
       "      <td>0.000041</td>\n",
       "      <td>7.321868e-06</td>\n",
       "      <td>0.000082</td>\n",
       "      <td>9.111707e-06</td>\n",
       "      <td>0.000169</td>\n",
       "      <td>0.012991</td>\n",
       "    </tr>\n",
       "    <tr>\n",
       "      <th>Rwanda</th>\n",
       "      <td>0.000003</td>\n",
       "      <td>0.000003</td>\n",
       "      <td>1.049924e-05</td>\n",
       "      <td>0.000111</td>\n",
       "      <td>2.851518e-04</td>\n",
       "      <td>0.000413</td>\n",
       "      <td>0.020332</td>\n",
       "    </tr>\n",
       "    <tr>\n",
       "      <th>Zimbabwe</th>\n",
       "      <td>0.000005</td>\n",
       "      <td>0.000033</td>\n",
       "      <td>3.750339e-06</td>\n",
       "      <td>0.000037</td>\n",
       "      <td>6.662015e-06</td>\n",
       "      <td>0.000085</td>\n",
       "      <td>0.009203</td>\n",
       "    </tr>\n",
       "    <tr>\n",
       "      <th>Afghanistan</th>\n",
       "      <td>0.000003</td>\n",
       "      <td>0.000000</td>\n",
       "      <td>1.013607e-06</td>\n",
       "      <td>0.000000</td>\n",
       "      <td>1.076525e-07</td>\n",
       "      <td>0.000004</td>\n",
       "      <td>0.002112</td>\n",
       "    </tr>\n",
       "  </tbody>\n",
       "</table>\n",
       "<p>149 rows × 7 columns</p>\n",
       "</div>"
      ],
      "text/plain": [
       "             Logged GDP per capita  Social support  Healthy life expectancy  \\\n",
       "Finland                   0.000051        0.000096             3.478941e-05   \n",
       "Denmark                   0.000055        0.000096             3.689084e-05   \n",
       "Switzerland               0.000060        0.000091             4.225086e-05   \n",
       "Iceland                   0.000054        0.000107             3.781031e-05   \n",
       "Netherlands               0.000055        0.000091             3.598268e-05   \n",
       "...                            ...             ...                      ...   \n",
       "Lesotho                   0.000005        0.000042             3.098878e-09   \n",
       "Botswana                  0.000029        0.000041             7.321868e-06   \n",
       "Rwanda                    0.000003        0.000003             1.049924e-05   \n",
       "Zimbabwe                  0.000005        0.000033             3.750339e-06   \n",
       "Afghanistan               0.000003        0.000000             1.013607e-06   \n",
       "\n",
       "             Freedom to make life choices  Perceptions of corruption  \\\n",
       "Finland                          0.000135               2.712886e-04   \n",
       "Denmark                          0.000134               2.763559e-04   \n",
       "Switzerland                      0.000121               2.002858e-04   \n",
       "Iceland                          0.000138               3.385360e-05   \n",
       "Netherlands                      0.000118               1.728186e-04   \n",
       "...                                   ...                        ...   \n",
       "Lesotho                          0.000047               2.755904e-07   \n",
       "Botswana                         0.000082               9.111707e-06   \n",
       "Rwanda                           0.000111               2.851518e-04   \n",
       "Zimbabwe                         0.000037               6.662015e-06   \n",
       "Afghanistan                      0.000000               1.076525e-07   \n",
       "\n",
       "                  Sum      S_i-  \n",
       "Finland      0.000588  0.024241  \n",
       "Denmark      0.000597  0.024440  \n",
       "Switzerland  0.000514  0.022679  \n",
       "Iceland      0.000370  0.019243  \n",
       "Netherlands  0.000473  0.021750  \n",
       "...               ...       ...  \n",
       "Lesotho      0.000093  0.009666  \n",
       "Botswana     0.000169  0.012991  \n",
       "Rwanda       0.000413  0.020332  \n",
       "Zimbabwe     0.000085  0.009203  \n",
       "Afghanistan  0.000004  0.002112  \n",
       "\n",
       "[149 rows x 7 columns]"
      ]
     },
     "execution_count": 96,
     "metadata": {},
     "output_type": "execute_result"
    }
   ],
   "source": [
    "#4.2- SQR(v_ij - v_j+)\n",
    "df16 = np.power((df13 - df14.loc[\"v_j-\"]),2)\n",
    "df16[\"Sum\"] = df16.sum(axis=1)\n",
    "df16[\"S_i-\"] = np.sqrt(df16[\"Sum\"])\n",
    "df16"
   ]
  },
  {
   "cell_type": "markdown",
   "id": "93a58ec2-a9ee-4a19-ae00-9292997a820f",
   "metadata": {},
   "source": [
    "### Step 4: Calculate the performance score"
   ]
  },
  {
   "cell_type": "code",
   "execution_count": 97,
   "id": "bac61cf9-9418-4d63-b4e2-6d147fb4059f",
   "metadata": {},
   "outputs": [
    {
     "data": {
      "text/html": [
       "<div>\n",
       "<style scoped>\n",
       "    .dataframe tbody tr th:only-of-type {\n",
       "        vertical-align: middle;\n",
       "    }\n",
       "\n",
       "    .dataframe tbody tr th {\n",
       "        vertical-align: top;\n",
       "    }\n",
       "\n",
       "    .dataframe thead th {\n",
       "        text-align: right;\n",
       "    }\n",
       "</style>\n",
       "<table border=\"1\" class=\"dataframe\">\n",
       "  <thead>\n",
       "    <tr style=\"text-align: right;\">\n",
       "      <th></th>\n",
       "      <th>S_i+</th>\n",
       "      <th>S_i-</th>\n",
       "      <th>Sum</th>\n",
       "      <th>Pi</th>\n",
       "      <th>Rank</th>\n",
       "    </tr>\n",
       "  </thead>\n",
       "  <tbody>\n",
       "    <tr>\n",
       "      <th>Singapore</th>\n",
       "      <td>0.001639</td>\n",
       "      <td>0.026041</td>\n",
       "      <td>0.027680</td>\n",
       "      <td>0.940798</td>\n",
       "      <td>1.0</td>\n",
       "    </tr>\n",
       "    <tr>\n",
       "      <th>Denmark</th>\n",
       "      <td>0.002780</td>\n",
       "      <td>0.024440</td>\n",
       "      <td>0.027221</td>\n",
       "      <td>0.897861</td>\n",
       "      <td>2.0</td>\n",
       "    </tr>\n",
       "    <tr>\n",
       "      <th>Finland</th>\n",
       "      <td>0.003082</td>\n",
       "      <td>0.024241</td>\n",
       "      <td>0.027323</td>\n",
       "      <td>0.887211</td>\n",
       "      <td>3.0</td>\n",
       "    </tr>\n",
       "    <tr>\n",
       "      <th>Sweden</th>\n",
       "      <td>0.003957</td>\n",
       "      <td>0.023388</td>\n",
       "      <td>0.027344</td>\n",
       "      <td>0.855301</td>\n",
       "      <td>4.0</td>\n",
       "    </tr>\n",
       "    <tr>\n",
       "      <th>New Zealand</th>\n",
       "      <td>0.004151</td>\n",
       "      <td>0.023198</td>\n",
       "      <td>0.027349</td>\n",
       "      <td>0.848224</td>\n",
       "      <td>5.0</td>\n",
       "    </tr>\n",
       "    <tr>\n",
       "      <th>...</th>\n",
       "      <td>...</td>\n",
       "      <td>...</td>\n",
       "      <td>...</td>\n",
       "      <td>...</td>\n",
       "      <td>...</td>\n",
       "    </tr>\n",
       "    <tr>\n",
       "      <th>Madagascar</th>\n",
       "      <td>0.020745</td>\n",
       "      <td>0.007057</td>\n",
       "      <td>0.027802</td>\n",
       "      <td>0.253821</td>\n",
       "      <td>145.0</td>\n",
       "    </tr>\n",
       "    <tr>\n",
       "      <th>Comoros</th>\n",
       "      <td>0.020546</td>\n",
       "      <td>0.006693</td>\n",
       "      <td>0.027238</td>\n",
       "      <td>0.245709</td>\n",
       "      <td>146.0</td>\n",
       "    </tr>\n",
       "    <tr>\n",
       "      <th>Togo</th>\n",
       "      <td>0.020800</td>\n",
       "      <td>0.006750</td>\n",
       "      <td>0.027549</td>\n",
       "      <td>0.245006</td>\n",
       "      <td>147.0</td>\n",
       "    </tr>\n",
       "    <tr>\n",
       "      <th>Chad</th>\n",
       "      <td>0.021766</td>\n",
       "      <td>0.005989</td>\n",
       "      <td>0.027754</td>\n",
       "      <td>0.215770</td>\n",
       "      <td>148.0</td>\n",
       "    </tr>\n",
       "    <tr>\n",
       "      <th>Afghanistan</th>\n",
       "      <td>0.025994</td>\n",
       "      <td>0.002112</td>\n",
       "      <td>0.028106</td>\n",
       "      <td>0.075154</td>\n",
       "      <td>149.0</td>\n",
       "    </tr>\n",
       "  </tbody>\n",
       "</table>\n",
       "<p>149 rows × 5 columns</p>\n",
       "</div>"
      ],
      "text/plain": [
       "                 S_i+      S_i-       Sum        Pi   Rank\n",
       "Singapore    0.001639  0.026041  0.027680  0.940798    1.0\n",
       "Denmark      0.002780  0.024440  0.027221  0.897861    2.0\n",
       "Finland      0.003082  0.024241  0.027323  0.887211    3.0\n",
       "Sweden       0.003957  0.023388  0.027344  0.855301    4.0\n",
       "New Zealand  0.004151  0.023198  0.027349  0.848224    5.0\n",
       "...               ...       ...       ...       ...    ...\n",
       "Madagascar   0.020745  0.007057  0.027802  0.253821  145.0\n",
       "Comoros      0.020546  0.006693  0.027238  0.245709  146.0\n",
       "Togo         0.020800  0.006750  0.027549  0.245006  147.0\n",
       "Chad         0.021766  0.005989  0.027754  0.215770  148.0\n",
       "Afghanistan  0.025994  0.002112  0.028106  0.075154  149.0\n",
       "\n",
       "[149 rows x 5 columns]"
      ]
     },
     "execution_count": 97,
     "metadata": {},
     "output_type": "execute_result"
    }
   ],
   "source": [
    "df17 = pd.DataFrame()\n",
    "df17[\"S_i+\"] = df15[\"S_i+\"]\n",
    "df17[\"S_i-\"] = df16[\"S_i-\"]\n",
    "df17[\"Sum\"] = df17.sum(axis=1)\n",
    "df17[\"Pi\"] = df17[\"S_i-\"] / df17[\"Sum\"]\n",
    "df17['Rank'] = df17[\"Pi\"].rank(axis= 0,ascending= False)\n",
    "df17 = df17.sort_values(by=['Rank'])\n",
    "df17"
   ]
  },
  {
   "cell_type": "markdown",
   "id": "19d49250-906d-4d91-9e37-65cec1ce00d1",
   "metadata": {
    "tags": []
   },
   "source": [
    "### The Hapiest and Most Unhappy Countries according to Topsis"
   ]
  },
  {
   "cell_type": "code",
   "execution_count": 98,
   "id": "b19969fe-cd12-4293-a7a1-38f7e362d878",
   "metadata": {
    "tags": []
   },
   "outputs": [
    {
     "name": "stdout",
     "output_type": "stream",
     "text": [
      "The Happiest Country:  Singapore\n",
      "The Most Unhappy Country:  Afghanistan\n"
     ]
    }
   ],
   "source": [
    "print(\"The Happiest Country: \", df17.index.values[0]);\n",
    "print(\"The Most Unhappy Country: \", df17.index.values[-1]);"
   ]
  },
  {
   "cell_type": "code",
   "execution_count": 100,
   "id": "f67b52f4-9f04-4fa2-a09f-6a79b646f2b5",
   "metadata": {},
   "outputs": [
    {
     "data": {
      "text/plain": [
       "Text(0.5, 1.0, 'The most unhappy countries')"
      ]
     },
     "execution_count": 100,
     "metadata": {},
     "output_type": "execute_result"
    },
    {
     "data": {
      "image/png": "[encoded data removed]",
      "text/plain": [
       "<Figure size 576x396 with 1 Axes>"
      ]
     },
     "metadata": {},
     "output_type": "display_data"
    }
   ],
   "source": [
    "happinessFilter = (df17.loc[:,\"Rank\"] > 141) ;\n",
    "y = df17.index.values[-8:]\n",
    "ax = sns.barplot(x = \"Pi\", y = y, data = df17[happinessFilter], palette = \"coolwarm\");\n",
    "ax.set_title('The most unhappy countries')"
   ]
  },
  {
   "cell_type": "code",
   "execution_count": 101,
   "id": "840d39e7-afd4-46cb-9440-25497f9ae124",
   "metadata": {},
   "outputs": [
    {
     "data": {
      "text/plain": [
       "Text(0.5, 1.0, 'The most happy countries')"
      ]
     },
     "execution_count": 101,
     "metadata": {},
     "output_type": "execute_result"
    },
    {
     "data": {
      "image/png": "[encoded data removed]",
      "text/plain": [
       "<Figure size 576x396 with 1 Axes>"
      ]
     },
     "metadata": {},
     "output_type": "display_data"
    }
   ],
   "source": [
    "happinessFilter = (df17.loc[:,\"Rank\"] < 8) ;\n",
    "y = df17.index.values[0:7]\n",
    "ax = sns.barplot(x = \"Pi\", y = y, data = df17[happinessFilter], palette = \"coolwarm\");\n",
    "ax.set_title('The most happy countries')"
   ]
  }
 ],
 "metadata": {
  "kernelspec": {
   "display_name": "Python 3",
   "language": "python",
   "name": "python3"
  },
  "language_info": {
   "codemirror_mode": {
    "name": "ipython",
    "version": 3
   },
   "file_extension": ".py",
   "mimetype": "text/x-python",
   "name": "python",
   "nbconvert_exporter": "python",
   "pygments_lexer": "ipython3",
   "version": "3.8.8"
  }
 },
 "nbformat": 4,
 "nbformat_minor": 5
}
